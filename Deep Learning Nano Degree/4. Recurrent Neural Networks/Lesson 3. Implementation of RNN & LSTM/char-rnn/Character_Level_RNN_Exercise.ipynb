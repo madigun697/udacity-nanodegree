{
 "cells": [
  {
   "cell_type": "markdown",
   "metadata": {},
   "source": [
    "# Character-Level LSTM in PyTorch\n",
    "\n",
    "In this notebook, I'll construct a character-level LSTM with PyTorch. The network will train character by character on some text, then generate new text character by character. As an example, I will train on Anna Karenina. **This model will be able to generate new text based on the text from the book!**\n",
    "\n",
    "This network is based off of Andrej Karpathy's [post on RNNs](http://karpathy.github.io/2015/05/21/rnn-effectiveness/) and [implementation in Torch](https://github.com/karpathy/char-rnn). Below is the general architecture of the character-wise RNN.\n",
    "\n",
    "<img src=\"assets/charseq.jpeg\" width=\"500\">"
   ]
  },
  {
   "cell_type": "markdown",
   "metadata": {},
   "source": [
    "First let's load in our required resources for data loading and model creation."
   ]
  },
  {
   "cell_type": "code",
   "execution_count": 1,
   "metadata": {},
   "outputs": [],
   "source": [
    "import numpy as np\n",
    "import torch\n",
    "from torch import nn\n",
    "import torch.nn.functional as F"
   ]
  },
  {
   "cell_type": "markdown",
   "metadata": {},
   "source": [
    "## Load in Data\n",
    "\n",
    "Then, we'll load the Anna Karenina text file and convert it into integers for our network to use. "
   ]
  },
  {
   "cell_type": "code",
   "execution_count": 2,
   "metadata": {},
   "outputs": [],
   "source": [
    "# open text file and read in data as `text`\n",
    "with open('data/anna.txt', 'r') as f:\n",
    "    text = f.read()"
   ]
  },
  {
   "cell_type": "markdown",
   "metadata": {},
   "source": [
    "Let's check out the first 100 characters, make sure everything is peachy. According to the [American Book Review](http://americanbookreview.org/100bestlines.asp), this is the 6th best first line of a book ever."
   ]
  },
  {
   "cell_type": "code",
   "execution_count": 3,
   "metadata": {},
   "outputs": [
    {
     "data": {
      "text/plain": [
       "'Chapter 1\\n\\n\\nHappy families are all alike; every unhappy family is unhappy in its own\\nway.\\n\\nEverythin'"
      ]
     },
     "execution_count": 3,
     "metadata": {},
     "output_type": "execute_result"
    }
   ],
   "source": [
    "text[:100]"
   ]
  },
  {
   "cell_type": "markdown",
   "metadata": {},
   "source": [
    "### Tokenization\n",
    "\n",
    "In the cells, below, I'm creating a couple **dictionaries** to convert the characters to and from integers. Encoding the characters as integers makes it easier to use as input in the network."
   ]
  },
  {
   "cell_type": "code",
   "execution_count": 4,
   "metadata": {},
   "outputs": [],
   "source": [
    "# encode the text and map each character to an integer and vice versa\n",
    "\n",
    "# we create two dictionaries:\n",
    "# 1. int2char, which maps integers to characters\n",
    "# 2. char2int, which maps characters to unique integers\n",
    "chars = tuple(set(text))\n",
    "int2char = dict(enumerate(chars))\n",
    "char2int = {ch: ii for ii, ch in int2char.items()}\n",
    "\n",
    "# encode the text\n",
    "encoded = np.array([char2int[ch] for ch in text])"
   ]
  },
  {
   "cell_type": "markdown",
   "metadata": {},
   "source": [
    "And we can see those same characters from above, encoded as integers."
   ]
  },
  {
   "cell_type": "code",
   "execution_count": 5,
   "metadata": {},
   "outputs": [
    {
     "data": {
      "text/plain": [
       "array([78, 71, 55, 34, 47, 20,  0, 14, 44, 31, 31, 31, 45, 55, 34, 34, 38,\n",
       "       14, 40, 55, 23, 59, 82, 59, 20, 51, 14, 55,  0, 20, 14, 55, 82, 82,\n",
       "       14, 55, 82, 59, 73, 20, 16, 14, 20, 39, 20,  0, 38, 14, 43, 68, 71,\n",
       "       55, 34, 34, 38, 14, 40, 55, 23, 59, 82, 38, 14, 59, 51, 14, 43, 68,\n",
       "       71, 55, 34, 34, 38, 14, 59, 68, 14, 59, 47, 51, 14, 60, 79, 68, 31,\n",
       "       79, 55, 38, 11, 31, 31, 32, 39, 20,  0, 38, 47, 71, 59, 68])"
      ]
     },
     "execution_count": 5,
     "metadata": {},
     "output_type": "execute_result"
    }
   ],
   "source": [
    "encoded[:100]"
   ]
  },
  {
   "cell_type": "markdown",
   "metadata": {},
   "source": [
    "## Pre-processing the data\n",
    "\n",
    "As you can see in our char-RNN image above, our LSTM expects an input that is **one-hot encoded** meaning that each character is converted into an integer (via our created dictionary) and *then* converted into a column vector where only it's corresponding integer index will have the value of 1 and the rest of the vector will be filled with 0's. Since we're one-hot encoding the data, let's make a function to do that!\n"
   ]
  },
  {
   "cell_type": "code",
   "execution_count": 6,
   "metadata": {},
   "outputs": [],
   "source": [
    "def one_hot_encode(arr, n_labels):\n",
    "    \n",
    "    # Initialize the the encoded array\n",
    "    one_hot = np.zeros((arr.size, n_labels), dtype=np.float32)\n",
    "    \n",
    "    # Fill the appropriate elements with ones\n",
    "    one_hot[np.arange(one_hot.shape[0]), arr.flatten()] = 1.\n",
    "    \n",
    "    # Finally reshape it to get back to the original array\n",
    "    one_hot = one_hot.reshape((*arr.shape, n_labels))\n",
    "    \n",
    "    return one_hot"
   ]
  },
  {
   "cell_type": "code",
   "execution_count": 7,
   "metadata": {},
   "outputs": [
    {
     "name": "stdout",
     "output_type": "stream",
     "text": [
      "[[[0. 0. 0. 1. 0. 0. 0. 0.]\n",
      "  [0. 0. 0. 0. 0. 1. 0. 0.]\n",
      "  [0. 1. 0. 0. 0. 0. 0. 0.]]]\n"
     ]
    }
   ],
   "source": [
    "# check that the function works as expected\n",
    "test_seq = np.array([[3, 5, 1]])\n",
    "one_hot = one_hot_encode(test_seq, 8)\n",
    "\n",
    "print(one_hot)"
   ]
  },
  {
   "cell_type": "markdown",
   "metadata": {},
   "source": [
    "## Making training mini-batches\n",
    "\n",
    "\n",
    "To train on this data, we also want to create mini-batches for training. Remember that we want our batches to be multiple sequences of some desired number of sequence steps. Considering a simple example, our batches would look like this:\n",
    "\n",
    "<img src=\"assets/sequence_batching@1x.png\" width=500px>\n",
    "\n",
    "\n",
    "<br>\n",
    "\n",
    "In this example, we'll take the encoded characters (passed in as the `arr` parameter) and split them into multiple sequences, given by `batch_size`. Each of our sequences will be `seq_length` long.\n",
    "\n",
    "### Creating Batches\n",
    "\n",
    "**1. The first thing we need to do is discard some of the text so we only have completely full mini-batches. **\n",
    "\n",
    "Each batch contains $N \\times M$ characters, where $N$ is the batch size (the number of sequences in a batch) and $M$ is the seq_length or number of time steps in a sequence. Then, to get the total number of batches, $K$, that we can make from the array `arr`, you divide the length of `arr` by the number of characters per batch. Once you know the number of batches, you can get the total number of characters to keep from `arr`, $N * M * K$.\n",
    "\n",
    "**2. After that, we need to split `arr` into $N$ batches. ** \n",
    "\n",
    "You can do this using `arr.reshape(size)` where `size` is a tuple containing the dimensions sizes of the reshaped array. We know we want $N$ sequences in a batch, so let's make that the size of the first dimension. For the second dimension, you can use `-1` as a placeholder in the size, it'll fill up the array with the appropriate data for you. After this, you should have an array that is $N \\times (M * K)$.\n",
    "\n",
    "**3. Now that we have this array, we can iterate through it to get our mini-batches. **\n",
    "\n",
    "The idea is each batch is a $N \\times M$ window on the $N \\times (M * K)$ array. For each subsequent batch, the window moves over by `seq_length`. We also want to create both the input and target arrays. Remember that the targets are just the inputs shifted over by one character. The way I like to do this window is use `range` to take steps of size `n_steps` from $0$ to `arr.shape[1]`, the total number of tokens in each sequence. That way, the integers you get from `range` always point to the start of a batch, and each window is `seq_length` wide.\n",
    "\n",
    "> **TODO:** Write the code for creating batches in the function below. The exercises in this notebook _will not be easy_. I've provided a notebook with solutions alongside this notebook. If you get stuck, checkout the solutions. The most important thing is that you don't copy and paste the code into here, **type out the solution code yourself.**"
   ]
  },
  {
   "cell_type": "code",
   "execution_count": 60,
   "metadata": {},
   "outputs": [],
   "source": [
    "def get_batches(arr, batch_size, seq_length):\n",
    "    '''Create a generator that returns batches of size\n",
    "       batch_size x seq_length from arr.\n",
    "       \n",
    "       Arguments\n",
    "       ---------\n",
    "       arr: Array you want to make batches from\n",
    "       batch_size: Batch size, the number of sequences per batch\n",
    "       seq_length: Number of encoded chars in a sequence\n",
    "    '''\n",
    "    \n",
    "    ## len(arr) = batch_size * seq_length * K\n",
    "    ## TODO: Get the number of batches we can make\n",
    "    n_batches = len(arr) // (batch_size * seq_length)\n",
    "    \n",
    "    ## TODO: Keep only enough characters to make full batches\n",
    "    arr = arr[:n_batches * (batch_size * seq_length)]\n",
    "    \n",
    "    ## TODO: Reshape into batch_size rows\n",
    "    arr = arr.reshape((batch_size, -1))\n",
    "    \n",
    "    ## TODO: Iterate over the batches using a window of size seq_length\n",
    "    for n in range(0, arr.shape[1], seq_length):\n",
    "        # The features\n",
    "        x = arr[:, n:n+seq_length]\n",
    "        # The targets, shifted by one\n",
    "        if n+seq_length+1 < arr.shape[1]:\n",
    "            y = arr[:, n+1:n+1+seq_length]\n",
    "        else:\n",
    "            y = np.concatenate((arr[:, n+1:n+1+seq_length], np.zeros((batch_size, 1))), axis=1)\n",
    "            \n",
    "        yield x, y"
   ]
  },
  {
   "cell_type": "markdown",
   "metadata": {},
   "source": [
    "### Test Your Implementation\n",
    "\n",
    "Now I'll make some data sets and we can check out what's going on as we batch data. Here, as an example, I'm going to use a batch size of 8 and 50 sequence steps."
   ]
  },
  {
   "cell_type": "code",
   "execution_count": 61,
   "metadata": {},
   "outputs": [],
   "source": [
    "batches = get_batches(encoded, 8, 50)\n",
    "x, y = next(batches)"
   ]
  },
  {
   "cell_type": "code",
   "execution_count": 62,
   "metadata": {},
   "outputs": [
    {
     "name": "stdout",
     "output_type": "stream",
     "text": [
      "x\n",
      " [[16 14 20 39 20  0 38 14 43 68]\n",
      " [14 71 43 51 18 55 68  5 11 14]\n",
      " [82 60 60 73 20  5 14  0 60 43]\n",
      " [51 14 82 59 40 20 61 14 60 40]\n",
      " [41 20 61 31 23 59 51 20  0 55]\n",
      " [59 51 55  8  0 20 20 55 18 82]\n",
      " [47 11 14  1 68  5 14 47 71 59]\n",
      " [31 42 47 71 20 38 42 14 55  0]]\n",
      "\n",
      "y\n",
      " [[14 20 39 20  0 38 14 43 68 71]\n",
      " [71 43 51 18 55 68  5 11 14  4]\n",
      " [60 60 73 20  5 14  0 60 43 68]\n",
      " [14 82 59 40 20 61 14 60 40 14]\n",
      " [20 61 31 23 59 51 20  0 55 18]\n",
      " [51 55  8  0 20 20 55 18 82 20]\n",
      " [11 14  1 68  5 14 47 71 59 51]\n",
      " [42 47 71 20 38 42 14 55  0 20]]\n"
     ]
    }
   ],
   "source": [
    "# printing out the first 10 items in a sequence\n",
    "print('x\\n', x[-10:, -10:])\n",
    "print('\\ny\\n', y[-10:, -10:])"
   ]
  },
  {
   "cell_type": "markdown",
   "metadata": {},
   "source": [
    "If you implemented `get_batches` correctly, the above output should look something like \n",
    "```\n",
    "x\n",
    " [[25  8 60 11 45 27 28 73  1  2]\n",
    " [17  7 20 73 45  8 60 45 73 60]\n",
    " [27 20 80 73  7 28 73 60 73 65]\n",
    " [17 73 45  8 27 73 66  8 46 27]\n",
    " [73 17 60 12 73  8 27 28 73 45]\n",
    " [66 64 17 17 46  7 20 73 60 20]\n",
    " [73 76 20 20 60 73  8 60 80 73]\n",
    " [47 35 43  7 20 17 24 50 37 73]]\n",
    "\n",
    "y\n",
    " [[ 8 60 11 45 27 28 73  1  2  2]\n",
    " [ 7 20 73 45  8 60 45 73 60 45]\n",
    " [20 80 73  7 28 73 60 73 65  7]\n",
    " [73 45  8 27 73 66  8 46 27 65]\n",
    " [17 60 12 73  8 27 28 73 45 27]\n",
    " [64 17 17 46  7 20 73 60 20 80]\n",
    " [76 20 20 60 73  8 60 80 73 17]\n",
    " [35 43  7 20 17 24 50 37 73 36]]\n",
    " ```\n",
    " although the exact numbers may be different. Check to make sure the data is shifted over one step for `y`."
   ]
  },
  {
   "cell_type": "markdown",
   "metadata": {},
   "source": [
    "---\n",
    "## Defining the network with PyTorch\n",
    "\n",
    "Below is where you'll define the network.\n",
    "\n",
    "<img src=\"assets/charRNN.png\" width=500px>\n",
    "\n",
    "Next, you'll use PyTorch to define the architecture of the network. We start by defining the layers and operations we want. Then, define a method for the forward pass. You've also been given a method for predicting characters."
   ]
  },
  {
   "cell_type": "markdown",
   "metadata": {},
   "source": [
    "### Model Structure\n",
    "\n",
    "In `__init__` the suggested structure is as follows:\n",
    "* Create and store the necessary dictionaries (this has been done for you)\n",
    "* Define an LSTM layer that takes as params: an input size (the number of characters), a hidden layer size `n_hidden`, a number of layers `n_layers`, a dropout probability `drop_prob`, and a batch_first boolean (True, since we are batching)\n",
    "* Define a dropout layer with `drop_prob`\n",
    "* Define a fully-connected layer with params: input size `n_hidden` and output size (the number of characters)\n",
    "* Finally, initialize the weights (again, this has been given)\n",
    "\n",
    "Note that some parameters have been named and given in the `__init__` function, and we use them and store them by doing something like `self.drop_prob = drop_prob`."
   ]
  },
  {
   "cell_type": "markdown",
   "metadata": {},
   "source": [
    "---\n",
    "### LSTM Inputs/Outputs\n",
    "\n",
    "You can create a basic [LSTM layer](https://pytorch.org/docs/stable/nn.html#lstm) as follows\n",
    "\n",
    "```python\n",
    "self.lstm = nn.LSTM(input_size, n_hidden, n_layers, \n",
    "                            dropout=drop_prob, batch_first=True)\n",
    "```\n",
    "\n",
    "where `input_size` is the number of characters this cell expects to see as sequential input, and `n_hidden` is the number of units in the hidden layers in the cell. And we can add dropout by adding a dropout parameter with a specified probability; this will automatically add dropout to the inputs or outputs. Finally, in the `forward` function, we can stack up the LSTM cells into layers using `.view`. With this, you pass in a list of cells and it will send the output of one cell into the next cell.\n",
    "\n",
    "We also need to create an initial hidden state of all zeros. This is done like so\n",
    "\n",
    "```python\n",
    "self.init_hidden()\n",
    "```"
   ]
  },
  {
   "cell_type": "code",
   "execution_count": 63,
   "metadata": {},
   "outputs": [
    {
     "name": "stdout",
     "output_type": "stream",
     "text": [
      "Training on GPU!\n"
     ]
    }
   ],
   "source": [
    "# check if GPU is available\n",
    "train_on_gpu = torch.cuda.is_available()\n",
    "if(train_on_gpu):\n",
    "    print('Training on GPU!')\n",
    "else: \n",
    "    print('No GPU available, training on CPU; consider making n_epochs very small.')"
   ]
  },
  {
   "cell_type": "code",
   "execution_count": 64,
   "metadata": {},
   "outputs": [],
   "source": [
    "class CharRNN(nn.Module):\n",
    "    \n",
    "    def __init__(self, tokens, n_hidden=256, n_layers=2,\n",
    "                               drop_prob=0.5, lr=0.001):\n",
    "        super().__init__()\n",
    "        self.drop_prob = drop_prob\n",
    "        self.n_layers = n_layers\n",
    "        self.n_hidden = n_hidden\n",
    "        self.lr = lr\n",
    "        \n",
    "        # creating character dictionaries\n",
    "        self.chars = tokens\n",
    "        self.int2char = dict(enumerate(self.chars))\n",
    "        self.char2int = {ch: ii for ii, ch in self.int2char.items()}\n",
    "        \n",
    "        ## TODO: define the layers of the model\n",
    "        self.lstm = nn.LSTM(len(self.chars), n_hidden, n_layers, dropout=drop_prob, batch_first=True)\n",
    "        self.dropout = nn.Dropout(drop_prob)\n",
    "        self.fc = nn.Linear(n_hidden, len(self.chars))\n",
    "    \n",
    "    def forward(self, x, hidden):\n",
    "        ''' Forward pass through the network. \n",
    "            These inputs are x, and the hidden/cell state `hidden`. '''\n",
    "                \n",
    "        ## TODO: Get the outputs and the new hidden state from the lstm\n",
    "        out, hidden = self.lstm(x, hidden)\n",
    "        out = self.dropout(out)\n",
    "        out = out.contiguous().view(-1, self.n_hidden)\n",
    "        out = self.fc(out)\n",
    "        \n",
    "        # return the final output and the hidden state\n",
    "        return out, hidden\n",
    "    \n",
    "    \n",
    "    def init_hidden(self, batch_size):\n",
    "        ''' Initializes hidden state '''\n",
    "        # Create two new tensors with sizes n_layers x batch_size x n_hidden,\n",
    "        # initialized to zero, for hidden state and cell state of LSTM\n",
    "        weight = next(self.parameters()).data\n",
    "        \n",
    "        if (train_on_gpu):\n",
    "            hidden = (weight.new(self.n_layers, batch_size, self.n_hidden).zero_().cuda(),\n",
    "                  weight.new(self.n_layers, batch_size, self.n_hidden).zero_().cuda())\n",
    "        else:\n",
    "            hidden = (weight.new(self.n_layers, batch_size, self.n_hidden).zero_(),\n",
    "                      weight.new(self.n_layers, batch_size, self.n_hidden).zero_())\n",
    "        \n",
    "        return hidden\n",
    "        "
   ]
  },
  {
   "cell_type": "markdown",
   "metadata": {},
   "source": [
    "## Time to train\n",
    "\n",
    "The train function gives us the ability to set the number of epochs, the learning rate, and other parameters.\n",
    "\n",
    "Below we're using an Adam optimizer and cross entropy loss since we are looking at character class scores as output. We calculate the loss and perform backpropagation, as usual!\n",
    "\n",
    "A couple of details about training: \n",
    ">* Within the batch loop, we detach the hidden state from its history; this time setting it equal to a new *tuple* variable because an LSTM has a hidden state that is a tuple of the hidden and cell states.\n",
    "* We use [`clip_grad_norm_`](https://pytorch.org/docs/stable/_modules/torch/nn/utils/clip_grad.html) to help prevent exploding gradients."
   ]
  },
  {
   "cell_type": "code",
   "execution_count": 65,
   "metadata": {},
   "outputs": [],
   "source": [
    "def train(net, data, epochs=10, batch_size=10, seq_length=50, lr=0.001, clip=5, val_frac=0.1, print_every=10):\n",
    "    ''' Training a network \n",
    "    \n",
    "        Arguments\n",
    "        ---------\n",
    "        \n",
    "        net: CharRNN network\n",
    "        data: text data to train the network\n",
    "        epochs: Number of epochs to train\n",
    "        batch_size: Number of mini-sequences per mini-batch, aka batch size\n",
    "        seq_length: Number of character steps per mini-batch\n",
    "        lr: learning rate\n",
    "        clip: gradient clipping\n",
    "        val_frac: Fraction of data to hold out for validation\n",
    "        print_every: Number of steps for printing training and validation loss\n",
    "    \n",
    "    '''\n",
    "    net.train()\n",
    "    \n",
    "    opt = torch.optim.Adam(net.parameters(), lr=lr)\n",
    "    criterion = nn.CrossEntropyLoss()\n",
    "    \n",
    "    # create training and validation data\n",
    "    val_idx = int(len(data)*(1-val_frac))\n",
    "    data, val_data = data[:val_idx], data[val_idx:]\n",
    "    \n",
    "    if(train_on_gpu):\n",
    "        net.cuda()\n",
    "    \n",
    "    counter = 0\n",
    "    n_chars = len(net.chars)\n",
    "    for e in range(epochs):\n",
    "        # initialize hidden state\n",
    "        h = net.init_hidden(batch_size)\n",
    "        \n",
    "        for x, y in get_batches(data, batch_size, seq_length):\n",
    "            counter += 1\n",
    "            \n",
    "            # One-hot encode our data and make them Torch tensors\n",
    "            x = one_hot_encode(x, n_chars)\n",
    "            inputs, targets = torch.from_numpy(x), torch.from_numpy(y)\n",
    "            \n",
    "            if(train_on_gpu):\n",
    "                inputs, targets = inputs.cuda(), targets.cuda()\n",
    "\n",
    "            # Creating new variables for the hidden state, otherwise\n",
    "            # we'd backprop through the entire training history\n",
    "            h = tuple([each.data for each in h])\n",
    "\n",
    "            # zero accumulated gradients\n",
    "            net.zero_grad()\n",
    "            \n",
    "            # get the output from the model\n",
    "            output, h = net(inputs, h)\n",
    "            \n",
    "            # calculate the loss and perform backprop\n",
    "            loss = criterion(output, targets.view(batch_size*seq_length).long())\n",
    "            loss.backward()\n",
    "            # `clip_grad_norm` helps prevent the exploding gradient problem in RNNs / LSTMs.\n",
    "            nn.utils.clip_grad_norm_(net.parameters(), clip)\n",
    "            opt.step()\n",
    "            \n",
    "            # loss stats\n",
    "            if counter % print_every == 0:\n",
    "                # Get validation loss\n",
    "                val_h = net.init_hidden(batch_size)\n",
    "                val_losses = []\n",
    "                net.eval()\n",
    "                for x, y in get_batches(val_data, batch_size, seq_length):\n",
    "                    # One-hot encode our data and make them Torch tensors\n",
    "                    x = one_hot_encode(x, n_chars)\n",
    "                    x, y = torch.from_numpy(x), torch.from_numpy(y)\n",
    "                    \n",
    "                    # Creating new variables for the hidden state, otherwise\n",
    "                    # we'd backprop through the entire training history\n",
    "                    val_h = tuple([each.data for each in val_h])\n",
    "                    \n",
    "                    inputs, targets = x, y\n",
    "                    if(train_on_gpu):\n",
    "                        inputs, targets = inputs.cuda(), targets.cuda()\n",
    "\n",
    "                    output, val_h = net(inputs, val_h)\n",
    "                    val_loss = criterion(output, targets.view(batch_size*seq_length).long())\n",
    "                \n",
    "                    val_losses.append(val_loss.item())\n",
    "                \n",
    "                net.train() # reset to train mode after iterationg through validation data\n",
    "                \n",
    "                print(\"Epoch: {}/{}...\".format(e+1, epochs),\n",
    "                      \"Step: {}...\".format(counter),\n",
    "                      \"Loss: {:.4f}...\".format(loss.item()),\n",
    "                      \"Val Loss: {:.4f}\".format(np.mean(val_losses)))"
   ]
  },
  {
   "cell_type": "markdown",
   "metadata": {},
   "source": [
    "## Instantiating the model\n",
    "\n",
    "Now we can actually train the network. First we'll create the network itself, with some given hyperparameters. Then, define the mini-batches sizes, and start training!"
   ]
  },
  {
   "cell_type": "code",
   "execution_count": 80,
   "metadata": {},
   "outputs": [
    {
     "name": "stdout",
     "output_type": "stream",
     "text": [
      "CharRNN(\n",
      "  (lstm): LSTM(83, 512, num_layers=2, batch_first=True, dropout=0.5)\n",
      "  (dropout): Dropout(p=0.5, inplace=False)\n",
      "  (fc): Linear(in_features=512, out_features=83, bias=True)\n",
      ")\n"
     ]
    }
   ],
   "source": [
    "## TODO: set your model hyperparameters\n",
    "# define and print the net\n",
    "n_hidden=512\n",
    "n_layers=2\n",
    "\n",
    "net = CharRNN(chars, n_hidden, n_layers)\n",
    "print(net)"
   ]
  },
  {
   "cell_type": "markdown",
   "metadata": {},
   "source": [
    "### Set your training hyperparameters!"
   ]
  },
  {
   "cell_type": "code",
   "execution_count": 81,
   "metadata": {
    "scrolled": true
   },
   "outputs": [
    {
     "name": "stdout",
     "output_type": "stream",
     "text": [
      "Epoch: 1/20... Step: 50... Loss: 3.1309... Val Loss: 3.1247\n",
      "Epoch: 1/20... Step: 100... Loss: 3.0555... Val Loss: 3.0532\n",
      "Epoch: 1/20... Step: 150... Loss: 2.6502... Val Loss: 2.6071\n",
      "Epoch: 1/20... Step: 200... Loss: 2.4082... Val Loss: 2.4021\n",
      "Epoch: 1/20... Step: 250... Loss: 2.3180... Val Loss: 2.2898\n",
      "Epoch: 1/20... Step: 300... Loss: 2.1639... Val Loss: 2.1973\n",
      "Epoch: 1/20... Step: 350... Loss: 2.1390... Val Loss: 2.1236\n",
      "Epoch: 1/20... Step: 400... Loss: 2.0601... Val Loss: 2.0564\n",
      "Epoch: 1/20... Step: 450... Loss: 1.9842... Val Loss: 1.9971\n",
      "Epoch: 1/20... Step: 500... Loss: 1.8809... Val Loss: 1.9386\n",
      "Epoch: 1/20... Step: 550... Loss: 1.9141... Val Loss: 1.8881\n",
      "Epoch: 2/20... Step: 600... Loss: 1.8417... Val Loss: 1.8568\n",
      "Epoch: 2/20... Step: 650... Loss: 1.8457... Val Loss: 1.8111\n",
      "Epoch: 2/20... Step: 700... Loss: 1.7893... Val Loss: 1.7796\n",
      "Epoch: 2/20... Step: 750... Loss: 1.8181... Val Loss: 1.7514\n",
      "Epoch: 2/20... Step: 800... Loss: 1.7227... Val Loss: 1.7231\n",
      "Epoch: 2/20... Step: 850... Loss: 1.6975... Val Loss: 1.7008\n",
      "Epoch: 2/20... Step: 900... Loss: 1.7249... Val Loss: 1.6794\n",
      "Epoch: 2/20... Step: 950... Loss: 1.6059... Val Loss: 1.6623\n",
      "Epoch: 2/20... Step: 1000... Loss: 1.6047... Val Loss: 1.6478\n",
      "Epoch: 2/20... Step: 1050... Loss: 1.5803... Val Loss: 1.6186\n",
      "Epoch: 2/20... Step: 1100... Loss: 1.6311... Val Loss: 1.6127\n",
      "Epoch: 3/20... Step: 1150... Loss: 1.6031... Val Loss: 1.5957\n",
      "Epoch: 3/20... Step: 1200... Loss: 1.5844... Val Loss: 1.5855\n",
      "Epoch: 3/20... Step: 1250... Loss: 1.5924... Val Loss: 1.5712\n",
      "Epoch: 3/20... Step: 1300... Loss: 1.4781... Val Loss: 1.5584\n",
      "Epoch: 3/20... Step: 1350... Loss: 1.5324... Val Loss: 1.5477\n",
      "Epoch: 3/20... Step: 1400... Loss: 1.5081... Val Loss: 1.5387\n",
      "Epoch: 3/20... Step: 1450... Loss: 1.5178... Val Loss: 1.5262\n",
      "Epoch: 3/20... Step: 1500... Loss: 1.5009... Val Loss: 1.5192\n",
      "Epoch: 3/20... Step: 1550... Loss: 1.4610... Val Loss: 1.5143\n",
      "Epoch: 3/20... Step: 1600... Loss: 1.4759... Val Loss: 1.5008\n",
      "Epoch: 3/20... Step: 1650... Loss: 1.4594... Val Loss: 1.4958\n",
      "Epoch: 4/20... Step: 1700... Loss: 1.4911... Val Loss: 1.4866\n",
      "Epoch: 4/20... Step: 1750... Loss: 1.4633... Val Loss: 1.4777\n",
      "Epoch: 4/20... Step: 1800... Loss: 1.4788... Val Loss: 1.4743\n",
      "Epoch: 4/20... Step: 1850... Loss: 1.4053... Val Loss: 1.4707\n",
      "Epoch: 4/20... Step: 1900... Loss: 1.3657... Val Loss: 1.4586\n",
      "Epoch: 4/20... Step: 1950... Loss: 1.4455... Val Loss: 1.4560\n",
      "Epoch: 4/20... Step: 2000... Loss: 1.3807... Val Loss: 1.4608\n",
      "Epoch: 4/20... Step: 2050... Loss: 1.3571... Val Loss: 1.4438\n",
      "Epoch: 4/20... Step: 2100... Loss: 1.3938... Val Loss: 1.4412\n",
      "Epoch: 4/20... Step: 2150... Loss: 1.4400... Val Loss: 1.4428\n",
      "Epoch: 4/20... Step: 2200... Loss: 1.3970... Val Loss: 1.4275\n",
      "Epoch: 5/20... Step: 2250... Loss: 1.3604... Val Loss: 1.4290\n",
      "Epoch: 5/20... Step: 2300... Loss: 1.4127... Val Loss: 1.4222\n",
      "Epoch: 5/20... Step: 2350... Loss: 1.3272... Val Loss: 1.4198\n",
      "Epoch: 5/20... Step: 2400... Loss: 1.3256... Val Loss: 1.4183\n",
      "Epoch: 5/20... Step: 2450... Loss: 1.3296... Val Loss: 1.4147\n",
      "Epoch: 5/20... Step: 2500... Loss: 1.3776... Val Loss: 1.4084\n",
      "Epoch: 5/20... Step: 2550... Loss: 1.3860... Val Loss: 1.4075\n",
      "Epoch: 5/20... Step: 2600... Loss: 1.3510... Val Loss: 1.4008\n",
      "Epoch: 5/20... Step: 2650... Loss: 1.3617... Val Loss: 1.4046\n",
      "Epoch: 5/20... Step: 2700... Loss: 1.3726... Val Loss: 1.3962\n",
      "Epoch: 5/20... Step: 2750... Loss: 1.3588... Val Loss: 1.3917\n",
      "Epoch: 6/20... Step: 2800... Loss: 1.3441... Val Loss: 1.3977\n",
      "Epoch: 6/20... Step: 2850... Loss: 1.3220... Val Loss: 1.3879\n",
      "Epoch: 6/20... Step: 2900... Loss: 1.3258... Val Loss: 1.3879\n",
      "Epoch: 6/20... Step: 2950... Loss: 1.2673... Val Loss: 1.3806\n",
      "Epoch: 6/20... Step: 3000... Loss: 1.2639... Val Loss: 1.3758\n",
      "Epoch: 6/20... Step: 3050... Loss: 1.3138... Val Loss: 1.3796\n",
      "Epoch: 6/20... Step: 3100... Loss: 1.3066... Val Loss: 1.3797\n",
      "Epoch: 6/20... Step: 3150... Loss: 1.3119... Val Loss: 1.3732\n",
      "Epoch: 6/20... Step: 3200... Loss: 1.3403... Val Loss: 1.3686\n",
      "Epoch: 6/20... Step: 3250... Loss: 1.3238... Val Loss: 1.3683\n",
      "Epoch: 6/20... Step: 3300... Loss: 1.2423... Val Loss: 1.3633\n",
      "Epoch: 7/20... Step: 3350... Loss: 1.3234... Val Loss: 1.3592\n",
      "Epoch: 7/20... Step: 3400... Loss: 1.2766... Val Loss: 1.3526\n",
      "Epoch: 7/20... Step: 3450... Loss: 1.2679... Val Loss: 1.3618\n",
      "Epoch: 7/20... Step: 3500... Loss: 1.2306... Val Loss: 1.3582\n",
      "Epoch: 7/20... Step: 3550... Loss: 1.3044... Val Loss: 1.3567\n",
      "Epoch: 7/20... Step: 3600... Loss: 1.2547... Val Loss: 1.3545\n",
      "Epoch: 7/20... Step: 3650... Loss: 1.2955... Val Loss: 1.3430\n",
      "Epoch: 7/20... Step: 3700... Loss: 1.3404... Val Loss: 1.3536\n",
      "Epoch: 7/20... Step: 3750... Loss: 1.2496... Val Loss: 1.3456\n",
      "Epoch: 7/20... Step: 3800... Loss: 1.2885... Val Loss: 1.3416\n",
      "Epoch: 7/20... Step: 3850... Loss: 1.2768... Val Loss: 1.3408\n",
      "Epoch: 7/20... Step: 3900... Loss: 1.2439... Val Loss: 1.3384\n",
      "Epoch: 8/20... Step: 3950... Loss: 1.2607... Val Loss: 1.3407\n",
      "Epoch: 8/20... Step: 4000... Loss: 1.3129... Val Loss: 1.3358\n",
      "Epoch: 8/20... Step: 4050... Loss: 1.2784... Val Loss: 1.3399\n",
      "Epoch: 8/20... Step: 4100... Loss: 1.2407... Val Loss: 1.3336\n",
      "Epoch: 8/20... Step: 4150... Loss: 1.1926... Val Loss: 1.3382\n",
      "Epoch: 8/20... Step: 4200... Loss: 1.2378... Val Loss: 1.3364\n",
      "Epoch: 8/20... Step: 4250... Loss: 1.2722... Val Loss: 1.3373\n",
      "Epoch: 8/20... Step: 4300... Loss: 1.2739... Val Loss: 1.3317\n",
      "Epoch: 8/20... Step: 4350... Loss: 1.2596... Val Loss: 1.3305\n",
      "Epoch: 8/20... Step: 4400... Loss: 1.2896... Val Loss: 1.3243\n",
      "Epoch: 8/20... Step: 4450... Loss: 1.1944... Val Loss: 1.3219\n",
      "Epoch: 9/20... Step: 4500... Loss: 1.2250... Val Loss: 1.3241\n",
      "Epoch: 9/20... Step: 4550... Loss: 1.2183... Val Loss: 1.3260\n",
      "Epoch: 9/20... Step: 4600... Loss: 1.2142... Val Loss: 1.3232\n",
      "Epoch: 9/20... Step: 4650... Loss: 1.1760... Val Loss: 1.3316\n",
      "Epoch: 9/20... Step: 4700... Loss: 1.2155... Val Loss: 1.3273\n",
      "Epoch: 9/20... Step: 4750... Loss: 1.2132... Val Loss: 1.3236\n",
      "Epoch: 9/20... Step: 4800... Loss: 1.2060... Val Loss: 1.3282\n",
      "Epoch: 9/20... Step: 4850... Loss: 1.2487... Val Loss: 1.3245\n",
      "Epoch: 9/20... Step: 4900... Loss: 1.2176... Val Loss: 1.3261\n",
      "Epoch: 9/20... Step: 4950... Loss: 1.2590... Val Loss: 1.3240\n",
      "Epoch: 9/20... Step: 5000... Loss: 1.1870... Val Loss: 1.3281\n",
      "Epoch: 10/20... Step: 5050... Loss: 1.2250... Val Loss: 1.3218\n",
      "Epoch: 10/20... Step: 5100... Loss: 1.1463... Val Loss: 1.3270\n",
      "Epoch: 10/20... Step: 5150... Loss: 1.2058... Val Loss: 1.3244\n",
      "Epoch: 10/20... Step: 5200... Loss: 1.2285... Val Loss: 1.3223\n",
      "Epoch: 10/20... Step: 5250... Loss: 1.1984... Val Loss: 1.3262\n",
      "Epoch: 10/20... Step: 5300... Loss: 1.2171... Val Loss: 1.3232\n",
      "Epoch: 10/20... Step: 5350... Loss: 1.1999... Val Loss: 1.3182\n",
      "Epoch: 10/20... Step: 5400... Loss: 1.2155... Val Loss: 1.3213\n",
      "Epoch: 10/20... Step: 5450... Loss: 1.2228... Val Loss: 1.3200\n",
      "Epoch: 10/20... Step: 5500... Loss: 1.2189... Val Loss: 1.3133\n",
      "Epoch: 10/20... Step: 5550... Loss: 1.2651... Val Loss: 1.3165\n",
      "Epoch: 11/20... Step: 5600... Loss: 1.1799... Val Loss: 1.3182\n",
      "Epoch: 11/20... Step: 5650... Loss: 1.1932... Val Loss: 1.3138\n",
      "Epoch: 11/20... Step: 5700... Loss: 1.1720... Val Loss: 1.3203\n",
      "Epoch: 11/20... Step: 5750... Loss: 1.1608... Val Loss: 1.3104\n",
      "Epoch: 11/20... Step: 5800... Loss: 1.1932... Val Loss: 1.3016\n",
      "Epoch: 11/20... Step: 5850... Loss: 1.2189... Val Loss: 1.3064\n",
      "Epoch: 11/20... Step: 5900... Loss: 1.1737... Val Loss: 1.3005\n",
      "Epoch: 11/20... Step: 5950... Loss: 1.1672... Val Loss: 1.3082\n",
      "Epoch: 11/20... Step: 6000... Loss: 1.1644... Val Loss: 1.2980\n",
      "Epoch: 11/20... Step: 6050... Loss: 1.2329... Val Loss: 1.3137\n",
      "Epoch: 11/20... Step: 6100... Loss: 1.2075... Val Loss: 1.3191\n",
      "Epoch: 12/20... Step: 6150... Loss: 1.1748... Val Loss: 1.3088\n",
      "Epoch: 12/20... Step: 6200... Loss: 1.2253... Val Loss: 1.3084\n",
      "Epoch: 12/20... Step: 6250... Loss: 1.1964... Val Loss: 1.2999\n",
      "Epoch: 12/20... Step: 6300... Loss: 1.1779... Val Loss: 1.3056\n",
      "Epoch: 12/20... Step: 6350... Loss: 1.1415... Val Loss: 1.2999\n",
      "Epoch: 12/20... Step: 6400... Loss: 1.2137... Val Loss: 1.3050\n",
      "Epoch: 12/20... Step: 6450... Loss: 1.1865... Val Loss: 1.3026\n",
      "Epoch: 12/20... Step: 6500... Loss: 1.1529... Val Loss: 1.2945\n",
      "Epoch: 12/20... Step: 6550... Loss: 1.1801... Val Loss: 1.3047\n",
      "Epoch: 12/20... Step: 6600... Loss: 1.1913... Val Loss: 1.2974\n",
      "Epoch: 12/20... Step: 6650... Loss: 1.1597... Val Loss: 1.2961\n",
      "Epoch: 13/20... Step: 6700... Loss: 1.1691... Val Loss: 1.2967\n",
      "Epoch: 13/20... Step: 6750... Loss: 1.0892... Val Loss: 1.2910\n",
      "Epoch: 13/20... Step: 6800... Loss: 1.1492... Val Loss: 1.2935\n",
      "Epoch: 13/20... Step: 6850... Loss: 1.1303... Val Loss: 1.2944\n",
      "Epoch: 13/20... Step: 6900... Loss: 1.1585... Val Loss: 1.3044\n",
      "Epoch: 13/20... Step: 6950... Loss: 1.1813... Val Loss: 1.2932\n",
      "Epoch: 13/20... Step: 7000... Loss: 1.1666... Val Loss: 1.2899\n",
      "Epoch: 13/20... Step: 7050... Loss: 1.1864... Val Loss: 1.2955\n",
      "Epoch: 13/20... Step: 7100... Loss: 1.1387... Val Loss: 1.2990\n",
      "Epoch: 13/20... Step: 7150... Loss: 1.1369... Val Loss: 1.2952\n",
      "Epoch: 13/20... Step: 7200... Loss: 1.1644... Val Loss: 1.2987\n",
      "Epoch: 13/20... Step: 7250... Loss: 1.1643... Val Loss: 1.2879\n",
      "Epoch: 14/20... Step: 7300... Loss: 1.1639... Val Loss: 1.3092\n",
      "Epoch: 14/20... Step: 7350... Loss: 1.1358... Val Loss: 1.2875\n",
      "Epoch: 14/20... Step: 7400... Loss: 1.0957... Val Loss: 1.2996\n",
      "Epoch: 14/20... Step: 7450... Loss: 1.1385... Val Loss: 1.2800\n",
      "Epoch: 14/20... Step: 7500... Loss: 1.1789... Val Loss: 1.2868\n",
      "Epoch: 14/20... Step: 7550... Loss: 1.1509... Val Loss: 1.2875\n",
      "Epoch: 14/20... Step: 7600... Loss: 1.1715... Val Loss: 1.2836\n",
      "Epoch: 14/20... Step: 7650... Loss: 1.1700... Val Loss: 1.2900\n",
      "Epoch: 14/20... Step: 7700... Loss: 1.1326... Val Loss: 1.2869\n",
      "Epoch: 14/20... Step: 7750... Loss: 1.1339... Val Loss: 1.2863\n",
      "Epoch: 14/20... Step: 7800... Loss: 1.1406... Val Loss: 1.2795\n",
      "Epoch: 15/20... Step: 7850... Loss: 1.1620... Val Loss: 1.2856\n",
      "Epoch: 15/20... Step: 7900... Loss: 1.2278... Val Loss: 1.2893\n",
      "Epoch: 15/20... Step: 7950... Loss: 1.1584... Val Loss: 1.2863\n",
      "Epoch: 15/20... Step: 8000... Loss: 1.1505... Val Loss: 1.2827\n",
      "Epoch: 15/20... Step: 8050... Loss: 1.1104... Val Loss: 1.2895\n",
      "Epoch: 15/20... Step: 8100... Loss: 1.1494... Val Loss: 1.2867\n",
      "Epoch: 15/20... Step: 8150... Loss: 1.1673... Val Loss: 1.2823\n",
      "Epoch: 15/20... Step: 8200... Loss: 1.1040... Val Loss: 1.2930\n",
      "Epoch: 15/20... Step: 8250... Loss: 1.1661... Val Loss: 1.2808\n",
      "Epoch: 15/20... Step: 8300... Loss: 1.1601... Val Loss: 1.2787\n",
      "Epoch: 15/20... Step: 8350... Loss: 1.1690... Val Loss: 1.2874\n",
      "Epoch: 16/20... Step: 8400... Loss: 1.1659... Val Loss: 1.2858\n",
      "Epoch: 16/20... Step: 8450... Loss: 1.0865... Val Loss: 1.2805\n",
      "Epoch: 16/20... Step: 8500... Loss: 1.1683... Val Loss: 1.2920\n",
      "Epoch: 16/20... Step: 8550... Loss: 1.1614... Val Loss: 1.2876\n",
      "Epoch: 16/20... Step: 8600... Loss: 1.0732... Val Loss: 1.2885\n",
      "Epoch: 16/20... Step: 8650... Loss: 1.1041... Val Loss: 1.2768\n",
      "Epoch: 16/20... Step: 8700... Loss: 1.1768... Val Loss: 1.2844\n",
      "Epoch: 16/20... Step: 8750... Loss: 1.1531... Val Loss: 1.2851\n",
      "Epoch: 16/20... Step: 8800... Loss: 1.1753... Val Loss: 1.2880\n",
      "Epoch: 16/20... Step: 8850... Loss: 1.1353... Val Loss: 1.2829\n",
      "Epoch: 16/20... Step: 8900... Loss: 1.1348... Val Loss: 1.2807\n",
      "Epoch: 17/20... Step: 8950... Loss: 1.1418... Val Loss: 1.2878\n",
      "Epoch: 17/20... Step: 9000... Loss: 1.1845... Val Loss: 1.2864\n",
      "Epoch: 17/20... Step: 9050... Loss: 1.0816... Val Loss: 1.2852\n",
      "Epoch: 17/20... Step: 9100... Loss: 1.0786... Val Loss: 1.2825\n",
      "Epoch: 17/20... Step: 9150... Loss: 1.1229... Val Loss: 1.2847\n",
      "Epoch: 17/20... Step: 9200... Loss: 1.1177... Val Loss: 1.2785\n",
      "Epoch: 17/20... Step: 9250... Loss: 1.1223... Val Loss: 1.2782\n",
      "Epoch: 17/20... Step: 9300... Loss: 1.0941... Val Loss: 1.2840\n",
      "Epoch: 17/20... Step: 9350... Loss: 1.1055... Val Loss: 1.2806\n",
      "Epoch: 17/20... Step: 9400... Loss: 1.1168... Val Loss: 1.2823\n",
      "Epoch: 17/20... Step: 9450... Loss: 1.1001... Val Loss: 1.2810\n",
      "Epoch: 18/20... Step: 9500... Loss: 1.1143... Val Loss: 1.2826\n",
      "Epoch: 18/20... Step: 9550... Loss: 1.0605... Val Loss: 1.2845\n",
      "Epoch: 18/20... Step: 9600... Loss: 1.1306... Val Loss: 1.2845\n",
      "Epoch: 18/20... Step: 9650... Loss: 1.1018... Val Loss: 1.2874\n",
      "Epoch: 18/20... Step: 9700... Loss: 1.1166... Val Loss: 1.2791\n",
      "Epoch: 18/20... Step: 9750... Loss: 1.1623... Val Loss: 1.2738\n",
      "Epoch: 18/20... Step: 9800... Loss: 1.1138... Val Loss: 1.2762\n",
      "Epoch: 18/20... Step: 9850... Loss: 1.1193... Val Loss: 1.2822\n",
      "Epoch: 18/20... Step: 9900... Loss: 1.1294... Val Loss: 1.2831\n",
      "Epoch: 18/20... Step: 9950... Loss: 1.1351... Val Loss: 1.2734\n",
      "Epoch: 18/20... Step: 10000... Loss: 1.1449... Val Loss: 1.2782\n",
      "Epoch: 19/20... Step: 10050... Loss: 1.1205... Val Loss: 1.2754\n",
      "Epoch: 19/20... Step: 10100... Loss: 1.0827... Val Loss: 1.2739\n",
      "Epoch: 19/20... Step: 10150... Loss: 1.0650... Val Loss: 1.2762\n",
      "Epoch: 19/20... Step: 10200... Loss: 1.1163... Val Loss: 1.2744\n",
      "Epoch: 19/20... Step: 10250... Loss: 1.0933... Val Loss: 1.2738\n",
      "Epoch: 19/20... Step: 10300... Loss: 1.1084... Val Loss: 1.2684\n",
      "Epoch: 19/20... Step: 10350... Loss: 1.1063... Val Loss: 1.2757\n",
      "Epoch: 19/20... Step: 10400... Loss: 1.1347... Val Loss: 1.2746\n",
      "Epoch: 19/20... Step: 10450... Loss: 1.1104... Val Loss: 1.2719\n",
      "Epoch: 19/20... Step: 10500... Loss: 1.1076... Val Loss: 1.2790\n",
      "Epoch: 19/20... Step: 10550... Loss: 1.0689... Val Loss: 1.2796\n",
      "Epoch: 19/20... Step: 10600... Loss: 1.0651... Val Loss: 1.2741\n",
      "Epoch: 20/20... Step: 10650... Loss: 1.1005... Val Loss: 1.2759\n",
      "Epoch: 20/20... Step: 10700... Loss: 1.0830... Val Loss: 1.2724\n",
      "Epoch: 20/20... Step: 10750... Loss: 1.0972... Val Loss: 1.2738\n",
      "Epoch: 20/20... Step: 10800... Loss: 1.0665... Val Loss: 1.2790\n",
      "Epoch: 20/20... Step: 10850... Loss: 1.0757... Val Loss: 1.2793\n",
      "Epoch: 20/20... Step: 10900... Loss: 1.1362... Val Loss: 1.2717\n",
      "Epoch: 20/20... Step: 10950... Loss: 1.0966... Val Loss: 1.2714\n",
      "Epoch: 20/20... Step: 11000... Loss: 1.1404... Val Loss: 1.2771\n",
      "Epoch: 20/20... Step: 11050... Loss: 1.1072... Val Loss: 1.2792\n",
      "Epoch: 20/20... Step: 11100... Loss: 1.0901... Val Loss: 1.2766\n",
      "Epoch: 20/20... Step: 11150... Loss: 1.0836... Val Loss: 1.2715\n"
     ]
    }
   ],
   "source": [
    "batch_size = 64\n",
    "seq_length = 50\n",
    "n_epochs = 20 # start small if you are just testing initial behavior\n",
    "\n",
    "# train the model\n",
    "train(net, encoded, epochs=n_epochs, batch_size=batch_size, seq_length=seq_length, lr=0.001, print_every=50)"
   ]
  },
  {
   "cell_type": "markdown",
   "metadata": {},
   "source": [
    "#### seq_length = 50\n",
    "* batch_size = 64\n",
    "```\n",
    "...\n",
    "Epoch: 4/5... Step: 2200... Loss: 1.4023... Val Loss: 1.4332\n",
    "...\n",
    "Epoch: 5/5... Step: 2700... Loss: 1.3822... Val Loss: 1.3916\n",
    "Epoch: 5/5... Step: 2750... Loss: 1.3480... Val Loss: 1.3926\n",
    "```\n",
    "* batch_size = 128\n",
    "```\n",
    "...\n",
    "Epoch: 4/5... Step: 1100... Loss: 1.7114... Val Loss: 1.6430\n",
    "...\n",
    "Epoch: 5/5... Step: 1300... Loss: 1.5702... Val Loss: 1.5825\n",
    "Epoch: 5/5... Step: 1350... Loss: 1.6037... Val Loss: 1.5664\n",
    "```"
   ]
  },
  {
   "cell_type": "markdown",
   "metadata": {},
   "source": [
    "#### seq_length = 100\n",
    "* batch_size = 64\n",
    "```\n",
    "...\n",
    "Epoch: 4/5... Step: 1100... Loss: 1.5418... Val Loss: 1.5645\n",
    "...\n",
    "Epoch: 5/5... Step: 1300... Loss: 1.4787... Val Loss: 1.5218\n",
    "Epoch: 5/5... Step: 1350... Loss: 1.5013... Val Loss: 1.5056\n",
    "```\n",
    "\n",
    "* batch_size = 128\n",
    "```\n",
    "...\n",
    "Epoch: 4/5... Step: 550... Loss: 1.8264... Val Loss: 1.7737\n",
    "Epoch: 5/5... Step: 600... Loss: 1.7390... Val Loss: 1.7307\n",
    "Epoch: 5/5... Step: 650... Loss: 1.7014... Val Loss: 1.6876\n",
    "```\n",
    "* batch_size=256\n",
    "```\n",
    "...\n",
    "Epoch: 4/5... Step: 250... Loss: 2.2261... Val Loss: 2.1378\n",
    "Epoch: 5/5... Step: 300... Loss: 2.0793... Val Loss: 2.0116\n",
    "```"
   ]
  },
  {
   "cell_type": "markdown",
   "metadata": {},
   "source": [
    "## Getting the best model\n",
    "\n",
    "To set your hyperparameters to get the best performance, you'll want to watch the training and validation losses. If your training loss is much lower than the validation loss, you're overfitting. Increase regularization (more dropout) or use a smaller network. If the training and validation losses are close, you're underfitting so you can increase the size of the network."
   ]
  },
  {
   "cell_type": "markdown",
   "metadata": {},
   "source": [
    "## Hyperparameters\n",
    "\n",
    "Here are the hyperparameters for the network.\n",
    "\n",
    "In defining the model:\n",
    "* `n_hidden` - The number of units in the hidden layers.\n",
    "* `n_layers` - Number of hidden LSTM layers to use.\n",
    "\n",
    "We assume that dropout probability and learning rate will be kept at the default, in this example.\n",
    "\n",
    "And in training:\n",
    "* `batch_size` - Number of sequences running through the network in one pass.\n",
    "* `seq_length` - Number of characters in the sequence the network is trained on. Larger is better typically, the network will learn more long range dependencies. But it takes longer to train. 100 is typically a good number here.\n",
    "* `lr` - Learning rate for training\n",
    "\n",
    "Here's some good advice from Andrej Karpathy on training the network. I'm going to copy it in here for your benefit, but also link to [where it originally came from](https://github.com/karpathy/char-rnn#tips-and-tricks).\n",
    "\n",
    "> ## Tips and Tricks\n",
    "\n",
    ">### Monitoring Validation Loss vs. Training Loss\n",
    ">If you're somewhat new to Machine Learning or Neural Networks it can take a bit of expertise to get good models. The most important quantity to keep track of is the difference between your training loss (printed during training) and the validation loss (printed once in a while when the RNN is run on the validation data (by default every 1000 iterations)). In particular:\n",
    "\n",
    "> - If your training loss is much lower than validation loss then this means the network might be **overfitting**. Solutions to this are to decrease your network size, or to increase dropout. For example you could try dropout of 0.5 and so on.\n",
    "> - If your training/validation loss are about equal then your model is **underfitting**. Increase the size of your model (either number of layers or the raw number of neurons per layer)\n",
    "\n",
    "> ### Approximate number of parameters\n",
    "\n",
    "> The two most important parameters that control the model are `n_hidden` and `n_layers`. I would advise that you always use `n_layers` of either 2/3. The `n_hidden` can be adjusted based on how much data you have. The two important quantities to keep track of here are:\n",
    "\n",
    "> - The number of parameters in your model. This is printed when you start training.\n",
    "> - The size of your dataset. 1MB file is approximately 1 million characters.\n",
    "\n",
    ">These two should be about the same order of magnitude. It's a little tricky to tell. Here are some examples:\n",
    "\n",
    "> - I have a 100MB dataset and I'm using the default parameter settings (which currently print 150K parameters). My data size is significantly larger (100 mil >> 0.15 mil), so I expect to heavily underfit. I am thinking I can comfortably afford to make `n_hidden` larger.\n",
    "> - I have a 10MB dataset and running a 10 million parameter model. I'm slightly nervous and I'm carefully monitoring my validation loss. If it's larger than my training loss then I may want to try to increase dropout a bit and see if that helps the validation loss.\n",
    "\n",
    "> ### Best models strategy\n",
    "\n",
    ">The winning strategy to obtaining very good models (if you have the compute time) is to always err on making the network larger (as large as you're willing to wait for it to compute) and then try different dropout values (between 0,1). Whatever model has the best validation performance (the loss, written in the checkpoint filename, low is good) is the one you should use in the end.\n",
    "\n",
    ">It is very common in deep learning to run many different models with many different hyperparameter settings, and in the end take whatever checkpoint gave the best validation performance.\n",
    "\n",
    ">By the way, the size of your training and validation splits are also parameters. Make sure you have a decent amount of data in your validation set or otherwise the validation performance will be noisy and not very informative."
   ]
  },
  {
   "cell_type": "markdown",
   "metadata": {},
   "source": [
    "## Checkpoint\n",
    "\n",
    "After training, we'll save the model so we can load it again later if we need too. Here I'm saving the parameters needed to create the same architecture, the hidden layer hyperparameters and the text characters."
   ]
  },
  {
   "cell_type": "code",
   "execution_count": 82,
   "metadata": {},
   "outputs": [],
   "source": [
    "# change the name, for saving multiple files\n",
    "model_name = 'rnn_x_epoch.net'\n",
    "\n",
    "checkpoint = {'n_hidden': net.n_hidden,\n",
    "              'n_layers': net.n_layers,\n",
    "              'state_dict': net.state_dict(),\n",
    "              'tokens': net.chars}\n",
    "\n",
    "with open(model_name, 'wb') as f:\n",
    "    torch.save(checkpoint, f)"
   ]
  },
  {
   "cell_type": "markdown",
   "metadata": {},
   "source": [
    "---\n",
    "## Making Predictions\n",
    "\n",
    "Now that the model is trained, we'll want to sample from it and make predictions about next characters! To sample, we pass in a character and have the network predict the next character. Then we take that character, pass it back in, and get another predicted character. Just keep doing this and you'll generate a bunch of text!\n",
    "\n",
    "### A note on the `predict`  function\n",
    "\n",
    "The output of our RNN is from a fully-connected layer and it outputs a **distribution of next-character scores**.\n",
    "\n",
    "> To actually get the next character, we apply a softmax function, which gives us a *probability* distribution that we can then sample to predict the next character.\n",
    "\n",
    "### Top K sampling\n",
    "\n",
    "Our predictions come from a categorical probability distribution over all the possible characters. We can make the sample text and make it more reasonable to handle (with less variables) by only considering some $K$ most probable characters. This will prevent the network from giving us completely absurd characters while allowing it to introduce some noise and randomness into the sampled text. Read more about [topk, here](https://pytorch.org/docs/stable/torch.html#torch.topk).\n"
   ]
  },
  {
   "cell_type": "code",
   "execution_count": 102,
   "metadata": {},
   "outputs": [
    {
     "name": "stdout",
     "output_type": "stream",
     "text": [
      "tensor([0.8340, 0.3330], dtype=torch.float64) [2 1]\n",
      "tensor([0.7147, 0.2853], dtype=torch.float64)\n",
      "2\n",
      "2\n",
      "2\n",
      "2\n",
      "2\n"
     ]
    }
   ],
   "source": [
    "a, b = torch.from_numpy(np.array([0.1, 0.333, 0.834])).topk(2)\n",
    "print(a, b.numpy().squeeze())\n",
    "print(a/a.sum())\n",
    "for i in range(5):\n",
    "    print(np.random.choice(b.numpy().squeeze(), p=a/a.sum()))"
   ]
  },
  {
   "cell_type": "code",
   "execution_count": 83,
   "metadata": {},
   "outputs": [],
   "source": [
    "def predict(net, char, h=None, top_k=None):\n",
    "        ''' Given a character, predict the next character.\n",
    "            Returns the predicted character and the hidden state.\n",
    "        '''\n",
    "        \n",
    "        # tensor inputs\n",
    "        x = np.array([[net.char2int[char]]])\n",
    "        x = one_hot_encode(x, len(net.chars))\n",
    "        inputs = torch.from_numpy(x)\n",
    "        \n",
    "        if(train_on_gpu):\n",
    "            inputs = inputs.cuda()\n",
    "        \n",
    "        # detach hidden state from history\n",
    "        h = tuple([each.data for each in h])\n",
    "        # get the output of the model\n",
    "        out, h = net(inputs, h)\n",
    "\n",
    "        # get the character probabilities\n",
    "        p = F.softmax(out, dim=1).data\n",
    "        if(train_on_gpu):\n",
    "            p = p.cpu() # move to cpu\n",
    "        \n",
    "        # get top characters\n",
    "        if top_k is None:\n",
    "            top_ch = np.arange(len(net.chars))\n",
    "        else:\n",
    "            p, top_ch = p.topk(top_k)\n",
    "            top_ch = top_ch.numpy().squeeze()\n",
    "        \n",
    "        # select the likely next character with some element of randomness\n",
    "        p = p.numpy().squeeze()\n",
    "        # select a character based on probabilities of only top-k characters\n",
    "        char = np.random.choice(top_ch, p=p/p.sum())\n",
    "        \n",
    "        # return the encoded value of the predicted char and the hidden state\n",
    "        return net.int2char[char], h"
   ]
  },
  {
   "cell_type": "markdown",
   "metadata": {},
   "source": [
    "### Priming and generating text \n",
    "\n",
    "Typically you'll want to prime the network so you can build up a hidden state. Otherwise the network will start out generating characters at random. In general the first bunch of characters will be a little rough since it hasn't built up a long history of characters to predict from."
   ]
  },
  {
   "cell_type": "code",
   "execution_count": 84,
   "metadata": {},
   "outputs": [],
   "source": [
    "def sample(net, size, prime='The', top_k=None):\n",
    "        \n",
    "    if(train_on_gpu):\n",
    "        net.cuda()\n",
    "    else:\n",
    "        net.cpu()\n",
    "    \n",
    "    net.eval() # eval mode\n",
    "    \n",
    "    # First off, run through the prime characters\n",
    "    chars = [ch for ch in prime]\n",
    "    h = net.init_hidden(1)\n",
    "    for ch in prime:\n",
    "        char, h = predict(net, ch, h, top_k=top_k)\n",
    "\n",
    "    chars.append(char)\n",
    "    \n",
    "    # Now pass in the previous character and get a new one\n",
    "    for ii in range(size):\n",
    "        char, h = predict(net, chars[-1], h, top_k=top_k)\n",
    "        chars.append(char)\n",
    "\n",
    "    return ''.join(chars)"
   ]
  },
  {
   "cell_type": "code",
   "execution_count": 85,
   "metadata": {},
   "outputs": [
    {
     "name": "stdout",
     "output_type": "stream",
     "text": [
      "Anna,\n",
      "sent the streint or the seat of the prince's coming from the peasants their character, his\n",
      "brother, and she would say, so that he had been an and shoulders, a long ago, and to\n",
      "the support of his friends that was all, to such a ballow,\n",
      "the mirlur and construction of this way, his wife in the character of\n",
      "the promise, and to the plinch who sat was too more and more sitting before a momong of\n",
      "the string the children, at his friend, with his choram.\n",
      "\n",
      "Anna was into a little sound of the barrier and serene and to the conception\n",
      "of a position of the sound, and the prince. All the carriages was a\n",
      "short-club, and the councils always to the life. He saw that he\n",
      "was not to look at a cheres to him than an all woman. The colonel was not so\n",
      "much that he had no minute, and to be simply forgated the public action, as he could not be\n",
      "decided and has been so always, while they saw there and truth at those\n",
      "sorts of day at once whispering and at once thinking of her happiness about his\n",
      "contempor to the s\n"
     ]
    }
   ],
   "source": [
    "print(sample(net, 1000, prime='Anna', top_k=5))"
   ]
  },
  {
   "cell_type": "markdown",
   "metadata": {},
   "source": [
    "## Loading a checkpoint"
   ]
  },
  {
   "cell_type": "code",
   "execution_count": 86,
   "metadata": {},
   "outputs": [
    {
     "data": {
      "text/plain": [
       "<All keys matched successfully>"
      ]
     },
     "execution_count": 86,
     "metadata": {},
     "output_type": "execute_result"
    }
   ],
   "source": [
    "# Here we have loaded in a model that trained over 20 epochs `rnn_20_epoch.net`\n",
    "with open('rnn_x_epoch.net', 'rb') as f:\n",
    "    checkpoint = torch.load(f)\n",
    "    \n",
    "loaded = CharRNN(checkpoint['tokens'], n_hidden=checkpoint['n_hidden'], n_layers=checkpoint['n_layers'])\n",
    "loaded.load_state_dict(checkpoint['state_dict'])"
   ]
  },
  {
   "cell_type": "code",
   "execution_count": 87,
   "metadata": {},
   "outputs": [
    {
     "name": "stdout",
     "output_type": "stream",
     "text": [
      "And Levin said\n",
      "good-bye, and an uncorsciously smiling peasant, her face.\n",
      "\n",
      "\"I didn't see you're now telling you, and I am very great that I am not a little.\n",
      "If I'm a grass, but is all which women.\"\n",
      "\n",
      "\"If you want to say it's not all at and,\" she said, and, and the charm,\n",
      "who was taking her forty friends with his hands in a thick feeling about the princess worked her\n",
      "and a silence, and the prince said something though and that was the service, to\n",
      "see in the morning which had to do.\n",
      "\n",
      "And she despring the portor's water.\n",
      "\n",
      "\"I was told that I've stood striling almost the same it all.\"\n",
      "\n",
      "\"Yes, but you won't be a strength of taking off the countess. The\n",
      "whole of his work, it's a look of deliberation and the world and the whole of\n",
      "the world of meaning to see you,\" said the marshal of the point. \"They see you're said.\"\n",
      "\n",
      "\"We were thought and married.\"\n",
      "\n",
      "\"Well, the doctor, the chief sake, and what have yet the sick man on the\n",
      "contrary, they were a good noblemen.\"\n",
      "\n",
      "\"Well, he wouldn't believe how have you been a carriage, those the career and all\n",
      "the with such a promestic meeting if it was niterable at, and there are\n",
      "through it.\"\n",
      "\n",
      "\"Where should have tightly and so still? It's a man, when, is\n",
      "impossible. And I shall have so much from harms.\"\n",
      "\n",
      "These subjects of which he had been all were that this see he\n",
      "had told him that he was talking with him to teach out the meaning of way\n",
      "of the marriage as it had been saying, he turned it on the\n",
      "praise.\n",
      "\n",
      "Sergey Ivanovitch had standed at her sense of the cale through the\n",
      "compressing one that had been such as she come tele them of\n",
      "which they should be a men with which something too, and a sort of man of any minute\n",
      "whether was that what was to complain to tell a life was the most\n",
      "position. This was her she was in an and while the doctor was a serious and\n",
      "simple change to him, and as that she did not look at the previous presence. And\n",
      "she had the work in which he was to tele her. The creaker of the story court,\n",
      "had asked her and the society of which he had to get \n"
     ]
    }
   ],
   "source": [
    "# Sample using a loaded model\n",
    "print(sample(loaded, 2000, top_k=5, prime=\"And Levin said\"))"
   ]
  },
  {
   "cell_type": "code",
   "execution_count": null,
   "metadata": {
    "collapsed": true,
    "jupyter": {
     "outputs_hidden": true
    }
   },
   "outputs": [],
   "source": []
  }
 ],
 "metadata": {
  "kernelspec": {
   "display_name": "DL Nano Degree",
   "language": "python",
   "name": "ml_nano"
  },
  "language_info": {
   "codemirror_mode": {
    "name": "ipython",
    "version": 3
   },
   "file_extension": ".py",
   "mimetype": "text/x-python",
   "name": "python",
   "nbconvert_exporter": "python",
   "pygments_lexer": "ipython3",
   "version": "3.7.9"
  }
 },
 "nbformat": 4,
 "nbformat_minor": 4
}
