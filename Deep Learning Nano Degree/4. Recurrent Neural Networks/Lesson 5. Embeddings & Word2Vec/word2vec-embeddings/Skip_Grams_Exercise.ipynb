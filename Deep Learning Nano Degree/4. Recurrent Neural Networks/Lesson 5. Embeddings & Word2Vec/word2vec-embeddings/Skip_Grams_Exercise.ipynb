{
 "cells": [
  {
   "cell_type": "markdown",
   "metadata": {},
   "source": [
    "# Skip-gram Word2Vec\n",
    "\n",
    "In this notebook, I'll lead you through using PyTorch to implement the [Word2Vec algorithm](https://en.wikipedia.org/wiki/Word2vec) using the skip-gram architecture. By implementing this, you'll learn about embedding words for use in natural language processing. This will come in handy when dealing with things like machine translation.\n",
    "\n",
    "## Readings\n",
    "\n",
    "Here are the resources I used to build this notebook. I suggest reading these either beforehand or while you're working on this material.\n",
    "\n",
    "* A really good [conceptual overview](http://mccormickml.com/2016/04/19/word2vec-tutorial-the-skip-gram-model/) of Word2Vec from Chris McCormick \n",
    "* [First Word2Vec paper](https://arxiv.org/pdf/1301.3781.pdf) from Mikolov et al.\n",
    "* [Neural Information Processing Systems, paper](http://papers.nips.cc/paper/5021-distributed-representations-of-words-and-phrases-and-their-compositionality.pdf) with improvements for Word2Vec also from Mikolov et al.\n",
    "\n",
    "---\n",
    "## Word embeddings\n",
    "\n",
    "When you're dealing with words in text, you end up with tens of thousands of word classes to analyze; one for each word in a vocabulary. Trying to one-hot encode these words is massively inefficient because most values in a one-hot vector will be set to zero. So, the matrix multiplication that happens in between a one-hot input vector and a first, hidden layer will result in mostly zero-valued hidden outputs.\n",
    "\n",
    "<img src='assets/one_hot_encoding.png' width=50%>\n",
    "\n",
    "To solve this problem and greatly increase the efficiency of our networks, we use what are called **embeddings**. Embeddings are just a fully connected layer like you've seen before. We call this layer the embedding layer and the weights are embedding weights. We skip the multiplication into the embedding layer by instead directly grabbing the hidden layer values from the weight matrix. We can do this because the multiplication of a one-hot encoded vector with a matrix returns the row of the matrix corresponding the index of the \"on\" input unit.\n",
    "\n",
    "<img src='assets/lookup_matrix.png' width=50%>\n",
    "\n",
    "Instead of doing the matrix multiplication, we use the weight matrix as a lookup table. We encode the words as integers, for example \"heart\" is encoded as 958, \"mind\" as 18094. Then to get hidden layer values for \"heart\", you just take the 958th row of the embedding matrix. This process is called an **embedding lookup** and the number of hidden units is the **embedding dimension**.\n",
    "\n",
    "<img src='assets/tokenize_lookup.png' width=50%>\n",
    " \n",
    "There is nothing magical going on here. The embedding lookup table is just a weight matrix. The embedding layer is just a hidden layer. The lookup is just a shortcut for the matrix multiplication. The lookup table is trained just like any weight matrix.\n",
    "\n",
    "Embeddings aren't only used for words of course. You can use them for any model where you have a massive number of classes. A particular type of model called **Word2Vec** uses the embedding layer to find vector representations of words that contain semantic meaning."
   ]
  },
  {
   "cell_type": "markdown",
   "metadata": {},
   "source": [
    "---\n",
    "## Word2Vec\n",
    "\n",
    "The Word2Vec algorithm finds much more efficient representations by finding vectors that represent the words. These vectors also contain semantic information about the words.\n",
    "\n",
    "<img src=\"assets/context_drink.png\" width=40%>\n",
    "\n",
    "Words that show up in similar **contexts**, such as \"coffee\", \"tea\", and \"water\" will have vectors near each other. Different words will be further away from one another, and relationships can be represented by distance in vector space.\n",
    "\n",
    "<img src=\"assets/vector_distance.png\" width=40%>\n",
    "\n",
    "\n",
    "There are two architectures for implementing Word2Vec:\n",
    ">* CBOW (Continuous Bag-Of-Words) and \n",
    "* Skip-gram\n",
    "\n",
    "<img src=\"assets/word2vec_architectures.png\" width=60%>\n",
    "\n",
    "In this implementation, we'll be using the **skip-gram architecture** because it performs better than CBOW. Here, we pass in a word and try to predict the words surrounding it in the text. In this way, we can train the network to learn representations for words that show up in similar contexts."
   ]
  },
  {
   "cell_type": "markdown",
   "metadata": {},
   "source": [
    "---\n",
    "## Loading Data\n",
    "\n",
    "Next, we'll ask you to load in data and place it in the `data` directory\n",
    "\n",
    "1. Load the [text8 dataset](https://s3.amazonaws.com/video.udacity-data.com/topher/2018/October/5bbe6499_text8/text8.zip); a file of cleaned up *Wikipedia article text* from Matt Mahoney. \n",
    "2. Place that data in the `data` folder in the home directory.\n",
    "3. Then you can extract it and delete the archive, zip file to save storage space.\n",
    "\n",
    "After following these steps, you should have one file in your data directory: `data/text8`."
   ]
  },
  {
   "cell_type": "code",
   "execution_count": 1,
   "metadata": {},
   "outputs": [],
   "source": [
    "# !wget https://s3.amazonaws.com/video.udacity-data.com/topher/2018/October/5bbe6499_text8/text8.zip"
   ]
  },
  {
   "cell_type": "code",
   "execution_count": 2,
   "metadata": {},
   "outputs": [],
   "source": [
    "# !unzip text8.zip"
   ]
  },
  {
   "cell_type": "code",
   "execution_count": 3,
   "metadata": {},
   "outputs": [],
   "source": [
    "# !rm text8.zip\n",
    "# !mv text8 ./data/text8"
   ]
  },
  {
   "cell_type": "code",
   "execution_count": 4,
   "metadata": {},
   "outputs": [
    {
     "name": "stdout",
     "output_type": "stream",
     "text": [
      " anarchism originated as a term of abuse first used against early working class radicals including t\n"
     ]
    }
   ],
   "source": [
    "# read in the extracted text file      \n",
    "with open('data/text8') as f:\n",
    "    text = f.read()\n",
    "\n",
    "# print out the first 100 characters\n",
    "print(text[:100])"
   ]
  },
  {
   "cell_type": "markdown",
   "metadata": {},
   "source": [
    "## Pre-processing\n",
    "\n",
    "Here I'm fixing up the text to make training easier. This comes from the `utils.py` file. The `preprocess` function does a few things:\n",
    ">* It converts any punctuation into tokens, so a period is changed to ` <PERIOD> `. In this data set, there aren't any periods, but it will help in other NLP problems. \n",
    "* It removes all words that show up five or *fewer* times in the dataset. This will greatly reduce issues due to noise in the data and improve the quality of the vector representations. \n",
    "* It returns a list of words in the text.\n",
    "\n",
    "This may take a few seconds to run, since our text file is quite large. If you want to write your own functions for this stuff, go for it!"
   ]
  },
  {
   "cell_type": "code",
   "execution_count": 5,
   "metadata": {},
   "outputs": [
    {
     "name": "stdout",
     "output_type": "stream",
     "text": [
      "['anarchism', 'originated', 'as', 'a', 'term', 'of', 'abuse', 'first', 'used', 'against', 'early', 'working', 'class', 'radicals', 'including', 'the', 'diggers', 'of', 'the', 'english', 'revolution', 'and', 'the', 'sans', 'culottes', 'of', 'the', 'french', 'revolution', 'whilst']\n"
     ]
    }
   ],
   "source": [
    "import utils\n",
    "\n",
    "# get list of words\n",
    "words = utils.preprocess(text)\n",
    "print(words[:30])"
   ]
  },
  {
   "cell_type": "code",
   "execution_count": 6,
   "metadata": {},
   "outputs": [
    {
     "name": "stdout",
     "output_type": "stream",
     "text": [
      "Total words in text: 16680599\n",
      "Unique words: 63641\n"
     ]
    }
   ],
   "source": [
    "# print some stats about this word data\n",
    "print(\"Total words in text: {}\".format(len(words)))\n",
    "print(\"Unique words: {}\".format(len(set(words)))) # `set` removes any duplicate words"
   ]
  },
  {
   "cell_type": "markdown",
   "metadata": {},
   "source": [
    "### Dictionaries\n",
    "\n",
    "Next, I'm creating two dictionaries to convert words to integers and back again (integers to words). This is again done with a function in the `utils.py` file. `create_lookup_tables` takes in a list of words in a text and returns two dictionaries.\n",
    ">* The integers are assigned in descending frequency order, so the most frequent word (\"the\") is given the integer 0 and the next most frequent is 1, and so on. \n",
    "\n",
    "Once we have our dictionaries, the words are converted to integers and stored in the list `int_words`."
   ]
  },
  {
   "cell_type": "code",
   "execution_count": 7,
   "metadata": {},
   "outputs": [
    {
     "name": "stdout",
     "output_type": "stream",
     "text": [
      "[5233, 3080, 11, 5, 194, 1, 3133, 45, 58, 155, 127, 741, 476, 10571, 133, 0, 27349, 1, 0, 102, 854, 2, 0, 15067, 58112, 1, 0, 150, 854, 3580]\n"
     ]
    }
   ],
   "source": [
    "vocab_to_int, int_to_vocab = utils.create_lookup_tables(words)\n",
    "int_words = [vocab_to_int[word] for word in words]\n",
    "\n",
    "print(int_words[:30])"
   ]
  },
  {
   "cell_type": "markdown",
   "metadata": {},
   "source": [
    "## Subsampling\n",
    "\n",
    "Words that show up often such as \"the\", \"of\", and \"for\" don't provide much context to the nearby words. If we discard some of them, we can remove some of the noise from our data and in return get faster training and better representations. This process is called subsampling by Mikolov. For each word $w_i$ in the training set, we'll discard it with probability given by \n",
    "\n",
    "$$ P(w_i) = 1 - \\sqrt{\\frac{t}{f(w_i)}} $$\n",
    "\n",
    "where $t$ is a threshold parameter and $f(w_i)$ is the frequency of word $w_i$ in the total dataset.\n",
    "\n",
    "$$ P(0) = 1 - \\sqrt{\\frac{1*10^{-5}}{1*10^6/16*10^6}} = 0.98735 $$\n",
    "\n",
    "I'm going to leave this up to you as an exercise. Check out my solution to see how I did it.\n",
    "\n",
    "> **Exercise:** Implement subsampling for the words in `int_words`. That is, go through `int_words` and discard each word given the probablility $P(w_i)$ shown above. Note that $P(w_i)$ is the probability that a word is discarded. Assign the subsampled data to `train_words`."
   ]
  },
  {
   "cell_type": "code",
   "execution_count": 8,
   "metadata": {},
   "outputs": [
    {
     "name": "stdout",
     "output_type": "stream",
     "text": [
      "(5233, 303)\n",
      "[5233, 3080, 10571, 133, 27349, 15067, 58112, 3580, 10712, 539, 2757, 567, 7088, 5233, 1052, 44611, 2877, 792, 5233, 200, 2621, 25, 8983, 4147, 6437, 4186, 5233, 4860, 6753, 7573]\n"
     ]
    }
   ],
   "source": [
    "from collections import Counter\n",
    "import random\n",
    "import numpy as np\n",
    "\n",
    "threshold = 1e-5\n",
    "word_counts = Counter(int_words)\n",
    "print(list(word_counts.items())[0])  # dictionary of int_words, how many times they appear\n",
    "\n",
    "# discard some frequent words, according to the subsampling equation\n",
    "total_cnt = len(int_words)\n",
    "discard_prob = {i: 1 - np.sqrt(threshold / (count / total_cnt)) for i, count in word_counts.items()}\n",
    "\n",
    "# create a new list of words for training\n",
    "train_words = [i for i in int_words if discard_prob[i] <= np.random.random()]\n",
    "# train_words = [word for word in int_words if random.random() < (1 - p_drop[word])]\n",
    "\n",
    "print(train_words[:30])"
   ]
  },
  {
   "cell_type": "markdown",
   "metadata": {},
   "source": [
    "## Making batches"
   ]
  },
  {
   "cell_type": "markdown",
   "metadata": {},
   "source": [
    "Now that our data is in good shape, we need to get it into the proper form to pass it into our network. With the skip-gram architecture, for each word in the text, we want to define a surrounding _context_ and grab all the words in a window around that word, with size $C$. \n",
    "\n",
    "From [Mikolov et al.](https://arxiv.org/pdf/1301.3781.pdf): \n",
    "\n",
    "\"Since the more distant words are usually less related to the current word than those close to it, we give less weight to the distant words by sampling less from those words in our training examples... If we choose $C = 5$, for each training word we will select randomly a number $R$ in range $[ 1: C ]$, and then use $R$ words from history and $R$ words from the future of the current word as correct labels.\"\n",
    "\n",
    "> **Exercise:** Implement a function `get_target` that receives a list of words, an index, and a window size, then returns a list of words in the window around the index. Make sure to use the algorithm described above, where you chose a random number of words to from the window.\n",
    "\n",
    "Say, we have an input and we're interested in the idx=2 token, `741`: \n",
    "```\n",
    "[5233, 58, 741, 10571, 27349, 0, 15067, 58112, 3580, 58, 10712]\n",
    "```\n",
    "\n",
    "For `R=2`, `get_target` should return a list of four values:\n",
    "```\n",
    "[5233, 58, 10571, 27349]\n",
    "```"
   ]
  },
  {
   "cell_type": "code",
   "execution_count": 9,
   "metadata": {},
   "outputs": [
    {
     "data": {
      "text/plain": [
       "[1, 2, 3, 4, 5]"
      ]
     },
     "execution_count": 9,
     "metadata": {},
     "output_type": "execute_result"
    }
   ],
   "source": [
    "[1,2,3] + [4,5]"
   ]
  },
  {
   "cell_type": "code",
   "execution_count": 10,
   "metadata": {},
   "outputs": [],
   "source": [
    "def get_target(words, idx, window_size=5):\n",
    "    ''' Get a list of words in a window around an index. '''\n",
    "    \n",
    "    # implement this function    \n",
    "    r = np.random.randint(1, window_size+1)\n",
    "    return words[idx-r if idx>r else 0:idx] + words[idx+1:idx+r+1]"
   ]
  },
  {
   "cell_type": "code",
   "execution_count": 11,
   "metadata": {},
   "outputs": [
    {
     "name": "stdout",
     "output_type": "stream",
     "text": [
      "Input:  [0, 1, 2, 3, 4, 5, 6, 7, 8, 9]\n",
      "Target:  [0, 2, 3, 4]\n"
     ]
    }
   ],
   "source": [
    "# test your code!\n",
    "\n",
    "# run this cell multiple times to check for random window selection\n",
    "int_text = [i for i in range(10)]\n",
    "print('Input: ', int_text)\n",
    "idx=1 # word index of interest\n",
    "\n",
    "target = get_target(int_text, idx=idx, window_size=5)\n",
    "print('Target: ', target)  # you should get some indices around the idx"
   ]
  },
  {
   "cell_type": "markdown",
   "metadata": {},
   "source": [
    "### Generating Batches \n",
    "\n",
    "Here's a generator function that returns batches of input and target data for our model, using the `get_target` function from above. The idea is that it grabs `batch_size` words from a words list. Then for each of those batches, it gets the target words in a window."
   ]
  },
  {
   "cell_type": "code",
   "execution_count": 12,
   "metadata": {},
   "outputs": [],
   "source": [
    "def get_batches(words, batch_size, window_size=5):\n",
    "    ''' Create a generator of word batches as a tuple (inputs, targets) '''\n",
    "    \n",
    "    n_batches = len(words)//batch_size\n",
    "    \n",
    "    # only full batches\n",
    "    words = words[:n_batches*batch_size]\n",
    "    \n",
    "    for idx in range(0, len(words), batch_size):\n",
    "        x, y = [], []\n",
    "        batch = words[idx:idx+batch_size]\n",
    "        for ii in range(len(batch)):\n",
    "            batch_x = batch[ii]\n",
    "            batch_y = get_target(batch, ii, window_size)\n",
    "            y.extend(batch_y)\n",
    "            x.extend([batch_x]*len(batch_y))\n",
    "        yield x, y\n",
    "    "
   ]
  },
  {
   "cell_type": "code",
   "execution_count": 13,
   "metadata": {},
   "outputs": [
    {
     "name": "stdout",
     "output_type": "stream",
     "text": [
      "x\n",
      " [0, 0, 0, 1, 1, 2, 2, 2, 3]\n",
      "y\n",
      " [1, 2, 3, 0, 2, 0, 1, 3, 2]\n"
     ]
    }
   ],
   "source": [
    "int_text = [i for i in range(20)]\n",
    "x,y = next(get_batches(int_text, batch_size=4, window_size=5))\n",
    "\n",
    "print('x\\n', x)\n",
    "print('y\\n', y)"
   ]
  },
  {
   "cell_type": "markdown",
   "metadata": {},
   "source": [
    "## Building the graph\n",
    "\n",
    "Below is an approximate diagram of the general structure of our network.\n",
    "<img src=\"assets/skip_gram_arch.png\" width=60%>\n",
    "\n",
    ">* The input words are passed in as batches of input word tokens. \n",
    "* This will go into a hidden layer of linear units (our embedding layer). \n",
    "* Then, finally into a softmax output layer. \n",
    "\n",
    "We'll use the softmax layer to make a prediction about the context words by sampling, as usual.\n",
    "\n",
    "The idea here is to train the embedding layer weight matrix to find efficient representations for our words. We can discard the softmax layer because we don't really care about making predictions with this network. We just want the embedding matrix so we can use it in _other_ networks we build using this dataset."
   ]
  },
  {
   "cell_type": "markdown",
   "metadata": {},
   "source": [
    "---\n",
    "## Validation\n",
    "\n",
    "Here, I'm creating a function that will help us observe our model as it learns. We're going to choose a few common words and few uncommon words. Then, we'll print out the closest words to them using the cosine similarity: \n",
    "\n",
    "<img src=\"assets/two_vectors.png\" width=30%>\n",
    "\n",
    "$$\n",
    "\\mathrm{similarity} = \\cos(\\theta) = \\frac{\\vec{a} \\cdot \\vec{b}}{|\\vec{a}||\\vec{b}|}\n",
    "$$\n",
    "\n",
    "\n",
    "We can encode the validation words as vectors $\\vec{a}$ using the embedding table, then calculate the similarity with each word vector $\\vec{b}$ in the embedding table. With the similarities, we can print out the validation words and words in our embedding table semantically similar to those words. It's a nice way to check that our embedding table is grouping together words with similar semantic meanings."
   ]
  },
  {
   "cell_type": "code",
   "execution_count": 14,
   "metadata": {},
   "outputs": [],
   "source": [
    "def cosine_similarity(embedding, valid_size=16, valid_window=100, device='cpu'):\n",
    "    \"\"\" Returns the cosine similarity of validation words with words in the embedding matrix.\n",
    "        Here, embedding should be a PyTorch embedding module.\n",
    "    \"\"\"\n",
    "    \n",
    "    # Here we're calculating the cosine similarity between some random words and \n",
    "    # our embedding vectors. With the similarities, we can look at what words are\n",
    "    # close to our random words.\n",
    "    \n",
    "    # sim = (a . b) / |a||b|\n",
    "    \n",
    "    embed_vectors = embedding.weight\n",
    "    \n",
    "    # magnitude of embedding vectors, |b|\n",
    "    magnitudes = embed_vectors.pow(2).sum(dim=1).sqrt().unsqueeze(0)\n",
    "    \n",
    "    # pick N words from our ranges (0,window) and (1000,1000+window). lower id implies more frequent \n",
    "    valid_examples = np.array(random.sample(range(valid_window), valid_size//2))\n",
    "    valid_examples = np.append(valid_examples,\n",
    "                               random.sample(range(1000,1000+valid_window), valid_size//2))\n",
    "    valid_examples = torch.LongTensor(valid_examples).to(device)\n",
    "    \n",
    "    valid_vectors = embedding(valid_examples)\n",
    "    similarities = torch.mm(valid_vectors, embed_vectors.t())/magnitudes\n",
    "        \n",
    "    return valid_examples, similarities"
   ]
  },
  {
   "cell_type": "markdown",
   "metadata": {},
   "source": [
    "## SkipGram model\n",
    "\n",
    "Define and train the SkipGram model. \n",
    "> You'll need to define an [embedding layer](https://pytorch.org/docs/stable/nn.html#embedding) and a final, softmax output layer.\n",
    "\n",
    "An Embedding layer takes in a number of inputs, importantly:\n",
    "* **num_embeddings** – the size of the dictionary of embeddings, or how many rows you'll want in the embedding weight matrix\n",
    "* **embedding_dim** – the size of each embedding vector; the embedding dimension"
   ]
  },
  {
   "cell_type": "code",
   "execution_count": 15,
   "metadata": {},
   "outputs": [],
   "source": [
    "import torch\n",
    "from torch import nn\n",
    "import torch.optim as optim"
   ]
  },
  {
   "cell_type": "code",
   "execution_count": 16,
   "metadata": {},
   "outputs": [],
   "source": [
    "class SkipGram(nn.Module):\n",
    "    def __init__(self, n_vocab, n_embed):\n",
    "        super().__init__()\n",
    "        \n",
    "        # complete this SkipGram model\n",
    "        self.embed = nn.Embedding(n_vocab, n_embed)\n",
    "        self.fc = nn.Linear(n_embed, n_vocab)\n",
    "        self.logsm = nn.LogSoftmax(dim=1)\n",
    "    \n",
    "    def forward(self, x):\n",
    "        \n",
    "        # define the forward behavior\n",
    "        x = self.embed(x)\n",
    "        x = self.fc(x)\n",
    "        x = self.logsm(x)\n",
    "        \n",
    "        return x"
   ]
  },
  {
   "cell_type": "markdown",
   "metadata": {},
   "source": [
    "### Training\n",
    "\n",
    "Below is our training loop, and I recommend that you train on GPU, if available.\n",
    "\n",
    "**Note that, because we applied a softmax function to our model output, we are using NLLLoss** as opposed to cross entropy. This is because Softmax  in combination with NLLLoss = CrossEntropy loss ."
   ]
  },
  {
   "cell_type": "code",
   "execution_count": 17,
   "metadata": {},
   "outputs": [],
   "source": [
    "x, y = next(get_batches(train_words, 512))"
   ]
  },
  {
   "cell_type": "code",
   "execution_count": 18,
   "metadata": {},
   "outputs": [
    {
     "data": {
      "text/plain": [
       "(3114, 3114)"
      ]
     },
     "execution_count": 18,
     "metadata": {},
     "output_type": "execute_result"
    }
   ],
   "source": [
    "len(x), len(y)"
   ]
  },
  {
   "cell_type": "code",
   "execution_count": 19,
   "metadata": {},
   "outputs": [
    {
     "data": {
      "text/plain": [
       "4629027"
      ]
     },
     "execution_count": 19,
     "metadata": {},
     "output_type": "execute_result"
    }
   ],
   "source": [
    "len(train_words)"
   ]
  },
  {
   "cell_type": "code",
   "execution_count": null,
   "metadata": {},
   "outputs": [
    {
     "name": "stdout",
     "output_type": "stream",
     "text": [
      "that | individually, ching, chevalier, packages, pacifism\n",
      "of | renders, grainy, queensland, curse, pamir\n",
      "and | dismissing, sanh, vesalius, interglacial, hanoi\n",
      "into | richards, impersonator, pointwise, jurassic, dimensionality\n",
      "use | rexroth, orientation, bilingualism, idl, rockne\n",
      "over | livres, csicop, workarounds, netbsd, bicycling\n",
      "their | atropine, oeuvres, houses, gaskets, urbana\n",
      "history | overturned, appending, rainmaker, disoriented, crts\n",
      "file | ateneo, gradients, sub, hypergiant, doubts\n",
      "bbc | wrestlers, aisle, dev, asturian, vibrio\n",
      "san | kutch, swamped, transvaal, binghamton, khazars\n",
      "cost | lancet, songwriters, outgrown, tongue, liqueurs\n",
      "police | puck, congar, wertham, ridings, testified\n",
      "defense | ofdm, levi, swiftness, vampires, nan\n",
      "nobel | ey, kwaidan, genotype, rebuttal, toscana\n",
      "behind | devil, reward, boty, unbound, symptomatic\n",
      "...\n",
      "this | aai, curled, inlays, bokm, metrizable\n",
      "time | donate, postulating, tip, piazzi, orders\n",
      "state | ethel, published, assuring, spotters, intervened\n",
      "but | idaho, warm, infantry, coating, bribe\n",
      "however | jensen, reciprocated, efforts, crompton, frankfurt\n",
      "if | traced, virulent, consort, hopper, rotates\n",
      "these | gimel, swinburne, discredit, worldview, urs\n",
      "to | resolution, commute, intakes, fifa, businessweek\n",
      "additional | benchmark, lorazepam, parastatal, gst, wilber\n",
      "writers | malachi, demeanour, boundaries, favourites, corporal\n",
      "active | vending, polyphonic, divinely, rigour, subsidiary\n",
      "know | chordata, hourly, poorer, bellicose, paged\n",
      "professional | intending, arrive, unicorn, pacemakers, cetera\n",
      "smith | kimbundu, sqrta, te, withstand, unrealistic\n",
      "heavy | quash, guano, disabled, digitally, isdb\n",
      "notes | tir, zeist, ergodic, irritability, scrutiny\n",
      "...\n",
      "would | anticoagulant, essayist, parque, granada, mnt\n",
      "into | richards, impersonator, dimensionality, pointwise, bec\n",
      "been | retrial, alto, watchtower, universal, secker\n",
      "of | renders, grainy, queensland, curse, pamir\n",
      "united | norrath, simms, consolidated, russification, fiesta\n",
      "is | glutinous, brutal, tsh, toasting, depends\n",
      "they | proselytizing, projectiles, iman, baja, tinged\n",
      "d | concealment, baserunners, enigmas, kluwer, morph\n",
      "experience | willed, battlefield, rooftops, upstairs, hammers\n",
      "institute | referrals, motorola, macon, pacioli, wheelchair\n",
      "heavy | quash, guano, digitally, oromo, pleasing\n",
      "pre | monaro, stripped, aphrodisias, inexhaustible, inducted\n",
      "pressure | colecovision, perpendicular, used, burdette, eugenio\n",
      "derived | helmstedt, versailles, codex, gulags, erbium\n",
      "defense | swiftness, ofdm, levi, nnp, vampires\n",
      "freedom | gorgias, ebro, unambiguously, suetonius, helsing\n",
      "...\n",
      "is | glutinous, brutal, tsh, plaintext, depends\n",
      "american | striped, rheingold, cystic, symbiotic, santorum\n",
      "up | dirk, interspersed, recapture, mizoguchi, sorting\n",
      "people | antiquarian, scripting, standpoint, microgravity, paperback\n",
      "had | codebook, recapture, pepys, ratites, dominance\n",
      "there | diphtheria, directorship, pray, rhetorically, coloration\n",
      "eight | cci, pumped, equitable, interfaces, articulatory\n",
      "but | idaho, hide, bribe, infantry, patriotic\n",
      "award | surrealism, polygon, stara, oliveira, downfall\n",
      "discovered | malts, tet, socks, infant, alsace\n",
      "assembly | cana, subtracting, subdued, programmable, cubewanos\n",
      "consists | wirtschaftswunder, uncharacteristic, caches, bakshi, lethargy\n",
      "know | hourly, poorer, chordata, mind, attempts\n",
      "animals | kura, venomous, lethal, mxy, rarer\n",
      "brother | sufficiency, janeiro, piazza, strummer, dough\n",
      "file | ateneo, gradients, sub, hypergiant, doubts\n",
      "...\n",
      "first | broke, birthrate, guppies, nucleation, orchestrations\n",
      "can | humphries, correct, asymmetrical, subways, excursions\n",
      "other | ruminants, ceramic, finalised, slugging, dewan\n",
      "known | uninterrupted, pinto, thz, amon, merlin\n",
      "in | institutional, mannheim, avignon, junk, mepkin\n",
      "would | anticoagulant, parque, essayist, secrets, granada\n",
      "used | pleasurable, incorporating, pressure, roused, mixture\n",
      "all | conservatory, faiz, enactments, australasian, lancers\n",
      "orthodox | purgatory, excuses, shingle, lodbrok, oblong\n",
      "lived | dimming, horthy, logician, chiefdoms, we\n",
      "active | vending, subsidiary, rigour, unsubstantiated, polyphonic\n",
      "resources | canning, armed, vine, sheedy, vampira\n",
      "nobel | poindexter, ey, vol, unamended, genotype\n",
      "engineering | subdiscipline, suborders, stella, ntsc, incredibly\n",
      "animals | lethal, venomous, mxy, paget, rarer\n",
      "troops | infielder, brevet, wigan, cip, typographic\n",
      "...\n",
      "this | gorey, curled, aai, metrizable, inlays\n",
      "its | toro, hug, puritanical, tolson, alchemists\n",
      "was | disposes, appointed, masami, transonic, woodrow\n",
      "when | example, fonts, designing, quux, getty\n",
      "zero | ntl, deadites, marvin, kalam, basutoland\n",
      "has | dop, iast, phenols, manioc, bested\n",
      "one | confident, chartered, wheatley, garnet, bussy\n",
      "years | xdsl, cocky, charted, jour, nightwing\n",
      "instance | cluetrain, shade, smelter, clashing, milt\n",
      "shows | sdi, abkhazia, unproved, fz, emulating\n",
      "magazine | dilates, pfaff, chai, vitebsk, slays\n",
      "hold | obliterated, csonka, lutenists, environments, gynecology\n",
      "existence | medication, westcott, intention, fertilizer, wedding\n",
      "http | bookchin, cowboy, plays, mobutu, baasha\n",
      "articles | flushed, manoel, perception, staccato, qing\n",
      "pope | defences, scripture, summoning, stating, practicality\n",
      "...\n",
      "two | parra, doris, cryptographers, ask, crewmembers\n",
      "some | cochabamba, proverb, aaas, scrumpy, corroborate\n",
      "used | incorporating, pleasurable, pressure, mixture, roused\n",
      "all | holdover, australasian, mtp, conservatory, microfilm\n",
      "but | patriotic, hide, infantry, modernise, bribe\n",
      "they | proselytizing, projectiles, compasses, unfccc, inverted\n",
      "about | als, taur, coulombs, eagerness, minot\n",
      "can | correct, subways, humphries, marmosets, fes\n",
      "units | scalemajor, macrovision, bithynia, rgen, rq\n",
      "test | carlisle, grumman, opens, thal, macht\n",
      "taking | discouraged, vinod, beauchamp, nicer, belied\n",
      "grand | chemotaxis, canaveral, microinstruction, freelance, dijon\n",
      "older | destabilizing, waterfalls, deems, indepth, tang\n",
      "hit | division, tewodros, scanned, preproduction, hexagon\n",
      "know | hourly, poorer, chordata, mind, musselburgh\n",
      "liberal | kzin, seemingly, debris, kwai, tegucigalpa\n",
      "...\n",
      "eight | cci, pumped, equitable, visas, wee\n",
      "years | cocky, xdsl, nightwing, jour, charted\n",
      "if | rotates, traced, hopper, virulent, superscription\n",
      "were | broccoli, almoravid, barbarossa, stepped, desargues\n",
      "been | retrial, watchtower, derry, xenakis, kummer\n",
      "that | individually, agrees, pacifism, depart, injure\n",
      "at | refutes, naseby, ufa, kipling, xenakis\n",
      "five | abl, oxford, july, medici, carlo\n",
      "police | hydrochloride, ridings, wertham, granger, presides\n",
      "freedom | suetonius, gorgias, piacenza, ebro, manos\n",
      "recorded | almanack, statecraft, enfants, undone, byron\n",
      "governor | licklider, ellsworth, assize, paw, wang\n",
      "animals | mxy, lethal, venomous, rarer, kura\n",
      "frac | penchant, horizontally, wat, dwight, bloody\n",
      "egypt | boneshaker, beuys, ramifications, stile, supper\n",
      "discovered | tet, socks, handshaking, whatsoever, malts\n",
      "...\n",
      "five | abl, oxford, medici, july, urng\n",
      "also | communicable, councils, charismatics, protestantism, swears\n",
      "they | proselytizing, edomites, tinged, compasses, unfccc\n",
      "about | als, grace, coulombs, eagerness, taur\n",
      "not | mspf, evading, chojn, perception, mjt\n",
      "that | individually, pacifism, depart, agrees, ching\n",
      "after | restoration, veda, classico, vcr, perpetuating\n",
      "into | jurassic, impersonator, bec, richards, forgacs\n",
      "engine | associativity, type, license, adhd, safavid\n",
      "square | natural, plaza, affinities, nim, mismanagement\n",
      "ice | alternate, adonai, tiepolo, yank, segregated\n",
      "issue | abode, date, silvers, cutter, llah\n",
      "operations | jacobian, forrestal, episteme, macos, nongovernmental\n",
      "creation | salamat, parasitism, resident, oases, searching\n",
      "shown | kusanagi, trotting, noblemen, sweetness, saskatoon\n",
      "mean | morgenstern, refined, kamala, hymnals, integers\n",
      "...\n",
      "may | nations, ag, thrusts, borderlands, utilising\n",
      "he | kemerovo, manatees, spent, westwards, aggressors\n",
      "see | robber, orchestrated, juxtaposition, fitzgerald, ime\n",
      "will | haran, chores, suing, donation, strand\n",
      "war | entangling, crackers, retief, dilate, disenchanted\n",
      "other | ruminants, opulent, finalised, slugging, ceramic\n",
      "which | enriched, compound, hadadezer, affidavit, breathless\n",
      "and | interglacial, faraway, shifted, forsey, weissenhof\n",
      "mainly | smo, hdtv, gaucho, kerouac, thr\n",
      "pope | scripture, defences, practicality, nadezhda, carrera\n",
      "versions | nippur, eschatology, scofield, deleted, keita\n",
      "something | dunstan, pople, cantar, hydrolysed, nico\n",
      "animals | mxy, rarer, prostaglandin, lethal, venomous\n",
      "operating | polaris, lgm, panavia, never, travail\n",
      "account | falcons, criteria, upcoming, torments, peloponnesus\n",
      "road | cham, devised, schottenheimer, baa, dismay\n",
      "...\n",
      "states | unsustainable, kludge, jurisdiction, nsaids, reasserted\n",
      "have | pneuma, attenuation, breeches, still, gradual\n",
      "as | rylands, rathaus, briefly, contradicts, hourglass\n",
      "will | haran, chores, pokes, fraudulently, strand\n",
      "people | antiquarian, rescuers, counties, scripting, kentucky\n",
      "for | carburetor, groupe, tampering, oblasty, fearing\n",
      "use | orientation, sinha, rockne, unknowingly, bilingualism\n",
      "three | eight, two, malice, johnsons, nine\n",
      "gold | goeldi, nucleoside, toxoplasmosis, bologna, amygdalin\n",
      "marriage | seward, neale, savage, periodical, satanic\n",
      "operating | polaris, lgm, travail, panavia, capetian\n",
      "universe | avery, monroe, relates, interpretation, appraisal\n",
      "active | vending, subsidiary, sms, rigour, mosby\n",
      "versions | scofield, eschatology, nippur, deleted, schumpeter\n",
      "defense | swiftness, ofdm, nnp, airship, crosscountry\n",
      "grand | canaveral, chemotaxis, microinstruction, freelance, asphyxiation\n",
      "...\n",
      "an | endorsed, conqueror, laayoune, remix, fairtrade\n",
      "called | omits, catalogue, prp, ecp, embryos\n",
      "three | eight, two, malice, nine, one\n",
      "american | striped, rheingold, cystic, maria, rocky\n",
      "or | biker, dhrystone, administered, walked, cplp\n",
      "in | intensify, institutional, year, straddle, exorcist\n",
      "time | donate, postulating, orders, communal, manzoni\n",
      "from | manutius, afrique, rye, esv, warbeck\n",
      "animals | mxy, prostaglandin, rarer, lethal, venomous\n",
      "bible | oscillate, doctrine, grodd, foreshadowing, insists\n",
      "brother | sufficiency, janeiro, piazza, minyan, skylab\n",
      "writers | malachi, demeanour, curtiz, editions, ko\n",
      "cost | lancet, outgrown, capers, kyoto, liqueurs\n",
      "powers | forschung, ichij, mislead, albums, bgcolor\n",
      "orthodox | oriental, purgatory, asroc, alms, shingle\n",
      "frac | penchant, wat, horizontally, bloody, dwight\n",
      "...\n",
      "b | nomological, d, peleliu, mvs, ethiopic\n",
      "can | fes, asymmetrical, correct, or, emit\n",
      "in | junk, exorcist, forests, institutional, proto\n",
      "it | clout, are, monopolized, above, mcfarland\n",
      "have | pneuma, self, attenuation, still, amended\n",
      "six | zero, farrar, vasa, five, skateboarder\n",
      "used | incorporating, mixture, pleasurable, centralized, such\n",
      "its | toro, ioannes, radiating, medulla, lland\n",
      "pre | aphrodisias, inexhaustible, inducted, monaro, legions\n",
      "orthodox | oriental, purgatory, asroc, shingle, alms\n",
      "numerous | kirtland, singles, bruun, ouse, transshipment\n",
      "running | ceau, overturning, wings, starred, windows\n",
      "operations | jacobian, forrestal, macos, safeguards, inefficiencies\n",
      "heavy | quash, digitally, oromo, pocketing, cartagena\n",
      "test | carlisle, grumman, opens, thal, macht\n",
      "stage | krautrock, newbery, dress, aldington, splendor\n",
      "...\n",
      "or | dhrystone, biker, can, cplp, administered\n",
      "up | interspersed, recapture, bligh, embry, yitzhak\n",
      "for | steward, diddy, carburetor, amid, oblasty\n",
      "th | rector, wolfhound, isles, sawmill, indebtedness\n",
      "s | christgau, psychoanalyst, october, latvijas, knowbot\n",
      "only | upper, disjunctive, soddy, does, geezer\n",
      "so | beardsley, premiers, gamaliel, cruelty, missions\n",
      "into | impersonator, pointwise, bec, jurassic, gotovina\n",
      "experience | diced, vrije, gimlet, suicides, cerebrospinal\n",
      "centre | complimented, dou, isabela, naples, responsible\n",
      "governor | licklider, ellsworth, assize, chief, clemency\n",
      "derived | versailles, chemistry, codex, saboteur, composers\n",
      "san | binghamton, kutch, oscars, goalkeeper, swamped\n",
      "older | destabilizing, indepth, gerrit, unspoken, idea\n",
      "woman | hashish, hortense, trolling, papeete, drenched\n",
      "animals | mxy, prostaglandin, ecological, contagion, venomous\n",
      "...\n",
      "new | phone, acosta, pike, hissar, beyer\n",
      "people | counties, cults, antiquarian, bengali, kentucky\n",
      "from | catholics, afrique, sailors, ernie, manutius\n",
      "if | rotates, sufficient, nayland, hopper, valletta\n",
      "six | zero, five, two, farrar, eight\n",
      "two | one, five, zero, three, four\n",
      "an | congressman, laayoune, leaning, endorsed, clavell\n",
      "most | alphabets, earmarked, robbers, imbolc, scripture\n",
      "powers | forschung, ets, swears, mislead, ichij\n",
      "mathematics | substituting, raging, sepp, isomorphic, reproduce\n",
      "freedom | filial, piacenza, suetonius, manos, helsing\n",
      "except | calder, exhibitionism, ragenfrid, radhakrishnan, wy\n",
      "universe | avery, relates, monroe, interpretation, appraisal\n",
      "behind | surprised, devil, badlands, symptomatic, reward\n",
      "road | cham, schottenheimer, plain, accommodation, baa\n",
      "mainly | smo, underpinnings, kerouac, desserts, eschatological\n",
      "...\n",
      "war | entangling, bombing, shipyard, deportations, hasmonean\n",
      "were | kach, emigrants, tierney, barbarossa, attaining\n",
      "see | robber, mbit, colloquium, eakins, siebold\n",
      "after | restoration, veda, trent, slowly, midsummer\n",
      "all | mtp, zip, comore, uucp, conservatory\n",
      "i | assume, vasili, dench, systematization, electronica\n",
      "about | als, starting, consumer, anemometers, fontsize\n",
      "not | mspf, formulae, carinthia, tch, mjt\n",
      "egypt | assyria, boneshaker, beuys, ahaz, archeological\n",
      "except | exhibitionism, calder, ragenfrid, sys, wy\n",
      "instance | cluetrain, clave, shade, qpl, smelter\n",
      "creation | salamat, parasitism, firmness, helvetii, judgement\n",
      "proposed | eesti, landfills, synthesis, dildos, catchers\n",
      "hit | tewodros, scanned, preproduction, division, hexagon\n",
      "road | cham, schottenheimer, plain, accommodation, dan\n",
      "bill | poul, perkin, ori, dunbar, willis\n",
      "...\n",
      "it | clout, are, sunspots, creationists, far\n",
      "may | nations, occur, ag, entendres, thrusts\n",
      "most | alphabets, imbolc, nomadic, earmarked, speculators\n",
      "with | prez, compilers, subtype, wheelers, abba\n",
      "five | two, one, zero, seven, nine\n",
      "one | nine, two, zero, eight, five\n",
      "at | refutes, kipling, linden, ufa, aranese\n",
      "three | two, one, nine, eight, zero\n",
      "scale | bike, generating, quantities, hurston, openly\n",
      "frac | pi, penchant, multiplicative, satisfies, pyrite\n",
      "existence | wedding, gaucho, monarchy, tripped, viewpoints\n",
      "powers | forschung, mpv, bgcolor, ets, swears\n",
      "assembly | suffrage, commission, constitution, protostomes, gearing\n",
      "report | asi, flavonoids, pentatonic, infertile, ong\n",
      "derived | codex, versailles, chemistry, saboteur, composers\n",
      "instance | cluetrain, shade, clave, qpl, arawak\n",
      "...\n",
      "united | simms, america, act, liebert, republican\n",
      "four | one, two, eight, zero, nine\n",
      "about | als, starting, consumer, jeffery, helter\n",
      "if | rotates, sufficient, nayland, plunged, hopper\n",
      "war | bombing, entangling, fronts, deportations, shipyard\n",
      "has | dop, flagging, phenols, enso, suppressor\n",
      "or | dhrystone, can, biker, chromosomes, refers\n",
      "however | efforts, pride, ubiquitous, primates, entice\n",
      "older | indepth, idea, gerrit, destabilizing, unspoken\n",
      "police | presides, granger, hydrochloride, ridings, terrorist\n",
      "egypt | assyria, ahaz, beuys, bce, archeological\n",
      "creation | salamat, parasitism, helvetii, searching, firmness\n",
      "grand | canaveral, chemotaxis, microinstruction, sandro, collided\n",
      "experience | cerebrospinal, nkomo, bermontians, diced, cancellous\n",
      "discovered | planets, doenjang, alsace, tet, theresia\n",
      "mathematics | isomorphic, substituting, qf, sepp, zout\n",
      "...\n",
      "9041\n",
      "american | singer, actor, actress, burnett, b\n",
      "zero | two, one, five, six, nine\n",
      "states | kludge, reasserted, nsaids, jurisdiction, demeaning\n",
      "his | he, megawati, eger, cotten, meditators\n",
      "in | the, commonality, interferons, consider, faltering\n",
      "as | imams, rathaus, mandating, common, divine\n",
      "more | firebrand, swat, malvern, changing, chickpea\n",
      "after | restoration, valueless, veda, huf, midsummer\n",
      "writers | malachi, novelists, demeanour, deaths, editions\n",
      "engineering | suborders, subdiscipline, ntsc, indexing, fine\n",
      "professional | pacemakers, nox, fierro, vibe, unicorn\n",
      "ice | ranching, tiepolo, celebrations, melts, isothermal\n",
      "police | granger, presides, ridings, wertham, fabled\n",
      "institute | referrals, attended, ismail, killebrew, motorola\n",
      "existence | monarchy, viewpoints, grounded, claim, protestants\n",
      "award | emmy, honors, uefa, films, plenary\n",
      "...\n",
      "and | mixture, columba, simplifying, spectrometry, inverses\n",
      "will | suing, to, listens, janie, portfolio\n",
      "five | two, zero, seven, one, eight\n",
      "used | mixture, centralized, such, invisibly, lambda\n",
      "war | bombing, shipyard, deportations, entangling, fronts\n",
      "can | surjective, fes, or, radii, asymptotic\n",
      "d | b, one, statesman, born, composer\n",
      "to | resolution, could, cousins, calculator, be\n",
      "ice | alternate, tiepolo, ranching, celebrations, isothermal\n",
      "discovered | planets, doenjang, biophysics, tet, carboniferous\n",
      "hit | billboard, tewodros, competitiveness, preproduction, scanned\n",
      "brother | janeiro, sufficiency, coo, minyan, fury\n",
      "primarily | pasha, reinterpreting, counterterrorism, adamic, vpn\n",
      "writers | malachi, novelists, demeanour, deaths, editions\n",
      "defense | swiftness, infestation, nnp, airship, zealous\n",
      "additional | benchmark, freenet, semivowel, equipped, disfellowshipped\n",
      "...\n",
      "to | resolution, businessweek, hadadezer, standardise, sewing\n",
      "also | custom, celtic, musical, protestantism, kerala\n",
      "their | gotham, breastfeeding, jove, toes, deadwood\n",
      "people | cults, counties, pied, antiquarian, cooks\n",
      "of | portions, flaminius, kristeva, districts, seaport\n",
      "it | sunspots, jaguar, forfeit, sewing, clout\n",
      "b | d, hepburn, nomological, luise, berg\n",
      "was | disposes, retreated, equatoguinean, campanella, predecessor\n",
      "quite | ltc, baryogenesis, boom, obtainable, virchow\n",
      "articles | manoel, glyn, database, published, basis\n",
      "woman | trolling, irrigated, slew, hortense, hashish\n",
      "freedom | filial, piacenza, gorgias, manos, restrictive\n",
      "animals | venomous, ecological, prostaglandin, lethal, eating\n",
      "assembly | suffrage, constitution, constituencies, diputados, commission\n",
      "applied | causality, nucleation, differentiation, inert, adherence\n",
      "question | optically, heidegger, mentally, matti, instantly\n",
      "...\n",
      "state | spotters, cimbalom, ukiyo, intervened, bidding\n",
      "while | interphase, plying, sleeves, maius, allowing\n",
      "most | forty, alphabets, nomadic, privates, pascals\n",
      "between | extending, relapses, eurofighter, third, moldovan\n",
      "time | froze, manzoni, adduce, whither, offs\n",
      "there | edmonton, pray, are, kevlar, simply\n",
      "other | ruminants, sacramental, slugging, popularize, vegetable\n",
      "such | diversification, treatment, intricate, notoc, popularize\n",
      "pre | aphrodisias, inexhaustible, externalization, tudor, anadolu\n",
      "paris | padua, et, wy, noa, danmark\n",
      "freedom | piacenza, filial, gorgias, manos, suetonius\n",
      "older | gerrit, indepth, family, gv, destabilizing\n",
      "units | scalemajor, malthusian, hipper, aurelia, bithynia\n",
      "frac | satisfies, pi, integer, penchant, multiplicative\n",
      "cost | lancet, capers, kyoto, btu, paced\n",
      "troops | army, infielder, nile, appliqu, allied\n",
      "...\n",
      "but | would, many, that, infantry, patriotic\n",
      "up | phosphide, bligh, brooding, colts, criss\n",
      "after | union, deed, was, restoration, months\n",
      "see | fitzgerald, mbit, external, list, robber\n",
      "two | five, one, zero, three, four\n",
      "who | woolley, progressives, trusted, kin, noblest\n",
      "some | are, these, many, uncommon, vary\n",
      "for | diddy, as, promulgated, also, extents\n",
      "freedom | piacenza, filial, organizations, restrictive, helsing\n",
      "running | ceau, overturning, extremities, starred, costanza\n",
      "units | scalemajor, aurelia, arable, inside, malthusian\n",
      "arts | art, whistles, harnesses, leonardo, vampyre\n",
      "accepted | revitalized, accept, confessions, denominational, tantric\n",
      "report | flavonoids, asi, functioning, twiggy, infertile\n",
      "heavy | digitally, quash, dormancy, peary, armstrong\n",
      "test | grumman, buckling, carlisle, smuggle, riget\n",
      "...\n",
      "its | lland, not, interlisp, przewalski, radiating\n",
      "s | psychoanalyst, macphail, architects, yogi, hercules\n",
      "up | phosphide, could, sticks, head, brooding\n",
      "as | is, cursor, jabberwock, glycemic, tinkering\n",
      "that | but, agrees, amish, it, however\n",
      "a | the, is, line, or, also\n",
      "world | hasn, hobart, fruitless, greencine, yury\n",
      "four | one, two, eight, nine, zero\n",
      "operating | polaris, lgm, torvalds, software, windows\n",
      "grand | canaveral, chemotaxis, delhi, sandro, cagliari\n",
      "hit | billboard, rotations, hi, competitiveness, subsystems\n",
      "governor | ellsworth, licklider, assize, chief, clemency\n",
      "additional | benchmark, equipped, semivowel, freenet, cryobiology\n",
      "troops | army, infielder, forces, negotiations, rutskoy\n",
      "except | exhibitionism, wy, calder, kaminer, ballcarrier\n",
      "units | scalemajor, inside, arable, aurelia, malthusian\n",
      "...\n",
      "most | genre, speculators, very, pascals, imbolc\n",
      "at | doctorate, the, arena, earned, crystal\n",
      "is | a, can, an, depends, levels\n",
      "than | for, more, less, are, galois\n",
      "some | these, are, be, understanding, vary\n",
      "their | keeping, breastfeeding, luria, have, abramovich\n",
      "in | the, of, subsequent, multi, november\n",
      "no | breakin, pitman, epimorphism, panpsychism, palpitations\n",
      "paris | de, et, padua, danmark, ausgleich\n",
      "orthodox | oriental, churches, alms, ivanova, celebration\n",
      "institute | referrals, harvard, killebrew, motorola, arboretum\n",
      "universe | interpretation, probe, avery, big, appraisal\n",
      "issue | date, boatswain, ecowas, nur, obsoletes\n",
      "operations | inefficiencies, macos, operation, safeguards, jacobian\n",
      "versions | nippur, outgrown, computers, miniature, jmp\n",
      "bible | doctrine, insists, religions, redfern, psalms\n",
      "...\n",
      "system | systems, kendrick, shenanigans, globally, edvac\n",
      "they | are, their, uncomplicated, yet, happy\n",
      "will | your, buy, hath, acquires, shack\n",
      "after | ended, weeks, hoping, parchamis, during\n",
      "war | bombing, military, deportations, civilians, invasion\n",
      "up | phosphide, brooding, drip, frenetic, curved\n",
      "with | cri, different, subtype, the, overture\n",
      "five | zero, two, one, eight, seven\n",
      "quite | phrase, ltc, obtainable, boom, baryogenesis\n",
      "road | toll, schottenheimer, traffic, train, rancho\n",
      "event | polonaise, muhammad, swept, penang, hoodlum\n",
      "issue | date, boatswain, ecowas, mulroney, nur\n",
      "mean | yx, hymnals, palatalized, watchers, andree\n",
      "placed | parcel, slice, amplifying, cnet, dao\n",
      "cost | buying, capers, lancet, procter, paced\n",
      "smith | te, lana, callistus, griffin, mundus\n",
      "...\n",
      "into | mechanism, changes, susa, businesses, chronometer\n",
      "may | occur, choice, be, nations, contradiction\n",
      "i | you, t, don, k, say\n",
      "to | be, seize, it, have, hadadezer\n",
      "of | the, in, and, this, a\n",
      "world | indifferent, hasn, yury, frawley, rutskoy\n",
      "while | cheerfully, sleeves, nevertheless, montmartre, merry\n",
      "nine | one, eight, seven, five, six\n",
      "defense | swiftness, intervenes, shilton, nnp, ministry\n",
      "applied | adherence, differentiation, nucleation, causality, dogmatically\n",
      "construction | stoke, netlist, islamist, kluwer, parallel\n",
      "older | family, median, molitor, gv, gerrit\n",
      "running | ceau, overturning, computers, costanza, microprogram\n",
      "award | awards, emmy, best, academy, medal\n",
      "brother | son, her, his, daughter, father\n",
      "lived | yogi, giles, logician, estranged, capitol\n",
      "...\n"
     ]
    }
   ],
   "source": [
    "# check if GPU is available\n",
    "device = 'cuda' if torch.cuda.is_available() else 'cpu'\n",
    "\n",
    "embedding_dim=300 # you can change, if you want\n",
    "\n",
    "model = SkipGram(len(vocab_to_int), embedding_dim).to(device)\n",
    "criterion = nn.NLLLoss()\n",
    "optimizer = optim.Adam(model.parameters(), lr=0.003)\n",
    "\n",
    "print_every = 500\n",
    "steps = 0\n",
    "epochs = 5\n",
    "\n",
    "# train for some number of epochs\n",
    "for e in range(epochs):\n",
    "    \n",
    "    # get input and target batches\n",
    "    for inputs, targets in get_batches(train_words, 512):\n",
    "        steps += 1\n",
    "        inputs, targets = torch.LongTensor(inputs), torch.LongTensor(targets)\n",
    "        inputs, targets = inputs.to(device), targets.to(device)\n",
    "        \n",
    "        log_ps = model(inputs)\n",
    "        loss = criterion(log_ps, targets)\n",
    "        optimizer.zero_grad()\n",
    "        loss.backward()\n",
    "        optimizer.step()\n",
    "\n",
    "        if steps % print_every == 0:                  \n",
    "            # getting examples and similarities      \n",
    "            valid_examples, valid_similarities = cosine_similarity(model.embed, device=device)\n",
    "            _, closest_idxs = valid_similarities.topk(6) # topk highest similarities\n",
    "            \n",
    "            valid_examples, closest_idxs = valid_examples.to('cpu'), closest_idxs.to('cpu')\n",
    "            for ii, valid_idx in enumerate(valid_examples):\n",
    "                closest_words = [int_to_vocab[idx.item()] for idx in closest_idxs[ii]][1:]\n",
    "                print(int_to_vocab[valid_idx.item()] + \" | \" + ', '.join(closest_words))\n",
    "            print(\"...\")\n",
    "    \n",
    "    print(steps)"
   ]
  },
  {
   "cell_type": "markdown",
   "metadata": {},
   "source": [
    "## Visualizing the word vectors\n",
    "\n",
    "Below we'll use T-SNE to visualize how our high-dimensional word vectors cluster together. T-SNE is used to project these vectors into two dimensions while preserving local stucture. Check out [this post from Christopher Olah](http://colah.github.io/posts/2014-10-Visualizing-MNIST/) to learn more about T-SNE and other ways to visualize high-dimensional data."
   ]
  },
  {
   "cell_type": "code",
   "execution_count": null,
   "metadata": {},
   "outputs": [],
   "source": [
    "%matplotlib inline\n",
    "%config InlineBackend.figure_format = 'retina'\n",
    "\n",
    "import matplotlib.pyplot as plt\n",
    "from sklearn.manifold import TSNE"
   ]
  },
  {
   "cell_type": "code",
   "execution_count": null,
   "metadata": {},
   "outputs": [],
   "source": [
    "# getting embeddings from the embedding layer of our model, by name\n",
    "embeddings = model.embed.weight.to('cpu').data.numpy()"
   ]
  },
  {
   "cell_type": "code",
   "execution_count": null,
   "metadata": {},
   "outputs": [],
   "source": [
    "viz_words = 600\n",
    "tsne = TSNE()\n",
    "embed_tsne = tsne.fit_transform(embeddings[:viz_words, :])"
   ]
  },
  {
   "cell_type": "code",
   "execution_count": null,
   "metadata": {},
   "outputs": [],
   "source": [
    "fig, ax = plt.subplots(figsize=(16, 16))\n",
    "for idx in range(viz_words):\n",
    "    plt.scatter(*embed_tsne[idx, :], color='steelblue')\n",
    "    plt.annotate(int_to_vocab[idx], (embed_tsne[idx, 0], embed_tsne[idx, 1]), alpha=0.7)"
   ]
  },
  {
   "cell_type": "code",
   "execution_count": null,
   "metadata": {
    "collapsed": true,
    "jupyter": {
     "outputs_hidden": true
    }
   },
   "outputs": [],
   "source": []
  }
 ],
 "metadata": {
  "kernelspec": {
   "display_name": "DL Nano Degree",
   "language": "python",
   "name": "ml_nano"
  },
  "language_info": {
   "codemirror_mode": {
    "name": "ipython",
    "version": 3
   },
   "file_extension": ".py",
   "mimetype": "text/x-python",
   "name": "python",
   "nbconvert_exporter": "python",
   "pygments_lexer": "ipython3",
   "version": "3.7.9"
  }
 },
 "nbformat": 4,
 "nbformat_minor": 4
}
