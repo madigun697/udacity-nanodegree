{
 "cells": [
  {
   "cell_type": "markdown",
   "metadata": {},
   "source": [
    "# Sentiment Analysis Web App\n",
    "\n",
    "_Deep Learning Nanodegree Program | Deployment_\n",
    "\n",
    "---\n",
    "\n",
    "In this notebook we will use Amazon's SageMaker service to construct a random tree model to predict the sentiment of a movie review. In addition, we will deploy this model to an endpoint and construct a very simple web app which will interact with our model's deployed endpoint.\n",
    "\n",
    "## General Outline\n",
    "\n",
    "Typically, when using a notebook instance with SageMaker, you will proceed through the following steps. Of course, not every step will need to be done with each project. Also, there is quite a lot of room for variation in many of the steps, as you will see throughout these lessons.\n",
    "\n",
    "1. Download or otherwise retrieve the data.\n",
    "2. Process / Prepare the data.\n",
    "3. Upload the processed data to S3.\n",
    "4. Train a chosen model.\n",
    "5. Test the trained model (typically using a batch transform job).\n",
    "6. Deploy the trained model.\n",
    "7. Use the deployed model.\n",
    "\n",
    "In this notebook we will progress through each of the steps above. We will also see that the final step, using the deployed model, can be quite challenging."
   ]
  },
  {
   "cell_type": "markdown",
   "metadata": {},
   "source": [
    "## Step 1: Downloading the data\n",
    "\n",
    "The dataset we are going to use is very popular among researchers in Natural Language Processing, usually referred to as the [IMDb dataset](http://ai.stanford.edu/~amaas/data/sentiment/). It consists of movie reviews from the website [imdb.com](http://www.imdb.com/), each labeled as either '**pos**itive', if the reviewer enjoyed the film, or '**neg**ative' otherwise.\n",
    "\n",
    "> Maas, Andrew L., et al. [Learning Word Vectors for Sentiment Analysis](http://ai.stanford.edu/~amaas/data/sentiment/). In _Proceedings of the 49th Annual Meeting of the Association for Computational Linguistics: Human Language Technologies_. Association for Computational Linguistics, 2011.\n",
    "\n",
    "We begin by using some Jupyter Notebook magic to download and extract the dataset."
   ]
  },
  {
   "cell_type": "code",
   "execution_count": 1,
   "metadata": {},
   "outputs": [
    {
     "name": "stdout",
     "output_type": "stream",
     "text": [
      "mkdir: cannot create directory ‘../data’: File exists\n",
      "--2020-10-28 21:32:58--  http://ai.stanford.edu/~amaas/data/sentiment/aclImdb_v1.tar.gz\n",
      "Resolving ai.stanford.edu (ai.stanford.edu)... 171.64.68.10\n",
      "Connecting to ai.stanford.edu (ai.stanford.edu)|171.64.68.10|:80... connected.\n",
      "HTTP request sent, awaiting response... 200 OK\n",
      "Length: 84125825 (80M) [application/x-gzip]\n",
      "Saving to: ‘../data/aclImdb_v1.tar.gz’\n",
      "\n",
      "../data/aclImdb_v1. 100%[===================>]  80.23M  91.1MB/s    in 0.9s    \n",
      "\n",
      "2020-10-28 21:32:58 (91.1 MB/s) - ‘../data/aclImdb_v1.tar.gz’ saved [84125825/84125825]\n",
      "\n"
     ]
    }
   ],
   "source": [
    "%mkdir ../data\n",
    "!wget -O ../data/aclImdb_v1.tar.gz http://ai.stanford.edu/~amaas/data/sentiment/aclImdb_v1.tar.gz\n",
    "!tar -zxf ../data/aclImdb_v1.tar.gz -C ../data"
   ]
  },
  {
   "cell_type": "markdown",
   "metadata": {},
   "source": [
    "## Step 2: Preparing and Processing the data\n",
    "\n",
    "The data we have downloaded is split into various files, each of which contains a single review. It will be much easier going forward if we combine these individual files into two large files, one for training and one for testing."
   ]
  },
  {
   "cell_type": "code",
   "execution_count": 2,
   "metadata": {},
   "outputs": [],
   "source": [
    "import os\n",
    "import glob\n",
    "\n",
    "def read_imdb_data(data_dir='../data/aclImdb'):\n",
    "    data = {}\n",
    "    labels = {}\n",
    "    \n",
    "    for data_type in ['train', 'test']:\n",
    "        data[data_type] = {}\n",
    "        labels[data_type] = {}\n",
    "        \n",
    "        for sentiment in ['pos', 'neg']:\n",
    "            data[data_type][sentiment] = []\n",
    "            labels[data_type][sentiment] = []\n",
    "            \n",
    "            path = os.path.join(data_dir, data_type, sentiment, '*.txt')\n",
    "            files = glob.glob(path)\n",
    "            \n",
    "            for f in files:\n",
    "                with open(f) as review:\n",
    "                    data[data_type][sentiment].append(review.read())\n",
    "                    # Here we represent a positive review by '1' and a negative review by '0'\n",
    "                    labels[data_type][sentiment].append(1 if sentiment == 'pos' else 0)\n",
    "                    \n",
    "            assert len(data[data_type][sentiment]) == len(labels[data_type][sentiment]), \\\n",
    "                    \"{}/{} data size does not match labels size\".format(data_type, sentiment)\n",
    "                \n",
    "    return data, labels"
   ]
  },
  {
   "cell_type": "code",
   "execution_count": 3,
   "metadata": {},
   "outputs": [
    {
     "name": "stdout",
     "output_type": "stream",
     "text": [
      "IMDB reviews: train = 12500 pos / 12500 neg, test = 12500 pos / 12500 neg\n"
     ]
    }
   ],
   "source": [
    "data, labels = read_imdb_data()\n",
    "print(\"IMDB reviews: train = {} pos / {} neg, test = {} pos / {} neg\".format(\n",
    "            len(data['train']['pos']), len(data['train']['neg']),\n",
    "            len(data['test']['pos']), len(data['test']['neg'])))"
   ]
  },
  {
   "cell_type": "code",
   "execution_count": 4,
   "metadata": {},
   "outputs": [],
   "source": [
    "from sklearn.utils import shuffle\n",
    "\n",
    "def prepare_imdb_data(data, labels):\n",
    "    \"\"\"Prepare training and test sets from IMDb movie reviews.\"\"\"\n",
    "    \n",
    "    #Combine positive and negative reviews and labels\n",
    "    data_train = data['train']['pos'] + data['train']['neg']\n",
    "    data_test = data['test']['pos'] + data['test']['neg']\n",
    "    labels_train = labels['train']['pos'] + labels['train']['neg']\n",
    "    labels_test = labels['test']['pos'] + labels['test']['neg']\n",
    "    \n",
    "    #Shuffle reviews and corresponding labels within training and test sets\n",
    "    data_train, labels_train = shuffle(data_train, labels_train)\n",
    "    data_test, labels_test = shuffle(data_test, labels_test)\n",
    "    \n",
    "    # Return a unified training data, test data, training labels, test labets\n",
    "    return data_train, data_test, labels_train, labels_test"
   ]
  },
  {
   "cell_type": "code",
   "execution_count": 5,
   "metadata": {},
   "outputs": [
    {
     "name": "stdout",
     "output_type": "stream",
     "text": [
      "IMDb reviews (combined): train = 25000, test = 25000\n"
     ]
    }
   ],
   "source": [
    "train_X, test_X, train_y, test_y = prepare_imdb_data(data, labels)\n",
    "print(\"IMDb reviews (combined): train = {}, test = {}\".format(len(train_X), len(test_X)))"
   ]
  },
  {
   "cell_type": "code",
   "execution_count": 6,
   "metadata": {},
   "outputs": [
    {
     "data": {
      "text/plain": [
       "\"This movie causes more unintentional laughter than anything else I've ever seen. Really, if you are a Tolkien fan, rent it just to laugh at it with your friends. I won't be the millionth person to rip apart its flaws... all I will say is that the movie (for me, anyway) lost major points for turning my favorite character, Sam, into a bumbling idiot. Shame, shame... 3/10\""
      ]
     },
     "execution_count": 6,
     "metadata": {},
     "output_type": "execute_result"
    }
   ],
   "source": [
    "train_X[100]"
   ]
  },
  {
   "cell_type": "markdown",
   "metadata": {},
   "source": [
    "## Processing the data\n",
    "\n",
    "Now that we have our training and testing datasets merged and ready to use, we need to start processing the raw data into something that will be useable by our machine learning algorithm. To begin with, we remove any html formatting and any non-alpha numeric characters that may appear in the reviews. We will do this in a very simplistic way using Python's regular expression module. We will discuss the reason for this rather simplistic pre-processing later on."
   ]
  },
  {
   "cell_type": "code",
   "execution_count": 7,
   "metadata": {},
   "outputs": [],
   "source": [
    "import re\n",
    "\n",
    "REPLACE_NO_SPACE = re.compile(\"(\\.)|(\\;)|(\\:)|(\\!)|(\\')|(\\?)|(\\,)|(\\\")|(\\()|(\\))|(\\[)|(\\])\")\n",
    "REPLACE_WITH_SPACE = re.compile(\"(<br\\s*/><br\\s*/>)|(\\-)|(\\/)\")\n",
    "\n",
    "def review_to_words(review):\n",
    "    words = REPLACE_NO_SPACE.sub(\"\", review.lower())\n",
    "    words = REPLACE_WITH_SPACE.sub(\" \", words)\n",
    "    return words"
   ]
  },
  {
   "cell_type": "code",
   "execution_count": 8,
   "metadata": {},
   "outputs": [
    {
     "data": {
      "text/plain": [
       "'this movie causes more unintentional laughter than anything else ive ever seen really if you are a tolkien fan rent it just to laugh at it with your friends i wont be the millionth person to rip apart its flaws all i will say is that the movie for me anyway lost major points for turning my favorite character sam into a bumbling idiot shame shame 3 10'"
      ]
     },
     "execution_count": 8,
     "metadata": {},
     "output_type": "execute_result"
    }
   ],
   "source": [
    "review_to_words(train_X[100])"
   ]
  },
  {
   "cell_type": "code",
   "execution_count": 9,
   "metadata": {},
   "outputs": [],
   "source": [
    "import pickle\n",
    "\n",
    "cache_dir = os.path.join(\"../cache\", \"sentiment_web_app\")  # where to store cache files\n",
    "os.makedirs(cache_dir, exist_ok=True)  # ensure cache directory exists\n",
    "\n",
    "def preprocess_data(data_train, data_test, labels_train, labels_test,\n",
    "                    cache_dir=cache_dir, cache_file=\"preprocessed_data.pkl\"):\n",
    "    \"\"\"Convert each review to words; read from cache if available.\"\"\"\n",
    "\n",
    "    # If cache_file is not None, try to read from it first\n",
    "    cache_data = None\n",
    "    if cache_file is not None:\n",
    "        try:\n",
    "            with open(os.path.join(cache_dir, cache_file), \"rb\") as f:\n",
    "                cache_data = pickle.load(f)\n",
    "            print(\"Read preprocessed data from cache file:\", cache_file)\n",
    "        except:\n",
    "            pass  # unable to read from cache, but that's okay\n",
    "    \n",
    "    # If cache is missing, then do the heavy lifting\n",
    "    if cache_data is None:\n",
    "        # Preprocess training and test data to obtain words for each review\n",
    "        #words_train = list(map(review_to_words, data_train))\n",
    "        #words_test = list(map(review_to_words, data_test))\n",
    "        words_train = [review_to_words(review) for review in data_train]\n",
    "        words_test = [review_to_words(review) for review in data_test]\n",
    "        \n",
    "        # Write to cache file for future runs\n",
    "        if cache_file is not None:\n",
    "            cache_data = dict(words_train=words_train, words_test=words_test,\n",
    "                              labels_train=labels_train, labels_test=labels_test)\n",
    "            with open(os.path.join(cache_dir, cache_file), \"wb\") as f:\n",
    "                pickle.dump(cache_data, f)\n",
    "            print(\"Wrote preprocessed data to cache file:\", cache_file)\n",
    "    else:\n",
    "        # Unpack data loaded from cache file\n",
    "        words_train, words_test, labels_train, labels_test = (cache_data['words_train'],\n",
    "                cache_data['words_test'], cache_data['labels_train'], cache_data['labels_test'])\n",
    "    \n",
    "    return words_train, words_test, labels_train, labels_test"
   ]
  },
  {
   "cell_type": "code",
   "execution_count": 10,
   "metadata": {},
   "outputs": [
    {
     "name": "stdout",
     "output_type": "stream",
     "text": [
      "Wrote preprocessed data to cache file: preprocessed_data.pkl\n"
     ]
    }
   ],
   "source": [
    "# Preprocess data\n",
    "train_X, test_X, train_y, test_y = preprocess_data(train_X, test_X, train_y, test_y)"
   ]
  },
  {
   "cell_type": "markdown",
   "metadata": {},
   "source": [
    "### Extract Bag-of-Words features\n",
    "\n",
    "For the model we will be implementing, rather than using the reviews directly, we are going to transform each review into a Bag-of-Words feature representation. Keep in mind that 'in the wild' we will only have access to the training set so our transformer can only use the training set to construct a representation."
   ]
  },
  {
   "cell_type": "code",
   "execution_count": 11,
   "metadata": {},
   "outputs": [],
   "source": [
    "import numpy as np\n",
    "from sklearn.feature_extraction.text import CountVectorizer\n",
    "\n",
    "# sklearn.externals.joblib is deprecated in 0.21 and will be removed in 0.23. \n",
    "# from sklearn.externals import joblib\n",
    "\n",
    "# Import joblib package directly\n",
    "import joblib\n",
    "# joblib is an enhanced version of pickle that is more efficient for storing NumPy arrays\n",
    "\n",
    "def extract_BoW_features(words_train, words_test, vocabulary_size=5000,\n",
    "                         cache_dir=cache_dir, cache_file=\"bow_features.pkl\"):\n",
    "    \"\"\"Extract Bag-of-Words for a given set of documents, already preprocessed into words.\"\"\"\n",
    "    \n",
    "    # If cache_file is not None, try to read from it first\n",
    "    cache_data = None\n",
    "    if cache_file is not None:\n",
    "        try:\n",
    "            with open(os.path.join(cache_dir, cache_file), \"rb\") as f:\n",
    "                cache_data = joblib.load(f)\n",
    "            print(\"Read features from cache file:\", cache_file)\n",
    "        except:\n",
    "            pass  # unable to read from cache, but that's okay\n",
    "    \n",
    "    # If cache is missing, then do the heavy lifting\n",
    "    if cache_data is None:\n",
    "        # Fit a vectorizer to training documents and use it to transform them\n",
    "        # NOTE: Training documents have already been preprocessed and tokenized into words;\n",
    "        #       pass in dummy functions to skip those steps, e.g. preprocessor=lambda x: x\n",
    "        vectorizer = CountVectorizer(max_features=vocabulary_size)\n",
    "        features_train = vectorizer.fit_transform(words_train).toarray()\n",
    "\n",
    "        # Apply the same vectorizer to transform the test documents (ignore unknown words)\n",
    "        features_test = vectorizer.transform(words_test).toarray()\n",
    "        \n",
    "        # NOTE: Remember to convert the features using .toarray() for a compact representation\n",
    "        \n",
    "        # Write to cache file for future runs (store vocabulary as well)\n",
    "        if cache_file is not None:\n",
    "            vocabulary = vectorizer.vocabulary_\n",
    "            cache_data = dict(features_train=features_train, features_test=features_test,\n",
    "                             vocabulary=vocabulary)\n",
    "            with open(os.path.join(cache_dir, cache_file), \"wb\") as f:\n",
    "                joblib.dump(cache_data, f)\n",
    "            print(\"Wrote features to cache file:\", cache_file)\n",
    "    else:\n",
    "        # Unpack data loaded from cache file\n",
    "        features_train, features_test, vocabulary = (cache_data['features_train'],\n",
    "                cache_data['features_test'], cache_data['vocabulary'])\n",
    "    \n",
    "    # Return both the extracted features as well as the vocabulary\n",
    "    return features_train, features_test, vocabulary"
   ]
  },
  {
   "cell_type": "code",
   "execution_count": 12,
   "metadata": {},
   "outputs": [
    {
     "name": "stdout",
     "output_type": "stream",
     "text": [
      "Wrote features to cache file: bow_features.pkl\n"
     ]
    }
   ],
   "source": [
    "# Extract Bag of Words features for both training and test datasets\n",
    "train_X, test_X, vocabulary = extract_BoW_features(train_X, test_X)"
   ]
  },
  {
   "cell_type": "code",
   "execution_count": 13,
   "metadata": {},
   "outputs": [
    {
     "data": {
      "text/plain": [
       "5000"
      ]
     },
     "execution_count": 13,
     "metadata": {},
     "output_type": "execute_result"
    }
   ],
   "source": [
    "len(train_X[100])"
   ]
  },
  {
   "cell_type": "markdown",
   "metadata": {},
   "source": [
    "## Step 3: Upload data to S3\n",
    "\n",
    "Now that we have created the feature representation of our training (and testing) data, it is time to start setting up and using the XGBoost classifier provided by SageMaker.\n",
    "\n",
    "### Writing the datasets\n",
    "\n",
    "The XGBoost classifier that we will be using requires the dataset to be written to a file and stored using Amazon S3. To do this, we will start by splitting the training dataset into two parts, the data we will train the model with and a validation set. Then, we will write those datasets to a file locally and then upload the files to S3. In addition, we will write the test set to a file and upload that file to S3. This is so that we can use SageMakers Batch Transform functionality to test our model once we've fit it."
   ]
  },
  {
   "cell_type": "code",
   "execution_count": 14,
   "metadata": {},
   "outputs": [],
   "source": [
    "import pandas as pd\n",
    "\n",
    "# Earlier we shuffled the training dataset so to make things simple we can just assign\n",
    "# the first 10 000 reviews to the validation set and use the remaining reviews for training.\n",
    "val_X = pd.DataFrame(train_X[:10000])\n",
    "train_X = pd.DataFrame(train_X[10000:])\n",
    "\n",
    "val_y = pd.DataFrame(train_y[:10000])\n",
    "train_y = pd.DataFrame(train_y[10000:])"
   ]
  },
  {
   "cell_type": "markdown",
   "metadata": {},
   "source": [
    "The documentation for the XGBoost algorithm in SageMaker requires that the training and validation datasets should contain no headers or index and that the label should occur first for each sample.\n",
    "\n",
    "For more information about this and other algorithms, the SageMaker developer documentation can be found on __[Amazon's website.](https://docs.aws.amazon.com/sagemaker/latest/dg/)__"
   ]
  },
  {
   "cell_type": "code",
   "execution_count": 15,
   "metadata": {},
   "outputs": [],
   "source": [
    "# First we make sure that the local directory in which we'd like to store the training and validation csv files exists.\n",
    "data_dir = '../data/sentiment_web_app'\n",
    "if not os.path.exists(data_dir):\n",
    "    os.makedirs(data_dir)"
   ]
  },
  {
   "cell_type": "code",
   "execution_count": 16,
   "metadata": {},
   "outputs": [],
   "source": [
    "pd.DataFrame(test_X).to_csv(os.path.join(data_dir, 'test.csv'), header=False, index=False)\n",
    "\n",
    "pd.concat([val_y, val_X], axis=1).to_csv(os.path.join(data_dir, 'validation.csv'), header=False, index=False)\n",
    "pd.concat([train_y, train_X], axis=1).to_csv(os.path.join(data_dir, 'train.csv'), header=False, index=False)"
   ]
  },
  {
   "cell_type": "code",
   "execution_count": 17,
   "metadata": {},
   "outputs": [],
   "source": [
    "# To save a bit of memory we can set text_X, train_X, val_X, train_y and val_y to None.\n",
    "\n",
    "test_X = train_X = val_X = train_y = val_y = None"
   ]
  },
  {
   "cell_type": "markdown",
   "metadata": {},
   "source": [
    "### Uploading Training / Validation files to S3\n",
    "\n",
    "Amazon's S3 service allows us to store files that can be accessed by both the built-in training models such as the XGBoost model we will be using as well as custom models such as the one we will see a little later.\n",
    "\n",
    "For this and most other tasks we will be doing using SageMaker, there are two methods we could use. The first is to use the low level functionality of SageMaker which requires knowing each of the objects involved in the SageMaker environment. The second is to use the high level functionality in which certain choices have been made on the user's behalf. The low level approach benefits from allowing the user a great deal of flexibility while the high level approach makes development much quicker. For our purposes we will opt to use the high level approach although using the low-level approach is certainly an option.\n",
    "\n",
    "Recall the method `upload_data()` which is a member of the object representing our current SageMaker session. What this method does is upload the data to the default bucket (which is created if it does not exist) into the path described by the key_prefix variable. To see this for yourself, once you have uploaded the data files, go to the S3 console and look to see where the files have been uploaded.\n",
    "\n",
    "For additional resources, see the __[SageMaker API documentation](http://sagemaker.readthedocs.io/en/latest/)__ and in addition the __[SageMaker Developer Guide.](https://docs.aws.amazon.com/sagemaker/latest/dg/)__"
   ]
  },
  {
   "cell_type": "code",
   "execution_count": 18,
   "metadata": {},
   "outputs": [],
   "source": [
    "import sagemaker\n",
    "\n",
    "session = sagemaker.Session() # Store the current SageMaker session\n",
    "\n",
    "# S3 prefix (which folder will we use)\n",
    "prefix = 'sentiment-web-app'\n",
    "\n",
    "test_location = session.upload_data(os.path.join(data_dir, 'test.csv'), key_prefix=prefix)\n",
    "val_location = session.upload_data(os.path.join(data_dir, 'validation.csv'), key_prefix=prefix)\n",
    "train_location = session.upload_data(os.path.join(data_dir, 'train.csv'), key_prefix=prefix)"
   ]
  },
  {
   "cell_type": "markdown",
   "metadata": {},
   "source": [
    "## Step 4: Creating the XGBoost model\n",
    "\n",
    "Now that the data has been uploaded it is time to create the XGBoost model. To begin with, we need to do some setup. At this point it is worth discussing what a model is in SageMaker. It is easiest to think of a model of comprising three different objects in the SageMaker ecosystem, which interact with one another.\n",
    "\n",
    "- Model Artifacts\n",
    "- Training Code (Container)\n",
    "- Inference Code (Container)\n",
    "\n",
    "The Model Artifacts are what you might think of as the actual model itself. For example, if you were building a neural network, the model artifacts would be the weights of the various layers. In our case, for an XGBoost model, the artifacts are the actual trees that are created during training.\n",
    "\n",
    "The other two objects, the training code and the inference code are then used to manipulate the training artifacts. More precisely, the training code uses the training data that is provided and creates the model artifacts, while the inference code uses the model artifacts to make predictions on new data.\n",
    "\n",
    "The way that SageMaker runs the training and inference code is by making use of Docker containers. For now, think of a container as being a way of packaging code up so that dependencies aren't an issue."
   ]
  },
  {
   "cell_type": "code",
   "execution_count": 19,
   "metadata": {},
   "outputs": [],
   "source": [
    "from sagemaker import get_execution_role\n",
    "\n",
    "# Our current execution role is required when creating the model as the training\n",
    "# and inference code will need to access the model artifacts.\n",
    "role = get_execution_role()"
   ]
  },
  {
   "cell_type": "code",
   "execution_count": 20,
   "metadata": {},
   "outputs": [
    {
     "name": "stderr",
     "output_type": "stream",
     "text": [
      "'get_image_uri' method will be deprecated in favor of 'ImageURIProvider' class in SageMaker Python SDK v2.\n",
      "There is a more up to date SageMaker XGBoost image. To use the newer image, please set 'repo_version'='1.0-1'. For example:\n",
      "\tget_image_uri(region, 'xgboost', '1.0-1').\n"
     ]
    }
   ],
   "source": [
    "# We need to retrieve the location of the container which is provided by Amazon for using XGBoost.\n",
    "# As a matter of convenience, the training and inference code both use the same container.\n",
    "from sagemaker.amazon.amazon_estimator import get_image_uri\n",
    "\n",
    "container = get_image_uri(session.boto_region_name, 'xgboost')"
   ]
  },
  {
   "cell_type": "code",
   "execution_count": 21,
   "metadata": {},
   "outputs": [
    {
     "name": "stderr",
     "output_type": "stream",
     "text": [
      "Parameter image_name will be renamed to image_uri in SageMaker Python SDK v2.\n"
     ]
    }
   ],
   "source": [
    "# First we create a SageMaker estimator object for our model.\n",
    "xgb = sagemaker.estimator.Estimator(container, # The location of the container we wish to use\n",
    "                                    role,                                    # What is our current IAM Role\n",
    "                                    train_instance_count=1,                  # How many compute instances\n",
    "                                    train_instance_type='ml.m4.xlarge',      # What kind of compute instances\n",
    "                                    output_path='s3://{}/{}/output'.format(session.default_bucket(), prefix),\n",
    "                                    sagemaker_session=session)\n",
    "\n",
    "# And then set the algorithm specific parameters.\n",
    "xgb.set_hyperparameters(max_depth=5,\n",
    "                        eta=0.2,\n",
    "                        gamma=4,\n",
    "                        min_child_weight=6,\n",
    "                        subsample=0.8,\n",
    "                        silent=0,\n",
    "                        objective='binary:logistic',\n",
    "                        early_stopping_rounds=10,\n",
    "                        num_round=500)"
   ]
  },
  {
   "cell_type": "markdown",
   "metadata": {},
   "source": [
    "### Fit the XGBoost model\n",
    "\n",
    "Now that our model has been set up we simply need to attach the training and validation datasets and then ask SageMaker to set up the computation."
   ]
  },
  {
   "cell_type": "code",
   "execution_count": 22,
   "metadata": {},
   "outputs": [
    {
     "name": "stderr",
     "output_type": "stream",
     "text": [
      "'s3_input' class will be renamed to 'TrainingInput' in SageMaker Python SDK v2.\n",
      "'s3_input' class will be renamed to 'TrainingInput' in SageMaker Python SDK v2.\n"
     ]
    }
   ],
   "source": [
    "s3_input_train = sagemaker.s3_input(s3_data=train_location, content_type='csv')\n",
    "s3_input_validation = sagemaker.s3_input(s3_data=val_location, content_type='csv')"
   ]
  },
  {
   "cell_type": "code",
   "execution_count": 23,
   "metadata": {},
   "outputs": [
    {
     "name": "stdout",
     "output_type": "stream",
     "text": [
      "2020-10-28 21:35:49 Starting - Starting the training job...\n",
      "2020-10-28 21:35:52 Starting - Launching requested ML instances......\n",
      "2020-10-28 21:37:05 Starting - Preparing the instances for training......\n",
      "2020-10-28 21:38:09 Downloading - Downloading input data...\n",
      "2020-10-28 21:38:44 Training - Training image download completed. Training in progress..\u001b[34mArguments: train\u001b[0m\n",
      "\u001b[34m[2020-10-28:21:38:45:INFO] Running standalone xgboost training.\u001b[0m\n",
      "\u001b[34m[2020-10-28:21:38:45:INFO] File size need to be processed in the node: 238.5mb. Available memory size in the node: 8489.73mb\u001b[0m\n",
      "\u001b[34m[2020-10-28:21:38:45:INFO] Determined delimiter of CSV input is ','\u001b[0m\n",
      "\u001b[34m[21:38:45] S3DistributionType set as FullyReplicated\u001b[0m\n",
      "\u001b[34m[21:38:47] 15000x5000 matrix with 75000000 entries loaded from /opt/ml/input/data/train?format=csv&label_column=0&delimiter=,\u001b[0m\n",
      "\u001b[34m[2020-10-28:21:38:47:INFO] Determined delimiter of CSV input is ','\u001b[0m\n",
      "\u001b[34m[21:38:47] S3DistributionType set as FullyReplicated\u001b[0m\n",
      "\u001b[34m[21:38:48] 10000x5000 matrix with 50000000 entries loaded from /opt/ml/input/data/validation?format=csv&label_column=0&delimiter=,\u001b[0m\n",
      "\u001b[34m[21:38:52] src/tree/updater_prune.cc:74: tree pruning end, 1 roots, 38 extra nodes, 4 pruned nodes, max_depth=5\u001b[0m\n",
      "\u001b[34m[0]#011train-error:0.3072#011validation-error:0.3067\u001b[0m\n",
      "\u001b[34mMultiple eval metrics have been passed: 'validation-error' will be used for early stopping.\n",
      "\u001b[0m\n",
      "\u001b[34mWill train until validation-error hasn't improved in 10 rounds.\u001b[0m\n",
      "\u001b[34m[21:38:53] src/tree/updater_prune.cc:74: tree pruning end, 1 roots, 40 extra nodes, 10 pruned nodes, max_depth=5\u001b[0m\n",
      "\u001b[34m[1]#011train-error:0.291867#011validation-error:0.2929\u001b[0m\n",
      "\u001b[34m[21:38:55] src/tree/updater_prune.cc:74: tree pruning end, 1 roots, 36 extra nodes, 0 pruned nodes, max_depth=5\u001b[0m\n",
      "\u001b[34m[2]#011train-error:0.29#011validation-error:0.2933\u001b[0m\n",
      "\u001b[34m[21:38:56] src/tree/updater_prune.cc:74: tree pruning end, 1 roots, 30 extra nodes, 6 pruned nodes, max_depth=5\u001b[0m\n",
      "\u001b[34m[3]#011train-error:0.274#011validation-error:0.2777\u001b[0m\n",
      "\u001b[34m[21:38:58] src/tree/updater_prune.cc:74: tree pruning end, 1 roots, 38 extra nodes, 6 pruned nodes, max_depth=5\u001b[0m\n",
      "\u001b[34m[4]#011train-error:0.265867#011validation-error:0.2733\u001b[0m\n",
      "\u001b[34m[21:38:59] src/tree/updater_prune.cc:74: tree pruning end, 1 roots, 42 extra nodes, 10 pruned nodes, max_depth=5\u001b[0m\n",
      "\u001b[34m[5]#011train-error:0.259267#011validation-error:0.2654\u001b[0m\n",
      "\u001b[34m[21:39:00] src/tree/updater_prune.cc:74: tree pruning end, 1 roots, 36 extra nodes, 2 pruned nodes, max_depth=5\u001b[0m\n",
      "\u001b[34m[6]#011train-error:0.246133#011validation-error:0.2561\u001b[0m\n",
      "\u001b[34m[21:39:02] src/tree/updater_prune.cc:74: tree pruning end, 1 roots, 32 extra nodes, 4 pruned nodes, max_depth=5\u001b[0m\n",
      "\u001b[34m[7]#011train-error:0.24#011validation-error:0.2517\u001b[0m\n",
      "\u001b[34m[21:39:03] src/tree/updater_prune.cc:74: tree pruning end, 1 roots, 28 extra nodes, 8 pruned nodes, max_depth=5\u001b[0m\n",
      "\u001b[34m[8]#011train-error:0.2366#011validation-error:0.248\u001b[0m\n",
      "\u001b[34m[21:39:04] src/tree/updater_prune.cc:74: tree pruning end, 1 roots, 44 extra nodes, 8 pruned nodes, max_depth=5\u001b[0m\n",
      "\u001b[34m[9]#011train-error:0.226133#011validation-error:0.2428\u001b[0m\n",
      "\u001b[34m[21:39:06] src/tree/updater_prune.cc:74: tree pruning end, 1 roots, 30 extra nodes, 10 pruned nodes, max_depth=5\u001b[0m\n",
      "\u001b[34m[10]#011train-error:0.222467#011validation-error:0.2395\u001b[0m\n",
      "\u001b[34m[21:39:07] src/tree/updater_prune.cc:74: tree pruning end, 1 roots, 40 extra nodes, 12 pruned nodes, max_depth=5\u001b[0m\n",
      "\u001b[34m[11]#011train-error:0.2198#011validation-error:0.2364\u001b[0m\n",
      "\u001b[34m[21:39:08] src/tree/updater_prune.cc:74: tree pruning end, 1 roots, 30 extra nodes, 6 pruned nodes, max_depth=5\u001b[0m\n",
      "\u001b[34m[12]#011train-error:0.214867#011validation-error:0.2328\u001b[0m\n",
      "\u001b[34m[21:39:09] src/tree/updater_prune.cc:74: tree pruning end, 1 roots, 32 extra nodes, 4 pruned nodes, max_depth=5\u001b[0m\n",
      "\u001b[34m[13]#011train-error:0.2076#011validation-error:0.2289\u001b[0m\n",
      "\u001b[34m[21:39:11] src/tree/updater_prune.cc:74: tree pruning end, 1 roots, 32 extra nodes, 6 pruned nodes, max_depth=5\u001b[0m\n",
      "\u001b[34m[14]#011train-error:0.203467#011validation-error:0.2243\u001b[0m\n",
      "\u001b[34m[21:39:12] src/tree/updater_prune.cc:74: tree pruning end, 1 roots, 32 extra nodes, 14 pruned nodes, max_depth=5\u001b[0m\n",
      "\u001b[34m[15]#011train-error:0.201#011validation-error:0.2222\u001b[0m\n",
      "\u001b[34m[21:39:13] src/tree/updater_prune.cc:74: tree pruning end, 1 roots, 24 extra nodes, 8 pruned nodes, max_depth=5\u001b[0m\n",
      "\u001b[34m[16]#011train-error:0.197067#011validation-error:0.217\u001b[0m\n",
      "\u001b[34m[21:39:15] src/tree/updater_prune.cc:74: tree pruning end, 1 roots, 28 extra nodes, 4 pruned nodes, max_depth=5\u001b[0m\n",
      "\u001b[34m[17]#011train-error:0.194867#011validation-error:0.2163\u001b[0m\n",
      "\u001b[34m[21:39:16] src/tree/updater_prune.cc:74: tree pruning end, 1 roots, 30 extra nodes, 10 pruned nodes, max_depth=5\u001b[0m\n",
      "\u001b[34m[18]#011train-error:0.191933#011validation-error:0.2137\u001b[0m\n",
      "\u001b[34m[21:39:17] src/tree/updater_prune.cc:74: tree pruning end, 1 roots, 26 extra nodes, 14 pruned nodes, max_depth=5\u001b[0m\n",
      "\u001b[34m[19]#011train-error:0.190267#011validation-error:0.2115\u001b[0m\n",
      "\u001b[34m[21:39:19] src/tree/updater_prune.cc:74: tree pruning end, 1 roots, 26 extra nodes, 14 pruned nodes, max_depth=5\u001b[0m\n",
      "\u001b[34m[20]#011train-error:0.187933#011validation-error:0.2084\u001b[0m\n",
      "\u001b[34m[21:39:20] src/tree/updater_prune.cc:74: tree pruning end, 1 roots, 38 extra nodes, 2 pruned nodes, max_depth=5\u001b[0m\n",
      "\u001b[34m[21]#011train-error:0.1866#011validation-error:0.2086\u001b[0m\n",
      "\u001b[34m[21:39:21] src/tree/updater_prune.cc:74: tree pruning end, 1 roots, 26 extra nodes, 6 pruned nodes, max_depth=5\u001b[0m\n",
      "\u001b[34m[22]#011train-error:0.184533#011validation-error:0.2079\u001b[0m\n",
      "\u001b[34m[21:39:23] src/tree/updater_prune.cc:74: tree pruning end, 1 roots, 30 extra nodes, 4 pruned nodes, max_depth=5\u001b[0m\n",
      "\u001b[34m[23]#011train-error:0.180933#011validation-error:0.2049\u001b[0m\n",
      "\u001b[34m[21:39:24] src/tree/updater_prune.cc:74: tree pruning end, 1 roots, 28 extra nodes, 4 pruned nodes, max_depth=5\u001b[0m\n",
      "\u001b[34m[24]#011train-error:0.178667#011validation-error:0.2019\u001b[0m\n",
      "\u001b[34m[21:39:25] src/tree/updater_prune.cc:74: tree pruning end, 1 roots, 26 extra nodes, 2 pruned nodes, max_depth=5\u001b[0m\n",
      "\u001b[34m[25]#011train-error:0.1758#011validation-error:0.2007\u001b[0m\n",
      "\u001b[34m[21:39:27] src/tree/updater_prune.cc:74: tree pruning end, 1 roots, 20 extra nodes, 14 pruned nodes, max_depth=5\u001b[0m\n",
      "\u001b[34m[26]#011train-error:0.174267#011validation-error:0.2002\u001b[0m\n",
      "\u001b[34m[21:39:28] src/tree/updater_prune.cc:74: tree pruning end, 1 roots, 22 extra nodes, 12 pruned nodes, max_depth=5\u001b[0m\n",
      "\u001b[34m[27]#011train-error:0.171667#011validation-error:0.1994\u001b[0m\n",
      "\u001b[34m[21:39:29] src/tree/updater_prune.cc:74: tree pruning end, 1 roots, 22 extra nodes, 2 pruned nodes, max_depth=5\u001b[0m\n",
      "\u001b[34m[28]#011train-error:0.1724#011validation-error:0.1966\u001b[0m\n",
      "\u001b[34m[21:39:31] src/tree/updater_prune.cc:74: tree pruning end, 1 roots, 26 extra nodes, 6 pruned nodes, max_depth=5\u001b[0m\n",
      "\u001b[34m[29]#011train-error:0.168933#011validation-error:0.1975\u001b[0m\n",
      "\u001b[34m[21:39:32] src/tree/updater_prune.cc:74: tree pruning end, 1 roots, 22 extra nodes, 12 pruned nodes, max_depth=5\u001b[0m\n",
      "\u001b[34m[30]#011train-error:0.1676#011validation-error:0.1936\u001b[0m\n",
      "\u001b[34m[21:39:33] src/tree/updater_prune.cc:74: tree pruning end, 1 roots, 28 extra nodes, 10 pruned nodes, max_depth=5\u001b[0m\n",
      "\u001b[34m[31]#011train-error:0.166#011validation-error:0.1909\u001b[0m\n",
      "\u001b[34m[21:39:34] src/tree/updater_prune.cc:74: tree pruning end, 1 roots, 24 extra nodes, 12 pruned nodes, max_depth=5\u001b[0m\n",
      "\u001b[34m[32]#011train-error:0.164733#011validation-error:0.1901\u001b[0m\n",
      "\u001b[34m[21:39:36] src/tree/updater_prune.cc:74: tree pruning end, 1 roots, 30 extra nodes, 10 pruned nodes, max_depth=5\u001b[0m\n",
      "\u001b[34m[33]#011train-error:0.1632#011validation-error:0.1907\u001b[0m\n",
      "\u001b[34m[21:39:37] src/tree/updater_prune.cc:74: tree pruning end, 1 roots, 32 extra nodes, 6 pruned nodes, max_depth=5\u001b[0m\n",
      "\u001b[34m[34]#011train-error:0.1634#011validation-error:0.1901\u001b[0m\n",
      "\u001b[34m[21:39:38] src/tree/updater_prune.cc:74: tree pruning end, 1 roots, 30 extra nodes, 6 pruned nodes, max_depth=5\u001b[0m\n",
      "\u001b[34m[35]#011train-error:0.161733#011validation-error:0.188\u001b[0m\n",
      "\u001b[34m[21:39:40] src/tree/updater_prune.cc:74: tree pruning end, 1 roots, 22 extra nodes, 16 pruned nodes, max_depth=5\u001b[0m\n",
      "\u001b[34m[36]#011train-error:0.159933#011validation-error:0.1871\u001b[0m\n",
      "\u001b[34m[21:39:41] src/tree/updater_prune.cc:74: tree pruning end, 1 roots, 38 extra nodes, 4 pruned nodes, max_depth=5\u001b[0m\n",
      "\u001b[34m[37]#011train-error:0.156667#011validation-error:0.1862\u001b[0m\n",
      "\u001b[34m[21:39:42] src/tree/updater_prune.cc:74: tree pruning end, 1 roots, 34 extra nodes, 4 pruned nodes, max_depth=5\u001b[0m\n",
      "\u001b[34m[38]#011train-error:0.155133#011validation-error:0.1839\u001b[0m\n",
      "\u001b[34m[21:39:44] src/tree/updater_prune.cc:74: tree pruning end, 1 roots, 14 extra nodes, 12 pruned nodes, max_depth=5\u001b[0m\n",
      "\u001b[34m[39]#011train-error:0.154#011validation-error:0.1832\u001b[0m\n",
      "\u001b[34m[21:39:45] src/tree/updater_prune.cc:74: tree pruning end, 1 roots, 20 extra nodes, 12 pruned nodes, max_depth=5\u001b[0m\n",
      "\u001b[34m[40]#011train-error:0.152#011validation-error:0.1825\u001b[0m\n",
      "\u001b[34m[21:39:46] src/tree/updater_prune.cc:74: tree pruning end, 1 roots, 24 extra nodes, 10 pruned nodes, max_depth=5\u001b[0m\n",
      "\u001b[34m[41]#011train-error:0.150867#011validation-error:0.1816\u001b[0m\n",
      "\u001b[34m[21:39:48] src/tree/updater_prune.cc:74: tree pruning end, 1 roots, 22 extra nodes, 14 pruned nodes, max_depth=5\u001b[0m\n",
      "\u001b[34m[42]#011train-error:0.15#011validation-error:0.1809\u001b[0m\n",
      "\u001b[34m[21:39:49] src/tree/updater_prune.cc:74: tree pruning end, 1 roots, 28 extra nodes, 10 pruned nodes, max_depth=5\u001b[0m\n",
      "\u001b[34m[43]#011train-error:0.149933#011validation-error:0.1806\u001b[0m\n",
      "\u001b[34m[21:39:50] src/tree/updater_prune.cc:74: tree pruning end, 1 roots, 20 extra nodes, 14 pruned nodes, max_depth=5\u001b[0m\n",
      "\u001b[34m[44]#011train-error:0.148533#011validation-error:0.1799\u001b[0m\n",
      "\u001b[34m[21:39:51] src/tree/updater_prune.cc:74: tree pruning end, 1 roots, 16 extra nodes, 8 pruned nodes, max_depth=5\u001b[0m\n",
      "\u001b[34m[45]#011train-error:0.1464#011validation-error:0.1784\u001b[0m\n",
      "\u001b[34m[21:39:53] src/tree/updater_prune.cc:74: tree pruning end, 1 roots, 36 extra nodes, 4 pruned nodes, max_depth=5\u001b[0m\n",
      "\u001b[34m[46]#011train-error:0.1446#011validation-error:0.1769\u001b[0m\n",
      "\u001b[34m[21:39:54] src/tree/updater_prune.cc:74: tree pruning end, 1 roots, 18 extra nodes, 6 pruned nodes, max_depth=5\u001b[0m\n",
      "\u001b[34m[47]#011train-error:0.144867#011validation-error:0.1757\u001b[0m\n",
      "\u001b[34m[21:39:55] src/tree/updater_prune.cc:74: tree pruning end, 1 roots, 24 extra nodes, 10 pruned nodes, max_depth=5\u001b[0m\n",
      "\u001b[34m[48]#011train-error:0.142733#011validation-error:0.1746\u001b[0m\n",
      "\u001b[34m[21:39:57] src/tree/updater_prune.cc:74: tree pruning end, 1 roots, 20 extra nodes, 6 pruned nodes, max_depth=5\u001b[0m\n",
      "\u001b[34m[49]#011train-error:0.1422#011validation-error:0.1739\u001b[0m\n",
      "\u001b[34m[21:39:58] src/tree/updater_prune.cc:74: tree pruning end, 1 roots, 20 extra nodes, 6 pruned nodes, max_depth=5\u001b[0m\n",
      "\u001b[34m[50]#011train-error:0.140533#011validation-error:0.1734\u001b[0m\n",
      "\u001b[34m[21:39:59] src/tree/updater_prune.cc:74: tree pruning end, 1 roots, 12 extra nodes, 20 pruned nodes, max_depth=5\u001b[0m\n",
      "\u001b[34m[51]#011train-error:0.1408#011validation-error:0.1711\u001b[0m\n",
      "\u001b[34m[21:40:01] src/tree/updater_prune.cc:74: tree pruning end, 1 roots, 28 extra nodes, 8 pruned nodes, max_depth=5\u001b[0m\n",
      "\u001b[34m[52]#011train-error:0.1388#011validation-error:0.1697\u001b[0m\n",
      "\u001b[34m[21:40:02] src/tree/updater_prune.cc:74: tree pruning end, 1 roots, 16 extra nodes, 2 pruned nodes, max_depth=5\u001b[0m\n",
      "\u001b[34m[53]#011train-error:0.1386#011validation-error:0.169\u001b[0m\n",
      "\u001b[34m[21:40:03] src/tree/updater_prune.cc:74: tree pruning end, 1 roots, 16 extra nodes, 12 pruned nodes, max_depth=5\u001b[0m\n",
      "\u001b[34m[54]#011train-error:0.137667#011validation-error:0.1679\u001b[0m\n",
      "\u001b[34m[21:40:05] src/tree/updater_prune.cc:74: tree pruning end, 1 roots, 14 extra nodes, 12 pruned nodes, max_depth=5\u001b[0m\n",
      "\u001b[34m[55]#011train-error:0.138067#011validation-error:0.1677\u001b[0m\n",
      "\u001b[34m[21:40:06] src/tree/updater_prune.cc:74: tree pruning end, 1 roots, 36 extra nodes, 6 pruned nodes, max_depth=5\u001b[0m\n",
      "\u001b[34m[56]#011train-error:0.134733#011validation-error:0.168\u001b[0m\n",
      "\u001b[34m[21:40:07] src/tree/updater_prune.cc:74: tree pruning end, 1 roots, 24 extra nodes, 14 pruned nodes, max_depth=5\u001b[0m\n",
      "\u001b[34m[57]#011train-error:0.134067#011validation-error:0.167\u001b[0m\n",
      "\u001b[34m[21:40:09] src/tree/updater_prune.cc:74: tree pruning end, 1 roots, 24 extra nodes, 8 pruned nodes, max_depth=5\u001b[0m\n",
      "\u001b[34m[58]#011train-error:0.1334#011validation-error:0.1667\u001b[0m\n",
      "\u001b[34m[21:40:10] src/tree/updater_prune.cc:74: tree pruning end, 1 roots, 14 extra nodes, 6 pruned nodes, max_depth=5\u001b[0m\n",
      "\u001b[34m[59]#011train-error:0.133#011validation-error:0.1658\u001b[0m\n",
      "\u001b[34m[21:40:11] src/tree/updater_prune.cc:74: tree pruning end, 1 roots, 14 extra nodes, 14 pruned nodes, max_depth=5\u001b[0m\n",
      "\u001b[34m[60]#011train-error:0.132067#011validation-error:0.1654\u001b[0m\n",
      "\u001b[34m[21:40:13] src/tree/updater_prune.cc:74: tree pruning end, 1 roots, 22 extra nodes, 2 pruned nodes, max_depth=5\u001b[0m\n",
      "\u001b[34m[61]#011train-error:0.1312#011validation-error:0.1657\u001b[0m\n",
      "\u001b[34m[21:40:14] src/tree/updater_prune.cc:74: tree pruning end, 1 roots, 26 extra nodes, 8 pruned nodes, max_depth=5\u001b[0m\n",
      "\u001b[34m[62]#011train-error:0.1308#011validation-error:0.1651\u001b[0m\n",
      "\u001b[34m[21:40:15] src/tree/updater_prune.cc:74: tree pruning end, 1 roots, 14 extra nodes, 16 pruned nodes, max_depth=5\u001b[0m\n",
      "\u001b[34m[63]#011train-error:0.1304#011validation-error:0.1659\u001b[0m\n",
      "\u001b[34m[21:40:16] src/tree/updater_prune.cc:74: tree pruning end, 1 roots, 18 extra nodes, 4 pruned nodes, max_depth=5\u001b[0m\n",
      "\u001b[34m[64]#011train-error:0.130333#011validation-error:0.1651\u001b[0m\n",
      "\u001b[34m[21:40:18] src/tree/updater_prune.cc:74: tree pruning end, 1 roots, 26 extra nodes, 16 pruned nodes, max_depth=5\u001b[0m\n",
      "\u001b[34m[65]#011train-error:0.129267#011validation-error:0.166\u001b[0m\n",
      "\u001b[34m[21:40:19] src/tree/updater_prune.cc:74: tree pruning end, 1 roots, 28 extra nodes, 8 pruned nodes, max_depth=5\u001b[0m\n",
      "\u001b[34m[66]#011train-error:0.128#011validation-error:0.1652\u001b[0m\n",
      "\u001b[34m[21:40:20] src/tree/updater_prune.cc:74: tree pruning end, 1 roots, 34 extra nodes, 2 pruned nodes, max_depth=5\u001b[0m\n",
      "\u001b[34m[67]#011train-error:0.127267#011validation-error:0.1634\u001b[0m\n",
      "\u001b[34m[21:40:22] src/tree/updater_prune.cc:74: tree pruning end, 1 roots, 20 extra nodes, 6 pruned nodes, max_depth=5\u001b[0m\n",
      "\u001b[34m[68]#011train-error:0.126#011validation-error:0.1626\u001b[0m\n",
      "\u001b[34m[21:40:23] src/tree/updater_prune.cc:74: tree pruning end, 1 roots, 34 extra nodes, 6 pruned nodes, max_depth=5\u001b[0m\n",
      "\u001b[34m[69]#011train-error:0.124733#011validation-error:0.1621\u001b[0m\n",
      "\u001b[34m[21:40:24] src/tree/updater_prune.cc:74: tree pruning end, 1 roots, 20 extra nodes, 6 pruned nodes, max_depth=5\u001b[0m\n",
      "\u001b[34m[70]#011train-error:0.124267#011validation-error:0.1632\u001b[0m\n",
      "\u001b[34m[21:40:26] src/tree/updater_prune.cc:74: tree pruning end, 1 roots, 10 extra nodes, 4 pruned nodes, max_depth=5\u001b[0m\n",
      "\u001b[34m[71]#011train-error:0.123867#011validation-error:0.1622\u001b[0m\n",
      "\u001b[34m[21:40:27] src/tree/updater_prune.cc:74: tree pruning end, 1 roots, 22 extra nodes, 0 pruned nodes, max_depth=5\u001b[0m\n",
      "\u001b[34m[72]#011train-error:0.123067#011validation-error:0.1616\u001b[0m\n",
      "\u001b[34m[21:40:28] src/tree/updater_prune.cc:74: tree pruning end, 1 roots, 12 extra nodes, 10 pruned nodes, max_depth=5\u001b[0m\n",
      "\u001b[34m[73]#011train-error:0.122933#011validation-error:0.1606\u001b[0m\n",
      "\u001b[34m[21:40:29] src/tree/updater_prune.cc:74: tree pruning end, 1 roots, 24 extra nodes, 2 pruned nodes, max_depth=5\u001b[0m\n",
      "\u001b[34m[74]#011train-error:0.121#011validation-error:0.1608\u001b[0m\n",
      "\u001b[34m[21:40:31] src/tree/updater_prune.cc:74: tree pruning end, 1 roots, 12 extra nodes, 18 pruned nodes, max_depth=5\u001b[0m\n",
      "\u001b[34m[75]#011train-error:0.120733#011validation-error:0.1609\u001b[0m\n",
      "\u001b[34m[21:40:32] src/tree/updater_prune.cc:74: tree pruning end, 1 roots, 28 extra nodes, 12 pruned nodes, max_depth=5\u001b[0m\n",
      "\u001b[34m[76]#011train-error:0.1204#011validation-error:0.1616\u001b[0m\n",
      "\u001b[34m[21:40:33] src/tree/updater_prune.cc:74: tree pruning end, 1 roots, 18 extra nodes, 6 pruned nodes, max_depth=5\u001b[0m\n",
      "\u001b[34m[77]#011train-error:0.119067#011validation-error:0.1608\u001b[0m\n",
      "\u001b[34m[21:40:35] src/tree/updater_prune.cc:74: tree pruning end, 1 roots, 28 extra nodes, 12 pruned nodes, max_depth=5\u001b[0m\n",
      "\u001b[34m[78]#011train-error:0.118333#011validation-error:0.1603\u001b[0m\n",
      "\u001b[34m[21:40:36] src/tree/updater_prune.cc:74: tree pruning end, 1 roots, 14 extra nodes, 8 pruned nodes, max_depth=5\u001b[0m\n",
      "\u001b[34m[79]#011train-error:0.118133#011validation-error:0.16\u001b[0m\n",
      "\u001b[34m[21:40:37] src/tree/updater_prune.cc:74: tree pruning end, 1 roots, 18 extra nodes, 6 pruned nodes, max_depth=5\u001b[0m\n",
      "\u001b[34m[80]#011train-error:0.118#011validation-error:0.1586\u001b[0m\n",
      "\u001b[34m[21:40:39] src/tree/updater_prune.cc:74: tree pruning end, 1 roots, 24 extra nodes, 4 pruned nodes, max_depth=5\u001b[0m\n",
      "\u001b[34m[81]#011train-error:0.1178#011validation-error:0.1581\u001b[0m\n",
      "\u001b[34m[21:40:40] src/tree/updater_prune.cc:74: tree pruning end, 1 roots, 22 extra nodes, 10 pruned nodes, max_depth=5\u001b[0m\n",
      "\u001b[34m[82]#011train-error:0.116333#011validation-error:0.1568\u001b[0m\n",
      "\u001b[34m[21:40:41] src/tree/updater_prune.cc:74: tree pruning end, 1 roots, 12 extra nodes, 4 pruned nodes, max_depth=5\u001b[0m\n",
      "\u001b[34m[83]#011train-error:0.116533#011validation-error:0.1578\u001b[0m\n",
      "\u001b[34m[21:40:43] src/tree/updater_prune.cc:74: tree pruning end, 1 roots, 14 extra nodes, 16 pruned nodes, max_depth=5\u001b[0m\n",
      "\u001b[34m[84]#011train-error:0.115733#011validation-error:0.1576\u001b[0m\n",
      "\u001b[34m[21:40:44] src/tree/updater_prune.cc:74: tree pruning end, 1 roots, 22 extra nodes, 16 pruned nodes, max_depth=5\u001b[0m\n",
      "\u001b[34m[85]#011train-error:0.1146#011validation-error:0.158\u001b[0m\n",
      "\u001b[34m[21:40:45] src/tree/updater_prune.cc:74: tree pruning end, 1 roots, 18 extra nodes, 6 pruned nodes, max_depth=5\u001b[0m\n",
      "\u001b[34m[86]#011train-error:0.113667#011validation-error:0.1575\u001b[0m\n",
      "\u001b[34m[21:40:47] src/tree/updater_prune.cc:74: tree pruning end, 1 roots, 14 extra nodes, 20 pruned nodes, max_depth=5\u001b[0m\n",
      "\u001b[34m[87]#011train-error:0.113333#011validation-error:0.1576\u001b[0m\n",
      "\u001b[34m[21:40:48] src/tree/updater_prune.cc:74: tree pruning end, 1 roots, 40 extra nodes, 6 pruned nodes, max_depth=5\u001b[0m\n",
      "\u001b[34m[88]#011train-error:0.112533#011validation-error:0.1552\u001b[0m\n",
      "\u001b[34m[21:40:49] src/tree/updater_prune.cc:74: tree pruning end, 1 roots, 14 extra nodes, 4 pruned nodes, max_depth=5\u001b[0m\n",
      "\u001b[34m[89]#011train-error:0.112#011validation-error:0.155\u001b[0m\n",
      "\u001b[34m[21:40:51] src/tree/updater_prune.cc:74: tree pruning end, 1 roots, 10 extra nodes, 12 pruned nodes, max_depth=5\u001b[0m\n",
      "\u001b[34m[90]#011train-error:0.1118#011validation-error:0.1546\u001b[0m\n",
      "\u001b[34m[21:40:52] src/tree/updater_prune.cc:74: tree pruning end, 1 roots, 18 extra nodes, 2 pruned nodes, max_depth=5\u001b[0m\n",
      "\u001b[34m[91]#011train-error:0.111333#011validation-error:0.1551\u001b[0m\n",
      "\u001b[34m[21:40:53] src/tree/updater_prune.cc:74: tree pruning end, 1 roots, 16 extra nodes, 10 pruned nodes, max_depth=5\u001b[0m\n",
      "\u001b[34m[92]#011train-error:0.111067#011validation-error:0.1537\u001b[0m\n",
      "\u001b[34m[21:40:55] src/tree/updater_prune.cc:74: tree pruning end, 1 roots, 16 extra nodes, 8 pruned nodes, max_depth=5\u001b[0m\n",
      "\u001b[34m[93]#011train-error:0.110467#011validation-error:0.1536\u001b[0m\n",
      "\u001b[34m[21:40:56] src/tree/updater_prune.cc:74: tree pruning end, 1 roots, 16 extra nodes, 0 pruned nodes, max_depth=5\u001b[0m\n",
      "\u001b[34m[94]#011train-error:0.109533#011validation-error:0.153\u001b[0m\n",
      "\u001b[34m[21:40:57] src/tree/updater_prune.cc:74: tree pruning end, 1 roots, 30 extra nodes, 12 pruned nodes, max_depth=5\u001b[0m\n",
      "\u001b[34m[95]#011train-error:0.108467#011validation-error:0.1511\u001b[0m\n",
      "\u001b[34m[21:40:59] src/tree/updater_prune.cc:74: tree pruning end, 1 roots, 34 extra nodes, 10 pruned nodes, max_depth=5\u001b[0m\n",
      "\u001b[34m[96]#011train-error:0.107333#011validation-error:0.1511\u001b[0m\n",
      "\u001b[34m[21:41:00] src/tree/updater_prune.cc:74: tree pruning end, 1 roots, 12 extra nodes, 6 pruned nodes, max_depth=5\u001b[0m\n",
      "\u001b[34m[97]#011train-error:0.106733#011validation-error:0.1507\u001b[0m\n",
      "\u001b[34m[21:41:01] src/tree/updater_prune.cc:74: tree pruning end, 1 roots, 12 extra nodes, 8 pruned nodes, max_depth=5\u001b[0m\n",
      "\u001b[34m[98]#011train-error:0.1064#011validation-error:0.15\u001b[0m\n",
      "\u001b[34m[21:41:03] src/tree/updater_prune.cc:74: tree pruning end, 1 roots, 10 extra nodes, 10 pruned nodes, max_depth=5\u001b[0m\n",
      "\u001b[34m[99]#011train-error:0.106267#011validation-error:0.1506\u001b[0m\n",
      "\u001b[34m[21:41:04] src/tree/updater_prune.cc:74: tree pruning end, 1 roots, 24 extra nodes, 4 pruned nodes, max_depth=5\u001b[0m\n",
      "\u001b[34m[100]#011train-error:0.1046#011validation-error:0.1504\u001b[0m\n",
      "\u001b[34m[21:41:05] src/tree/updater_prune.cc:74: tree pruning end, 1 roots, 16 extra nodes, 10 pruned nodes, max_depth=5\u001b[0m\n",
      "\u001b[34m[101]#011train-error:0.104533#011validation-error:0.1498\u001b[0m\n",
      "\u001b[34m[21:41:07] src/tree/updater_prune.cc:74: tree pruning end, 1 roots, 34 extra nodes, 12 pruned nodes, max_depth=5\u001b[0m\n",
      "\u001b[34m[102]#011train-error:0.102933#011validation-error:0.1499\u001b[0m\n",
      "\u001b[34m[21:41:08] src/tree/updater_prune.cc:74: tree pruning end, 1 roots, 12 extra nodes, 4 pruned nodes, max_depth=5\u001b[0m\n",
      "\u001b[34m[103]#011train-error:0.102333#011validation-error:0.1503\u001b[0m\n",
      "\u001b[34m[21:41:09] src/tree/updater_prune.cc:74: tree pruning end, 1 roots, 20 extra nodes, 12 pruned nodes, max_depth=5\u001b[0m\n",
      "\u001b[34m[104]#011train-error:0.1016#011validation-error:0.1501\u001b[0m\n",
      "\u001b[34m[21:41:11] src/tree/updater_prune.cc:74: tree pruning end, 1 roots, 18 extra nodes, 18 pruned nodes, max_depth=5\u001b[0m\n",
      "\u001b[34m[105]#011train-error:0.101467#011validation-error:0.1502\u001b[0m\n",
      "\u001b[34m[21:41:12] src/tree/updater_prune.cc:74: tree pruning end, 1 roots, 14 extra nodes, 12 pruned nodes, max_depth=5\u001b[0m\n",
      "\u001b[34m[106]#011train-error:0.101#011validation-error:0.1496\u001b[0m\n",
      "\u001b[34m[21:41:13] src/tree/updater_prune.cc:74: tree pruning end, 1 roots, 10 extra nodes, 6 pruned nodes, max_depth=5\u001b[0m\n",
      "\u001b[34m[107]#011train-error:0.1006#011validation-error:0.1491\u001b[0m\n",
      "\u001b[34m[21:41:14] src/tree/updater_prune.cc:74: tree pruning end, 1 roots, 14 extra nodes, 12 pruned nodes, max_depth=5\u001b[0m\n",
      "\u001b[34m[108]#011train-error:0.100733#011validation-error:0.149\u001b[0m\n",
      "\u001b[34m[21:41:16] src/tree/updater_prune.cc:74: tree pruning end, 1 roots, 22 extra nodes, 12 pruned nodes, max_depth=5\u001b[0m\n",
      "\u001b[34m[109]#011train-error:0.0996#011validation-error:0.1484\u001b[0m\n",
      "\u001b[34m[21:41:17] src/tree/updater_prune.cc:74: tree pruning end, 1 roots, 14 extra nodes, 4 pruned nodes, max_depth=5\u001b[0m\n",
      "\u001b[34m[110]#011train-error:0.099733#011validation-error:0.1486\u001b[0m\n",
      "\u001b[34m[21:41:18] src/tree/updater_prune.cc:74: tree pruning end, 1 roots, 14 extra nodes, 12 pruned nodes, max_depth=5\u001b[0m\n",
      "\u001b[34m[111]#011train-error:0.099133#011validation-error:0.148\u001b[0m\n",
      "\u001b[34m[21:41:20] src/tree/updater_prune.cc:74: tree pruning end, 1 roots, 18 extra nodes, 4 pruned nodes, max_depth=5\u001b[0m\n",
      "\u001b[34m[112]#011train-error:0.098933#011validation-error:0.1475\u001b[0m\n",
      "\u001b[34m[21:41:21] src/tree/updater_prune.cc:74: tree pruning end, 1 roots, 12 extra nodes, 10 pruned nodes, max_depth=5\u001b[0m\n",
      "\u001b[34m[113]#011train-error:0.0992#011validation-error:0.1476\u001b[0m\n",
      "\u001b[34m[21:41:22] src/tree/updater_prune.cc:74: tree pruning end, 1 roots, 12 extra nodes, 12 pruned nodes, max_depth=5\u001b[0m\n",
      "\u001b[34m[114]#011train-error:0.0994#011validation-error:0.1471\u001b[0m\n",
      "\u001b[34m[21:41:24] src/tree/updater_prune.cc:74: tree pruning end, 1 roots, 18 extra nodes, 8 pruned nodes, max_depth=5\u001b[0m\n",
      "\u001b[34m[115]#011train-error:0.098933#011validation-error:0.1465\u001b[0m\n",
      "\u001b[34m[21:41:25] src/tree/updater_prune.cc:74: tree pruning end, 1 roots, 18 extra nodes, 6 pruned nodes, max_depth=5\u001b[0m\n",
      "\u001b[34m[116]#011train-error:0.099#011validation-error:0.1454\u001b[0m\n",
      "\u001b[34m[21:41:26] src/tree/updater_prune.cc:74: tree pruning end, 1 roots, 10 extra nodes, 4 pruned nodes, max_depth=5\u001b[0m\n",
      "\u001b[34m[117]#011train-error:0.099067#011validation-error:0.1459\u001b[0m\n",
      "\u001b[34m[21:41:28] src/tree/updater_prune.cc:74: tree pruning end, 1 roots, 16 extra nodes, 10 pruned nodes, max_depth=5\u001b[0m\n",
      "\u001b[34m[118]#011train-error:0.098467#011validation-error:0.1463\u001b[0m\n",
      "\u001b[34m[21:41:29] src/tree/updater_prune.cc:74: tree pruning end, 1 roots, 28 extra nodes, 4 pruned nodes, max_depth=5\u001b[0m\n",
      "\u001b[34m[119]#011train-error:0.098267#011validation-error:0.1459\u001b[0m\n",
      "\u001b[34m[21:41:30] src/tree/updater_prune.cc:74: tree pruning end, 1 roots, 12 extra nodes, 12 pruned nodes, max_depth=5\u001b[0m\n",
      "\u001b[34m[120]#011train-error:0.0974#011validation-error:0.1457\u001b[0m\n",
      "\u001b[34m[21:41:32] src/tree/updater_prune.cc:74: tree pruning end, 1 roots, 28 extra nodes, 12 pruned nodes, max_depth=5\u001b[0m\n",
      "\u001b[34m[121]#011train-error:0.095733#011validation-error:0.1455\u001b[0m\n",
      "\u001b[34m[21:41:33] src/tree/updater_prune.cc:74: tree pruning end, 1 roots, 22 extra nodes, 4 pruned nodes, max_depth=5\u001b[0m\n",
      "\u001b[34m[122]#011train-error:0.095467#011validation-error:0.146\u001b[0m\n",
      "\u001b[34m[21:41:34] src/tree/updater_prune.cc:74: tree pruning end, 1 roots, 18 extra nodes, 12 pruned nodes, max_depth=5\u001b[0m\n",
      "\u001b[34m[123]#011train-error:0.096#011validation-error:0.1454\u001b[0m\n",
      "\u001b[34m[21:41:36] src/tree/updater_prune.cc:74: tree pruning end, 1 roots, 24 extra nodes, 6 pruned nodes, max_depth=5\u001b[0m\n",
      "\u001b[34m[124]#011train-error:0.094133#011validation-error:0.1451\u001b[0m\n",
      "\u001b[34m[21:41:37] src/tree/updater_prune.cc:74: tree pruning end, 1 roots, 20 extra nodes, 8 pruned nodes, max_depth=5\u001b[0m\n",
      "\u001b[34m[125]#011train-error:0.094533#011validation-error:0.1443\u001b[0m\n",
      "\u001b[34m[21:41:38] src/tree/updater_prune.cc:74: tree pruning end, 1 roots, 24 extra nodes, 4 pruned nodes, max_depth=5\u001b[0m\n",
      "\u001b[34m[126]#011train-error:0.0942#011validation-error:0.143\u001b[0m\n",
      "\u001b[34m[21:41:40] src/tree/updater_prune.cc:74: tree pruning end, 1 roots, 16 extra nodes, 8 pruned nodes, max_depth=5\u001b[0m\n",
      "\u001b[34m[127]#011train-error:0.093667#011validation-error:0.143\u001b[0m\n",
      "\u001b[34m[21:41:41] src/tree/updater_prune.cc:74: tree pruning end, 1 roots, 20 extra nodes, 12 pruned nodes, max_depth=5\u001b[0m\n",
      "\u001b[34m[128]#011train-error:0.092#011validation-error:0.1443\u001b[0m\n",
      "\u001b[34m[21:41:42] src/tree/updater_prune.cc:74: tree pruning end, 1 roots, 16 extra nodes, 6 pruned nodes, max_depth=5\u001b[0m\n",
      "\u001b[34m[129]#011train-error:0.091867#011validation-error:0.1433\u001b[0m\n",
      "\u001b[34m[21:41:44] src/tree/updater_prune.cc:74: tree pruning end, 1 roots, 14 extra nodes, 10 pruned nodes, max_depth=5\u001b[0m\n",
      "\u001b[34m[130]#011train-error:0.091267#011validation-error:0.1433\u001b[0m\n",
      "\u001b[34m[21:41:45] src/tree/updater_prune.cc:74: tree pruning end, 1 roots, 20 extra nodes, 6 pruned nodes, max_depth=5\u001b[0m\n",
      "\u001b[34m[131]#011train-error:0.0906#011validation-error:0.1436\u001b[0m\n",
      "\u001b[34m[21:41:46] src/tree/updater_prune.cc:74: tree pruning end, 1 roots, 26 extra nodes, 6 pruned nodes, max_depth=5\u001b[0m\n",
      "\u001b[34m[132]#011train-error:0.090533#011validation-error:0.1435\u001b[0m\n",
      "\u001b[34m[21:41:48] src/tree/updater_prune.cc:74: tree pruning end, 1 roots, 26 extra nodes, 2 pruned nodes, max_depth=5\u001b[0m\n",
      "\u001b[34m[133]#011train-error:0.090267#011validation-error:0.1427\u001b[0m\n",
      "\u001b[34m[21:41:49] src/tree/updater_prune.cc:74: tree pruning end, 1 roots, 14 extra nodes, 4 pruned nodes, max_depth=5\u001b[0m\n",
      "\u001b[34m[134]#011train-error:0.089467#011validation-error:0.1421\u001b[0m\n",
      "\u001b[34m[21:41:50] src/tree/updater_prune.cc:74: tree pruning end, 1 roots, 12 extra nodes, 6 pruned nodes, max_depth=5\u001b[0m\n",
      "\u001b[34m[135]#011train-error:0.089267#011validation-error:0.1418\u001b[0m\n",
      "\u001b[34m[21:41:52] src/tree/updater_prune.cc:74: tree pruning end, 1 roots, 10 extra nodes, 2 pruned nodes, max_depth=5\u001b[0m\n",
      "\u001b[34m[136]#011train-error:0.089333#011validation-error:0.1417\u001b[0m\n",
      "\u001b[34m[21:41:53] src/tree/updater_prune.cc:74: tree pruning end, 1 roots, 10 extra nodes, 10 pruned nodes, max_depth=5\u001b[0m\n",
      "\u001b[34m[137]#011train-error:0.089267#011validation-error:0.1419\u001b[0m\n",
      "\u001b[34m[21:41:54] src/tree/updater_prune.cc:74: tree pruning end, 1 roots, 14 extra nodes, 2 pruned nodes, max_depth=5\u001b[0m\n",
      "\u001b[34m[138]#011train-error:0.088467#011validation-error:0.1416\u001b[0m\n",
      "\u001b[34m[21:41:56] src/tree/updater_prune.cc:74: tree pruning end, 1 roots, 22 extra nodes, 12 pruned nodes, max_depth=5\u001b[0m\n",
      "\u001b[34m[139]#011train-error:0.088267#011validation-error:0.14\u001b[0m\n",
      "\u001b[34m[21:41:57] src/tree/updater_prune.cc:74: tree pruning end, 1 roots, 18 extra nodes, 4 pruned nodes, max_depth=5\u001b[0m\n",
      "\u001b[34m[140]#011train-error:0.088333#011validation-error:0.1409\u001b[0m\n",
      "\u001b[34m[21:41:58] src/tree/updater_prune.cc:74: tree pruning end, 1 roots, 24 extra nodes, 4 pruned nodes, max_depth=5\u001b[0m\n",
      "\u001b[34m[141]#011train-error:0.0878#011validation-error:0.1399\u001b[0m\n",
      "\u001b[34m[21:41:59] src/tree/updater_prune.cc:74: tree pruning end, 1 roots, 16 extra nodes, 6 pruned nodes, max_depth=5\u001b[0m\n",
      "\u001b[34m[142]#011train-error:0.087533#011validation-error:0.1401\u001b[0m\n",
      "\u001b[34m[21:42:01] src/tree/updater_prune.cc:74: tree pruning end, 1 roots, 30 extra nodes, 6 pruned nodes, max_depth=5\u001b[0m\n",
      "\u001b[34m[143]#011train-error:0.0866#011validation-error:0.1404\u001b[0m\n",
      "\u001b[34m[21:42:02] src/tree/updater_prune.cc:74: tree pruning end, 1 roots, 16 extra nodes, 10 pruned nodes, max_depth=5\u001b[0m\n",
      "\u001b[34m[144]#011train-error:0.0868#011validation-error:0.1415\u001b[0m\n",
      "\u001b[34m[21:42:04] src/tree/updater_prune.cc:74: tree pruning end, 1 roots, 12 extra nodes, 18 pruned nodes, max_depth=5\u001b[0m\n",
      "\u001b[34m[145]#011train-error:0.086533#011validation-error:0.1407\u001b[0m\n",
      "\u001b[34m[21:42:05] src/tree/updater_prune.cc:74: tree pruning end, 1 roots, 16 extra nodes, 12 pruned nodes, max_depth=5\u001b[0m\n",
      "\u001b[34m[146]#011train-error:0.086067#011validation-error:0.1407\u001b[0m\n",
      "\u001b[34m[21:42:06] src/tree/updater_prune.cc:74: tree pruning end, 1 roots, 12 extra nodes, 0 pruned nodes, max_depth=5\u001b[0m\n",
      "\u001b[34m[147]#011train-error:0.085933#011validation-error:0.1398\u001b[0m\n",
      "\u001b[34m[21:42:08] src/tree/updater_prune.cc:74: tree pruning end, 1 roots, 14 extra nodes, 4 pruned nodes, max_depth=5\u001b[0m\n",
      "\u001b[34m[148]#011train-error:0.085333#011validation-error:0.1397\u001b[0m\n",
      "\u001b[34m[21:42:09] src/tree/updater_prune.cc:74: tree pruning end, 1 roots, 20 extra nodes, 6 pruned nodes, max_depth=5\u001b[0m\n",
      "\u001b[34m[149]#011train-error:0.084667#011validation-error:0.1407\u001b[0m\n",
      "\u001b[34m[21:42:10] src/tree/updater_prune.cc:74: tree pruning end, 1 roots, 14 extra nodes, 14 pruned nodes, max_depth=5\u001b[0m\n",
      "\u001b[34m[150]#011train-error:0.0844#011validation-error:0.1406\u001b[0m\n",
      "\u001b[34m[21:42:12] src/tree/updater_prune.cc:74: tree pruning end, 1 roots, 10 extra nodes, 14 pruned nodes, max_depth=5\u001b[0m\n",
      "\u001b[34m[151]#011train-error:0.084333#011validation-error:0.1404\u001b[0m\n",
      "\u001b[34m[21:42:13] src/tree/updater_prune.cc:74: tree pruning end, 1 roots, 12 extra nodes, 2 pruned nodes, max_depth=5\u001b[0m\n",
      "\u001b[34m[152]#011train-error:0.084067#011validation-error:0.1403\u001b[0m\n",
      "\u001b[34m[21:42:14] src/tree/updater_prune.cc:74: tree pruning end, 1 roots, 20 extra nodes, 6 pruned nodes, max_depth=5\u001b[0m\n",
      "\u001b[34m[153]#011train-error:0.084#011validation-error:0.1403\u001b[0m\n",
      "\u001b[34m[21:42:16] src/tree/updater_prune.cc:74: tree pruning end, 1 roots, 18 extra nodes, 4 pruned nodes, max_depth=5\u001b[0m\n",
      "\u001b[34m[154]#011train-error:0.082733#011validation-error:0.1399\u001b[0m\n",
      "\u001b[34m[21:42:17] src/tree/updater_prune.cc:74: tree pruning end, 1 roots, 10 extra nodes, 16 pruned nodes, max_depth=5\u001b[0m\n",
      "\u001b[34m[155]#011train-error:0.082467#011validation-error:0.1388\u001b[0m\n",
      "\u001b[34m[21:42:18] src/tree/updater_prune.cc:74: tree pruning end, 1 roots, 14 extra nodes, 0 pruned nodes, max_depth=5\u001b[0m\n",
      "\u001b[34m[156]#011train-error:0.082#011validation-error:0.1393\u001b[0m\n",
      "\u001b[34m[21:42:20] src/tree/updater_prune.cc:74: tree pruning end, 1 roots, 16 extra nodes, 8 pruned nodes, max_depth=5\u001b[0m\n",
      "\u001b[34m[157]#011train-error:0.082333#011validation-error:0.1386\u001b[0m\n",
      "\u001b[34m[21:42:21] src/tree/updater_prune.cc:74: tree pruning end, 1 roots, 18 extra nodes, 10 pruned nodes, max_depth=5\u001b[0m\n",
      "\u001b[34m[158]#011train-error:0.0822#011validation-error:0.1388\u001b[0m\n",
      "\u001b[34m[21:42:22] src/tree/updater_prune.cc:74: tree pruning end, 1 roots, 10 extra nodes, 12 pruned nodes, max_depth=5\u001b[0m\n",
      "\u001b[34m[159]#011train-error:0.081933#011validation-error:0.139\u001b[0m\n",
      "\u001b[34m[21:42:23] src/tree/updater_prune.cc:74: tree pruning end, 1 roots, 12 extra nodes, 2 pruned nodes, max_depth=5\u001b[0m\n",
      "\u001b[34m[160]#011train-error:0.0818#011validation-error:0.1393\u001b[0m\n",
      "\u001b[34m[21:42:25] src/tree/updater_prune.cc:74: tree pruning end, 1 roots, 10 extra nodes, 8 pruned nodes, max_depth=5\u001b[0m\n",
      "\u001b[34m[161]#011train-error:0.081867#011validation-error:0.1389\u001b[0m\n",
      "\u001b[34m[21:42:26] src/tree/updater_prune.cc:74: tree pruning end, 1 roots, 10 extra nodes, 8 pruned nodes, max_depth=5\u001b[0m\n",
      "\u001b[34m[162]#011train-error:0.0818#011validation-error:0.1386\u001b[0m\n",
      "\u001b[34m[21:42:27] src/tree/updater_prune.cc:74: tree pruning end, 1 roots, 12 extra nodes, 2 pruned nodes, max_depth=5\u001b[0m\n",
      "\u001b[34m[163]#011train-error:0.081667#011validation-error:0.1386\u001b[0m\n",
      "\u001b[34m[21:42:29] src/tree/updater_prune.cc:74: tree pruning end, 1 roots, 22 extra nodes, 6 pruned nodes, max_depth=5\u001b[0m\n",
      "\u001b[34m[164]#011train-error:0.0812#011validation-error:0.1382\u001b[0m\n",
      "\u001b[34m[21:42:30] src/tree/updater_prune.cc:74: tree pruning end, 1 roots, 14 extra nodes, 12 pruned nodes, max_depth=5\u001b[0m\n",
      "\u001b[34m[165]#011train-error:0.081067#011validation-error:0.1382\u001b[0m\n",
      "\u001b[34m[21:42:31] src/tree/updater_prune.cc:74: tree pruning end, 1 roots, 18 extra nodes, 4 pruned nodes, max_depth=5\u001b[0m\n",
      "\u001b[34m[166]#011train-error:0.081#011validation-error:0.1373\u001b[0m\n",
      "\u001b[34m[21:42:33] src/tree/updater_prune.cc:74: tree pruning end, 1 roots, 14 extra nodes, 12 pruned nodes, max_depth=5\u001b[0m\n",
      "\u001b[34m[167]#011train-error:0.080333#011validation-error:0.1379\u001b[0m\n",
      "\u001b[34m[21:42:34] src/tree/updater_prune.cc:74: tree pruning end, 1 roots, 16 extra nodes, 10 pruned nodes, max_depth=5\u001b[0m\n",
      "\u001b[34m[168]#011train-error:0.080267#011validation-error:0.1378\u001b[0m\n",
      "\u001b[34m[21:42:35] src/tree/updater_prune.cc:74: tree pruning end, 1 roots, 10 extra nodes, 0 pruned nodes, max_depth=5\u001b[0m\n",
      "\u001b[34m[169]#011train-error:0.0802#011validation-error:0.1381\u001b[0m\n",
      "\u001b[34m[21:42:37] src/tree/updater_prune.cc:74: tree pruning end, 1 roots, 10 extra nodes, 4 pruned nodes, max_depth=5\u001b[0m\n",
      "\u001b[34m[170]#011train-error:0.080067#011validation-error:0.1379\u001b[0m\n",
      "\u001b[34m[21:42:38] src/tree/updater_prune.cc:74: tree pruning end, 1 roots, 14 extra nodes, 8 pruned nodes, max_depth=5\u001b[0m\n",
      "\u001b[34m[171]#011train-error:0.079267#011validation-error:0.138\u001b[0m\n",
      "\u001b[34m[21:42:39] src/tree/updater_prune.cc:74: tree pruning end, 1 roots, 20 extra nodes, 6 pruned nodes, max_depth=5\u001b[0m\n",
      "\u001b[34m[172]#011train-error:0.079#011validation-error:0.1371\u001b[0m\n",
      "\u001b[34m[21:42:41] src/tree/updater_prune.cc:74: tree pruning end, 1 roots, 14 extra nodes, 10 pruned nodes, max_depth=5\u001b[0m\n",
      "\u001b[34m[173]#011train-error:0.078867#011validation-error:0.1377\u001b[0m\n",
      "\u001b[34m[21:42:42] src/tree/updater_prune.cc:74: tree pruning end, 1 roots, 14 extra nodes, 6 pruned nodes, max_depth=5\u001b[0m\n",
      "\u001b[34m[174]#011train-error:0.079267#011validation-error:0.1376\u001b[0m\n",
      "\u001b[34m[21:42:43] src/tree/updater_prune.cc:74: tree pruning end, 1 roots, 16 extra nodes, 8 pruned nodes, max_depth=5\u001b[0m\n",
      "\u001b[34m[175]#011train-error:0.078667#011validation-error:0.1366\u001b[0m\n",
      "\u001b[34m[21:42:44] src/tree/updater_prune.cc:74: tree pruning end, 1 roots, 14 extra nodes, 8 pruned nodes, max_depth=5\u001b[0m\n",
      "\u001b[34m[176]#011train-error:0.078267#011validation-error:0.1368\u001b[0m\n",
      "\u001b[34m[21:42:46] src/tree/updater_prune.cc:74: tree pruning end, 1 roots, 24 extra nodes, 8 pruned nodes, max_depth=5\u001b[0m\n",
      "\u001b[34m[177]#011train-error:0.078067#011validation-error:0.1359\u001b[0m\n",
      "\u001b[34m[21:42:47] src/tree/updater_prune.cc:74: tree pruning end, 1 roots, 20 extra nodes, 16 pruned nodes, max_depth=5\u001b[0m\n",
      "\u001b[34m[178]#011train-error:0.077733#011validation-error:0.1355\u001b[0m\n",
      "\u001b[34m[21:42:48] src/tree/updater_prune.cc:74: tree pruning end, 1 roots, 14 extra nodes, 10 pruned nodes, max_depth=5\u001b[0m\n",
      "\u001b[34m[179]#011train-error:0.0778#011validation-error:0.1359\u001b[0m\n",
      "\u001b[34m[21:42:50] src/tree/updater_prune.cc:74: tree pruning end, 1 roots, 12 extra nodes, 0 pruned nodes, max_depth=5\u001b[0m\n",
      "\u001b[34m[180]#011train-error:0.077667#011validation-error:0.1357\u001b[0m\n",
      "\u001b[34m[21:42:51] src/tree/updater_prune.cc:74: tree pruning end, 1 roots, 10 extra nodes, 4 pruned nodes, max_depth=5\u001b[0m\n",
      "\u001b[34m[181]#011train-error:0.077333#011validation-error:0.1352\u001b[0m\n",
      "\u001b[34m[21:42:52] src/tree/updater_prune.cc:74: tree pruning end, 1 roots, 14 extra nodes, 8 pruned nodes, max_depth=5\u001b[0m\n",
      "\u001b[34m[182]#011train-error:0.077267#011validation-error:0.1355\u001b[0m\n",
      "\u001b[34m[21:42:54] src/tree/updater_prune.cc:74: tree pruning end, 1 roots, 22 extra nodes, 12 pruned nodes, max_depth=5\u001b[0m\n",
      "\u001b[34m[183]#011train-error:0.077067#011validation-error:0.1356\u001b[0m\n",
      "\u001b[34m[21:42:55] src/tree/updater_prune.cc:74: tree pruning end, 1 roots, 16 extra nodes, 12 pruned nodes, max_depth=5\u001b[0m\n",
      "\u001b[34m[184]#011train-error:0.0764#011validation-error:0.1348\u001b[0m\n",
      "\u001b[34m[21:42:56] src/tree/updater_prune.cc:74: tree pruning end, 1 roots, 12 extra nodes, 12 pruned nodes, max_depth=5\u001b[0m\n",
      "\u001b[34m[185]#011train-error:0.076067#011validation-error:0.1348\u001b[0m\n",
      "\u001b[34m[21:42:57] src/tree/updater_prune.cc:74: tree pruning end, 1 roots, 16 extra nodes, 4 pruned nodes, max_depth=5\u001b[0m\n",
      "\u001b[34m[186]#011train-error:0.076267#011validation-error:0.1352\u001b[0m\n",
      "\u001b[34m[21:42:59] src/tree/updater_prune.cc:74: tree pruning end, 1 roots, 10 extra nodes, 6 pruned nodes, max_depth=5\u001b[0m\n",
      "\u001b[34m[187]#011train-error:0.075933#011validation-error:0.1351\u001b[0m\n",
      "\u001b[34m[21:43:00] src/tree/updater_prune.cc:74: tree pruning end, 1 roots, 14 extra nodes, 4 pruned nodes, max_depth=5\u001b[0m\n",
      "\u001b[34m[188]#011train-error:0.076133#011validation-error:0.1352\u001b[0m\n",
      "\u001b[34m[21:43:01] src/tree/updater_prune.cc:74: tree pruning end, 1 roots, 10 extra nodes, 10 pruned nodes, max_depth=5\u001b[0m\n",
      "\u001b[34m[189]#011train-error:0.0764#011validation-error:0.1356\u001b[0m\n",
      "\u001b[34m[21:43:03] src/tree/updater_prune.cc:74: tree pruning end, 1 roots, 10 extra nodes, 4 pruned nodes, max_depth=5\u001b[0m\n",
      "\u001b[34m[190]#011train-error:0.076333#011validation-error:0.135\u001b[0m\n",
      "\u001b[34m[21:43:04] src/tree/updater_prune.cc:74: tree pruning end, 1 roots, 10 extra nodes, 12 pruned nodes, max_depth=5\u001b[0m\n",
      "\u001b[34m[191]#011train-error:0.076067#011validation-error:0.1341\u001b[0m\n",
      "\u001b[34m[21:43:05] src/tree/updater_prune.cc:74: tree pruning end, 1 roots, 26 extra nodes, 12 pruned nodes, max_depth=5\u001b[0m\n",
      "\u001b[34m[192]#011train-error:0.0746#011validation-error:0.134\u001b[0m\n",
      "\u001b[34m[21:43:07] src/tree/updater_prune.cc:74: tree pruning end, 1 roots, 20 extra nodes, 18 pruned nodes, max_depth=5\u001b[0m\n",
      "\u001b[34m[193]#011train-error:0.074067#011validation-error:0.1344\u001b[0m\n",
      "\u001b[34m[21:43:08] src/tree/updater_prune.cc:74: tree pruning end, 1 roots, 18 extra nodes, 6 pruned nodes, max_depth=5\u001b[0m\n",
      "\u001b[34m[194]#011train-error:0.073733#011validation-error:0.134\u001b[0m\n",
      "\u001b[34m[21:43:09] src/tree/updater_prune.cc:74: tree pruning end, 1 roots, 14 extra nodes, 0 pruned nodes, max_depth=5\u001b[0m\n",
      "\u001b[34m[195]#011train-error:0.0734#011validation-error:0.1343\u001b[0m\n",
      "\u001b[34m[21:43:11] src/tree/updater_prune.cc:74: tree pruning end, 1 roots, 10 extra nodes, 8 pruned nodes, max_depth=5\u001b[0m\n",
      "\u001b[34m[196]#011train-error:0.073267#011validation-error:0.1333\u001b[0m\n",
      "\u001b[34m[21:43:12] src/tree/updater_prune.cc:74: tree pruning end, 1 roots, 28 extra nodes, 0 pruned nodes, max_depth=5\u001b[0m\n",
      "\u001b[34m[197]#011train-error:0.073667#011validation-error:0.1333\u001b[0m\n",
      "\u001b[34m[21:43:13] src/tree/updater_prune.cc:74: tree pruning end, 1 roots, 12 extra nodes, 4 pruned nodes, max_depth=5\u001b[0m\n",
      "\u001b[34m[198]#011train-error:0.074#011validation-error:0.1335\u001b[0m\n",
      "\u001b[34m[21:43:15] src/tree/updater_prune.cc:74: tree pruning end, 1 roots, 14 extra nodes, 12 pruned nodes, max_depth=5\u001b[0m\n",
      "\u001b[34m[199]#011train-error:0.073333#011validation-error:0.1327\u001b[0m\n",
      "\u001b[34m[21:43:16] src/tree/updater_prune.cc:74: tree pruning end, 1 roots, 14 extra nodes, 10 pruned nodes, max_depth=5\u001b[0m\n",
      "\u001b[34m[200]#011train-error:0.073333#011validation-error:0.1336\u001b[0m\n",
      "\u001b[34m[21:43:17] src/tree/updater_prune.cc:74: tree pruning end, 1 roots, 10 extra nodes, 10 pruned nodes, max_depth=5\u001b[0m\n",
      "\u001b[34m[201]#011train-error:0.073467#011validation-error:0.1331\u001b[0m\n",
      "\u001b[34m[21:43:19] src/tree/updater_prune.cc:74: tree pruning end, 1 roots, 14 extra nodes, 12 pruned nodes, max_depth=5\u001b[0m\n",
      "\u001b[34m[202]#011train-error:0.0736#011validation-error:0.1326\u001b[0m\n",
      "\u001b[34m[21:43:20] src/tree/updater_prune.cc:74: tree pruning end, 1 roots, 14 extra nodes, 6 pruned nodes, max_depth=5\u001b[0m\n",
      "\u001b[34m[203]#011train-error:0.073133#011validation-error:0.1329\u001b[0m\n",
      "\u001b[34m[21:43:21] src/tree/updater_prune.cc:74: tree pruning end, 1 roots, 10 extra nodes, 0 pruned nodes, max_depth=5\u001b[0m\n",
      "\u001b[34m[204]#011train-error:0.0728#011validation-error:0.1326\u001b[0m\n",
      "\u001b[34m[21:43:22] src/tree/updater_prune.cc:74: tree pruning end, 1 roots, 14 extra nodes, 4 pruned nodes, max_depth=5\u001b[0m\n",
      "\u001b[34m[205]#011train-error:0.072#011validation-error:0.1322\u001b[0m\n",
      "\u001b[34m[21:43:24] src/tree/updater_prune.cc:74: tree pruning end, 1 roots, 10 extra nodes, 4 pruned nodes, max_depth=5\u001b[0m\n",
      "\u001b[34m[206]#011train-error:0.071933#011validation-error:0.1321\u001b[0m\n",
      "\u001b[34m[21:43:25] src/tree/updater_prune.cc:74: tree pruning end, 1 roots, 16 extra nodes, 16 pruned nodes, max_depth=5\u001b[0m\n",
      "\u001b[34m[207]#011train-error:0.0718#011validation-error:0.1315\u001b[0m\n",
      "\u001b[34m[21:43:26] src/tree/updater_prune.cc:74: tree pruning end, 1 roots, 18 extra nodes, 10 pruned nodes, max_depth=5\u001b[0m\n",
      "\u001b[34m[208]#011train-error:0.071467#011validation-error:0.1318\u001b[0m\n",
      "\u001b[34m[21:43:28] src/tree/updater_prune.cc:74: tree pruning end, 1 roots, 18 extra nodes, 20 pruned nodes, max_depth=5\u001b[0m\n",
      "\u001b[34m[209]#011train-error:0.070867#011validation-error:0.1315\u001b[0m\n",
      "\u001b[34m[21:43:29] src/tree/updater_prune.cc:74: tree pruning end, 1 roots, 12 extra nodes, 12 pruned nodes, max_depth=5\u001b[0m\n",
      "\u001b[34m[210]#011train-error:0.071067#011validation-error:0.1319\u001b[0m\n",
      "\u001b[34m[21:43:30] src/tree/updater_prune.cc:74: tree pruning end, 1 roots, 12 extra nodes, 6 pruned nodes, max_depth=5\u001b[0m\n",
      "\u001b[34m[211]#011train-error:0.070533#011validation-error:0.1317\u001b[0m\n",
      "\u001b[34m[21:43:32] src/tree/updater_prune.cc:74: tree pruning end, 1 roots, 12 extra nodes, 2 pruned nodes, max_depth=5\u001b[0m\n",
      "\u001b[34m[212]#011train-error:0.070267#011validation-error:0.132\u001b[0m\n",
      "\u001b[34m[21:43:33] src/tree/updater_prune.cc:74: tree pruning end, 1 roots, 14 extra nodes, 10 pruned nodes, max_depth=5\u001b[0m\n",
      "\u001b[34m[213]#011train-error:0.070333#011validation-error:0.1323\u001b[0m\n",
      "\u001b[34m[21:43:34] src/tree/updater_prune.cc:74: tree pruning end, 1 roots, 10 extra nodes, 6 pruned nodes, max_depth=5\u001b[0m\n",
      "\u001b[34m[214]#011train-error:0.070133#011validation-error:0.1321\u001b[0m\n",
      "\u001b[34m[21:43:35] src/tree/updater_prune.cc:74: tree pruning end, 1 roots, 14 extra nodes, 10 pruned nodes, max_depth=5\u001b[0m\n",
      "\u001b[34m[215]#011train-error:0.069867#011validation-error:0.1318\u001b[0m\n",
      "\u001b[34m[21:43:37] src/tree/updater_prune.cc:74: tree pruning end, 1 roots, 12 extra nodes, 4 pruned nodes, max_depth=5\u001b[0m\n",
      "\u001b[34m[216]#011train-error:0.069733#011validation-error:0.1323\u001b[0m\n",
      "\u001b[34m[21:43:38] src/tree/updater_prune.cc:74: tree pruning end, 1 roots, 12 extra nodes, 2 pruned nodes, max_depth=5\u001b[0m\n",
      "\u001b[34m[217]#011train-error:0.069933#011validation-error:0.1319\u001b[0m\n",
      "\u001b[34mStopping. Best iteration:\u001b[0m\n",
      "\u001b[34m[207]#011train-error:0.0718#011validation-error:0.1315\n",
      "\u001b[0m\n",
      "\n",
      "2020-10-28 21:43:49 Uploading - Uploading generated training model\n",
      "2020-10-28 21:43:56 Completed - Training job completed\n",
      "Training seconds: 347\n",
      "Billable seconds: 347\n"
     ]
    }
   ],
   "source": [
    "xgb.fit({'train': s3_input_train, 'validation': s3_input_validation})"
   ]
  },
  {
   "cell_type": "markdown",
   "metadata": {},
   "source": [
    "## Step 5: Testing the model\n",
    "\n",
    "Now that we've fit our XGBoost model, it's time to see how well it performs. To do this we will use SageMakers Batch Transform functionality. Batch Transform is a convenient way to perform inference on a large dataset in a way that is not realtime. That is, we don't necessarily need to use our model's results immediately and instead we can perform inference on a large number of samples. An example of this in industry might be performing an end of month report. This method of inference can also be useful to us as it means that we can perform inference on our entire test set. \n",
    "\n",
    "To perform a Batch Transformation we need to first create a transformer objects from our trained estimator object."
   ]
  },
  {
   "cell_type": "code",
   "execution_count": 24,
   "metadata": {},
   "outputs": [
    {
     "name": "stderr",
     "output_type": "stream",
     "text": [
      "Parameter image will be renamed to image_uri in SageMaker Python SDK v2.\n"
     ]
    }
   ],
   "source": [
    "xgb_transformer = xgb.transformer(instance_count = 1, instance_type = 'ml.m4.xlarge')"
   ]
  },
  {
   "cell_type": "markdown",
   "metadata": {},
   "source": [
    "Next we actually perform the transform job. When doing so we need to make sure to specify the type of data we are sending so that it is serialized correctly in the background. In our case we are providing our model with csv data so we specify `text/csv`. Also, if the test data that we have provided is too large to process all at once then we need to specify how the data file should be split up. Since each line is a single entry in our data set we tell SageMaker that it can split the input on each line."
   ]
  },
  {
   "cell_type": "code",
   "execution_count": 25,
   "metadata": {},
   "outputs": [],
   "source": [
    "xgb_transformer.transform(test_location, content_type='text/csv', split_type='Line')"
   ]
  },
  {
   "cell_type": "markdown",
   "metadata": {},
   "source": [
    "Currently the transform job is running but it is doing so in the background. Since we wish to wait until the transform job is done and we would like a bit of feedback we can run the `wait()` method."
   ]
  },
  {
   "cell_type": "code",
   "execution_count": 26,
   "metadata": {},
   "outputs": [
    {
     "name": "stdout",
     "output_type": "stream",
     "text": [
      "............................\u001b[34mArguments: serve\u001b[0m\n",
      "\u001b[35mArguments: serve\u001b[0m\n",
      "\u001b[34m[2020-10-28 21:49:02 +0000] [1] [INFO] Starting gunicorn 19.7.1\u001b[0m\n",
      "\u001b[34m[2020-10-28 21:49:02 +0000] [1] [INFO] Listening at: http://0.0.0.0:8080 (1)\u001b[0m\n",
      "\u001b[34m[2020-10-28 21:49:02 +0000] [1] [INFO] Using worker: gevent\u001b[0m\n",
      "\u001b[34m[2020-10-28 21:49:02 +0000] [37] [INFO] Booting worker with pid: 37\u001b[0m\n",
      "\u001b[34m[2020-10-28 21:49:02 +0000] [38] [INFO] Booting worker with pid: 38\u001b[0m\n",
      "\u001b[34m[2020-10-28:21:49:02:INFO] Model loaded successfully for worker : 37\u001b[0m\n",
      "\u001b[34m[2020-10-28 21:49:02 +0000] [39] [INFO] Booting worker with pid: 39\u001b[0m\n",
      "\u001b[35m[2020-10-28 21:49:02 +0000] [1] [INFO] Starting gunicorn 19.7.1\u001b[0m\n",
      "\u001b[35m[2020-10-28 21:49:02 +0000] [1] [INFO] Listening at: http://0.0.0.0:8080 (1)\u001b[0m\n",
      "\u001b[35m[2020-10-28 21:49:02 +0000] [1] [INFO] Using worker: gevent\u001b[0m\n",
      "\u001b[35m[2020-10-28 21:49:02 +0000] [37] [INFO] Booting worker with pid: 37\u001b[0m\n",
      "\u001b[35m[2020-10-28 21:49:02 +0000] [38] [INFO] Booting worker with pid: 38\u001b[0m\n",
      "\u001b[35m[2020-10-28:21:49:02:INFO] Model loaded successfully for worker : 37\u001b[0m\n",
      "\u001b[35m[2020-10-28 21:49:02 +0000] [39] [INFO] Booting worker with pid: 39\u001b[0m\n",
      "\u001b[34m[2020-10-28 21:49:02 +0000] [40] [INFO] Booting worker with pid: 40\u001b[0m\n",
      "\u001b[34m[2020-10-28:21:49:02:INFO] Model loaded successfully for worker : 38\u001b[0m\n",
      "\u001b[34m[2020-10-28:21:49:02:INFO] Model loaded successfully for worker : 39\u001b[0m\n",
      "\u001b[34m[2020-10-28:21:49:03:INFO] Model loaded successfully for worker : 40\u001b[0m\n",
      "\u001b[34m[2020-10-28:21:49:03:INFO] Sniff delimiter as ','\u001b[0m\n",
      "\u001b[34m[2020-10-28:21:49:03:INFO] Determined delimiter of CSV input is ','\u001b[0m\n",
      "\u001b[34m[2020-10-28:21:49:03:INFO] Sniff delimiter as ','\u001b[0m\n",
      "\u001b[34m[2020-10-28:21:49:03:INFO] Determined delimiter of CSV input is ','\u001b[0m\n",
      "\u001b[34m[2020-10-28:21:49:03:INFO] Sniff delimiter as ','\u001b[0m\n",
      "\u001b[34m[2020-10-28:21:49:03:INFO] Determined delimiter of CSV input is ','\u001b[0m\n",
      "\u001b[34m[2020-10-28:21:49:03:INFO] Sniff delimiter as ','\u001b[0m\n",
      "\u001b[34m[2020-10-28:21:49:03:INFO] Determined delimiter of CSV input is ','\u001b[0m\n",
      "\u001b[35m[2020-10-28 21:49:02 +0000] [40] [INFO] Booting worker with pid: 40\u001b[0m\n",
      "\u001b[35m[2020-10-28:21:49:02:INFO] Model loaded successfully for worker : 38\u001b[0m\n",
      "\u001b[35m[2020-10-28:21:49:02:INFO] Model loaded successfully for worker : 39\u001b[0m\n",
      "\u001b[35m[2020-10-28:21:49:03:INFO] Model loaded successfully for worker : 40\u001b[0m\n",
      "\u001b[35m[2020-10-28:21:49:03:INFO] Sniff delimiter as ','\u001b[0m\n",
      "\u001b[35m[2020-10-28:21:49:03:INFO] Determined delimiter of CSV input is ','\u001b[0m\n",
      "\u001b[35m[2020-10-28:21:49:03:INFO] Sniff delimiter as ','\u001b[0m\n",
      "\u001b[35m[2020-10-28:21:49:03:INFO] Determined delimiter of CSV input is ','\u001b[0m\n",
      "\u001b[35m[2020-10-28:21:49:03:INFO] Sniff delimiter as ','\u001b[0m\n",
      "\u001b[35m[2020-10-28:21:49:03:INFO] Determined delimiter of CSV input is ','\u001b[0m\n",
      "\u001b[35m[2020-10-28:21:49:03:INFO] Sniff delimiter as ','\u001b[0m\n",
      "\u001b[35m[2020-10-28:21:49:03:INFO] Determined delimiter of CSV input is ','\u001b[0m\n",
      "\u001b[34m[2020-10-28:21:49:05:INFO] Sniff delimiter as ','\u001b[0m\n",
      "\u001b[35m[2020-10-28:21:49:05:INFO] Sniff delimiter as ','\u001b[0m\n",
      "\u001b[34m[2020-10-28:21:49:05:INFO] Determined delimiter of CSV input is ','\u001b[0m\n",
      "\u001b[34m[2020-10-28:21:49:05:INFO] Sniff delimiter as ','\u001b[0m\n",
      "\u001b[34m[2020-10-28:21:49:05:INFO] Determined delimiter of CSV input is ','\u001b[0m\n",
      "\u001b[34m[2020-10-28:21:49:05:INFO] Sniff delimiter as ','\u001b[0m\n",
      "\u001b[34m[2020-10-28:21:49:05:INFO] Determined delimiter of CSV input is ','\u001b[0m\n",
      "\u001b[34m[2020-10-28:21:49:06:INFO] Sniff delimiter as ','\u001b[0m\n",
      "\u001b[34m[2020-10-28:21:49:06:INFO] Determined delimiter of CSV input is ','\u001b[0m\n",
      "\u001b[35m[2020-10-28:21:49:05:INFO] Determined delimiter of CSV input is ','\u001b[0m\n",
      "\u001b[35m[2020-10-28:21:49:05:INFO] Sniff delimiter as ','\u001b[0m\n",
      "\u001b[35m[2020-10-28:21:49:05:INFO] Determined delimiter of CSV input is ','\u001b[0m\n",
      "\u001b[35m[2020-10-28:21:49:05:INFO] Sniff delimiter as ','\u001b[0m\n",
      "\u001b[35m[2020-10-28:21:49:05:INFO] Determined delimiter of CSV input is ','\u001b[0m\n",
      "\u001b[35m[2020-10-28:21:49:06:INFO] Sniff delimiter as ','\u001b[0m\n",
      "\u001b[35m[2020-10-28:21:49:06:INFO] Determined delimiter of CSV input is ','\u001b[0m\n",
      "\u001b[32m2020-10-28T21:49:02.828:[sagemaker logs]: MaxConcurrentTransforms=4, MaxPayloadInMB=6, BatchStrategy=MULTI_RECORD\u001b[0m\n",
      "\u001b[34m[2020-10-28:21:49:08:INFO] Sniff delimiter as ','\u001b[0m\n",
      "\u001b[34m[2020-10-28:21:49:08:INFO] Determined delimiter of CSV input is ','\u001b[0m\n",
      "\u001b[34m[2020-10-28:21:49:08:INFO] Sniff delimiter as ','\u001b[0m\n",
      "\u001b[34m[2020-10-28:21:49:08:INFO] Determined delimiter of CSV input is ','\u001b[0m\n",
      "\u001b[34m[2020-10-28:21:49:08:INFO] Sniff delimiter as ','\u001b[0m\n",
      "\u001b[34m[2020-10-28:21:49:08:INFO] Determined delimiter of CSV input is ','\u001b[0m\n",
      "\u001b[35m[2020-10-28:21:49:08:INFO] Sniff delimiter as ','\u001b[0m\n",
      "\u001b[35m[2020-10-28:21:49:08:INFO] Determined delimiter of CSV input is ','\u001b[0m\n",
      "\u001b[35m[2020-10-28:21:49:08:INFO] Sniff delimiter as ','\u001b[0m\n",
      "\u001b[35m[2020-10-28:21:49:08:INFO] Determined delimiter of CSV input is ','\u001b[0m\n",
      "\u001b[35m[2020-10-28:21:49:08:INFO] Sniff delimiter as ','\u001b[0m\n",
      "\u001b[35m[2020-10-28:21:49:08:INFO] Determined delimiter of CSV input is ','\u001b[0m\n",
      "\u001b[34m[2020-10-28:21:49:08:INFO] Sniff delimiter as ','\u001b[0m\n",
      "\u001b[34m[2020-10-28:21:49:08:INFO] Determined delimiter of CSV input is ','\u001b[0m\n",
      "\u001b[35m[2020-10-28:21:49:08:INFO] Sniff delimiter as ','\u001b[0m\n",
      "\u001b[35m[2020-10-28:21:49:08:INFO] Determined delimiter of CSV input is ','\u001b[0m\n",
      "\u001b[34m[2020-10-28:21:49:10:INFO] Sniff delimiter as ','\u001b[0m\n",
      "\u001b[34m[2020-10-28:21:49:10:INFO] Determined delimiter of CSV input is ','\u001b[0m\n",
      "\u001b[34m[2020-10-28:21:49:10:INFO] Sniff delimiter as ','\u001b[0m\n",
      "\u001b[34m[2020-10-28:21:49:10:INFO] Determined delimiter of CSV input is ','\u001b[0m\n",
      "\u001b[34m[2020-10-28:21:49:11:INFO] Sniff delimiter as ','\u001b[0m\n",
      "\u001b[34m[2020-10-28:21:49:11:INFO] Determined delimiter of CSV input is ','\u001b[0m\n",
      "\u001b[34m[2020-10-28:21:49:11:INFO] Sniff delimiter as ','\u001b[0m\n",
      "\u001b[35m[2020-10-28:21:49:10:INFO] Sniff delimiter as ','\u001b[0m\n",
      "\u001b[35m[2020-10-28:21:49:10:INFO] Determined delimiter of CSV input is ','\u001b[0m\n",
      "\u001b[35m[2020-10-28:21:49:10:INFO] Sniff delimiter as ','\u001b[0m\n",
      "\u001b[35m[2020-10-28:21:49:10:INFO] Determined delimiter of CSV input is ','\u001b[0m\n",
      "\u001b[35m[2020-10-28:21:49:11:INFO] Sniff delimiter as ','\u001b[0m\n",
      "\u001b[35m[2020-10-28:21:49:11:INFO] Determined delimiter of CSV input is ','\u001b[0m\n",
      "\u001b[35m[2020-10-28:21:49:11:INFO] Sniff delimiter as ','\u001b[0m\n",
      "\u001b[34m[2020-10-28:21:49:11:INFO] Determined delimiter of CSV input is ','\u001b[0m\n",
      "\u001b[35m[2020-10-28:21:49:11:INFO] Determined delimiter of CSV input is ','\u001b[0m\n",
      "\u001b[34m[2020-10-28:21:49:13:INFO] Determined delimiter of CSV input is ','\u001b[0m\n",
      "\u001b[34m[2020-10-28:21:49:13:INFO] Sniff delimiter as ','\u001b[0m\n",
      "\u001b[34m[2020-10-28:21:49:13:INFO] Determined delimiter of CSV input is ','\u001b[0m\n",
      "\u001b[34m[2020-10-28:21:49:13:INFO] Sniff delimiter as ','\u001b[0m\n",
      "\u001b[34m[2020-10-28:21:49:13:INFO] Determined delimiter of CSV input is ','\u001b[0m\n",
      "\u001b[35m[2020-10-28:21:49:13:INFO] Determined delimiter of CSV input is ','\u001b[0m\n",
      "\u001b[35m[2020-10-28:21:49:13:INFO] Sniff delimiter as ','\u001b[0m\n",
      "\u001b[35m[2020-10-28:21:49:13:INFO] Determined delimiter of CSV input is ','\u001b[0m\n",
      "\u001b[35m[2020-10-28:21:49:13:INFO] Sniff delimiter as ','\u001b[0m\n",
      "\u001b[35m[2020-10-28:21:49:13:INFO] Determined delimiter of CSV input is ','\u001b[0m\n",
      "\u001b[34m[2020-10-28:21:49:13:INFO] Sniff delimiter as ','\u001b[0m\n",
      "\u001b[34m[2020-10-28:21:49:13:INFO] Determined delimiter of CSV input is ','\u001b[0m\n",
      "\u001b[35m[2020-10-28:21:49:13:INFO] Sniff delimiter as ','\u001b[0m\n",
      "\u001b[35m[2020-10-28:21:49:13:INFO] Determined delimiter of CSV input is ','\u001b[0m\n",
      "\u001b[34m[2020-10-28:21:49:15:INFO] Sniff delimiter as ','\u001b[0m\n",
      "\u001b[34m[2020-10-28:21:49:15:INFO] Determined delimiter of CSV input is ','\u001b[0m\n",
      "\u001b[34m[2020-10-28:21:49:15:INFO] Sniff delimiter as ','\u001b[0m\n",
      "\u001b[34m[2020-10-28:21:49:15:INFO] Determined delimiter of CSV input is ','\u001b[0m\n",
      "\u001b[34m[2020-10-28:21:49:16:INFO] Sniff delimiter as ','\u001b[0m\n",
      "\u001b[34m[2020-10-28:21:49:16:INFO] Determined delimiter of CSV input is ','\u001b[0m\n",
      "\u001b[34m[2020-10-28:21:49:16:INFO] Sniff delimiter as ','\u001b[0m\n",
      "\u001b[34m[2020-10-28:21:49:16:INFO] Determined delimiter of CSV input is ','\u001b[0m\n",
      "\u001b[35m[2020-10-28:21:49:15:INFO] Sniff delimiter as ','\u001b[0m\n",
      "\u001b[35m[2020-10-28:21:49:15:INFO] Determined delimiter of CSV input is ','\u001b[0m\n",
      "\u001b[35m[2020-10-28:21:49:15:INFO] Sniff delimiter as ','\u001b[0m\n",
      "\u001b[35m[2020-10-28:21:49:15:INFO] Determined delimiter of CSV input is ','\u001b[0m\n",
      "\u001b[35m[2020-10-28:21:49:16:INFO] Sniff delimiter as ','\u001b[0m\n",
      "\u001b[35m[2020-10-28:21:49:16:INFO] Determined delimiter of CSV input is ','\u001b[0m\n",
      "\u001b[35m[2020-10-28:21:49:16:INFO] Sniff delimiter as ','\u001b[0m\n",
      "\u001b[35m[2020-10-28:21:49:16:INFO] Determined delimiter of CSV input is ','\u001b[0m\n",
      "\u001b[34m[2020-10-28:21:49:18:INFO] Sniff delimiter as ','\u001b[0m\n",
      "\u001b[34m[2020-10-28:21:49:18:INFO] Determined delimiter of CSV input is ','\u001b[0m\n",
      "\u001b[34m[2020-10-28:21:49:18:INFO] Sniff delimiter as ','\u001b[0m\n",
      "\u001b[34m[2020-10-28:21:49:18:INFO] Determined delimiter of CSV input is ','\u001b[0m\n",
      "\u001b[34m[2020-10-28:21:49:18:INFO] Sniff delimiter as ','\u001b[0m\n",
      "\u001b[35m[2020-10-28:21:49:18:INFO] Sniff delimiter as ','\u001b[0m\n",
      "\u001b[35m[2020-10-28:21:49:18:INFO] Determined delimiter of CSV input is ','\u001b[0m\n",
      "\u001b[35m[2020-10-28:21:49:18:INFO] Sniff delimiter as ','\u001b[0m\n",
      "\u001b[35m[2020-10-28:21:49:18:INFO] Determined delimiter of CSV input is ','\u001b[0m\n",
      "\u001b[35m[2020-10-28:21:49:18:INFO] Sniff delimiter as ','\u001b[0m\n",
      "\u001b[34m[2020-10-28:21:49:18:INFO] Determined delimiter of CSV input is ','\u001b[0m\n",
      "\u001b[35m[2020-10-28:21:49:18:INFO] Determined delimiter of CSV input is ','\u001b[0m\n",
      "\u001b[34m[2020-10-28:21:49:18:INFO] Sniff delimiter as ','\u001b[0m\n",
      "\u001b[34m[2020-10-28:21:49:18:INFO] Determined delimiter of CSV input is ','\u001b[0m\n",
      "\u001b[35m[2020-10-28:21:49:18:INFO] Sniff delimiter as ','\u001b[0m\n",
      "\u001b[35m[2020-10-28:21:49:18:INFO] Determined delimiter of CSV input is ','\u001b[0m\n",
      "\u001b[34m[2020-10-28:21:49:20:INFO] Sniff delimiter as ','\u001b[0m\n",
      "\u001b[34m[2020-10-28:21:49:20:INFO] Determined delimiter of CSV input is ','\u001b[0m\n",
      "\u001b[35m[2020-10-28:21:49:20:INFO] Sniff delimiter as ','\u001b[0m\n",
      "\u001b[35m[2020-10-28:21:49:20:INFO] Determined delimiter of CSV input is ','\u001b[0m\n",
      "\u001b[34m[2020-10-28:21:49:20:INFO] Sniff delimiter as ','\u001b[0m\n",
      "\u001b[34m[2020-10-28:21:49:20:INFO] Determined delimiter of CSV input is ','\u001b[0m\n",
      "\u001b[34m[2020-10-28:21:49:20:INFO] Sniff delimiter as ','\u001b[0m\n",
      "\u001b[35m[2020-10-28:21:49:20:INFO] Sniff delimiter as ','\u001b[0m\n",
      "\u001b[35m[2020-10-28:21:49:20:INFO] Determined delimiter of CSV input is ','\u001b[0m\n",
      "\u001b[35m[2020-10-28:21:49:20:INFO] Sniff delimiter as ','\u001b[0m\n",
      "\u001b[34m[2020-10-28:21:49:20:INFO] Determined delimiter of CSV input is ','\u001b[0m\n",
      "\u001b[34m[2020-10-28:21:49:21:INFO] Sniff delimiter as ','\u001b[0m\n",
      "\u001b[34m[2020-10-28:21:49:21:INFO] Determined delimiter of CSV input is ','\u001b[0m\n",
      "\u001b[35m[2020-10-28:21:49:20:INFO] Determined delimiter of CSV input is ','\u001b[0m\n",
      "\u001b[35m[2020-10-28:21:49:21:INFO] Sniff delimiter as ','\u001b[0m\n",
      "\u001b[35m[2020-10-28:21:49:21:INFO] Determined delimiter of CSV input is ','\u001b[0m\n",
      "\n",
      "\u001b[34m[2020-10-28:21:49:23:INFO] Determined delimiter of CSV input is ','\u001b[0m\n",
      "\u001b[34m[2020-10-28:21:49:23:INFO] Sniff delimiter as ','\u001b[0m\n",
      "\u001b[34m[2020-10-28:21:49:23:INFO] Determined delimiter of CSV input is ','\u001b[0m\n",
      "\u001b[34m[2020-10-28:21:49:23:INFO] Sniff delimiter as ','\u001b[0m\n",
      "\u001b[34m[2020-10-28:21:49:23:INFO] Determined delimiter of CSV input is ','\u001b[0m\n",
      "\u001b[35m[2020-10-28:21:49:23:INFO] Determined delimiter of CSV input is ','\u001b[0m\n",
      "\u001b[35m[2020-10-28:21:49:23:INFO] Sniff delimiter as ','\u001b[0m\n",
      "\u001b[35m[2020-10-28:21:49:23:INFO] Determined delimiter of CSV input is ','\u001b[0m\n",
      "\u001b[35m[2020-10-28:21:49:23:INFO] Sniff delimiter as ','\u001b[0m\n",
      "\u001b[35m[2020-10-28:21:49:23:INFO] Determined delimiter of CSV input is ','\u001b[0m\n",
      "\u001b[34m[2020-10-28:21:49:25:INFO] Sniff delimiter as ','\u001b[0m\n",
      "\u001b[34m[2020-10-28:21:49:25:INFO] Determined delimiter of CSV input is ','\u001b[0m\n",
      "\u001b[35m[2020-10-28:21:49:25:INFO] Sniff delimiter as ','\u001b[0m\n",
      "\u001b[35m[2020-10-28:21:49:25:INFO] Determined delimiter of CSV input is ','\u001b[0m\n",
      "\u001b[34m[2020-10-28:21:49:25:INFO] Sniff delimiter as ','\u001b[0m\n",
      "\u001b[34m[2020-10-28:21:49:25:INFO] Determined delimiter of CSV input is ','\u001b[0m\n",
      "\u001b[35m[2020-10-28:21:49:25:INFO] Sniff delimiter as ','\u001b[0m\n",
      "\u001b[35m[2020-10-28:21:49:25:INFO] Determined delimiter of CSV input is ','\u001b[0m\n",
      "\u001b[34m[2020-10-28:21:49:25:INFO] Sniff delimiter as ','\u001b[0m\n",
      "\u001b[34m[2020-10-28:21:49:25:INFO] Determined delimiter of CSV input is ','\u001b[0m\n",
      "\u001b[34m[2020-10-28:21:49:26:INFO] Sniff delimiter as ','\u001b[0m\n",
      "\u001b[34m[2020-10-28:21:49:26:INFO] Determined delimiter of CSV input is ','\u001b[0m\n",
      "\u001b[35m[2020-10-28:21:49:25:INFO] Sniff delimiter as ','\u001b[0m\n",
      "\u001b[35m[2020-10-28:21:49:25:INFO] Determined delimiter of CSV input is ','\u001b[0m\n",
      "\u001b[35m[2020-10-28:21:49:26:INFO] Sniff delimiter as ','\u001b[0m\n",
      "\u001b[35m[2020-10-28:21:49:26:INFO] Determined delimiter of CSV input is ','\u001b[0m\n"
     ]
    }
   ],
   "source": [
    "xgb_transformer.wait()"
   ]
  },
  {
   "cell_type": "markdown",
   "metadata": {},
   "source": [
    "Now the transform job has executed and the result, the estimated sentiment of each review, has been saved on S3. Since we would rather work on this file locally we can perform a bit of notebook magic to copy the file to the `data_dir`."
   ]
  },
  {
   "cell_type": "code",
   "execution_count": 27,
   "metadata": {},
   "outputs": [
    {
     "name": "stdout",
     "output_type": "stream",
     "text": [
      "download: s3://sagemaker-us-west-1-235103929652/xgboost-2020-10-28-21-44-36-381/test.csv.out to ../data/sentiment_web_app/test.csv.out\n"
     ]
    }
   ],
   "source": [
    "!aws s3 cp --recursive $xgb_transformer.output_path $data_dir"
   ]
  },
  {
   "cell_type": "markdown",
   "metadata": {},
   "source": [
    "The last step is now to read in the output from our model, convert the output to something a little more usable, in this case we want the sentiment to be either `1` (positive) or `0` (negative), and then compare to the ground truth labels."
   ]
  },
  {
   "cell_type": "code",
   "execution_count": 28,
   "metadata": {},
   "outputs": [],
   "source": [
    "predictions = pd.read_csv(os.path.join(data_dir, 'test.csv.out'), header=None)\n",
    "predictions = [round(num) for num in predictions.squeeze().values]"
   ]
  },
  {
   "cell_type": "code",
   "execution_count": 29,
   "metadata": {},
   "outputs": [
    {
     "data": {
      "text/plain": [
       "0.86384"
      ]
     },
     "execution_count": 29,
     "metadata": {},
     "output_type": "execute_result"
    }
   ],
   "source": [
    "from sklearn.metrics import accuracy_score\n",
    "accuracy_score(test_y, predictions)"
   ]
  },
  {
   "cell_type": "markdown",
   "metadata": {},
   "source": [
    "## Step 6: Deploying the model\n",
    "\n",
    "Once we construct and fit our model, SageMaker stores the resulting model artifacts and we can use those to deploy an endpoint (inference code). To see this, look in the SageMaker console and you should see that a model has been created along with a link to the S3 location where the model artifacts have been stored.\n",
    "\n",
    "Deploying an endpoint is a lot like training the model with a few important differences. The first is that a deployed model doesn't change the model artifacts, so as you send it various testing instances the model won't change. Another difference is that since we aren't performing a fixed computation, as we were in the training step or while performing a batch transform, the compute instance that gets started stays running until we tell it to stop. This is important to note as if we forget and leave it running we will be charged the entire time.\n",
    "\n",
    "In other words **If you are no longer using a deployed endpoint, shut it down!**"
   ]
  },
  {
   "cell_type": "code",
   "execution_count": 30,
   "metadata": {},
   "outputs": [
    {
     "name": "stderr",
     "output_type": "stream",
     "text": [
      "Parameter image will be renamed to image_uri in SageMaker Python SDK v2.\n",
      "Using already existing model: xgboost-2020-10-28-21-35-49-473\n"
     ]
    },
    {
     "name": "stdout",
     "output_type": "stream",
     "text": [
      "-------------!"
     ]
    }
   ],
   "source": [
    "xgb_predictor = xgb.deploy(initial_instance_count = 1, instance_type = 'ml.m4.xlarge')"
   ]
  },
  {
   "cell_type": "markdown",
   "metadata": {},
   "source": [
    "### Testing the model (again)\n",
    "\n",
    "Now that we have deployed our endpoint, we can send the testing data to it and get back the inference results. We already did this earlier using the batch transform functionality of SageMaker, however, we will test our model again using the newly deployed endpoint so that we can make sure that it works properly and to get a bit of a feel for how the endpoint works.\n",
    "\n",
    "When using the created endpoint it is important to know that we are limited in the amount of information we can send in each call so we need to break the testing data up into chunks and then send each chunk. Also, we need to serialize our data before we send it to the endpoint to ensure that our data is transmitted properly. Fortunately, SageMaker can do the serialization part for us provided we tell it the format of our data."
   ]
  },
  {
   "cell_type": "code",
   "execution_count": 31,
   "metadata": {},
   "outputs": [],
   "source": [
    "from sagemaker.predictor import csv_serializer\n",
    "\n",
    "# We need to tell the endpoint what format the data we are sending is in so that SageMaker can perform the serialization.\n",
    "xgb_predictor.content_type = 'text/csv'\n",
    "xgb_predictor.serializer = csv_serializer"
   ]
  },
  {
   "cell_type": "code",
   "execution_count": 32,
   "metadata": {},
   "outputs": [],
   "source": [
    "# We split the data into chunks and send each chunk seperately, accumulating the results.\n",
    "\n",
    "def predict(data, rows=512):\n",
    "    split_array = np.array_split(data, int(data.shape[0] / float(rows) + 1))\n",
    "    predictions = ''\n",
    "    for array in split_array:\n",
    "        predictions = ','.join([predictions, xgb_predictor.predict(array).decode('utf-8')])\n",
    "    \n",
    "    return np.fromstring(predictions[1:], sep=',')"
   ]
  },
  {
   "cell_type": "code",
   "execution_count": 33,
   "metadata": {},
   "outputs": [],
   "source": [
    "test_X = pd.read_csv(os.path.join(data_dir, 'test.csv'), header=None).values\n",
    "\n",
    "predictions = predict(test_X)\n",
    "predictions = [round(num) for num in predictions]"
   ]
  },
  {
   "cell_type": "markdown",
   "metadata": {},
   "source": [
    "Lastly, we check to see what the accuracy of our model is."
   ]
  },
  {
   "cell_type": "code",
   "execution_count": 34,
   "metadata": {},
   "outputs": [
    {
     "data": {
      "text/plain": [
       "0.86384"
      ]
     },
     "execution_count": 34,
     "metadata": {},
     "output_type": "execute_result"
    }
   ],
   "source": [
    "from sklearn.metrics import accuracy_score\n",
    "accuracy_score(test_y, predictions)"
   ]
  },
  {
   "cell_type": "markdown",
   "metadata": {},
   "source": [
    "And the results here should agree with the model testing that we did earlier using the batch transform job.\n",
    "\n",
    "### Cleaning up\n",
    "\n",
    "Now that we've determined that deploying our model works as expected, we are going to shut it down. Remember that the longer the endpoint is left running, the greater the cost and since we have a bit more work to do before we are able to use our endpoint with our simple web app, we should shut everything down."
   ]
  },
  {
   "cell_type": "code",
   "execution_count": 35,
   "metadata": {},
   "outputs": [],
   "source": [
    "xgb_predictor.delete_endpoint()"
   ]
  },
  {
   "cell_type": "markdown",
   "metadata": {},
   "source": [
    "## Step 7: Putting our model to work\n",
    "\n",
    "As we've mentioned a few times now, our goal is to have our model deployed and then access it using a very simple web app. The intent is for this web app to take some user submitted data (a review), send it off to our endpoint (the model) and then display the result.\n",
    "\n",
    "However, there is a small catch. Currently the only way we can access the endpoint to send it data is using the SageMaker API. We can, if we wish, expose the actual URL that our model's endpoint is receiving data from, however, if we just send it data ourselves we will not get anything in return. This is because the endpoint created by SageMaker requires the entity accessing it have the correct permissions. So, we would need to somehow authenticate our web app with AWS.\n",
    "\n",
    "Having a website that authenticates to AWS seems a bit beyond the scope of this lesson so we will opt for an alternative approach. Namely, we will create a new endpoint which does not require authentication and which acts as a proxy for the SageMaker endpoint.\n",
    "\n",
    "As an additional constraint, we will try to avoid doing any data processing in the web app itself. Remember that when we constructed and tested our model we started with a movie review, then we simplified it by removing any html formatting and punctuation, then we constructed a bag of words embedding and the resulting vector is what we sent to our model. All of this needs to be done to our user input as well.\n",
    "\n",
    "Fortunately we can do all of this data processing in the backend, using Amazon's Lambda service.\n",
    "\n",
    "<img src=\"Web App Diagram.svg\">\n",
    "\n",
    "The diagram above gives an overview of how the various services will work together. On the far right is the model which we trained above and which will be deployed using SageMaker. On the far left is our web app that collects a user's movie review, sends it off and expects a positive or negative sentiment in return.\n",
    "\n",
    "In the middle is where some of the magic happens. We will construct a Lambda function, which you can think of as a straightforward Python function that can be executed whenever a specified event occurs. This Python function will do the data processing we need to perform on a user submitted review. In addition, we will give this function permission to send and recieve data from a SageMaker endpoint.\n",
    "\n",
    "Lastly, the method we will use to execute the Lambda function is a new endpoint that we will create using API Gateway. This endpoint will be a url that listens for data to be sent to it. Once it gets some data it will pass that data on to the Lambda function and then return whatever the Lambda function returns. Essentially it will act as an interface that lets our web app communicate with the Lambda function.\n",
    "\n",
    "### Processing a single review\n",
    "\n",
    "For now, suppose we are given a movie review by our user in the form of a string, like so:"
   ]
  },
  {
   "cell_type": "code",
   "execution_count": 36,
   "metadata": {},
   "outputs": [],
   "source": [
    "test_review = \"Nothing but a disgusting materialistic pageant of glistening abed remote control greed zombies, totally devoid of any heart or heat. A romantic comedy that has zero romantic chemestry and zero laughs!\""
   ]
  },
  {
   "cell_type": "markdown",
   "metadata": {},
   "source": [
    "How do we go from this string to the bag of words feature vector that is expected by our model?\n",
    "\n",
    "If we recall at the beginning of this notebook, the first step is to remove any unnecessary characters using the `review_to_words` method. Remember that we intentionally did this in a very simplistic way. This is because we are going to have to copy this method to our (eventual) Lambda function (we will go into more detail later) and this means it needs to be rather simplistic."
   ]
  },
  {
   "cell_type": "code",
   "execution_count": 37,
   "metadata": {},
   "outputs": [
    {
     "name": "stdout",
     "output_type": "stream",
     "text": [
      "nothing but a disgusting materialistic pageant of glistening abed remote control greed zombies totally devoid of any heart or heat a romantic comedy that has zero romantic chemestry and zero laughs\n"
     ]
    }
   ],
   "source": [
    "test_words = review_to_words(test_review)\n",
    "print(test_words)"
   ]
  },
  {
   "cell_type": "markdown",
   "metadata": {},
   "source": [
    "Next, we need to construct a bag of words embedding of the `test_words` string. To do this, remember that a bag of words embedding uses a `vocabulary` consisting of the most frequently appearing words in a set of documents. Then, for each word in the vocabulary we record the number of times that word appears in `test_words`. We constructed the `vocabulary` earlier using the training set for our problem so encoding `test_words` is relatively straightforward."
   ]
  },
  {
   "cell_type": "code",
   "execution_count": 38,
   "metadata": {},
   "outputs": [],
   "source": [
    "def bow_encoding(words, vocabulary):\n",
    "    bow = [0] * len(vocabulary) # Start by setting the count for each word in the vocabulary to zero.\n",
    "    for word in words.split():  # For each word in the string\n",
    "        if word in vocabulary:  # If the word is one that occurs in the vocabulary, increase its count.\n",
    "            bow[vocabulary[word]] += 1\n",
    "    return bow"
   ]
  },
  {
   "cell_type": "code",
   "execution_count": 39,
   "metadata": {
    "collapsed": true,
    "jupyter": {
     "outputs_hidden": true
    }
   },
   "outputs": [
    {
     "name": "stdout",
     "output_type": "stream",
     "text": [
      "[0, 0, 0, 0, 0, 0, 0, 0, 0, 0, 0, 0, 0, 0, 0, 0, 0, 0, 0, 0, 0, 0, 0, 0, 0, 0, 0, 0, 0, 0, 0, 0, 0, 0, 0, 0, 0, 0, 0, 0, 0, 0, 0, 0, 0, 0, 0, 0, 0, 0, 0, 0, 0, 0, 0, 0, 0, 0, 0, 0, 0, 0, 0, 0, 0, 0, 0, 0, 0, 0, 0, 0, 0, 0, 0, 0, 0, 0, 0, 0, 0, 0, 0, 0, 0, 0, 0, 0, 0, 0, 0, 0, 0, 0, 0, 0, 0, 0, 0, 0, 0, 0, 0, 0, 0, 0, 0, 0, 0, 0, 0, 0, 0, 0, 0, 0, 0, 0, 0, 0, 0, 0, 0, 0, 0, 0, 0, 0, 0, 0, 0, 0, 0, 0, 0, 0, 0, 0, 0, 0, 0, 0, 0, 0, 0, 0, 0, 0, 0, 0, 0, 0, 0, 0, 0, 0, 0, 0, 0, 0, 0, 0, 0, 0, 0, 0, 0, 0, 0, 0, 0, 0, 0, 0, 0, 0, 0, 0, 0, 0, 0, 0, 0, 0, 0, 0, 0, 0, 0, 0, 0, 0, 0, 0, 0, 0, 0, 0, 0, 0, 0, 0, 0, 0, 0, 0, 0, 0, 0, 0, 0, 0, 0, 0, 0, 0, 0, 0, 0, 0, 0, 0, 0, 0, 0, 0, 1, 0, 0, 0, 0, 0, 0, 0, 0, 0, 0, 0, 0, 0, 0, 0, 0, 0, 0, 0, 0, 0, 0, 0, 0, 0, 0, 0, 0, 0, 1, 0, 0, 0, 0, 0, 0, 0, 0, 0, 0, 0, 0, 0, 0, 0, 0, 0, 0, 0, 0, 0, 0, 0, 0, 0, 0, 0, 0, 0, 0, 0, 0, 0, 0, 0, 0, 0, 0, 0, 0, 0, 0, 0, 0, 0, 0, 0, 0, 0, 0, 0, 0, 0, 0, 0, 0, 0, 0, 0, 0, 0, 0, 0, 0, 0, 0, 0, 0, 0, 0, 0, 0, 0, 0, 0, 0, 0, 0, 0, 0, 0, 0, 0, 0, 0, 0, 0, 0, 0, 0, 0, 0, 0, 0, 0, 0, 0, 0, 0, 0, 0, 0, 0, 0, 0, 0, 0, 0, 0, 0, 0, 0, 0, 0, 0, 0, 0, 0, 0, 0, 0, 0, 0, 0, 0, 0, 0, 0, 0, 0, 0, 0, 0, 0, 0, 0, 0, 0, 0, 0, 0, 0, 0, 0, 0, 0, 0, 0, 0, 0, 0, 0, 0, 0, 0, 0, 0, 0, 0, 0, 0, 0, 0, 0, 0, 0, 0, 0, 0, 0, 0, 0, 0, 0, 0, 0, 0, 0, 0, 0, 0, 0, 0, 0, 0, 0, 0, 0, 0, 0, 0, 0, 0, 0, 0, 0, 0, 0, 0, 0, 0, 0, 0, 0, 0, 0, 0, 0, 0, 0, 0, 0, 0, 0, 0, 0, 0, 0, 0, 0, 0, 0, 0, 0, 0, 0, 0, 0, 0, 0, 0, 0, 0, 0, 0, 0, 0, 0, 0, 0, 0, 0, 0, 0, 0, 0, 0, 0, 0, 0, 0, 0, 0, 0, 0, 0, 0, 0, 0, 0, 0, 0, 0, 0, 0, 0, 0, 0, 0, 0, 0, 0, 0, 0, 0, 0, 0, 0, 0, 0, 0, 0, 0, 0, 0, 0, 0, 0, 0, 0, 0, 0, 0, 0, 0, 0, 0, 0, 0, 0, 0, 0, 0, 0, 0, 0, 0, 0, 0, 0, 0, 0, 0, 0, 0, 0, 0, 0, 0, 0, 0, 0, 0, 0, 0, 0, 0, 0, 0, 0, 0, 0, 0, 0, 0, 0, 0, 0, 0, 0, 0, 0, 0, 0, 0, 0, 0, 0, 0, 0, 0, 0, 0, 0, 0, 0, 0, 0, 0, 0, 0, 0, 0, 0, 0, 0, 0, 0, 0, 0, 0, 0, 0, 0, 0, 0, 0, 0, 0, 1, 0, 0, 0, 0, 0, 0, 0, 0, 0, 0, 0, 0, 0, 0, 0, 0, 0, 0, 0, 0, 0, 0, 0, 0, 0, 0, 0, 0, 0, 0, 0, 0, 0, 0, 0, 0, 0, 0, 0, 0, 0, 0, 0, 0, 0, 0, 0, 0, 0, 0, 0, 0, 0, 0, 0, 0, 0, 0, 0, 0, 0, 0, 0, 0, 0, 0, 0, 0, 0, 0, 0, 0, 0, 0, 0, 0, 0, 0, 0, 0, 0, 0, 0, 0, 0, 0, 0, 0, 0, 0, 0, 0, 0, 0, 0, 0, 0, 0, 0, 0, 0, 0, 0, 0, 0, 0, 0, 0, 0, 0, 0, 0, 0, 0, 0, 0, 0, 0, 0, 0, 0, 0, 0, 0, 0, 0, 0, 0, 0, 0, 0, 0, 0, 0, 0, 0, 0, 0, 0, 0, 0, 0, 0, 0, 0, 0, 0, 0, 0, 0, 0, 0, 0, 0, 0, 0, 0, 0, 0, 0, 0, 0, 0, 0, 0, 0, 0, 0, 0, 0, 0, 0, 0, 0, 0, 0, 0, 0, 0, 0, 0, 0, 0, 0, 0, 0, 0, 0, 0, 0, 0, 0, 0, 0, 0, 0, 0, 0, 0, 0, 0, 0, 0, 0, 0, 0, 0, 0, 0, 0, 0, 0, 0, 0, 0, 0, 0, 0, 0, 0, 0, 0, 0, 0, 0, 0, 0, 0, 0, 0, 0, 0, 0, 0, 0, 0, 0, 0, 0, 0, 0, 0, 0, 0, 0, 0, 0, 0, 0, 0, 0, 0, 0, 1, 0, 0, 0, 0, 0, 0, 0, 0, 0, 0, 0, 0, 0, 0, 0, 0, 0, 0, 0, 0, 0, 0, 0, 0, 0, 0, 0, 0, 0, 0, 0, 0, 0, 0, 0, 0, 0, 0, 0, 0, 0, 0, 0, 0, 0, 0, 0, 0, 0, 0, 0, 0, 0, 0, 0, 0, 0, 0, 0, 0, 0, 0, 0, 0, 0, 0, 0, 0, 0, 0, 0, 0, 0, 0, 0, 0, 0, 0, 0, 0, 0, 0, 0, 0, 0, 0, 1, 0, 0, 0, 0, 0, 0, 0, 0, 0, 0, 0, 0, 0, 0, 0, 0, 0, 0, 0, 0, 0, 0, 0, 0, 0, 0, 0, 0, 0, 0, 0, 0, 0, 0, 0, 0, 0, 0, 0, 0, 0, 0, 0, 0, 0, 0, 0, 0, 0, 0, 0, 0, 0, 0, 0, 0, 0, 0, 0, 0, 0, 0, 0, 0, 0, 0, 0, 0, 0, 0, 0, 0, 0, 0, 0, 0, 0, 0, 0, 0, 0, 0, 0, 0, 0, 0, 0, 0, 0, 0, 0, 0, 0, 0, 0, 0, 0, 0, 0, 0, 0, 0, 0, 0, 0, 0, 0, 0, 0, 0, 0, 0, 0, 0, 0, 0, 0, 0, 0, 0, 0, 0, 0, 0, 0, 0, 0, 0, 0, 0, 0, 0, 0, 0, 0, 0, 0, 0, 0, 0, 0, 0, 0, 0, 0, 0, 0, 0, 0, 0, 0, 0, 0, 0, 0, 0, 0, 0, 0, 0, 0, 0, 0, 0, 0, 0, 0, 0, 0, 0, 0, 0, 0, 0, 0, 0, 0, 0, 0, 0, 0, 0, 0, 0, 0, 0, 0, 0, 0, 0, 0, 0, 0, 0, 0, 0, 0, 0, 0, 0, 0, 0, 0, 0, 0, 0, 0, 0, 0, 0, 0, 0, 0, 0, 0, 0, 0, 0, 0, 0, 0, 0, 0, 0, 0, 0, 0, 0, 0, 0, 0, 0, 0, 0, 0, 0, 0, 0, 0, 0, 0, 0, 0, 0, 0, 0, 0, 0, 0, 0, 0, 0, 1, 0, 0, 0, 0, 0, 0, 0, 0, 0, 0, 0, 0, 0, 0, 0, 0, 0, 0, 0, 0, 0, 0, 0, 0, 0, 0, 0, 0, 0, 0, 0, 0, 0, 0, 0, 0, 0, 0, 0, 0, 0, 0, 0, 0, 0, 0, 0, 0, 0, 0, 0, 0, 0, 0, 0, 1, 0, 0, 0, 0, 0, 0, 0, 0, 0, 0, 0, 0, 0, 0, 0, 0, 0, 0, 0, 0, 0, 0, 0, 0, 0, 0, 0, 0, 0, 0, 0, 0, 0, 0, 0, 0, 0, 0, 0, 0, 0, 0, 0, 0, 0, 0, 0, 0, 0, 0, 0, 0, 0, 0, 0, 0, 0, 0, 0, 0, 0, 0, 0, 0, 0, 0, 0, 0, 0, 0, 0, 0, 0, 0, 0, 0, 0, 0, 0, 0, 0, 0, 0, 0, 0, 0, 0, 0, 0, 0, 0, 0, 0, 0, 0, 0, 0, 0, 0, 0, 0, 0, 0, 0, 0, 0, 0, 0, 0, 0, 0, 0, 0, 0, 0, 0, 0, 0, 0, 0, 0, 0, 0, 0, 0, 0, 0, 0, 0, 0, 0, 0, 0, 0, 0, 0, 0, 0, 0, 0, 0, 0, 0, 0, 0, 0, 0, 0, 0, 0, 0, 0, 0, 0, 0, 0, 0, 0, 0, 0, 0, 0, 0, 0, 0, 0, 0, 0, 0, 0, 0, 0, 0, 0, 0, 0, 0, 0, 0, 0, 0, 0, 0, 0, 0, 0, 0, 0, 0, 0, 0, 0, 0, 0, 0, 0, 0, 0, 0, 0, 0, 0, 0, 0, 0, 0, 0, 0, 0, 0, 0, 0, 0, 0, 0, 0, 0, 0, 0, 0, 0, 0, 0, 0, 0, 0, 0, 0, 0, 0, 0, 0, 0, 0, 0, 0, 0, 0, 0, 0, 0, 0, 0, 0, 0, 0, 0, 0, 0, 0, 0, 0, 0, 0, 0, 0, 0, 0, 0, 0, 0, 0, 0, 0, 0, 0, 0, 0, 0, 0, 0, 0, 0, 0, 0, 0, 0, 0, 0, 0, 0, 0, 0, 0, 0, 0, 0, 0, 0, 0, 0, 0, 0, 0, 0, 0, 0, 0, 0, 0, 0, 0, 0, 0, 0, 0, 0, 0, 0, 0, 0, 0, 0, 0, 0, 0, 0, 0, 0, 0, 0, 0, 0, 0, 0, 0, 0, 0, 0, 0, 0, 0, 0, 0, 0, 0, 0, 0, 0, 0, 0, 0, 0, 0, 0, 0, 0, 0, 0, 0, 0, 0, 0, 0, 0, 0, 0, 0, 0, 0, 0, 0, 0, 0, 0, 0, 0, 0, 0, 0, 0, 0, 0, 0, 0, 0, 0, 0, 0, 0, 0, 0, 0, 0, 0, 0, 0, 0, 0, 0, 0, 0, 0, 0, 0, 0, 0, 0, 0, 0, 0, 0, 0, 0, 0, 0, 0, 0, 0, 0, 0, 0, 0, 0, 0, 0, 0, 0, 0, 0, 0, 0, 0, 0, 0, 0, 0, 0, 0, 0, 0, 0, 0, 0, 0, 0, 0, 0, 0, 0, 0, 0, 0, 0, 0, 0, 0, 0, 0, 0, 0, 0, 0, 0, 0, 0, 0, 0, 0, 0, 0, 0, 0, 0, 0, 0, 0, 0, 0, 0, 0, 0, 0, 0, 0, 0, 0, 0, 0, 0, 0, 0, 0, 0, 0, 0, 0, 0, 0, 0, 0, 0, 0, 0, 0, 0, 0, 0, 0, 0, 0, 0, 0, 0, 0, 0, 0, 0, 0, 0, 0, 0, 0, 0, 0, 0, 0, 0, 0, 0, 0, 0, 0, 0, 0, 0, 0, 0, 0, 0, 0, 0, 0, 0, 0, 0, 0, 0, 0, 0, 0, 0, 0, 0, 0, 0, 0, 0, 0, 0, 0, 0, 0, 0, 0, 0, 0, 0, 0, 0, 0, 0, 0, 0, 0, 0, 0, 0, 0, 0, 0, 0, 0, 0, 0, 0, 0, 0, 0, 0, 0, 0, 0, 0, 0, 0, 0, 0, 0, 0, 0, 0, 0, 0, 0, 0, 0, 0, 0, 0, 0, 0, 0, 0, 0, 0, 0, 0, 0, 0, 0, 0, 0, 0, 0, 0, 0, 0, 0, 0, 0, 0, 0, 0, 0, 0, 0, 0, 0, 0, 0, 0, 0, 0, 0, 0, 0, 0, 0, 0, 0, 0, 0, 0, 0, 0, 0, 0, 0, 0, 0, 0, 0, 0, 0, 0, 0, 0, 0, 0, 0, 0, 0, 0, 0, 0, 0, 0, 0, 0, 0, 0, 0, 0, 0, 0, 0, 0, 0, 0, 0, 1, 0, 0, 0, 0, 0, 0, 0, 0, 0, 0, 0, 0, 0, 0, 0, 0, 0, 0, 0, 0, 0, 0, 0, 0, 0, 0, 0, 0, 0, 0, 0, 0, 0, 0, 0, 0, 0, 0, 0, 0, 0, 0, 0, 0, 0, 0, 0, 0, 0, 0, 0, 0, 0, 0, 0, 0, 0, 0, 0, 0, 0, 0, 0, 0, 0, 0, 0, 0, 0, 0, 0, 0, 0, 0, 1, 0, 0, 0, 0, 0, 0, 0, 0, 0, 0, 0, 0, 0, 0, 0, 0, 0, 0, 0, 0, 1, 0, 0, 1, 0, 0, 0, 0, 0, 0, 0, 0, 0, 0, 0, 0, 0, 0, 0, 0, 0, 0, 0, 0, 0, 0, 0, 0, 0, 0, 0, 0, 0, 0, 0, 0, 0, 0, 0, 0, 0, 0, 0, 0, 0, 0, 0, 0, 0, 0, 0, 0, 0, 0, 0, 0, 0, 0, 0, 0, 0, 0, 0, 0, 0, 0, 0, 0, 0, 0, 0, 0, 0, 0, 0, 0, 0, 0, 0, 0, 0, 0, 0, 0, 0, 0, 0, 0, 0, 0, 0, 0, 0, 0, 0, 0, 0, 0, 0, 0, 0, 0, 0, 0, 0, 0, 0, 0, 0, 0, 0, 0, 0, 0, 0, 0, 0, 0, 0, 0, 0, 0, 0, 0, 0, 0, 0, 0, 0, 0, 0, 0, 0, 0, 0, 0, 0, 0, 0, 0, 0, 0, 0, 0, 0, 0, 0, 0, 0, 0, 0, 0, 0, 0, 0, 0, 0, 0, 0, 0, 0, 0, 0, 0, 0, 0, 0, 0, 0, 0, 0, 0, 0, 0, 0, 0, 0, 0, 0, 0, 0, 0, 0, 0, 0, 0, 0, 0, 0, 0, 0, 0, 0, 0, 0, 0, 0, 0, 0, 0, 0, 0, 0, 0, 0, 0, 0, 0, 0, 0, 0, 0, 0, 0, 0, 0, 0, 0, 0, 0, 0, 0, 0, 0, 0, 0, 0, 0, 0, 0, 0, 0, 0, 0, 0, 0, 0, 0, 0, 0, 0, 0, 0, 0, 0, 0, 0, 0, 0, 0, 0, 0, 0, 0, 0, 0, 0, 0, 0, 0, 0, 0, 0, 0, 0, 0, 0, 0, 0, 0, 0, 0, 0, 0, 0, 0, 0, 0, 0, 0, 0, 0, 0, 0, 0, 0, 0, 0, 0, 0, 0, 0, 0, 0, 0, 0, 0, 0, 0, 0, 0, 0, 0, 0, 0, 0, 0, 0, 0, 0, 0, 0, 0, 0, 0, 0, 0, 0, 0, 0, 0, 0, 0, 0, 0, 0, 0, 0, 0, 0, 0, 0, 0, 0, 0, 0, 0, 0, 0, 0, 0, 0, 0, 0, 0, 0, 0, 0, 0, 0, 0, 0, 0, 0, 0, 0, 0, 0, 0, 0, 0, 0, 0, 0, 0, 0, 0, 0, 0, 0, 0, 0, 0, 0, 0, 0, 0, 0, 0, 0, 0, 0, 0, 0, 0, 0, 0, 0, 0, 0, 0, 0, 0, 0, 0, 0, 0, 0, 0, 0, 0, 0, 0, 0, 0, 0, 0, 0, 0, 0, 0, 0, 0, 0, 0, 0, 0, 0, 0, 0, 0, 0, 0, 0, 0, 0, 0, 0, 0, 0, 0, 0, 0, 0, 0, 0, 0, 0, 0, 0, 0, 0, 0, 0, 0, 0, 0, 0, 0, 0, 0, 0, 0, 0, 0, 0, 0, 0, 0, 0, 0, 0, 0, 0, 0, 0, 0, 0, 0, 0, 1, 0, 0, 0, 0, 0, 0, 0, 0, 0, 0, 0, 0, 0, 0, 0, 0, 0, 0, 0, 0, 0, 0, 0, 0, 0, 0, 0, 0, 0, 0, 0, 0, 0, 0, 0, 0, 0, 0, 0, 0, 0, 0, 0, 0, 0, 0, 0, 0, 0, 0, 0, 0, 0, 0, 0, 0, 0, 0, 0, 0, 0, 0, 0, 0, 0, 0, 0, 0, 0, 0, 0, 0, 0, 0, 0, 0, 0, 0, 0, 0, 0, 0, 0, 0, 0, 0, 0, 0, 0, 0, 0, 0, 0, 0, 0, 0, 0, 0, 0, 0, 0, 0, 0, 0, 0, 0, 0, 0, 0, 0, 0, 0, 0, 0, 0, 0, 0, 0, 0, 0, 0, 0, 0, 0, 0, 0, 0, 0, 0, 0, 0, 0, 0, 0, 0, 0, 0, 0, 0, 0, 0, 0, 0, 0, 0, 0, 0, 0, 0, 0, 0, 0, 0, 0, 0, 0, 0, 0, 0, 0, 0, 0, 0, 0, 0, 0, 0, 0, 0, 0, 0, 0, 0, 0, 0, 0, 0, 0, 0, 0, 0, 0, 0, 0, 0, 0, 0, 0, 0, 0, 0, 0, 0, 0, 0, 0, 0, 0, 0, 0, 0, 0, 0, 0, 0, 0, 0, 0, 0, 0, 0, 0, 0, 0, 0, 0, 0, 0, 0, 0, 0, 0, 0, 0, 0, 0, 0, 0, 0, 0, 0, 0, 0, 0, 0, 0, 0, 0, 0, 0, 0, 0, 0, 0, 0, 0, 0, 0, 0, 0, 0, 0, 0, 0, 0, 0, 0, 0, 0, 0, 0, 0, 0, 0, 0, 0, 0, 0, 0, 0, 0, 0, 0, 0, 0, 0, 0, 0, 0, 0, 0, 0, 0, 0, 0, 0, 0, 0, 0, 0, 0, 0, 0, 0, 0, 0, 0, 0, 0, 0, 0, 0, 0, 0, 0, 0, 0, 0, 0, 0, 0, 0, 0, 0, 0, 0, 0, 0, 0, 0, 0, 0, 0, 0, 0, 0, 0, 0, 0, 0, 0, 0, 0, 0, 0, 0, 0, 0, 0, 0, 0, 0, 0, 0, 0, 0, 0, 0, 0, 0, 0, 0, 0, 0, 0, 0, 0, 0, 0, 0, 0, 0, 0, 0, 0, 0, 0, 0, 0, 0, 0, 0, 0, 0, 0, 0, 0, 0, 0, 0, 0, 0, 0, 0, 0, 0, 0, 0, 0, 0, 0, 0, 0, 0, 0, 0, 0, 0, 0, 0, 0, 0, 0, 0, 0, 0, 0, 0, 0, 0, 0, 0, 0, 0, 0, 0, 0, 0, 0, 0, 0, 0, 0, 0, 0, 0, 0, 0, 0, 0, 0, 0, 0, 0, 0, 0, 0, 0, 0, 0, 0, 0, 0, 0, 0, 0, 0, 0, 0, 0, 0, 0, 0, 0, 0, 0, 0, 0, 0, 0, 0, 0, 0, 0, 0, 0, 0, 0, 0, 0, 0, 0, 0, 0, 0, 0, 0, 0, 0, 0, 0, 0, 0, 0, 0, 0, 0, 0, 0, 0, 0, 0, 0, 0, 0, 0, 0, 0, 0, 0, 0, 0, 0, 0, 0, 0, 0, 0, 0, 0, 0, 0, 1, 0, 0, 0, 0, 0, 0, 0, 0, 0, 0, 0, 0, 0, 0, 0, 0, 0, 0, 0, 0, 0, 0, 0, 0, 0, 0, 0, 0, 0, 0, 0, 0, 0, 0, 0, 2, 0, 0, 0, 0, 0, 0, 0, 0, 0, 0, 0, 0, 0, 0, 0, 0, 0, 0, 0, 0, 0, 0, 0, 0, 0, 0, 0, 0, 0, 0, 0, 0, 0, 0, 0, 0, 0, 0, 0, 0, 1, 0, 0, 0, 0, 0, 0, 0, 0, 0, 0, 0, 0, 0, 0, 0, 0, 0, 0, 0, 0, 0, 0, 0, 0, 0, 0, 0, 0, 0, 0, 0, 0, 0, 0, 0, 0, 0, 0, 0, 0, 0, 0, 0, 0, 0, 0, 0, 0, 0, 0, 0, 0, 0, 0, 0, 0, 0, 0, 0, 0, 0, 0, 0, 0, 0, 0, 0, 0, 0, 0, 0, 0, 0, 0, 0, 0, 0, 0, 0, 0, 0, 0, 0, 0, 0, 0, 0, 0, 0, 0, 0, 0, 0, 0, 0, 0, 0, 0, 0, 0, 0, 0, 0, 0, 0, 0, 0, 0, 0, 0, 0, 0, 0, 0, 0, 0, 0, 0, 0, 0, 0, 0, 0, 0, 0, 0, 0, 0, 0, 0, 0, 0, 0, 0, 0, 0, 0, 0, 0, 0, 0, 0, 0, 0, 0, 0, 0, 0, 0, 0, 0, 0, 0, 0, 0, 0, 0, 0, 0, 0, 0, 0, 0, 0, 0, 0, 0, 0, 0, 0, 0, 0, 0, 0, 0, 0, 0, 0, 0, 0, 0, 0, 0, 0, 0, 0, 0, 0, 0, 0, 0, 0, 0, 0, 0, 0, 0, 0, 0, 0, 0, 0, 0, 0, 0, 0, 0, 0, 0, 0, 0, 0, 0, 0, 0, 0, 0, 0, 0, 0, 0, 0, 0, 0, 0, 0, 0, 0, 0, 0, 0, 0, 0, 0, 0, 0, 0, 0, 0, 0, 0, 0, 0, 0, 0, 0, 0, 0, 0, 0, 0, 0, 0, 0, 0, 0, 0, 0, 0, 0, 0, 0, 0, 0, 0, 0, 0, 0, 0, 0, 0, 0, 0, 0, 0, 0, 0, 0, 0, 0, 0, 0, 0, 0, 0, 0, 0, 0, 0, 0, 0, 0, 0, 0, 0, 0, 0, 0, 0, 0, 0, 0, 0, 0, 0, 0, 0, 0, 0, 0, 0, 0, 0, 0, 0, 0, 0, 0, 0, 0, 0, 0, 0, 0, 0, 0, 0, 0, 0, 0, 0, 0, 0, 0, 0, 0, 0, 0, 0, 0, 0, 0, 0, 0, 0, 0, 0, 0, 0, 0, 0, 0, 0, 0, 0, 0, 0, 0, 0, 0, 0, 0, 0, 0, 0, 0, 0, 0, 0, 0, 0, 0, 0, 0, 0, 0, 0, 0, 0, 0, 0, 0, 0, 0, 0, 0, 0, 0, 0, 0, 0, 0, 0, 0, 0, 0, 0, 0, 0, 0, 0, 0, 0, 0, 0, 0, 0, 0, 0, 0, 0, 0, 0, 0, 0, 0, 0, 0, 0, 0, 0, 0, 0, 0, 0, 0, 0, 0, 0, 0, 0, 0, 0, 0, 0, 0, 0, 0, 0, 0, 0, 0, 0, 0, 0, 0, 0, 0, 0, 0, 0, 0, 0, 0, 0, 0, 0, 0, 0, 0, 0, 0, 0, 0, 0, 0, 0, 0, 0, 0, 0, 0, 0, 0, 0, 0, 0, 0, 0, 0, 0, 0, 0, 0, 0, 0, 0, 0, 0, 0, 0, 0, 0, 0, 0, 0, 0, 1, 0, 0, 0, 0, 0, 0, 0, 0, 0, 0, 0, 0, 0, 0, 0, 0, 0, 0, 0, 0, 0, 0, 0, 0, 0, 0, 0, 0, 0, 0, 0, 0, 0, 0, 0, 0, 0, 0, 0, 0, 0, 0, 0, 0, 0, 0, 0, 0, 0, 0, 0, 0, 0, 0, 0, 0, 0, 0, 0, 0, 0, 0, 0, 0, 0, 0, 0, 0, 0, 0, 0, 0, 0, 0, 0, 0, 0, 0, 0, 0, 0, 0, 0, 0, 0, 0, 0, 0, 0, 0, 0, 0, 0, 0, 0, 0, 0, 0, 0, 0, 0, 0, 0, 0, 0, 0, 0, 0, 0, 0, 2, 0, 0, 0, 0, 0, 0, 0, 0, 0, 0, 0, 0, 0, 0, 0, 0, 0, 0, 0, 0, 0, 0, 0, 0, 0, 0, 0, 0, 0, 0, 0, 0, 0, 0, 0, 0, 0, 0, 0, 0, 0, 0, 0, 0, 0, 0, 0, 0, 0, 0, 0, 0, 0, 0, 0, 0, 0, 0, 0, 0, 0, 0, 0, 0, 0, 0, 0, 0, 0, 0, 0, 0, 0, 0, 0, 0, 0, 0, 0, 0, 0, 0, 0, 0, 0, 0, 0, 0, 0, 0, 0, 0, 0, 0, 0, 0, 0, 0, 0, 0, 0, 0, 0, 0, 0, 0, 0, 0, 0, 0, 0, 0, 0, 0, 0, 0, 0, 0, 0, 0, 0, 0, 0, 0, 0, 0, 0, 0, 0, 0, 0, 0, 0, 0, 0, 0, 0, 0, 0, 0, 0, 0, 0, 0, 0, 0, 0, 0, 0, 0, 0, 0, 0, 0, 0, 0, 0, 0, 0, 0, 0, 0, 0, 0, 0, 0, 0, 0, 0, 0, 0, 0, 0, 0, 0, 0, 0, 0, 0, 0, 0, 0, 0, 0, 0, 0, 0, 0, 0, 0, 0, 0, 0, 0, 0, 0, 0, 0, 0, 0, 0, 0, 0, 0, 0, 0, 0, 0, 0, 0, 0, 0, 0, 0, 0, 0, 0, 0, 0, 0, 0, 0, 0, 0, 0, 0, 0, 0, 0, 0, 0, 0, 0, 0, 0, 0, 0, 0, 0, 0, 0, 0, 0, 0, 0, 0, 0, 0, 0, 0, 0, 0, 0, 0, 0, 0, 0, 0, 0, 0, 0, 0, 0, 0, 0, 0, 0, 0, 0, 0, 0, 0, 0, 0, 0, 0, 0, 0, 0, 0, 0, 0, 0, 0, 0, 0, 0, 0, 0, 0, 0, 0, 0, 0, 0, 0, 0, 0, 0, 0, 0, 0, 0, 0, 0, 0, 0, 0, 0, 0, 0, 0, 0, 0, 0, 0, 0, 0, 0, 0, 0, 0, 0, 0, 0, 0, 0, 0, 0, 0, 0, 0, 0, 0, 0, 0, 0, 0, 0, 0, 0, 0, 0, 0, 0, 0, 0, 0, 0, 0, 0, 0, 0, 0, 0, 0, 0, 0, 0, 0, 0, 0, 0, 0, 0, 0, 0, 0, 0, 0, 0, 0, 0, 0, 0, 0, 0, 0, 0, 0, 0, 0, 0, 0, 0, 0, 0, 0, 0, 0, 0, 0, 0, 0, 0, 0, 0, 0, 0, 0, 0, 0, 0, 0, 0, 0, 0, 0, 0, 0, 0, 0, 0, 0, 0, 0, 0, 0, 0, 0, 0, 0, 0, 0, 0, 0, 0, 0, 0, 0, 0, 0, 0, 0, 0, 0, 0, 0, 0, 0, 0, 0, 0, 0, 0, 0, 0, 0, 0, 0, 0, 0, 0, 0, 0, 0, 0, 0, 0, 0, 0, 0, 0, 0, 0, 0, 0, 0, 0, 0, 0, 0, 0, 0, 0, 0, 0, 0, 0, 0, 0, 0, 0, 0, 0, 0, 0, 0, 0, 0, 0, 0, 0, 0, 0, 0, 0, 0, 0, 0, 0, 0, 0, 0, 0, 0, 0, 0, 0, 0, 0, 0, 0, 0, 0, 0, 0, 0, 0, 0, 0, 0, 0, 0, 0, 0, 0, 0, 0, 0, 0, 0, 0, 0, 0, 0, 0, 0, 0, 0, 0, 0, 0, 0, 0, 0, 0, 0, 0, 0, 0, 0, 0, 0, 0, 0, 0, 0, 0, 0, 0, 0, 0, 0, 0, 0, 0, 0, 0, 0, 0, 0, 0, 0, 0, 0, 0, 0, 0, 0, 0, 0, 0, 0, 0, 0, 0, 0, 0, 0, 0, 0, 0, 0, 0, 0, 0, 0, 0, 0, 0, 0, 0, 0, 0, 0, 0, 0, 0, 0, 0, 0, 0, 0, 0, 0, 0, 0, 0, 0, 0, 0, 0, 0, 0, 0, 0, 0, 0, 0, 0, 0, 0, 0, 0, 0, 0, 0, 0, 0, 0, 0, 0, 0, 0, 0, 0, 0, 0, 0, 0, 0, 0, 0, 0, 0, 0, 0, 0, 0, 0, 0, 0, 0, 0, 0, 0, 0, 0, 0, 0, 0, 0, 0, 0, 0, 0, 0, 0, 0, 0, 0, 0, 0, 0, 0, 0, 0, 0, 0, 1, 0, 0, 0, 0, 0, 0, 0, 0, 0, 0, 0, 0, 0, 0, 0, 0, 0, 0, 0, 0, 0, 0, 0, 0, 0, 0, 0, 0, 0, 0, 0, 0, 0, 0, 0, 0, 0, 0, 0, 0, 0, 0, 0, 0, 0, 0, 0, 0, 0, 0, 0, 0, 0, 0, 0, 0, 0, 0, 0, 0, 0, 0, 0, 0, 0, 0, 0, 0, 0, 0, 0, 0, 0, 0, 0, 0, 0, 0, 0, 0, 0, 0, 0, 0, 0, 0, 0, 0, 0, 0, 0, 0, 0, 0, 0, 0, 0, 0, 0, 0, 0, 0, 0, 0, 0, 0, 0, 1, 0, 0, 0, 0, 0, 0, 0, 0, 0, 0, 0, 0, 0, 0, 0, 0, 0, 0, 0, 0, 0, 0, 0, 0, 0, 0, 0, 0, 0, 0, 0, 0, 0, 0, 0, 0, 0, 0, 0, 0, 0, 0, 0, 0, 0, 0, 0, 0, 0, 0, 0, 0, 0, 0, 0, 0, 0, 0, 0, 0, 0, 0, 0, 0, 0, 0, 0, 0, 0, 0, 0, 0, 0, 0, 0, 0, 0, 0, 0, 0, 0, 0, 0, 0, 0, 0, 0, 0, 0, 0, 0, 0, 0, 0, 0, 0, 0, 0, 0, 0, 0, 0, 0, 0, 0, 0, 0, 0, 0, 0, 0, 0, 0, 0, 0, 0, 0, 0, 0, 0, 0, 0, 0, 0, 0, 0, 0, 0, 0, 0, 0, 0, 0, 0, 0, 0, 0, 0, 0, 0, 0, 0, 0, 0, 0, 0, 0, 0, 0, 0, 0, 0, 0, 0, 0, 0, 0, 0, 0, 0, 0, 0, 0, 0, 0, 0, 0, 0, 0, 0, 0, 0, 0, 0, 0, 0, 0, 0, 0, 0, 0, 0, 0, 0, 0, 0, 0, 0, 0, 0, 0, 0, 0, 0, 0, 0, 0, 0, 0, 0, 0, 0, 0, 0, 0, 0, 0, 0, 0, 0, 0, 0, 0, 0, 0, 0, 0, 0, 0, 0, 0, 0, 0, 0, 0, 0, 0, 0, 0, 0, 0, 0, 0, 0, 0, 0, 0, 0, 0, 0, 0, 0, 0, 0, 0, 0, 0, 0, 0, 0, 0, 0, 0, 0, 0, 0, 0, 0, 0, 0, 0, 0, 0, 0, 0, 0, 0, 0, 0, 0, 0, 0, 0, 0, 0, 0, 0, 0, 0, 0, 0, 0, 0, 0, 0, 0, 0, 0, 0, 0, 0, 0, 0, 0, 0, 0, 0, 0, 0, 0, 0, 0, 0, 0, 0, 0, 0, 0, 0, 0, 0, 0, 0, 0, 0, 0, 0, 0, 0, 0, 0, 0, 0, 0, 0, 0, 0, 0, 0, 0, 0, 0, 0, 0, 0, 0, 0, 0, 0, 0, 0, 0, 0, 0, 0, 0, 0, 0, 0, 0, 0, 0, 0, 0, 0, 0, 0, 0, 0, 0, 0, 0, 0, 0, 0, 0, 0, 0, 0, 0, 0, 0, 0, 0, 0, 0, 0, 0, 0, 0, 0, 0, 0, 0, 0, 0, 0, 0, 0, 0, 0, 0, 0, 0, 0, 0, 0, 0, 0, 0, 0, 0, 0, 0, 0, 0, 0, 0, 0, 0, 0, 0, 0, 0, 0, 0, 0, 0, 0, 0, 0, 0, 0, 0, 0, 0, 0, 0, 0, 0, 0, 0, 0, 0, 0, 0, 0, 0, 0, 0, 0, 0, 0, 0, 0, 0, 0, 0, 0, 0, 0, 0, 0, 0, 0, 0, 0, 0, 0, 0, 0, 0, 0, 2, 0, 1, 0]\n"
     ]
    }
   ],
   "source": [
    "test_bow = bow_encoding(test_words, vocabulary)\n",
    "print(test_bow)"
   ]
  },
  {
   "cell_type": "code",
   "execution_count": 40,
   "metadata": {},
   "outputs": [
    {
     "data": {
      "text/plain": [
       "5000"
      ]
     },
     "execution_count": 40,
     "metadata": {},
     "output_type": "execute_result"
    }
   ],
   "source": [
    "len(test_bow)"
   ]
  },
  {
   "cell_type": "markdown",
   "metadata": {},
   "source": [
    "So now we know how to construct a bag of words encoding of a user provided review, how to we send it to our endpoint? First, we need to start the endpoint back up."
   ]
  },
  {
   "cell_type": "code",
   "execution_count": 41,
   "metadata": {},
   "outputs": [
    {
     "name": "stderr",
     "output_type": "stream",
     "text": [
      "Parameter image will be renamed to image_uri in SageMaker Python SDK v2.\n",
      "Using already existing model: xgboost-2020-10-28-21-35-49-473\n"
     ]
    },
    {
     "name": "stdout",
     "output_type": "stream",
     "text": [
      "---------------!"
     ]
    }
   ],
   "source": [
    "xgb_predictor = xgb.deploy(initial_instance_count = 1, instance_type = 'ml.m4.xlarge')"
   ]
  },
  {
   "cell_type": "markdown",
   "metadata": {},
   "source": [
    "At this point we could just do the same thing that we did earlier when we tested our deployed model and send `test_bow` to our endpoint using the `xgb_predictor` object. However, when we eventually construct our Lambda function we won't have access to this object, so how do we call a SageMaker endpoint?\n",
    "\n",
    "It turns out that Python functions that are used in Lambda have access to another Amazon library called `boto3`. This library provides an API for working with Amazon services, including SageMaker. To start with, we need to get a handle to the SageMaker runtime."
   ]
  },
  {
   "cell_type": "code",
   "execution_count": 42,
   "metadata": {},
   "outputs": [],
   "source": [
    "import boto3\n",
    "\n",
    "runtime = boto3.Session().client('sagemaker-runtime')"
   ]
  },
  {
   "cell_type": "markdown",
   "metadata": {},
   "source": [
    "And now that we have access to the SageMaker runtime, we can ask it to make use of (invoke) an endpoint that has already been created. However, we need to provide SageMaker with the name of the deployed endpoint. To find this out we can print it out using the `xgb_predictor` object."
   ]
  },
  {
   "cell_type": "code",
   "execution_count": 43,
   "metadata": {},
   "outputs": [
    {
     "data": {
      "text/plain": [
       "'xgboost-2020-10-28-21-35-49-473'"
      ]
     },
     "execution_count": 43,
     "metadata": {},
     "output_type": "execute_result"
    }
   ],
   "source": [
    "xgb_predictor.endpoint"
   ]
  },
  {
   "cell_type": "markdown",
   "metadata": {},
   "source": [
    "Using the SageMaker runtime and the name of our endpoint, we can invoke the endpoint and send it the `test_bow` data."
   ]
  },
  {
   "cell_type": "code",
   "execution_count": 44,
   "metadata": {
    "collapsed": true,
    "jupyter": {
     "outputs_hidden": true
    }
   },
   "outputs": [
    {
     "ename": "ParamValidationError",
     "evalue": "Parameter validation failed:\nInvalid type for parameter Body, value: [0, 0, 0, 0, 0, 0, 0, 0, 0, 0, 0, 0, 0, 0, 0, 0, 0, 0, 0, 0, 0, 0, 0, 0, 0, 0, 0, 0, 0, 0, 0, 0, 0, 0, 0, 0, 0, 0, 0, 0, 0, 0, 0, 0, 0, 0, 0, 0, 0, 0, 0, 0, 0, 0, 0, 0, 0, 0, 0, 0, 0, 0, 0, 0, 0, 0, 0, 0, 0, 0, 0, 0, 0, 0, 0, 0, 0, 0, 0, 0, 0, 0, 0, 0, 0, 0, 0, 0, 0, 0, 0, 0, 0, 0, 0, 0, 0, 0, 0, 0, 0, 0, 0, 0, 0, 0, 0, 0, 0, 0, 0, 0, 0, 0, 0, 0, 0, 0, 0, 0, 0, 0, 0, 0, 0, 0, 0, 0, 0, 0, 0, 0, 0, 0, 0, 0, 0, 0, 0, 0, 0, 0, 0, 0, 0, 0, 0, 0, 0, 0, 0, 0, 0, 0, 0, 0, 0, 0, 0, 0, 0, 0, 0, 0, 0, 0, 0, 0, 0, 0, 0, 0, 0, 0, 0, 0, 0, 0, 0, 0, 0, 0, 0, 0, 0, 0, 0, 0, 0, 0, 0, 0, 0, 0, 0, 0, 0, 0, 0, 0, 0, 0, 0, 0, 0, 0, 0, 0, 0, 0, 0, 0, 0, 0, 0, 0, 0, 0, 0, 0, 0, 0, 0, 0, 0, 0, 1, 0, 0, 0, 0, 0, 0, 0, 0, 0, 0, 0, 0, 0, 0, 0, 0, 0, 0, 0, 0, 0, 0, 0, 0, 0, 0, 0, 0, 0, 1, 0, 0, 0, 0, 0, 0, 0, 0, 0, 0, 0, 0, 0, 0, 0, 0, 0, 0, 0, 0, 0, 0, 0, 0, 0, 0, 0, 0, 0, 0, 0, 0, 0, 0, 0, 0, 0, 0, 0, 0, 0, 0, 0, 0, 0, 0, 0, 0, 0, 0, 0, 0, 0, 0, 0, 0, 0, 0, 0, 0, 0, 0, 0, 0, 0, 0, 0, 0, 0, 0, 0, 0, 0, 0, 0, 0, 0, 0, 0, 0, 0, 0, 0, 0, 0, 0, 0, 0, 0, 0, 0, 0, 0, 0, 0, 0, 0, 0, 0, 0, 0, 0, 0, 0, 0, 0, 0, 0, 0, 0, 0, 0, 0, 0, 0, 0, 0, 0, 0, 0, 0, 0, 0, 0, 0, 0, 0, 0, 0, 0, 0, 0, 0, 0, 0, 0, 0, 0, 0, 0, 0, 0, 0, 0, 0, 0, 0, 0, 0, 0, 0, 0, 0, 0, 0, 0, 0, 0, 0, 0, 0, 0, 0, 0, 0, 0, 0, 0, 0, 0, 0, 0, 0, 0, 0, 0, 0, 0, 0, 0, 0, 0, 0, 0, 0, 0, 0, 0, 0, 0, 0, 0, 0, 0, 0, 0, 0, 0, 0, 0, 0, 0, 0, 0, 0, 0, 0, 0, 0, 0, 0, 0, 0, 0, 0, 0, 0, 0, 0, 0, 0, 0, 0, 0, 0, 0, 0, 0, 0, 0, 0, 0, 0, 0, 0, 0, 0, 0, 0, 0, 0, 0, 0, 0, 0, 0, 0, 0, 0, 0, 0, 0, 0, 0, 0, 0, 0, 0, 0, 0, 0, 0, 0, 0, 0, 0, 0, 0, 0, 0, 0, 0, 0, 0, 0, 0, 0, 0, 0, 0, 0, 0, 0, 0, 0, 0, 0, 0, 0, 0, 0, 0, 0, 0, 0, 0, 0, 0, 0, 0, 0, 0, 0, 0, 0, 0, 0, 0, 0, 0, 0, 0, 0, 0, 0, 0, 0, 0, 0, 0, 0, 0, 0, 0, 0, 0, 0, 0, 0, 0, 0, 0, 0, 0, 0, 0, 0, 0, 0, 0, 0, 0, 0, 0, 0, 0, 0, 0, 0, 0, 0, 0, 0, 0, 0, 0, 0, 0, 0, 0, 0, 0, 0, 0, 0, 0, 0, 0, 0, 0, 0, 0, 0, 0, 0, 0, 0, 0, 0, 1, 0, 0, 0, 0, 0, 0, 0, 0, 0, 0, 0, 0, 0, 0, 0, 0, 0, 0, 0, 0, 0, 0, 0, 0, 0, 0, 0, 0, 0, 0, 0, 0, 0, 0, 0, 0, 0, 0, 0, 0, 0, 0, 0, 0, 0, 0, 0, 0, 0, 0, 0, 0, 0, 0, 0, 0, 0, 0, 0, 0, 0, 0, 0, 0, 0, 0, 0, 0, 0, 0, 0, 0, 0, 0, 0, 0, 0, 0, 0, 0, 0, 0, 0, 0, 0, 0, 0, 0, 0, 0, 0, 0, 0, 0, 0, 0, 0, 0, 0, 0, 0, 0, 0, 0, 0, 0, 0, 0, 0, 0, 0, 0, 0, 0, 0, 0, 0, 0, 0, 0, 0, 0, 0, 0, 0, 0, 0, 0, 0, 0, 0, 0, 0, 0, 0, 0, 0, 0, 0, 0, 0, 0, 0, 0, 0, 0, 0, 0, 0, 0, 0, 0, 0, 0, 0, 0, 0, 0, 0, 0, 0, 0, 0, 0, 0, 0, 0, 0, 0, 0, 0, 0, 0, 0, 0, 0, 0, 0, 0, 0, 0, 0, 0, 0, 0, 0, 0, 0, 0, 0, 0, 0, 0, 0, 0, 0, 0, 0, 0, 0, 0, 0, 0, 0, 0, 0, 0, 0, 0, 0, 0, 0, 0, 0, 0, 0, 0, 0, 0, 0, 0, 0, 0, 0, 0, 0, 0, 0, 0, 0, 0, 0, 0, 0, 0, 0, 0, 0, 0, 0, 0, 0, 0, 0, 0, 0, 0, 0, 0, 0, 0, 0, 0, 1, 0, 0, 0, 0, 0, 0, 0, 0, 0, 0, 0, 0, 0, 0, 0, 0, 0, 0, 0, 0, 0, 0, 0, 0, 0, 0, 0, 0, 0, 0, 0, 0, 0, 0, 0, 0, 0, 0, 0, 0, 0, 0, 0, 0, 0, 0, 0, 0, 0, 0, 0, 0, 0, 0, 0, 0, 0, 0, 0, 0, 0, 0, 0, 0, 0, 0, 0, 0, 0, 0, 0, 0, 0, 0, 0, 0, 0, 0, 0, 0, 0, 0, 0, 0, 0, 0, 1, 0, 0, 0, 0, 0, 0, 0, 0, 0, 0, 0, 0, 0, 0, 0, 0, 0, 0, 0, 0, 0, 0, 0, 0, 0, 0, 0, 0, 0, 0, 0, 0, 0, 0, 0, 0, 0, 0, 0, 0, 0, 0, 0, 0, 0, 0, 0, 0, 0, 0, 0, 0, 0, 0, 0, 0, 0, 0, 0, 0, 0, 0, 0, 0, 0, 0, 0, 0, 0, 0, 0, 0, 0, 0, 0, 0, 0, 0, 0, 0, 0, 0, 0, 0, 0, 0, 0, 0, 0, 0, 0, 0, 0, 0, 0, 0, 0, 0, 0, 0, 0, 0, 0, 0, 0, 0, 0, 0, 0, 0, 0, 0, 0, 0, 0, 0, 0, 0, 0, 0, 0, 0, 0, 0, 0, 0, 0, 0, 0, 0, 0, 0, 0, 0, 0, 0, 0, 0, 0, 0, 0, 0, 0, 0, 0, 0, 0, 0, 0, 0, 0, 0, 0, 0, 0, 0, 0, 0, 0, 0, 0, 0, 0, 0, 0, 0, 0, 0, 0, 0, 0, 0, 0, 0, 0, 0, 0, 0, 0, 0, 0, 0, 0, 0, 0, 0, 0, 0, 0, 0, 0, 0, 0, 0, 0, 0, 0, 0, 0, 0, 0, 0, 0, 0, 0, 0, 0, 0, 0, 0, 0, 0, 0, 0, 0, 0, 0, 0, 0, 0, 0, 0, 0, 0, 0, 0, 0, 0, 0, 0, 0, 0, 0, 0, 0, 0, 0, 0, 0, 0, 0, 0, 0, 0, 0, 0, 0, 0, 0, 0, 0, 0, 1, 0, 0, 0, 0, 0, 0, 0, 0, 0, 0, 0, 0, 0, 0, 0, 0, 0, 0, 0, 0, 0, 0, 0, 0, 0, 0, 0, 0, 0, 0, 0, 0, 0, 0, 0, 0, 0, 0, 0, 0, 0, 0, 0, 0, 0, 0, 0, 0, 0, 0, 0, 0, 0, 0, 0, 1, 0, 0, 0, 0, 0, 0, 0, 0, 0, 0, 0, 0, 0, 0, 0, 0, 0, 0, 0, 0, 0, 0, 0, 0, 0, 0, 0, 0, 0, 0, 0, 0, 0, 0, 0, 0, 0, 0, 0, 0, 0, 0, 0, 0, 0, 0, 0, 0, 0, 0, 0, 0, 0, 0, 0, 0, 0, 0, 0, 0, 0, 0, 0, 0, 0, 0, 0, 0, 0, 0, 0, 0, 0, 0, 0, 0, 0, 0, 0, 0, 0, 0, 0, 0, 0, 0, 0, 0, 0, 0, 0, 0, 0, 0, 0, 0, 0, 0, 0, 0, 0, 0, 0, 0, 0, 0, 0, 0, 0, 0, 0, 0, 0, 0, 0, 0, 0, 0, 0, 0, 0, 0, 0, 0, 0, 0, 0, 0, 0, 0, 0, 0, 0, 0, 0, 0, 0, 0, 0, 0, 0, 0, 0, 0, 0, 0, 0, 0, 0, 0, 0, 0, 0, 0, 0, 0, 0, 0, 0, 0, 0, 0, 0, 0, 0, 0, 0, 0, 0, 0, 0, 0, 0, 0, 0, 0, 0, 0, 0, 0, 0, 0, 0, 0, 0, 0, 0, 0, 0, 0, 0, 0, 0, 0, 0, 0, 0, 0, 0, 0, 0, 0, 0, 0, 0, 0, 0, 0, 0, 0, 0, 0, 0, 0, 0, 0, 0, 0, 0, 0, 0, 0, 0, 0, 0, 0, 0, 0, 0, 0, 0, 0, 0, 0, 0, 0, 0, 0, 0, 0, 0, 0, 0, 0, 0, 0, 0, 0, 0, 0, 0, 0, 0, 0, 0, 0, 0, 0, 0, 0, 0, 0, 0, 0, 0, 0, 0, 0, 0, 0, 0, 0, 0, 0, 0, 0, 0, 0, 0, 0, 0, 0, 0, 0, 0, 0, 0, 0, 0, 0, 0, 0, 0, 0, 0, 0, 0, 0, 0, 0, 0, 0, 0, 0, 0, 0, 0, 0, 0, 0, 0, 0, 0, 0, 0, 0, 0, 0, 0, 0, 0, 0, 0, 0, 0, 0, 0, 0, 0, 0, 0, 0, 0, 0, 0, 0, 0, 0, 0, 0, 0, 0, 0, 0, 0, 0, 0, 0, 0, 0, 0, 0, 0, 0, 0, 0, 0, 0, 0, 0, 0, 0, 0, 0, 0, 0, 0, 0, 0, 0, 0, 0, 0, 0, 0, 0, 0, 0, 0, 0, 0, 0, 0, 0, 0, 0, 0, 0, 0, 0, 0, 0, 0, 0, 0, 0, 0, 0, 0, 0, 0, 0, 0, 0, 0, 0, 0, 0, 0, 0, 0, 0, 0, 0, 0, 0, 0, 0, 0, 0, 0, 0, 0, 0, 0, 0, 0, 0, 0, 0, 0, 0, 0, 0, 0, 0, 0, 0, 0, 0, 0, 0, 0, 0, 0, 0, 0, 0, 0, 0, 0, 0, 0, 0, 0, 0, 0, 0, 0, 0, 0, 0, 0, 0, 0, 0, 0, 0, 0, 0, 0, 0, 0, 0, 0, 0, 0, 0, 0, 0, 0, 0, 0, 0, 0, 0, 0, 0, 0, 0, 0, 0, 0, 0, 0, 0, 0, 0, 0, 0, 0, 0, 0, 0, 0, 0, 0, 0, 0, 0, 0, 0, 0, 0, 0, 0, 0, 0, 0, 0, 0, 0, 0, 0, 0, 0, 0, 0, 0, 0, 0, 0, 0, 0, 0, 0, 0, 0, 0, 0, 0, 0, 0, 0, 0, 0, 0, 0, 0, 0, 0, 0, 0, 0, 0, 0, 0, 0, 0, 0, 0, 0, 0, 0, 0, 0, 0, 0, 0, 0, 0, 0, 0, 0, 0, 0, 0, 0, 0, 0, 0, 0, 0, 0, 0, 0, 0, 0, 0, 0, 0, 0, 0, 0, 0, 0, 0, 0, 0, 0, 0, 0, 0, 0, 0, 0, 0, 0, 0, 0, 0, 0, 0, 0, 0, 0, 0, 0, 0, 0, 0, 0, 0, 0, 0, 0, 0, 0, 0, 0, 0, 0, 0, 0, 0, 0, 0, 0, 0, 0, 0, 0, 0, 0, 0, 0, 0, 0, 0, 0, 0, 0, 0, 0, 0, 0, 0, 0, 0, 0, 0, 0, 0, 0, 0, 0, 0, 0, 0, 0, 0, 0, 0, 0, 0, 0, 0, 0, 0, 0, 0, 1, 0, 0, 0, 0, 0, 0, 0, 0, 0, 0, 0, 0, 0, 0, 0, 0, 0, 0, 0, 0, 0, 0, 0, 0, 0, 0, 0, 0, 0, 0, 0, 0, 0, 0, 0, 0, 0, 0, 0, 0, 0, 0, 0, 0, 0, 0, 0, 0, 0, 0, 0, 0, 0, 0, 0, 0, 0, 0, 0, 0, 0, 0, 0, 0, 0, 0, 0, 0, 0, 0, 0, 0, 0, 0, 1, 0, 0, 0, 0, 0, 0, 0, 0, 0, 0, 0, 0, 0, 0, 0, 0, 0, 0, 0, 0, 1, 0, 0, 1, 0, 0, 0, 0, 0, 0, 0, 0, 0, 0, 0, 0, 0, 0, 0, 0, 0, 0, 0, 0, 0, 0, 0, 0, 0, 0, 0, 0, 0, 0, 0, 0, 0, 0, 0, 0, 0, 0, 0, 0, 0, 0, 0, 0, 0, 0, 0, 0, 0, 0, 0, 0, 0, 0, 0, 0, 0, 0, 0, 0, 0, 0, 0, 0, 0, 0, 0, 0, 0, 0, 0, 0, 0, 0, 0, 0, 0, 0, 0, 0, 0, 0, 0, 0, 0, 0, 0, 0, 0, 0, 0, 0, 0, 0, 0, 0, 0, 0, 0, 0, 0, 0, 0, 0, 0, 0, 0, 0, 0, 0, 0, 0, 0, 0, 0, 0, 0, 0, 0, 0, 0, 0, 0, 0, 0, 0, 0, 0, 0, 0, 0, 0, 0, 0, 0, 0, 0, 0, 0, 0, 0, 0, 0, 0, 0, 0, 0, 0, 0, 0, 0, 0, 0, 0, 0, 0, 0, 0, 0, 0, 0, 0, 0, 0, 0, 0, 0, 0, 0, 0, 0, 0, 0, 0, 0, 0, 0, 0, 0, 0, 0, 0, 0, 0, 0, 0, 0, 0, 0, 0, 0, 0, 0, 0, 0, 0, 0, 0, 0, 0, 0, 0, 0, 0, 0, 0, 0, 0, 0, 0, 0, 0, 0, 0, 0, 0, 0, 0, 0, 0, 0, 0, 0, 0, 0, 0, 0, 0, 0, 0, 0, 0, 0, 0, 0, 0, 0, 0, 0, 0, 0, 0, 0, 0, 0, 0, 0, 0, 0, 0, 0, 0, 0, 0, 0, 0, 0, 0, 0, 0, 0, 0, 0, 0, 0, 0, 0, 0, 0, 0, 0, 0, 0, 0, 0, 0, 0, 0, 0, 0, 0, 0, 0, 0, 0, 0, 0, 0, 0, 0, 0, 0, 0, 0, 0, 0, 0, 0, 0, 0, 0, 0, 0, 0, 0, 0, 0, 0, 0, 0, 0, 0, 0, 0, 0, 0, 0, 0, 0, 0, 0, 0, 0, 0, 0, 0, 0, 0, 0, 0, 0, 0, 0, 0, 0, 0, 0, 0, 0, 0, 0, 0, 0, 0, 0, 0, 0, 0, 0, 0, 0, 0, 0, 0, 0, 0, 0, 0, 0, 0, 0, 0, 0, 0, 0, 0, 0, 0, 0, 0, 0, 0, 0, 0, 0, 0, 0, 0, 0, 0, 0, 0, 0, 0, 0, 0, 0, 0, 0, 0, 0, 0, 0, 0, 0, 0, 0, 0, 0, 0, 0, 0, 0, 0, 0, 0, 0, 0, 0, 0, 0, 0, 0, 0, 0, 0, 0, 0, 0, 0, 0, 0, 0, 0, 0, 0, 0, 0, 0, 0, 0, 0, 0, 0, 0, 0, 0, 0, 0, 0, 0, 0, 0, 0, 0, 0, 0, 0, 0, 0, 0, 0, 0, 0, 0, 0, 0, 0, 0, 0, 0, 0, 0, 0, 0, 0, 1, 0, 0, 0, 0, 0, 0, 0, 0, 0, 0, 0, 0, 0, 0, 0, 0, 0, 0, 0, 0, 0, 0, 0, 0, 0, 0, 0, 0, 0, 0, 0, 0, 0, 0, 0, 0, 0, 0, 0, 0, 0, 0, 0, 0, 0, 0, 0, 0, 0, 0, 0, 0, 0, 0, 0, 0, 0, 0, 0, 0, 0, 0, 0, 0, 0, 0, 0, 0, 0, 0, 0, 0, 0, 0, 0, 0, 0, 0, 0, 0, 0, 0, 0, 0, 0, 0, 0, 0, 0, 0, 0, 0, 0, 0, 0, 0, 0, 0, 0, 0, 0, 0, 0, 0, 0, 0, 0, 0, 0, 0, 0, 0, 0, 0, 0, 0, 0, 0, 0, 0, 0, 0, 0, 0, 0, 0, 0, 0, 0, 0, 0, 0, 0, 0, 0, 0, 0, 0, 0, 0, 0, 0, 0, 0, 0, 0, 0, 0, 0, 0, 0, 0, 0, 0, 0, 0, 0, 0, 0, 0, 0, 0, 0, 0, 0, 0, 0, 0, 0, 0, 0, 0, 0, 0, 0, 0, 0, 0, 0, 0, 0, 0, 0, 0, 0, 0, 0, 0, 0, 0, 0, 0, 0, 0, 0, 0, 0, 0, 0, 0, 0, 0, 0, 0, 0, 0, 0, 0, 0, 0, 0, 0, 0, 0, 0, 0, 0, 0, 0, 0, 0, 0, 0, 0, 0, 0, 0, 0, 0, 0, 0, 0, 0, 0, 0, 0, 0, 0, 0, 0, 0, 0, 0, 0, 0, 0, 0, 0, 0, 0, 0, 0, 0, 0, 0, 0, 0, 0, 0, 0, 0, 0, 0, 0, 0, 0, 0, 0, 0, 0, 0, 0, 0, 0, 0, 0, 0, 0, 0, 0, 0, 0, 0, 0, 0, 0, 0, 0, 0, 0, 0, 0, 0, 0, 0, 0, 0, 0, 0, 0, 0, 0, 0, 0, 0, 0, 0, 0, 0, 0, 0, 0, 0, 0, 0, 0, 0, 0, 0, 0, 0, 0, 0, 0, 0, 0, 0, 0, 0, 0, 0, 0, 0, 0, 0, 0, 0, 0, 0, 0, 0, 0, 0, 0, 0, 0, 0, 0, 0, 0, 0, 0, 0, 0, 0, 0, 0, 0, 0, 0, 0, 0, 0, 0, 0, 0, 0, 0, 0, 0, 0, 0, 0, 0, 0, 0, 0, 0, 0, 0, 0, 0, 0, 0, 0, 0, 0, 0, 0, 0, 0, 0, 0, 0, 0, 0, 0, 0, 0, 0, 0, 0, 0, 0, 0, 0, 0, 0, 0, 0, 0, 0, 0, 0, 0, 0, 0, 0, 0, 0, 0, 0, 0, 0, 0, 0, 0, 0, 0, 0, 0, 0, 0, 0, 0, 0, 0, 0, 0, 0, 0, 0, 0, 0, 0, 0, 0, 0, 0, 0, 0, 0, 0, 0, 0, 0, 0, 0, 0, 0, 0, 0, 0, 0, 0, 0, 0, 0, 0, 0, 0, 0, 0, 0, 0, 0, 0, 0, 0, 0, 0, 0, 0, 0, 0, 0, 0, 0, 0, 0, 0, 0, 0, 0, 0, 0, 0, 0, 0, 0, 0, 0, 0, 0, 0, 0, 0, 0, 0, 0, 0, 0, 1, 0, 0, 0, 0, 0, 0, 0, 0, 0, 0, 0, 0, 0, 0, 0, 0, 0, 0, 0, 0, 0, 0, 0, 0, 0, 0, 0, 0, 0, 0, 0, 0, 0, 0, 0, 2, 0, 0, 0, 0, 0, 0, 0, 0, 0, 0, 0, 0, 0, 0, 0, 0, 0, 0, 0, 0, 0, 0, 0, 0, 0, 0, 0, 0, 0, 0, 0, 0, 0, 0, 0, 0, 0, 0, 0, 0, 1, 0, 0, 0, 0, 0, 0, 0, 0, 0, 0, 0, 0, 0, 0, 0, 0, 0, 0, 0, 0, 0, 0, 0, 0, 0, 0, 0, 0, 0, 0, 0, 0, 0, 0, 0, 0, 0, 0, 0, 0, 0, 0, 0, 0, 0, 0, 0, 0, 0, 0, 0, 0, 0, 0, 0, 0, 0, 0, 0, 0, 0, 0, 0, 0, 0, 0, 0, 0, 0, 0, 0, 0, 0, 0, 0, 0, 0, 0, 0, 0, 0, 0, 0, 0, 0, 0, 0, 0, 0, 0, 0, 0, 0, 0, 0, 0, 0, 0, 0, 0, 0, 0, 0, 0, 0, 0, 0, 0, 0, 0, 0, 0, 0, 0, 0, 0, 0, 0, 0, 0, 0, 0, 0, 0, 0, 0, 0, 0, 0, 0, 0, 0, 0, 0, 0, 0, 0, 0, 0, 0, 0, 0, 0, 0, 0, 0, 0, 0, 0, 0, 0, 0, 0, 0, 0, 0, 0, 0, 0, 0, 0, 0, 0, 0, 0, 0, 0, 0, 0, 0, 0, 0, 0, 0, 0, 0, 0, 0, 0, 0, 0, 0, 0, 0, 0, 0, 0, 0, 0, 0, 0, 0, 0, 0, 0, 0, 0, 0, 0, 0, 0, 0, 0, 0, 0, 0, 0, 0, 0, 0, 0, 0, 0, 0, 0, 0, 0, 0, 0, 0, 0, 0, 0, 0, 0, 0, 0, 0, 0, 0, 0, 0, 0, 0, 0, 0, 0, 0, 0, 0, 0, 0, 0, 0, 0, 0, 0, 0, 0, 0, 0, 0, 0, 0, 0, 0, 0, 0, 0, 0, 0, 0, 0, 0, 0, 0, 0, 0, 0, 0, 0, 0, 0, 0, 0, 0, 0, 0, 0, 0, 0, 0, 0, 0, 0, 0, 0, 0, 0, 0, 0, 0, 0, 0, 0, 0, 0, 0, 0, 0, 0, 0, 0, 0, 0, 0, 0, 0, 0, 0, 0, 0, 0, 0, 0, 0, 0, 0, 0, 0, 0, 0, 0, 0, 0, 0, 0, 0, 0, 0, 0, 0, 0, 0, 0, 0, 0, 0, 0, 0, 0, 0, 0, 0, 0, 0, 0, 0, 0, 0, 0, 0, 0, 0, 0, 0, 0, 0, 0, 0, 0, 0, 0, 0, 0, 0, 0, 0, 0, 0, 0, 0, 0, 0, 0, 0, 0, 0, 0, 0, 0, 0, 0, 0, 0, 0, 0, 0, 0, 0, 0, 0, 0, 0, 0, 0, 0, 0, 0, 0, 0, 0, 0, 0, 0, 0, 0, 0, 0, 0, 0, 0, 0, 0, 0, 0, 0, 0, 0, 0, 0, 0, 0, 0, 0, 0, 0, 0, 0, 0, 0, 0, 0, 0, 0, 0, 0, 0, 0, 0, 0, 0, 0, 0, 0, 0, 0, 0, 0, 0, 0, 0, 0, 0, 0, 0, 0, 0, 0, 0, 0, 0, 0, 0, 0, 0, 0, 0, 0, 0, 0, 0, 0, 0, 0, 0, 0, 0, 0, 0, 0, 0, 0, 0, 0, 0, 0, 0, 0, 0, 0, 0, 0, 0, 0, 0, 0, 1, 0, 0, 0, 0, 0, 0, 0, 0, 0, 0, 0, 0, 0, 0, 0, 0, 0, 0, 0, 0, 0, 0, 0, 0, 0, 0, 0, 0, 0, 0, 0, 0, 0, 0, 0, 0, 0, 0, 0, 0, 0, 0, 0, 0, 0, 0, 0, 0, 0, 0, 0, 0, 0, 0, 0, 0, 0, 0, 0, 0, 0, 0, 0, 0, 0, 0, 0, 0, 0, 0, 0, 0, 0, 0, 0, 0, 0, 0, 0, 0, 0, 0, 0, 0, 0, 0, 0, 0, 0, 0, 0, 0, 0, 0, 0, 0, 0, 0, 0, 0, 0, 0, 0, 0, 0, 0, 0, 0, 0, 0, 2, 0, 0, 0, 0, 0, 0, 0, 0, 0, 0, 0, 0, 0, 0, 0, 0, 0, 0, 0, 0, 0, 0, 0, 0, 0, 0, 0, 0, 0, 0, 0, 0, 0, 0, 0, 0, 0, 0, 0, 0, 0, 0, 0, 0, 0, 0, 0, 0, 0, 0, 0, 0, 0, 0, 0, 0, 0, 0, 0, 0, 0, 0, 0, 0, 0, 0, 0, 0, 0, 0, 0, 0, 0, 0, 0, 0, 0, 0, 0, 0, 0, 0, 0, 0, 0, 0, 0, 0, 0, 0, 0, 0, 0, 0, 0, 0, 0, 0, 0, 0, 0, 0, 0, 0, 0, 0, 0, 0, 0, 0, 0, 0, 0, 0, 0, 0, 0, 0, 0, 0, 0, 0, 0, 0, 0, 0, 0, 0, 0, 0, 0, 0, 0, 0, 0, 0, 0, 0, 0, 0, 0, 0, 0, 0, 0, 0, 0, 0, 0, 0, 0, 0, 0, 0, 0, 0, 0, 0, 0, 0, 0, 0, 0, 0, 0, 0, 0, 0, 0, 0, 0, 0, 0, 0, 0, 0, 0, 0, 0, 0, 0, 0, 0, 0, 0, 0, 0, 0, 0, 0, 0, 0, 0, 0, 0, 0, 0, 0, 0, 0, 0, 0, 0, 0, 0, 0, 0, 0, 0, 0, 0, 0, 0, 0, 0, 0, 0, 0, 0, 0, 0, 0, 0, 0, 0, 0, 0, 0, 0, 0, 0, 0, 0, 0, 0, 0, 0, 0, 0, 0, 0, 0, 0, 0, 0, 0, 0, 0, 0, 0, 0, 0, 0, 0, 0, 0, 0, 0, 0, 0, 0, 0, 0, 0, 0, 0, 0, 0, 0, 0, 0, 0, 0, 0, 0, 0, 0, 0, 0, 0, 0, 0, 0, 0, 0, 0, 0, 0, 0, 0, 0, 0, 0, 0, 0, 0, 0, 0, 0, 0, 0, 0, 0, 0, 0, 0, 0, 0, 0, 0, 0, 0, 0, 0, 0, 0, 0, 0, 0, 0, 0, 0, 0, 0, 0, 0, 0, 0, 0, 0, 0, 0, 0, 0, 0, 0, 0, 0, 0, 0, 0, 0, 0, 0, 0, 0, 0, 0, 0, 0, 0, 0, 0, 0, 0, 0, 0, 0, 0, 0, 0, 0, 0, 0, 0, 0, 0, 0, 0, 0, 0, 0, 0, 0, 0, 0, 0, 0, 0, 0, 0, 0, 0, 0, 0, 0, 0, 0, 0, 0, 0, 0, 0, 0, 0, 0, 0, 0, 0, 0, 0, 0, 0, 0, 0, 0, 0, 0, 0, 0, 0, 0, 0, 0, 0, 0, 0, 0, 0, 0, 0, 0, 0, 0, 0, 0, 0, 0, 0, 0, 0, 0, 0, 0, 0, 0, 0, 0, 0, 0, 0, 0, 0, 0, 0, 0, 0, 0, 0, 0, 0, 0, 0, 0, 0, 0, 0, 0, 0, 0, 0, 0, 0, 0, 0, 0, 0, 0, 0, 0, 0, 0, 0, 0, 0, 0, 0, 0, 0, 0, 0, 0, 0, 0, 0, 0, 0, 0, 0, 0, 0, 0, 0, 0, 0, 0, 0, 0, 0, 0, 0, 0, 0, 0, 0, 0, 0, 0, 0, 0, 0, 0, 0, 0, 0, 0, 0, 0, 0, 0, 0, 0, 0, 0, 0, 0, 0, 0, 0, 0, 0, 0, 0, 0, 0, 0, 0, 0, 0, 0, 0, 0, 0, 0, 0, 0, 0, 0, 0, 0, 0, 0, 0, 0, 0, 0, 0, 0, 0, 0, 0, 0, 0, 0, 0, 0, 0, 0, 0, 0, 0, 0, 0, 0, 0, 0, 0, 0, 0, 0, 0, 0, 0, 0, 0, 0, 0, 0, 0, 0, 0, 0, 0, 0, 0, 0, 0, 0, 0, 0, 0, 0, 0, 0, 0, 0, 0, 0, 0, 0, 0, 0, 0, 0, 0, 0, 0, 0, 0, 0, 0, 0, 0, 0, 0, 0, 0, 0, 0, 0, 0, 0, 0, 0, 0, 0, 0, 0, 0, 0, 0, 0, 0, 0, 0, 0, 0, 0, 0, 0, 0, 0, 0, 0, 0, 0, 0, 0, 0, 0, 0, 0, 0, 0, 0, 0, 0, 0, 0, 0, 0, 0, 0, 0, 0, 0, 0, 0, 0, 0, 0, 0, 0, 0, 0, 0, 0, 0, 0, 0, 1, 0, 0, 0, 0, 0, 0, 0, 0, 0, 0, 0, 0, 0, 0, 0, 0, 0, 0, 0, 0, 0, 0, 0, 0, 0, 0, 0, 0, 0, 0, 0, 0, 0, 0, 0, 0, 0, 0, 0, 0, 0, 0, 0, 0, 0, 0, 0, 0, 0, 0, 0, 0, 0, 0, 0, 0, 0, 0, 0, 0, 0, 0, 0, 0, 0, 0, 0, 0, 0, 0, 0, 0, 0, 0, 0, 0, 0, 0, 0, 0, 0, 0, 0, 0, 0, 0, 0, 0, 0, 0, 0, 0, 0, 0, 0, 0, 0, 0, 0, 0, 0, 0, 0, 0, 0, 0, 0, 1, 0, 0, 0, 0, 0, 0, 0, 0, 0, 0, 0, 0, 0, 0, 0, 0, 0, 0, 0, 0, 0, 0, 0, 0, 0, 0, 0, 0, 0, 0, 0, 0, 0, 0, 0, 0, 0, 0, 0, 0, 0, 0, 0, 0, 0, 0, 0, 0, 0, 0, 0, 0, 0, 0, 0, 0, 0, 0, 0, 0, 0, 0, 0, 0, 0, 0, 0, 0, 0, 0, 0, 0, 0, 0, 0, 0, 0, 0, 0, 0, 0, 0, 0, 0, 0, 0, 0, 0, 0, 0, 0, 0, 0, 0, 0, 0, 0, 0, 0, 0, 0, 0, 0, 0, 0, 0, 0, 0, 0, 0, 0, 0, 0, 0, 0, 0, 0, 0, 0, 0, 0, 0, 0, 0, 0, 0, 0, 0, 0, 0, 0, 0, 0, 0, 0, 0, 0, 0, 0, 0, 0, 0, 0, 0, 0, 0, 0, 0, 0, 0, 0, 0, 0, 0, 0, 0, 0, 0, 0, 0, 0, 0, 0, 0, 0, 0, 0, 0, 0, 0, 0, 0, 0, 0, 0, 0, 0, 0, 0, 0, 0, 0, 0, 0, 0, 0, 0, 0, 0, 0, 0, 0, 0, 0, 0, 0, 0, 0, 0, 0, 0, 0, 0, 0, 0, 0, 0, 0, 0, 0, 0, 0, 0, 0, 0, 0, 0, 0, 0, 0, 0, 0, 0, 0, 0, 0, 0, 0, 0, 0, 0, 0, 0, 0, 0, 0, 0, 0, 0, 0, 0, 0, 0, 0, 0, 0, 0, 0, 0, 0, 0, 0, 0, 0, 0, 0, 0, 0, 0, 0, 0, 0, 0, 0, 0, 0, 0, 0, 0, 0, 0, 0, 0, 0, 0, 0, 0, 0, 0, 0, 0, 0, 0, 0, 0, 0, 0, 0, 0, 0, 0, 0, 0, 0, 0, 0, 0, 0, 0, 0, 0, 0, 0, 0, 0, 0, 0, 0, 0, 0, 0, 0, 0, 0, 0, 0, 0, 0, 0, 0, 0, 0, 0, 0, 0, 0, 0, 0, 0, 0, 0, 0, 0, 0, 0, 0, 0, 0, 0, 0, 0, 0, 0, 0, 0, 0, 0, 0, 0, 0, 0, 0, 0, 0, 0, 0, 0, 0, 0, 0, 0, 0, 0, 0, 0, 0, 0, 0, 0, 0, 0, 0, 0, 0, 0, 0, 0, 0, 0, 0, 0, 0, 0, 0, 0, 0, 0, 0, 0, 0, 0, 0, 0, 0, 0, 0, 0, 0, 0, 0, 0, 0, 0, 0, 0, 0, 0, 0, 0, 0, 0, 0, 0, 0, 0, 0, 0, 0, 0, 0, 0, 0, 0, 0, 0, 0, 0, 0, 0, 0, 0, 0, 0, 0, 0, 0, 0, 0, 0, 0, 0, 0, 0, 0, 0, 0, 0, 0, 0, 0, 0, 0, 0, 0, 0, 0, 0, 0, 0, 0, 0, 0, 0, 2, 0, 1, 0], type: <class 'list'>, valid types: <class 'bytes'>, <class 'bytearray'>, file-like object",
     "output_type": "error",
     "traceback": [
      "\u001b[0;31m---------------------------------------------------------------------------\u001b[0m",
      "\u001b[0;31mParamValidationError\u001b[0m                      Traceback (most recent call last)",
      "\u001b[0;32m<ipython-input-44-c9ab54ae3a48>\u001b[0m in \u001b[0;36m<module>\u001b[0;34m\u001b[0m\n\u001b[1;32m      1\u001b[0m response = runtime.invoke_endpoint(EndpointName = xgb_predictor.endpoint, # The name of the endpoint we created\n\u001b[1;32m      2\u001b[0m                                        \u001b[0mContentType\u001b[0m \u001b[0;34m=\u001b[0m \u001b[0;34m'text/csv'\u001b[0m\u001b[0;34m,\u001b[0m                     \u001b[0;31m# The data format that is expected\u001b[0m\u001b[0;34m\u001b[0m\u001b[0;34m\u001b[0m\u001b[0m\n\u001b[0;32m----> 3\u001b[0;31m                                        Body = test_bow)\n\u001b[0m",
      "\u001b[0;32m~/anaconda3/envs/python3/lib/python3.6/site-packages/botocore/client.py\u001b[0m in \u001b[0;36m_api_call\u001b[0;34m(self, *args, **kwargs)\u001b[0m\n\u001b[1;32m    355\u001b[0m                     \"%s() only accepts keyword arguments.\" % py_operation_name)\n\u001b[1;32m    356\u001b[0m             \u001b[0;31m# The \"self\" in this scope is referring to the BaseClient.\u001b[0m\u001b[0;34m\u001b[0m\u001b[0;34m\u001b[0m\u001b[0;34m\u001b[0m\u001b[0m\n\u001b[0;32m--> 357\u001b[0;31m             \u001b[0;32mreturn\u001b[0m \u001b[0mself\u001b[0m\u001b[0;34m.\u001b[0m\u001b[0m_make_api_call\u001b[0m\u001b[0;34m(\u001b[0m\u001b[0moperation_name\u001b[0m\u001b[0;34m,\u001b[0m \u001b[0mkwargs\u001b[0m\u001b[0;34m)\u001b[0m\u001b[0;34m\u001b[0m\u001b[0;34m\u001b[0m\u001b[0m\n\u001b[0m\u001b[1;32m    358\u001b[0m \u001b[0;34m\u001b[0m\u001b[0m\n\u001b[1;32m    359\u001b[0m         \u001b[0m_api_call\u001b[0m\u001b[0;34m.\u001b[0m\u001b[0m__name__\u001b[0m \u001b[0;34m=\u001b[0m \u001b[0mstr\u001b[0m\u001b[0;34m(\u001b[0m\u001b[0mpy_operation_name\u001b[0m\u001b[0;34m)\u001b[0m\u001b[0;34m\u001b[0m\u001b[0;34m\u001b[0m\u001b[0m\n",
      "\u001b[0;32m~/anaconda3/envs/python3/lib/python3.6/site-packages/botocore/client.py\u001b[0m in \u001b[0;36m_make_api_call\u001b[0;34m(self, operation_name, api_params)\u001b[0m\n\u001b[1;32m    647\u001b[0m         }\n\u001b[1;32m    648\u001b[0m         request_dict = self._convert_to_request_dict(\n\u001b[0;32m--> 649\u001b[0;31m             api_params, operation_model, context=request_context)\n\u001b[0m\u001b[1;32m    650\u001b[0m \u001b[0;34m\u001b[0m\u001b[0m\n\u001b[1;32m    651\u001b[0m         \u001b[0mservice_id\u001b[0m \u001b[0;34m=\u001b[0m \u001b[0mself\u001b[0m\u001b[0;34m.\u001b[0m\u001b[0m_service_model\u001b[0m\u001b[0;34m.\u001b[0m\u001b[0mservice_id\u001b[0m\u001b[0;34m.\u001b[0m\u001b[0mhyphenize\u001b[0m\u001b[0;34m(\u001b[0m\u001b[0;34m)\u001b[0m\u001b[0;34m\u001b[0m\u001b[0;34m\u001b[0m\u001b[0m\n",
      "\u001b[0;32m~/anaconda3/envs/python3/lib/python3.6/site-packages/botocore/client.py\u001b[0m in \u001b[0;36m_convert_to_request_dict\u001b[0;34m(self, api_params, operation_model, context)\u001b[0m\n\u001b[1;32m    695\u001b[0m             api_params, operation_model, context)\n\u001b[1;32m    696\u001b[0m         request_dict = self._serializer.serialize_to_request(\n\u001b[0;32m--> 697\u001b[0;31m             api_params, operation_model)\n\u001b[0m\u001b[1;32m    698\u001b[0m         \u001b[0;32mif\u001b[0m \u001b[0;32mnot\u001b[0m \u001b[0mself\u001b[0m\u001b[0;34m.\u001b[0m\u001b[0m_client_config\u001b[0m\u001b[0;34m.\u001b[0m\u001b[0minject_host_prefix\u001b[0m\u001b[0;34m:\u001b[0m\u001b[0;34m\u001b[0m\u001b[0;34m\u001b[0m\u001b[0m\n\u001b[1;32m    699\u001b[0m             \u001b[0mrequest_dict\u001b[0m\u001b[0;34m.\u001b[0m\u001b[0mpop\u001b[0m\u001b[0;34m(\u001b[0m\u001b[0;34m'host_prefix'\u001b[0m\u001b[0;34m,\u001b[0m \u001b[0;32mNone\u001b[0m\u001b[0;34m)\u001b[0m\u001b[0;34m\u001b[0m\u001b[0;34m\u001b[0m\u001b[0m\n",
      "\u001b[0;32m~/anaconda3/envs/python3/lib/python3.6/site-packages/botocore/validate.py\u001b[0m in \u001b[0;36mserialize_to_request\u001b[0;34m(self, parameters, operation_model)\u001b[0m\n\u001b[1;32m    295\u001b[0m                                                     operation_model.input_shape)\n\u001b[1;32m    296\u001b[0m             \u001b[0;32mif\u001b[0m \u001b[0mreport\u001b[0m\u001b[0;34m.\u001b[0m\u001b[0mhas_errors\u001b[0m\u001b[0;34m(\u001b[0m\u001b[0;34m)\u001b[0m\u001b[0;34m:\u001b[0m\u001b[0;34m\u001b[0m\u001b[0;34m\u001b[0m\u001b[0m\n\u001b[0;32m--> 297\u001b[0;31m                 \u001b[0;32mraise\u001b[0m \u001b[0mParamValidationError\u001b[0m\u001b[0;34m(\u001b[0m\u001b[0mreport\u001b[0m\u001b[0;34m=\u001b[0m\u001b[0mreport\u001b[0m\u001b[0;34m.\u001b[0m\u001b[0mgenerate_report\u001b[0m\u001b[0;34m(\u001b[0m\u001b[0;34m)\u001b[0m\u001b[0;34m)\u001b[0m\u001b[0;34m\u001b[0m\u001b[0;34m\u001b[0m\u001b[0m\n\u001b[0m\u001b[1;32m    298\u001b[0m         return self._serializer.serialize_to_request(parameters,\n\u001b[1;32m    299\u001b[0m                                                      operation_model)\n",
      "\u001b[0;31mParamValidationError\u001b[0m: Parameter validation failed:\nInvalid type for parameter Body, value: [0, 0, 0, 0, 0, 0, 0, 0, 0, 0, 0, 0, 0, 0, 0, 0, 0, 0, 0, 0, 0, 0, 0, 0, 0, 0, 0, 0, 0, 0, 0, 0, 0, 0, 0, 0, 0, 0, 0, 0, 0, 0, 0, 0, 0, 0, 0, 0, 0, 0, 0, 0, 0, 0, 0, 0, 0, 0, 0, 0, 0, 0, 0, 0, 0, 0, 0, 0, 0, 0, 0, 0, 0, 0, 0, 0, 0, 0, 0, 0, 0, 0, 0, 0, 0, 0, 0, 0, 0, 0, 0, 0, 0, 0, 0, 0, 0, 0, 0, 0, 0, 0, 0, 0, 0, 0, 0, 0, 0, 0, 0, 0, 0, 0, 0, 0, 0, 0, 0, 0, 0, 0, 0, 0, 0, 0, 0, 0, 0, 0, 0, 0, 0, 0, 0, 0, 0, 0, 0, 0, 0, 0, 0, 0, 0, 0, 0, 0, 0, 0, 0, 0, 0, 0, 0, 0, 0, 0, 0, 0, 0, 0, 0, 0, 0, 0, 0, 0, 0, 0, 0, 0, 0, 0, 0, 0, 0, 0, 0, 0, 0, 0, 0, 0, 0, 0, 0, 0, 0, 0, 0, 0, 0, 0, 0, 0, 0, 0, 0, 0, 0, 0, 0, 0, 0, 0, 0, 0, 0, 0, 0, 0, 0, 0, 0, 0, 0, 0, 0, 0, 0, 0, 0, 0, 0, 0, 1, 0, 0, 0, 0, 0, 0, 0, 0, 0, 0, 0, 0, 0, 0, 0, 0, 0, 0, 0, 0, 0, 0, 0, 0, 0, 0, 0, 0, 0, 1, 0, 0, 0, 0, 0, 0, 0, 0, 0, 0, 0, 0, 0, 0, 0, 0, 0, 0, 0, 0, 0, 0, 0, 0, 0, 0, 0, 0, 0, 0, 0, 0, 0, 0, 0, 0, 0, 0, 0, 0, 0, 0, 0, 0, 0, 0, 0, 0, 0, 0, 0, 0, 0, 0, 0, 0, 0, 0, 0, 0, 0, 0, 0, 0, 0, 0, 0, 0, 0, 0, 0, 0, 0, 0, 0, 0, 0, 0, 0, 0, 0, 0, 0, 0, 0, 0, 0, 0, 0, 0, 0, 0, 0, 0, 0, 0, 0, 0, 0, 0, 0, 0, 0, 0, 0, 0, 0, 0, 0, 0, 0, 0, 0, 0, 0, 0, 0, 0, 0, 0, 0, 0, 0, 0, 0, 0, 0, 0, 0, 0, 0, 0, 0, 0, 0, 0, 0, 0, 0, 0, 0, 0, 0, 0, 0, 0, 0, 0, 0, 0, 0, 0, 0, 0, 0, 0, 0, 0, 0, 0, 0, 0, 0, 0, 0, 0, 0, 0, 0, 0, 0, 0, 0, 0, 0, 0, 0, 0, 0, 0, 0, 0, 0, 0, 0, 0, 0, 0, 0, 0, 0, 0, 0, 0, 0, 0, 0, 0, 0, 0, 0, 0, 0, 0, 0, 0, 0, 0, 0, 0, 0, 0, 0, 0, 0, 0, 0, 0, 0, 0, 0, 0, 0, 0, 0, 0, 0, 0, 0, 0, 0, 0, 0, 0, 0, 0, 0, 0, 0, 0, 0, 0, 0, 0, 0, 0, 0, 0, 0, 0, 0, 0, 0, 0, 0, 0, 0, 0, 0, 0, 0, 0, 0, 0, 0, 0, 0, 0, 0, 0, 0, 0, 0, 0, 0, 0, 0, 0, 0, 0, 0, 0, 0, 0, 0, 0, 0, 0, 0, 0, 0, 0, 0, 0, 0, 0, 0, 0, 0, 0, 0, 0, 0, 0, 0, 0, 0, 0, 0, 0, 0, 0, 0, 0, 0, 0, 0, 0, 0, 0, 0, 0, 0, 0, 0, 0, 0, 0, 0, 0, 0, 0, 0, 0, 0, 0, 0, 0, 0, 0, 0, 0, 0, 0, 0, 0, 0, 0, 0, 0, 0, 0, 0, 0, 0, 0, 0, 0, 0, 0, 0, 0, 0, 0, 0, 0, 0, 0, 0, 0, 0, 0, 0, 0, 0, 0, 0, 0, 0, 1, 0, 0, 0, 0, 0, 0, 0, 0, 0, 0, 0, 0, 0, 0, 0, 0, 0, 0, 0, 0, 0, 0, 0, 0, 0, 0, 0, 0, 0, 0, 0, 0, 0, 0, 0, 0, 0, 0, 0, 0, 0, 0, 0, 0, 0, 0, 0, 0, 0, 0, 0, 0, 0, 0, 0, 0, 0, 0, 0, 0, 0, 0, 0, 0, 0, 0, 0, 0, 0, 0, 0, 0, 0, 0, 0, 0, 0, 0, 0, 0, 0, 0, 0, 0, 0, 0, 0, 0, 0, 0, 0, 0, 0, 0, 0, 0, 0, 0, 0, 0, 0, 0, 0, 0, 0, 0, 0, 0, 0, 0, 0, 0, 0, 0, 0, 0, 0, 0, 0, 0, 0, 0, 0, 0, 0, 0, 0, 0, 0, 0, 0, 0, 0, 0, 0, 0, 0, 0, 0, 0, 0, 0, 0, 0, 0, 0, 0, 0, 0, 0, 0, 0, 0, 0, 0, 0, 0, 0, 0, 0, 0, 0, 0, 0, 0, 0, 0, 0, 0, 0, 0, 0, 0, 0, 0, 0, 0, 0, 0, 0, 0, 0, 0, 0, 0, 0, 0, 0, 0, 0, 0, 0, 0, 0, 0, 0, 0, 0, 0, 0, 0, 0, 0, 0, 0, 0, 0, 0, 0, 0, 0, 0, 0, 0, 0, 0, 0, 0, 0, 0, 0, 0, 0, 0, 0, 0, 0, 0, 0, 0, 0, 0, 0, 0, 0, 0, 0, 0, 0, 0, 0, 0, 0, 0, 0, 0, 0, 0, 0, 0, 0, 0, 0, 1, 0, 0, 0, 0, 0, 0, 0, 0, 0, 0, 0, 0, 0, 0, 0, 0, 0, 0, 0, 0, 0, 0, 0, 0, 0, 0, 0, 0, 0, 0, 0, 0, 0, 0, 0, 0, 0, 0, 0, 0, 0, 0, 0, 0, 0, 0, 0, 0, 0, 0, 0, 0, 0, 0, 0, 0, 0, 0, 0, 0, 0, 0, 0, 0, 0, 0, 0, 0, 0, 0, 0, 0, 0, 0, 0, 0, 0, 0, 0, 0, 0, 0, 0, 0, 0, 0, 1, 0, 0, 0, 0, 0, 0, 0, 0, 0, 0, 0, 0, 0, 0, 0, 0, 0, 0, 0, 0, 0, 0, 0, 0, 0, 0, 0, 0, 0, 0, 0, 0, 0, 0, 0, 0, 0, 0, 0, 0, 0, 0, 0, 0, 0, 0, 0, 0, 0, 0, 0, 0, 0, 0, 0, 0, 0, 0, 0, 0, 0, 0, 0, 0, 0, 0, 0, 0, 0, 0, 0, 0, 0, 0, 0, 0, 0, 0, 0, 0, 0, 0, 0, 0, 0, 0, 0, 0, 0, 0, 0, 0, 0, 0, 0, 0, 0, 0, 0, 0, 0, 0, 0, 0, 0, 0, 0, 0, 0, 0, 0, 0, 0, 0, 0, 0, 0, 0, 0, 0, 0, 0, 0, 0, 0, 0, 0, 0, 0, 0, 0, 0, 0, 0, 0, 0, 0, 0, 0, 0, 0, 0, 0, 0, 0, 0, 0, 0, 0, 0, 0, 0, 0, 0, 0, 0, 0, 0, 0, 0, 0, 0, 0, 0, 0, 0, 0, 0, 0, 0, 0, 0, 0, 0, 0, 0, 0, 0, 0, 0, 0, 0, 0, 0, 0, 0, 0, 0, 0, 0, 0, 0, 0, 0, 0, 0, 0, 0, 0, 0, 0, 0, 0, 0, 0, 0, 0, 0, 0, 0, 0, 0, 0, 0, 0, 0, 0, 0, 0, 0, 0, 0, 0, 0, 0, 0, 0, 0, 0, 0, 0, 0, 0, 0, 0, 0, 0, 0, 0, 0, 0, 0, 0, 0, 0, 0, 0, 0, 0, 0, 0, 0, 1, 0, 0, 0, 0, 0, 0, 0, 0, 0, 0, 0, 0, 0, 0, 0, 0, 0, 0, 0, 0, 0, 0, 0, 0, 0, 0, 0, 0, 0, 0, 0, 0, 0, 0, 0, 0, 0, 0, 0, 0, 0, 0, 0, 0, 0, 0, 0, 0, 0, 0, 0, 0, 0, 0, 0, 1, 0, 0, 0, 0, 0, 0, 0, 0, 0, 0, 0, 0, 0, 0, 0, 0, 0, 0, 0, 0, 0, 0, 0, 0, 0, 0, 0, 0, 0, 0, 0, 0, 0, 0, 0, 0, 0, 0, 0, 0, 0, 0, 0, 0, 0, 0, 0, 0, 0, 0, 0, 0, 0, 0, 0, 0, 0, 0, 0, 0, 0, 0, 0, 0, 0, 0, 0, 0, 0, 0, 0, 0, 0, 0, 0, 0, 0, 0, 0, 0, 0, 0, 0, 0, 0, 0, 0, 0, 0, 0, 0, 0, 0, 0, 0, 0, 0, 0, 0, 0, 0, 0, 0, 0, 0, 0, 0, 0, 0, 0, 0, 0, 0, 0, 0, 0, 0, 0, 0, 0, 0, 0, 0, 0, 0, 0, 0, 0, 0, 0, 0, 0, 0, 0, 0, 0, 0, 0, 0, 0, 0, 0, 0, 0, 0, 0, 0, 0, 0, 0, 0, 0, 0, 0, 0, 0, 0, 0, 0, 0, 0, 0, 0, 0, 0, 0, 0, 0, 0, 0, 0, 0, 0, 0, 0, 0, 0, 0, 0, 0, 0, 0, 0, 0, 0, 0, 0, 0, 0, 0, 0, 0, 0, 0, 0, 0, 0, 0, 0, 0, 0, 0, 0, 0, 0, 0, 0, 0, 0, 0, 0, 0, 0, 0, 0, 0, 0, 0, 0, 0, 0, 0, 0, 0, 0, 0, 0, 0, 0, 0, 0, 0, 0, 0, 0, 0, 0, 0, 0, 0, 0, 0, 0, 0, 0, 0, 0, 0, 0, 0, 0, 0, 0, 0, 0, 0, 0, 0, 0, 0, 0, 0, 0, 0, 0, 0, 0, 0, 0, 0, 0, 0, 0, 0, 0, 0, 0, 0, 0, 0, 0, 0, 0, 0, 0, 0, 0, 0, 0, 0, 0, 0, 0, 0, 0, 0, 0, 0, 0, 0, 0, 0, 0, 0, 0, 0, 0, 0, 0, 0, 0, 0, 0, 0, 0, 0, 0, 0, 0, 0, 0, 0, 0, 0, 0, 0, 0, 0, 0, 0, 0, 0, 0, 0, 0, 0, 0, 0, 0, 0, 0, 0, 0, 0, 0, 0, 0, 0, 0, 0, 0, 0, 0, 0, 0, 0, 0, 0, 0, 0, 0, 0, 0, 0, 0, 0, 0, 0, 0, 0, 0, 0, 0, 0, 0, 0, 0, 0, 0, 0, 0, 0, 0, 0, 0, 0, 0, 0, 0, 0, 0, 0, 0, 0, 0, 0, 0, 0, 0, 0, 0, 0, 0, 0, 0, 0, 0, 0, 0, 0, 0, 0, 0, 0, 0, 0, 0, 0, 0, 0, 0, 0, 0, 0, 0, 0, 0, 0, 0, 0, 0, 0, 0, 0, 0, 0, 0, 0, 0, 0, 0, 0, 0, 0, 0, 0, 0, 0, 0, 0, 0, 0, 0, 0, 0, 0, 0, 0, 0, 0, 0, 0, 0, 0, 0, 0, 0, 0, 0, 0, 0, 0, 0, 0, 0, 0, 0, 0, 0, 0, 0, 0, 0, 0, 0, 0, 0, 0, 0, 0, 0, 0, 0, 0, 0, 0, 0, 0, 0, 0, 0, 0, 0, 0, 0, 0, 0, 0, 0, 0, 0, 0, 0, 0, 0, 0, 0, 0, 0, 0, 0, 0, 0, 0, 0, 0, 0, 0, 0, 0, 0, 0, 0, 0, 0, 0, 0, 0, 0, 0, 0, 0, 0, 0, 0, 0, 0, 0, 0, 0, 0, 0, 0, 0, 0, 0, 0, 0, 0, 0, 0, 0, 0, 0, 0, 0, 0, 0, 0, 0, 0, 0, 0, 0, 0, 0, 0, 0, 0, 0, 0, 0, 0, 0, 0, 0, 0, 0, 0, 0, 0, 0, 0, 0, 0, 0, 0, 0, 0, 0, 0, 0, 0, 0, 0, 0, 0, 0, 0, 0, 0, 0, 0, 0, 0, 0, 0, 0, 0, 0, 0, 0, 0, 0, 0, 0, 0, 0, 0, 0, 0, 0, 0, 0, 0, 0, 0, 0, 0, 0, 0, 0, 0, 0, 0, 0, 0, 0, 0, 0, 0, 0, 0, 0, 0, 0, 0, 0, 0, 0, 0, 0, 0, 0, 0, 0, 0, 0, 0, 0, 0, 0, 0, 0, 0, 0, 0, 0, 0, 0, 0, 1, 0, 0, 0, 0, 0, 0, 0, 0, 0, 0, 0, 0, 0, 0, 0, 0, 0, 0, 0, 0, 0, 0, 0, 0, 0, 0, 0, 0, 0, 0, 0, 0, 0, 0, 0, 0, 0, 0, 0, 0, 0, 0, 0, 0, 0, 0, 0, 0, 0, 0, 0, 0, 0, 0, 0, 0, 0, 0, 0, 0, 0, 0, 0, 0, 0, 0, 0, 0, 0, 0, 0, 0, 0, 0, 1, 0, 0, 0, 0, 0, 0, 0, 0, 0, 0, 0, 0, 0, 0, 0, 0, 0, 0, 0, 0, 1, 0, 0, 1, 0, 0, 0, 0, 0, 0, 0, 0, 0, 0, 0, 0, 0, 0, 0, 0, 0, 0, 0, 0, 0, 0, 0, 0, 0, 0, 0, 0, 0, 0, 0, 0, 0, 0, 0, 0, 0, 0, 0, 0, 0, 0, 0, 0, 0, 0, 0, 0, 0, 0, 0, 0, 0, 0, 0, 0, 0, 0, 0, 0, 0, 0, 0, 0, 0, 0, 0, 0, 0, 0, 0, 0, 0, 0, 0, 0, 0, 0, 0, 0, 0, 0, 0, 0, 0, 0, 0, 0, 0, 0, 0, 0, 0, 0, 0, 0, 0, 0, 0, 0, 0, 0, 0, 0, 0, 0, 0, 0, 0, 0, 0, 0, 0, 0, 0, 0, 0, 0, 0, 0, 0, 0, 0, 0, 0, 0, 0, 0, 0, 0, 0, 0, 0, 0, 0, 0, 0, 0, 0, 0, 0, 0, 0, 0, 0, 0, 0, 0, 0, 0, 0, 0, 0, 0, 0, 0, 0, 0, 0, 0, 0, 0, 0, 0, 0, 0, 0, 0, 0, 0, 0, 0, 0, 0, 0, 0, 0, 0, 0, 0, 0, 0, 0, 0, 0, 0, 0, 0, 0, 0, 0, 0, 0, 0, 0, 0, 0, 0, 0, 0, 0, 0, 0, 0, 0, 0, 0, 0, 0, 0, 0, 0, 0, 0, 0, 0, 0, 0, 0, 0, 0, 0, 0, 0, 0, 0, 0, 0, 0, 0, 0, 0, 0, 0, 0, 0, 0, 0, 0, 0, 0, 0, 0, 0, 0, 0, 0, 0, 0, 0, 0, 0, 0, 0, 0, 0, 0, 0, 0, 0, 0, 0, 0, 0, 0, 0, 0, 0, 0, 0, 0, 0, 0, 0, 0, 0, 0, 0, 0, 0, 0, 0, 0, 0, 0, 0, 0, 0, 0, 0, 0, 0, 0, 0, 0, 0, 0, 0, 0, 0, 0, 0, 0, 0, 0, 0, 0, 0, 0, 0, 0, 0, 0, 0, 0, 0, 0, 0, 0, 0, 0, 0, 0, 0, 0, 0, 0, 0, 0, 0, 0, 0, 0, 0, 0, 0, 0, 0, 0, 0, 0, 0, 0, 0, 0, 0, 0, 0, 0, 0, 0, 0, 0, 0, 0, 0, 0, 0, 0, 0, 0, 0, 0, 0, 0, 0, 0, 0, 0, 0, 0, 0, 0, 0, 0, 0, 0, 0, 0, 0, 0, 0, 0, 0, 0, 0, 0, 0, 0, 0, 0, 0, 0, 0, 0, 0, 0, 0, 0, 0, 0, 0, 0, 0, 0, 0, 0, 0, 0, 0, 0, 0, 0, 0, 0, 0, 0, 0, 0, 0, 0, 0, 0, 0, 0, 0, 0, 0, 0, 0, 0, 0, 0, 0, 0, 0, 0, 0, 0, 0, 0, 0, 0, 0, 0, 0, 0, 0, 0, 0, 0, 0, 0, 0, 0, 0, 0, 0, 0, 0, 0, 0, 0, 0, 0, 0, 1, 0, 0, 0, 0, 0, 0, 0, 0, 0, 0, 0, 0, 0, 0, 0, 0, 0, 0, 0, 0, 0, 0, 0, 0, 0, 0, 0, 0, 0, 0, 0, 0, 0, 0, 0, 0, 0, 0, 0, 0, 0, 0, 0, 0, 0, 0, 0, 0, 0, 0, 0, 0, 0, 0, 0, 0, 0, 0, 0, 0, 0, 0, 0, 0, 0, 0, 0, 0, 0, 0, 0, 0, 0, 0, 0, 0, 0, 0, 0, 0, 0, 0, 0, 0, 0, 0, 0, 0, 0, 0, 0, 0, 0, 0, 0, 0, 0, 0, 0, 0, 0, 0, 0, 0, 0, 0, 0, 0, 0, 0, 0, 0, 0, 0, 0, 0, 0, 0, 0, 0, 0, 0, 0, 0, 0, 0, 0, 0, 0, 0, 0, 0, 0, 0, 0, 0, 0, 0, 0, 0, 0, 0, 0, 0, 0, 0, 0, 0, 0, 0, 0, 0, 0, 0, 0, 0, 0, 0, 0, 0, 0, 0, 0, 0, 0, 0, 0, 0, 0, 0, 0, 0, 0, 0, 0, 0, 0, 0, 0, 0, 0, 0, 0, 0, 0, 0, 0, 0, 0, 0, 0, 0, 0, 0, 0, 0, 0, 0, 0, 0, 0, 0, 0, 0, 0, 0, 0, 0, 0, 0, 0, 0, 0, 0, 0, 0, 0, 0, 0, 0, 0, 0, 0, 0, 0, 0, 0, 0, 0, 0, 0, 0, 0, 0, 0, 0, 0, 0, 0, 0, 0, 0, 0, 0, 0, 0, 0, 0, 0, 0, 0, 0, 0, 0, 0, 0, 0, 0, 0, 0, 0, 0, 0, 0, 0, 0, 0, 0, 0, 0, 0, 0, 0, 0, 0, 0, 0, 0, 0, 0, 0, 0, 0, 0, 0, 0, 0, 0, 0, 0, 0, 0, 0, 0, 0, 0, 0, 0, 0, 0, 0, 0, 0, 0, 0, 0, 0, 0, 0, 0, 0, 0, 0, 0, 0, 0, 0, 0, 0, 0, 0, 0, 0, 0, 0, 0, 0, 0, 0, 0, 0, 0, 0, 0, 0, 0, 0, 0, 0, 0, 0, 0, 0, 0, 0, 0, 0, 0, 0, 0, 0, 0, 0, 0, 0, 0, 0, 0, 0, 0, 0, 0, 0, 0, 0, 0, 0, 0, 0, 0, 0, 0, 0, 0, 0, 0, 0, 0, 0, 0, 0, 0, 0, 0, 0, 0, 0, 0, 0, 0, 0, 0, 0, 0, 0, 0, 0, 0, 0, 0, 0, 0, 0, 0, 0, 0, 0, 0, 0, 0, 0, 0, 0, 0, 0, 0, 0, 0, 0, 0, 0, 0, 0, 0, 0, 0, 0, 0, 0, 0, 0, 0, 0, 0, 0, 0, 0, 0, 0, 0, 0, 0, 0, 0, 0, 0, 0, 0, 0, 0, 0, 0, 0, 0, 0, 0, 0, 0, 0, 0, 0, 0, 0, 0, 0, 0, 0, 0, 0, 0, 0, 0, 0, 0, 0, 0, 0, 0, 0, 0, 0, 0, 0, 0, 0, 0, 0, 0, 0, 0, 0, 0, 0, 0, 0, 0, 0, 0, 0, 0, 0, 0, 0, 0, 0, 0, 0, 0, 0, 0, 0, 0, 1, 0, 0, 0, 0, 0, 0, 0, 0, 0, 0, 0, 0, 0, 0, 0, 0, 0, 0, 0, 0, 0, 0, 0, 0, 0, 0, 0, 0, 0, 0, 0, 0, 0, 0, 0, 2, 0, 0, 0, 0, 0, 0, 0, 0, 0, 0, 0, 0, 0, 0, 0, 0, 0, 0, 0, 0, 0, 0, 0, 0, 0, 0, 0, 0, 0, 0, 0, 0, 0, 0, 0, 0, 0, 0, 0, 0, 1, 0, 0, 0, 0, 0, 0, 0, 0, 0, 0, 0, 0, 0, 0, 0, 0, 0, 0, 0, 0, 0, 0, 0, 0, 0, 0, 0, 0, 0, 0, 0, 0, 0, 0, 0, 0, 0, 0, 0, 0, 0, 0, 0, 0, 0, 0, 0, 0, 0, 0, 0, 0, 0, 0, 0, 0, 0, 0, 0, 0, 0, 0, 0, 0, 0, 0, 0, 0, 0, 0, 0, 0, 0, 0, 0, 0, 0, 0, 0, 0, 0, 0, 0, 0, 0, 0, 0, 0, 0, 0, 0, 0, 0, 0, 0, 0, 0, 0, 0, 0, 0, 0, 0, 0, 0, 0, 0, 0, 0, 0, 0, 0, 0, 0, 0, 0, 0, 0, 0, 0, 0, 0, 0, 0, 0, 0, 0, 0, 0, 0, 0, 0, 0, 0, 0, 0, 0, 0, 0, 0, 0, 0, 0, 0, 0, 0, 0, 0, 0, 0, 0, 0, 0, 0, 0, 0, 0, 0, 0, 0, 0, 0, 0, 0, 0, 0, 0, 0, 0, 0, 0, 0, 0, 0, 0, 0, 0, 0, 0, 0, 0, 0, 0, 0, 0, 0, 0, 0, 0, 0, 0, 0, 0, 0, 0, 0, 0, 0, 0, 0, 0, 0, 0, 0, 0, 0, 0, 0, 0, 0, 0, 0, 0, 0, 0, 0, 0, 0, 0, 0, 0, 0, 0, 0, 0, 0, 0, 0, 0, 0, 0, 0, 0, 0, 0, 0, 0, 0, 0, 0, 0, 0, 0, 0, 0, 0, 0, 0, 0, 0, 0, 0, 0, 0, 0, 0, 0, 0, 0, 0, 0, 0, 0, 0, 0, 0, 0, 0, 0, 0, 0, 0, 0, 0, 0, 0, 0, 0, 0, 0, 0, 0, 0, 0, 0, 0, 0, 0, 0, 0, 0, 0, 0, 0, 0, 0, 0, 0, 0, 0, 0, 0, 0, 0, 0, 0, 0, 0, 0, 0, 0, 0, 0, 0, 0, 0, 0, 0, 0, 0, 0, 0, 0, 0, 0, 0, 0, 0, 0, 0, 0, 0, 0, 0, 0, 0, 0, 0, 0, 0, 0, 0, 0, 0, 0, 0, 0, 0, 0, 0, 0, 0, 0, 0, 0, 0, 0, 0, 0, 0, 0, 0, 0, 0, 0, 0, 0, 0, 0, 0, 0, 0, 0, 0, 0, 0, 0, 0, 0, 0, 0, 0, 0, 0, 0, 0, 0, 0, 0, 0, 0, 0, 0, 0, 0, 0, 0, 0, 0, 0, 0, 0, 0, 0, 0, 0, 0, 0, 0, 0, 0, 0, 0, 0, 0, 0, 0, 0, 0, 0, 0, 0, 0, 0, 0, 0, 0, 0, 0, 0, 0, 0, 0, 0, 0, 0, 0, 0, 0, 0, 0, 0, 0, 0, 0, 0, 0, 0, 0, 0, 0, 0, 0, 0, 0, 0, 0, 0, 0, 0, 0, 0, 0, 0, 0, 0, 0, 0, 0, 0, 0, 0, 0, 0, 0, 0, 0, 0, 0, 0, 0, 0, 0, 0, 0, 0, 0, 0, 0, 0, 0, 0, 0, 0, 0, 0, 0, 1, 0, 0, 0, 0, 0, 0, 0, 0, 0, 0, 0, 0, 0, 0, 0, 0, 0, 0, 0, 0, 0, 0, 0, 0, 0, 0, 0, 0, 0, 0, 0, 0, 0, 0, 0, 0, 0, 0, 0, 0, 0, 0, 0, 0, 0, 0, 0, 0, 0, 0, 0, 0, 0, 0, 0, 0, 0, 0, 0, 0, 0, 0, 0, 0, 0, 0, 0, 0, 0, 0, 0, 0, 0, 0, 0, 0, 0, 0, 0, 0, 0, 0, 0, 0, 0, 0, 0, 0, 0, 0, 0, 0, 0, 0, 0, 0, 0, 0, 0, 0, 0, 0, 0, 0, 0, 0, 0, 0, 0, 0, 2, 0, 0, 0, 0, 0, 0, 0, 0, 0, 0, 0, 0, 0, 0, 0, 0, 0, 0, 0, 0, 0, 0, 0, 0, 0, 0, 0, 0, 0, 0, 0, 0, 0, 0, 0, 0, 0, 0, 0, 0, 0, 0, 0, 0, 0, 0, 0, 0, 0, 0, 0, 0, 0, 0, 0, 0, 0, 0, 0, 0, 0, 0, 0, 0, 0, 0, 0, 0, 0, 0, 0, 0, 0, 0, 0, 0, 0, 0, 0, 0, 0, 0, 0, 0, 0, 0, 0, 0, 0, 0, 0, 0, 0, 0, 0, 0, 0, 0, 0, 0, 0, 0, 0, 0, 0, 0, 0, 0, 0, 0, 0, 0, 0, 0, 0, 0, 0, 0, 0, 0, 0, 0, 0, 0, 0, 0, 0, 0, 0, 0, 0, 0, 0, 0, 0, 0, 0, 0, 0, 0, 0, 0, 0, 0, 0, 0, 0, 0, 0, 0, 0, 0, 0, 0, 0, 0, 0, 0, 0, 0, 0, 0, 0, 0, 0, 0, 0, 0, 0, 0, 0, 0, 0, 0, 0, 0, 0, 0, 0, 0, 0, 0, 0, 0, 0, 0, 0, 0, 0, 0, 0, 0, 0, 0, 0, 0, 0, 0, 0, 0, 0, 0, 0, 0, 0, 0, 0, 0, 0, 0, 0, 0, 0, 0, 0, 0, 0, 0, 0, 0, 0, 0, 0, 0, 0, 0, 0, 0, 0, 0, 0, 0, 0, 0, 0, 0, 0, 0, 0, 0, 0, 0, 0, 0, 0, 0, 0, 0, 0, 0, 0, 0, 0, 0, 0, 0, 0, 0, 0, 0, 0, 0, 0, 0, 0, 0, 0, 0, 0, 0, 0, 0, 0, 0, 0, 0, 0, 0, 0, 0, 0, 0, 0, 0, 0, 0, 0, 0, 0, 0, 0, 0, 0, 0, 0, 0, 0, 0, 0, 0, 0, 0, 0, 0, 0, 0, 0, 0, 0, 0, 0, 0, 0, 0, 0, 0, 0, 0, 0, 0, 0, 0, 0, 0, 0, 0, 0, 0, 0, 0, 0, 0, 0, 0, 0, 0, 0, 0, 0, 0, 0, 0, 0, 0, 0, 0, 0, 0, 0, 0, 0, 0, 0, 0, 0, 0, 0, 0, 0, 0, 0, 0, 0, 0, 0, 0, 0, 0, 0, 0, 0, 0, 0, 0, 0, 0, 0, 0, 0, 0, 0, 0, 0, 0, 0, 0, 0, 0, 0, 0, 0, 0, 0, 0, 0, 0, 0, 0, 0, 0, 0, 0, 0, 0, 0, 0, 0, 0, 0, 0, 0, 0, 0, 0, 0, 0, 0, 0, 0, 0, 0, 0, 0, 0, 0, 0, 0, 0, 0, 0, 0, 0, 0, 0, 0, 0, 0, 0, 0, 0, 0, 0, 0, 0, 0, 0, 0, 0, 0, 0, 0, 0, 0, 0, 0, 0, 0, 0, 0, 0, 0, 0, 0, 0, 0, 0, 0, 0, 0, 0, 0, 0, 0, 0, 0, 0, 0, 0, 0, 0, 0, 0, 0, 0, 0, 0, 0, 0, 0, 0, 0, 0, 0, 0, 0, 0, 0, 0, 0, 0, 0, 0, 0, 0, 0, 0, 0, 0, 0, 0, 0, 0, 0, 0, 0, 0, 0, 0, 0, 0, 0, 0, 0, 0, 0, 0, 0, 0, 0, 0, 0, 0, 0, 0, 0, 0, 0, 0, 0, 0, 0, 0, 0, 0, 0, 0, 0, 0, 0, 0, 0, 0, 0, 0, 0, 0, 0, 0, 0, 0, 0, 0, 0, 0, 0, 0, 0, 0, 0, 0, 0, 0, 0, 0, 0, 0, 0, 0, 0, 0, 0, 0, 0, 0, 0, 0, 0, 0, 0, 0, 0, 0, 0, 0, 0, 0, 0, 0, 0, 0, 0, 0, 0, 0, 0, 0, 0, 0, 0, 0, 0, 0, 0, 0, 0, 0, 0, 0, 0, 0, 0, 0, 0, 0, 0, 0, 0, 0, 0, 0, 0, 0, 0, 0, 0, 0, 0, 0, 0, 0, 0, 0, 0, 0, 0, 0, 0, 0, 0, 0, 0, 0, 0, 0, 0, 0, 0, 0, 0, 0, 0, 0, 0, 0, 0, 0, 0, 0, 0, 0, 0, 0, 0, 0, 0, 0, 0, 0, 0, 0, 0, 0, 0, 0, 0, 0, 0, 0, 0, 0, 1, 0, 0, 0, 0, 0, 0, 0, 0, 0, 0, 0, 0, 0, 0, 0, 0, 0, 0, 0, 0, 0, 0, 0, 0, 0, 0, 0, 0, 0, 0, 0, 0, 0, 0, 0, 0, 0, 0, 0, 0, 0, 0, 0, 0, 0, 0, 0, 0, 0, 0, 0, 0, 0, 0, 0, 0, 0, 0, 0, 0, 0, 0, 0, 0, 0, 0, 0, 0, 0, 0, 0, 0, 0, 0, 0, 0, 0, 0, 0, 0, 0, 0, 0, 0, 0, 0, 0, 0, 0, 0, 0, 0, 0, 0, 0, 0, 0, 0, 0, 0, 0, 0, 0, 0, 0, 0, 0, 1, 0, 0, 0, 0, 0, 0, 0, 0, 0, 0, 0, 0, 0, 0, 0, 0, 0, 0, 0, 0, 0, 0, 0, 0, 0, 0, 0, 0, 0, 0, 0, 0, 0, 0, 0, 0, 0, 0, 0, 0, 0, 0, 0, 0, 0, 0, 0, 0, 0, 0, 0, 0, 0, 0, 0, 0, 0, 0, 0, 0, 0, 0, 0, 0, 0, 0, 0, 0, 0, 0, 0, 0, 0, 0, 0, 0, 0, 0, 0, 0, 0, 0, 0, 0, 0, 0, 0, 0, 0, 0, 0, 0, 0, 0, 0, 0, 0, 0, 0, 0, 0, 0, 0, 0, 0, 0, 0, 0, 0, 0, 0, 0, 0, 0, 0, 0, 0, 0, 0, 0, 0, 0, 0, 0, 0, 0, 0, 0, 0, 0, 0, 0, 0, 0, 0, 0, 0, 0, 0, 0, 0, 0, 0, 0, 0, 0, 0, 0, 0, 0, 0, 0, 0, 0, 0, 0, 0, 0, 0, 0, 0, 0, 0, 0, 0, 0, 0, 0, 0, 0, 0, 0, 0, 0, 0, 0, 0, 0, 0, 0, 0, 0, 0, 0, 0, 0, 0, 0, 0, 0, 0, 0, 0, 0, 0, 0, 0, 0, 0, 0, 0, 0, 0, 0, 0, 0, 0, 0, 0, 0, 0, 0, 0, 0, 0, 0, 0, 0, 0, 0, 0, 0, 0, 0, 0, 0, 0, 0, 0, 0, 0, 0, 0, 0, 0, 0, 0, 0, 0, 0, 0, 0, 0, 0, 0, 0, 0, 0, 0, 0, 0, 0, 0, 0, 0, 0, 0, 0, 0, 0, 0, 0, 0, 0, 0, 0, 0, 0, 0, 0, 0, 0, 0, 0, 0, 0, 0, 0, 0, 0, 0, 0, 0, 0, 0, 0, 0, 0, 0, 0, 0, 0, 0, 0, 0, 0, 0, 0, 0, 0, 0, 0, 0, 0, 0, 0, 0, 0, 0, 0, 0, 0, 0, 0, 0, 0, 0, 0, 0, 0, 0, 0, 0, 0, 0, 0, 0, 0, 0, 0, 0, 0, 0, 0, 0, 0, 0, 0, 0, 0, 0, 0, 0, 0, 0, 0, 0, 0, 0, 0, 0, 0, 0, 0, 0, 0, 0, 0, 0, 0, 0, 0, 0, 0, 0, 0, 0, 0, 0, 0, 0, 0, 0, 0, 0, 0, 0, 0, 0, 0, 0, 0, 0, 0, 0, 0, 0, 0, 0, 0, 0, 0, 0, 0, 0, 0, 0, 0, 0, 0, 0, 0, 0, 0, 0, 0, 0, 0, 0, 0, 0, 0, 0, 0, 0, 0, 0, 0, 0, 0, 0, 0, 0, 0, 0, 0, 0, 0, 0, 0, 0, 0, 0, 0, 0, 0, 0, 0, 0, 0, 0, 0, 0, 0, 0, 0, 0, 0, 0, 0, 0, 0, 0, 0, 0, 0, 0, 0, 0, 0, 0, 0, 0, 2, 0, 1, 0], type: <class 'list'>, valid types: <class 'bytes'>, <class 'bytearray'>, file-like object"
     ]
    }
   ],
   "source": [
    "response = runtime.invoke_endpoint(EndpointName = xgb_predictor.endpoint, # The name of the endpoint we created\n",
    "                                       ContentType = 'text/csv',                     # The data format that is expected\n",
    "                                       Body = test_bow)"
   ]
  },
  {
   "cell_type": "markdown",
   "metadata": {},
   "source": [
    "So why did we get an error?\n",
    "\n",
    "Because we tried to send the endpoint a list of integers but it expected us to send data of type `text/csv`. So, we need to convert it."
   ]
  },
  {
   "cell_type": "code",
   "execution_count": 45,
   "metadata": {},
   "outputs": [],
   "source": [
    "response = runtime.invoke_endpoint(EndpointName = xgb_predictor.endpoint, # The name of the endpoint we created\n",
    "                                       ContentType = 'text/csv',                     # The data format that is expected\n",
    "                                       Body = ','.join([str(val) for val in test_bow]).encode('utf-8'))"
   ]
  },
  {
   "cell_type": "code",
   "execution_count": 46,
   "metadata": {},
   "outputs": [
    {
     "name": "stdout",
     "output_type": "stream",
     "text": [
      "{'ResponseMetadata': {'RequestId': '1cad5f61-fb6e-4857-b00a-4cc36c544b21', 'HTTPStatusCode': 200, 'HTTPHeaders': {'x-amzn-requestid': '1cad5f61-fb6e-4857-b00a-4cc36c544b21', 'x-amzn-invoked-production-variant': 'AllTraffic', 'date': 'Wed, 28 Oct 2020 22:17:38 GMT', 'content-type': 'text/csv; charset=utf-8', 'content-length': '14'}, 'RetryAttempts': 0}, 'ContentType': 'text/csv; charset=utf-8', 'InvokedProductionVariant': 'AllTraffic', 'Body': <botocore.response.StreamingBody object at 0x7ff93c0ec8d0>}\n"
     ]
    }
   ],
   "source": [
    "print(response)"
   ]
  },
  {
   "cell_type": "markdown",
   "metadata": {},
   "source": [
    "As we can see, the response from our model is a somewhat complicated looking dict that contains a bunch of information. The bit that we are most interested in is `'Body'` object which is a streaming object that we need to `read` in order to make use of."
   ]
  },
  {
   "cell_type": "code",
   "execution_count": 47,
   "metadata": {},
   "outputs": [
    {
     "name": "stdout",
     "output_type": "stream",
     "text": [
      "0.330293178558\n"
     ]
    }
   ],
   "source": [
    "response = response['Body'].read().decode('utf-8')\n",
    "print(response)"
   ]
  },
  {
   "cell_type": "markdown",
   "metadata": {},
   "source": [
    "Now that we know how to process the incoming user data we can start setting up the infrastructure to make our simple web app work. To do this we will make use of two different services. Amazon's Lambda and API Gateway services.\n",
    "\n",
    "Lambda is a service which allows someone to write some relatively simple code and have it executed whenever a chosen trigger occurs. For example, you may want to update a database whenever new data is uploaded to a folder stored on S3.\n",
    "\n",
    "API Gateway is a service that allows you to create HTTP endpoints (url addresses) which are connected to other AWS services. One of the benefits to this is that you get to decide what credentials, if any, are required to access these endpoints.\n",
    "\n",
    "In our case we are going to set up an HTTP endpoint through API Gateway which is open to the public. Then, whenever anyone sends data to our public endpoint we will trigger a Lambda function which will send the input (in our case a review) to our model's endpoint and then return the result."
   ]
  },
  {
   "cell_type": "markdown",
   "metadata": {},
   "source": [
    "### Setting up a Lambda function\n",
    "\n",
    "The first thing we are going to do is set up a Lambda function. This Lambda function will be executed whenever our public API has data sent to it. When it is executed it will receive the data, perform any sort of processing that is required, send the data (the review) to the SageMaker endpoint we've created and then return the result.\n",
    "\n",
    "#### Part A: Create an IAM Role for the Lambda function\n",
    "\n",
    "Since we want the Lambda function to call a SageMaker endpoint, we need to make sure that it has permission to do so. To do this, we will construct a role that we can later give the Lambda function.\n",
    "\n",
    "Using the AWS Console, navigate to the **IAM** page and click on **Roles**. Then, click on **Create role**. Make sure that the **AWS service** is the type of trusted entity selected and choose **Lambda** as the service that will use this role, then click **Next: Permissions**.\n",
    "\n",
    "In the search box type `sagemaker` and select the check box next to the **AmazonSageMakerFullAccess** policy. Then, click on **Next: Review**.\n",
    "\n",
    "Lastly, give this role a name. Make sure you use a name that you will remember later on, for example `LambdaSageMakerRole`. Then, click on **Create role**."
   ]
  },
  {
   "cell_type": "markdown",
   "metadata": {},
   "source": [
    "#### Part B: Create a Lambda function\n",
    "\n",
    "Now it is time to actually create the Lambda function. Remember from earlier that in order to process the user provided input and send it to our endpoint we need to gather two pieces of information:\n",
    "\n",
    " - The name of the endpoint, and\n",
    " - the vocabulary object.\n",
    "\n",
    "We will copy these pieces of information to our Lambda function after we create it.\n",
    "\n",
    "To start, using the AWS Console, navigate to the AWS Lambda page and click on **Create a function**. When you get to the next page, make sure that **Author from scratch** is selected. Now, name your Lambda function, using a name that you will remember later on, for example `sentiment_analysis_xgboost_func`. Make sure that the **Python 3.6** runtime is selected and then choose the role that you created in the previous part. Then, click on **Create Function**.\n",
    "\n",
    "On the next page you will see some information about the Lambda function you've just created. If you scroll down you should see an editor in which you can write the code that will be executed when your Lambda function is triggered. Collecting the code we wrote above to process a single review and adding it to the provided example `lambda_handler` we arrive at the following.\n",
    "\n",
    "```python\n",
    "# We need to use the low-level library to interact with SageMaker since the SageMaker API\n",
    "# is not available natively through Lambda.\n",
    "import boto3\n",
    "\n",
    "# And we need the regular expression library to do some of the data processing\n",
    "import re\n",
    "\n",
    "REPLACE_NO_SPACE = re.compile(\"(\\.)|(\\;)|(\\:)|(\\!)|(\\')|(\\?)|(\\,)|(\\\")|(\\()|(\\))|(\\[)|(\\])\")\n",
    "REPLACE_WITH_SPACE = re.compile(\"(<br\\s*/><br\\s*/>)|(\\-)|(\\/)\")\n",
    "\n",
    "def review_to_words(review):\n",
    "    words = REPLACE_NO_SPACE.sub(\"\", review.lower())\n",
    "    words = REPLACE_WITH_SPACE.sub(\" \", words)\n",
    "    return words\n",
    "    \n",
    "def bow_encoding(words, vocabulary):\n",
    "    bow = [0] * len(vocabulary) # Start by setting the count for each word in the vocabulary to zero.\n",
    "    for word in words.split():  # For each word in the string\n",
    "        if word in vocabulary:  # If the word is one that occurs in the vocabulary, increase its count.\n",
    "            bow[vocabulary[word]] += 1\n",
    "    return bow\n",
    "\n",
    "\n",
    "def lambda_handler(event, context):\n",
    "    \n",
    "    vocab = \"*** ACTUAL VOCABULARY GOES HERE ***\"\n",
    "    \n",
    "    words = review_to_words(event['body'])\n",
    "    bow = bow_encoding(words, vocab)\n",
    "\n",
    "    # The SageMaker runtime is what allows us to invoke the endpoint that we've created.\n",
    "    runtime = boto3.Session().client('sagemaker-runtime')\n",
    "\n",
    "    # Now we use the SageMaker runtime to invoke our endpoint, sending the review we were given\n",
    "    response = runtime.invoke_endpoint(EndpointName = '***ENDPOINT NAME HERE***',# The name of the endpoint we created\n",
    "                                       ContentType = 'text/csv',                 # The data format that is expected\n",
    "                                       Body = ','.join([str(val) for val in bow]).encode('utf-8')) # The actual review\n",
    "\n",
    "    # The response is an HTTP response whose body contains the result of our inference\n",
    "    result = response['Body'].read().decode('utf-8')\n",
    "    \n",
    "    # Round the result so that our web app only gets '1' or '0' as a response.\n",
    "    result = round(float(result))\n",
    "\n",
    "    return {\n",
    "        'statusCode' : 200,\n",
    "        'headers' : { 'Content-Type' : 'text/plain', 'Access-Control-Allow-Origin' : '*' },\n",
    "        'body' : str(result)\n",
    "    }\n",
    "```"
   ]
  },
  {
   "cell_type": "markdown",
   "metadata": {},
   "source": [
    "Once you have copy and pasted the code above into the Lambda code editor, replace the `**ENDPOINT NAME HERE**` portion with the name of the endpoint that we deployed earlier. You can determine the name of the endpoint using the code cell below."
   ]
  },
  {
   "cell_type": "code",
   "execution_count": 48,
   "metadata": {},
   "outputs": [
    {
     "data": {
      "text/plain": [
       "'xgboost-2020-10-28-21-35-49-473'"
      ]
     },
     "execution_count": 48,
     "metadata": {},
     "output_type": "execute_result"
    }
   ],
   "source": [
    "xgb_predictor.endpoint"
   ]
  },
  {
   "cell_type": "markdown",
   "metadata": {},
   "source": [
    "In addition, you will need to copy the vocabulary dict to the appropriate place in the code at the beginning of the `lambda_handler` method. The cell below prints out the vocabulary dict in a way that is easy to copy and paste."
   ]
  },
  {
   "cell_type": "code",
   "execution_count": 49,
   "metadata": {},
   "outputs": [
    {
     "name": "stdout",
     "output_type": "stream",
     "text": [
      "{'visually': 4758, 'stunning': 4244, 'most': 2909, 'definitely': 1162, 'have': 2052, 'seen': 3865, 'few': 1700, 'films': 1721, 'look': 2646, 'this': 4457, 'good': 1937, 'in': 2257, 'some': 4061, 'time': 4495, 'sky': 4017, 'captain': 674, 'and': 226, 'the': 4426, 'world': 4946, 'of': 3083, 'uses': 4697, 'striking': 4226, 'cinematography': 820, 'computer': 927, 'graphics': 1959, 'creative': 1041, 'futuristic': 1857, 'designs': 1204, 'to': 4507, 'create': 1036, 'that': 4424, 'is': 2360, 'historically': 2120, 'familiar': 1643, 'yet': 4984, 'something': 4066, 'quite': 3495, 'fresh': 1833, 'period': 3236, 'seems': 3864, 'be': 418, '1930s': 11, 'or': 3124, 'early': 1400, '40s': 49, 'movie': 2926, 'tells': 4397, 'recent': 3566, 'attacks': 339, 'on': 3105, 'new': 3003, 'york': 4985, 'city': 825, 'by': 642, 'stealing': 4171, 'like': 2599, 'for': 1784, 'reason': 3557, 'also': 199, 'mysterious': 2955, 'relevant': 3604, 'scientific': 3817, 'minds': 2852, 'who': 4871, 'can': 665, 'stop': 4201, 'them': 4432, 'save': 3794, 'alright': 198, 'it': 2366, 'doesnt': 1309, 'take': 4349, 'faith': 1633, 'know': 2489, 'himself': 2111, 'with': 4911, 'his': 2118, 'reporter': 3636, 'girlfriend': 1910, 'always': 203, 'hot': 2174, 'lead': 2545, 'thoroughly': 4459, 'competent': 917, 'sidekick': 3966, 'what': 4858, 'has': 2043, 'atmosphere': 333, 'lacks': 2505, 'storytelling': 4209, 'characterization': 759, 'plot': 3309, 'film': 1716, 'ridiculous': 3693, 'being': 448, 'said': 3774, 'going': 1931, 'serial': 3889, 'feeling': 1685, 'they': 4442, 'had': 2003, 'pretty': 3384, 'far': 1653, 'out': 3141, 'stories': 4205, 'bad': 382, 'acting': 99, 'but': 636, 'none': 3028, 'mean': 2779, 'budget': 610, 'big': 478, 'names': 2963, 'two': 4620, 'academy': 77, 'award': 366, 'winning': 4898, 'performers': 3232, 'law': 2538, 'could': 1007, 'keep': 2449, 'one': 3107, 'would': 4957, 'think': 4452, 'miserably': 2864, 'despite': 1211, 'its': 2370, 'fantastic': 1651, 'dark': 1115, 'found': 1811, 'myself': 2953, 'wishing': 4907, 'just': 2437, 'end': 1468, 'get': 1899, 'my': 2951, 'life': 2592, 'little': 2624, 'interest': 2323, 'story': 4207, 'generated': 1882, 'didnt': 1242, 'care': 684, 'at': 331, 'all': 187, 'any': 256, 'paltrow': 3178, 'was': 4805, 'awful': 372, 'joke': 2414, 'role': 3726, 'virtually': 4751, 'no': 3020, 'substance': 4258, 'cannot': 670, 'carry': 700, 'tradition': 4549, 'too': 4522, 'limited': 2606, 'lets': 2580, 'face': 1616, 'hes': 2093, 'not': 3040, 'will': 4886, 'smith': 4038, 'mel': 2796, 'even': 1533, 'sad': 3767, 'thing': 4450, 'about': 67, 'least': 2554, 'me': 2778, 'held': 2074, 'so': 4046, 'much': 2934, 'promise': 3430, 'delivered': 1170, 'bored': 541, 'ten': 4399, 'minutes': 2859, 'into': 2332, 'waiting': 4772, 'hook': 2152, 'never': 3001, 'came': 656, 'are': 285, 'devils': 1229, 'theyre': 4445, 'fun': 1848, 'consider': 949, 'if': 2222, 'sort': 4077, 'way': 4820, 'makers': 2715, 'dealt': 1138, 'again': 146, 'host': 2173, 'television': 4394, 'including': 2264, 'star': 4150, 'trek': 4578, 'first': 1736, 'contact': 961, 'back': 378, 'future': 1856, 'trilogy': 4586, 'bill': 481, 'excellent': 1555, 'adventure': 130, 'day': 1129, 'stargate': 4151, 'homage': 2141, 'window': 4894, 'opportunity': 3121, 'you': 4986, 'zombies': 4998, 'written': 4972, 'decades': 1145, 'ago': 154, 'still': 4188, 'spin': 4112, 'people': 3221, 'reading': 3544, 'short': 3946, 'case': 707, 'terry': 4415, '12': 3, 'monkeys': 2891, 'hard': 2033, 'may': 2775, 'continuity': 972, 'problems': 3409, 'versus': 4722, 'elements': 1443, 'intended': 2315, 'make': 2713, 'us': 4690, 're': 3535, 'our': 3139, 'repeated': 3631, 'viewings': 4741, 'drive': 1363, 'different': 1248, 'we': 4823, 'an': 223, 'open': 3112, 'mind': 2849, 'seeing': 3857, 'regard': 3588, 'cole': 873, 'played': 3297, 'bruce': 602, 'willis': 4890, 'as': 311, 'see': 3855, 'man': 2721, 'disturbed': 1299, 'adams': 112, 'describes': 1196, 'experience': 1580, 'upon': 4684, 'him': 2110, 'travel': 4567, 'unlike': 4670, 'other': 3135, 'whether': 4866, 'history': 2121, 'changed': 750, 'events': 1536, 'past': 3207, 'psychiatrist': 3455, 'phone': 3255, 'call': 651, 'he': 2056, 'makes': 2716, 'from': 1840, 'airport': 167, 'scientists': 3819, 'after': 143, 'been': 438, 'sent': 3880, '1996': 26, 'own': 3158, 'personal': 3240, 'line': 2610, 'event': 1535, 'happen': 2026, 'single': 3996, 'universe': 4666, 'order': 3126, 'die': 1243, 'before': 440, 'eyes': 1613, 'younger': 4990, 'self': 3869, 'fate': 1665, 'realized': 3553, 'thats': 4425, 'finds': 1728, 'level': 2584, 'path': 3209, 'forces': 1788, 'working': 4944, 'change': 749, 'then': 4436, 'guide': 1993, 'actions': 101, 'those': 4460, 'power': 3359, 'send': 3875, 'board': 522, 'plane': 3288, 'means': 2783, 'does': 1308, 'probably': 3407, 'led': 2558, 'plenty': 3307, 'drunken': 1376, 'five': 1743, 'across': 96, 'starts': 4159, 'young': 4989, 'teenage': 4389, 'girls': 1911, 'driving': 1368, 'home': 2142, 'their': 4431, 'off': 3084, 'store': 4204, 'accidentally': 85, 'hit': 2122, 'another': 250, 'car': 680, 'decide': 1148, 'leave': 2555, 'soon': 4074, 'crazy': 1035, 'woman': 4921, 'gets': 1900, 'clothes': 860, 'randomly': 3515, 'drives': 1367, 'shocked': 3939, 'over': 3148, 'comes': 891, 'seconds': 3848, 'she': 3923, 'intent': 2318, 'killing': 2472, 'lost': 2660, 'low': 2676, 'gas': 1874, 'produced': 3414, 'directed': 1259, 'ryan': 3765, 'writing': 4971, 'responsible': 3656, 'editing': 1421, 'say': 3799, 'easily': 1406, 'worst': 4952, 'ever': 1538, 'im': 2232, 'struggling': 4236, 'worse': 4951, 'now': 3054, 'let': 2579, 'start': 4156, 'saying': 3800, 'am': 204, 'sure': 4308, 'lot': 2661, 'making': 2718, 'decision': 1151, 'taken': 4350, 'here': 2086, 'were': 4848, 'try': 4600, 'tension': 4404, 'realism': 3549, 'suspense': 4330, 'there': 4438, 'aspect': 321, 'hate': 2046, 'honest': 2146, 'looks': 2649, 'video': 4733, 'put': 3480, 'up': 4683, 'slightly': 4029, 'embarrassing': 1454, 'frankly': 1823, 'worthless': 4954, 'waste': 4808, '90': 60, 'odd': 3080, 'doing': 1312, 'more': 2904, 'entertaining': 1499, 'pulling': 3463, 'reviews': 3679, 'web': 4833, 'seem': 3861, 'positive': 3346, 'imdb': 2240, 'amount': 219, 'comments': 901, 'revealing': 3672, 'cant': 671, 'wrong': 4973, 'right': 3696, 'message': 2819, 'which': 4867, 'average': 362, 'person': 3238, 'thinks': 4454, 'absolutely': 72, 'everyone': 1542, 'used': 4693, 'times': 4497, 'fair': 1630, 'these': 4441, 'negative': 2991, 'mention': 2810, 'same': 3778, 'things': 4451, 'agree': 155, 'terrible': 4407, 'suspect': 4327, 'meant': 2784, 'minimal': 2855, 'theres': 4440, 'explanation': 1590, 'feels': 1687, 'totally': 4532, 'random': 3514, 'goes': 1930, 'ages': 152, 'struggle': 4234, 'fill': 1714, 'thirty': 4456, 'minute': 2858, 'made': 2697, 'program': 3424, 'along': 195, 'full': 1846, 'length': 2569, 'feature': 1678, 'dialogue': 1234, 'annoying': 249, 'dont': 1324, 'brain': 562, 'cell': 730, 'between': 475, 'taking': 4352, 'stuff': 4243, 'screaming': 3827, 'oh': 3096, 'god': 1926, 'seemingly': 3863, 'endless': 1473, 'scenes': 3811, 'crying': 1074, 'only': 3110, 'viewer': 4738, 'sympathy': 4343, 'trying': 4601, 'almost': 193, 'impossible': 2249, 'hear': 2061, 'properly': 3437, 'real': 3547, 'killer': 2470, 'entire': 1502, 'set': 3898, 'shot': 3949, 'within': 4912, 'mini': 2854, 'van': 4713, 'seriously': 3892, 'camera': 659, 'leaves': 2556, 'imagine': 2238, 'really': 3556, 'boring': 543, 'add': 115, 'body': 527, 'count': 1010, 'killed': 2469, 'screen': 3829, 'hated': 2047, 'passion': 3205, 'technical': 4381, 'style': 4249, 'choice': 797, 'looking': 2648, 'fan': 1648, 'proper': 3436, 'visual': 4757, 'medium': 2792, 'want': 4788, 'than': 4420, 'while': 4868, 'drunk': 1375, 'amateurish': 207, 'complete': 921, 'every': 1539, 'moment': 2886, 'second': 3846, 'blair': 497, 'witch': 4909, 'project': 3427, '1999': 27, 'sounding': 4083, 'during': 1387, 'when': 4862, 'literally': 2622, 'tell': 4395, 'whats': 4860, 'happening': 2028, 'because': 432, 'work': 4940, 'pitch': 3279, 'black': 493, 'contrast': 975, 'levels': 2585, 'violence': 4747, 'tame': 4363, 'blood': 512, 'begin': 442, 'describe': 1194, 'supposed': 4306, 'lowest': 2678, 'given': 1913, 'wide': 4880, 'release': 3602, 'members': 2801, 'production': 3419, 'basically': 407, 'locations': 2636, 'main': 2707, 'cast': 710, 'fake': 1635, 'convince': 983, 'did': 1241, 'immensely': 2243, 'go': 1924, 'down': 1335, 'whenever': 4863, 'anyone': 259, 'asks': 319, 'generous': 1886, 'enjoyed': 1486, 'though': 4461, 'dvd': 1391, 'cover': 1022, 'else': 1448, 'guy': 2000, 'around': 297, 'long': 2644, 'movies': 2927, 'vhs': 4725, '10': 0, 'year': 4978, 'old': 3100, 'atrocious': 335, 'david': 1124, 'playing': 3300, 'menacing': 2807, 'villains': 4745, 'able': 66, 'however': 2183, 'somewhat': 4068, 'professional': 3421, 'arent': 288, 'obvious': 3071, 'your': 4991, 'attention': 345, 'couldnt': 1008, 'through': 4477, 'certainly': 738, 'close': 853, 'guess': 1989, 'beauty': 430, 'beast': 422, 'ive': 2372, 'watched': 4813, 'began': 441, 'several': 3905, 'graphic': 1958, 'horse': 2170, 'sex': 3907, 'wow': 4962, 'anyway': 261, 'castle': 712, 'france': 1816, 'where': 4864, 'married': 2744, 'son': 4070, 'owner': 3159, 'takes': 4351, 'horses': 2171, 'rocks': 3722, 'area': 286, 'rather': 3528, 'ladies': 2506, 'particular': 3194, 'kinds': 2478, 'references': 3583, 'away': 369, 'bride': 577, 'her': 2085, 'curious': 1083, 'hands': 2020, 'father': 1666, 'sight': 3969, 'sleep': 4024, 'family': 1645, 'show': 3953, 'wedding': 4836, 'member': 2800, 'dreams': 1355, 'woods': 4935, 'effects': 1431, 'desired': 1206, 'attempt': 340, 'kind': 2476, 'laughable': 2530, 'especially': 1520, 'certain': 737, 'featured': 1679, 'appear': 273, 'realistic': 3550, 'bed': 436, 'post': 3352, 'baseball': 403, 'bat': 410, 'strange': 4211, 'twist': 4617, 'ending': 1471, 'clues': 865, 'build': 614, 'fitting': 1742, 'expected': 1577, 'tough': 4537, 'moments': 2887, 'weird': 4841, 'example': 1553, 'extreme': 1609, 'lack': 2502, 'writers': 4969, 'directors': 1266, 'hollywood': 2137, 'fact': 1621, 'paid': 3169, 'piece': 3272, 'junk': 2436, 'shows': 3960, 'original': 3129, 'ideas': 2215, 'talent': 4354, 'entertainment': 1500, 'business': 633, 'idea': 2213, 'audiences': 353, 'idiot': 2218, 'rented': 3628, 'obsessed': 3069, 'teacher': 4375, 'years': 4979, 'prior': 3400, 'kills': 2474, 'teenagers': 4391, 'wants': 4791, 'mother': 2911, 'brother': 598, 'direction': 1261, 'later': 2525, 'breaks': 571, 'prison': 3401, 'usual': 4699, 'town': 4541, 'knows': 2493, 'until': 4680, 'last': 2521, 'somehow': 4063, 'becomes': 434, 'navy': 2976, 'sneak': 4043, 'knife': 2487, 'super': 4295, 'hotel': 2175, 'hunt': 2198, 'friends': 1837, 'perfect': 3224, 'girl': 1909, 'love': 2669, 'stupid': 4247, 'cop': 991, 'walks': 4780, 'cops': 993, 'outside': 3146, 'house': 2178, 'bedroom': 437, 'boyfriend': 558, 'garbage': 1870, 'quality': 3484, 'fired': 1735, 'idiots': 2220, 'hundreds': 2196, 'thousands': 4466, 'dollars': 1315, 'directing': 1260, 'trash': 4565, 'enter': 1494, 'fat': 1663, 'dragon': 1344, 'funniest': 1851, 'martial': 2747, 'art': 304, 'hung': 2197, 'portrays': 3344, 'chinese': 796, 'farm': 1656, 'boy': 557, 'visit': 4755, 'friend': 1835, 'trouble': 4592, 'therefore': 4439, 'skills': 4014, 'solve': 4060, 'differences': 1247, 'luckily': 2682, 'character': 758, 'learns': 2553, 'arts': 310, 'lee': 2559, 'nose': 3037, 'exactly': 1551, 'scene': 3809, 'watching': 4815, 'great': 1964, 'showdown': 3955, 'near': 2979, 'consists': 955, 'foreign': 1790, 'encounter': 1466, 'each': 1395, 'game': 1864, 'death': 1141, 'fighter': 1708, 'very': 4723, 'fight': 1707, 'laughs': 2534, 'rare': 3523, 'classic': 835, 'highly': 2105, 'recommend': 3571, 'fans': 1650, 'according': 88, 'master': 2757, 'horror': 2168, 'segment': 3867, 'banned': 395, 'figured': 1712, 'id': 2212, 'swedish': 4335, 'review': 3676, 'wrote': 4974, 'expectations': 1576, 'director': 1264, 'episode': 1507, 'masters': 2761, 'series': 3890, 'promising': 3433, 'mostly': 2910, 'place': 3282, 'remote': 3622, 'japanese': 2382, 'century': 736, 'tale': 4353, 'journalist': 2420, 'searching': 3842, 'left': 2561, 'behind': 447, 'whom': 4875, 'promised': 3431, 'return': 3665, 'tired': 4501, 'arrives': 302, 'hoping': 2160, 'journey': 2421, 'turns': 4609, 'quiet': 3492, 'desperate': 1208, 'happened': 2027, 'since': 3990, 'how': 2181, 'seemed': 3862, 'part': 3193, 'spoke': 4125, 'american': 213, 'english': 1483, 'deal': 1135, 'miserable': 2863, 'rest': 3657, 'moves': 2925, 'such': 4268, 'slow': 4031, 'pace': 3161, 'help': 2079, 'watch': 4811, 'extended': 1604, 'somewhere': 4069, 'middle': 2833, 'felt': 1692, 'became': 431, 'interesting': 2325, 'violent': 4748, 'sake': 3775, 'itself': 2371, 'sense': 3877, 'purpose': 3474, 'emotion': 1458, 'images': 2235, 'bloody': 513, 'rolling': 3730, 'bottom': 551, 'honesty': 2148, 'emotions': 1461, 'feelings': 1686, 'seeking': 3859, 'billy': 482, 'memorable': 2802, 'frank': 1821, 'al': 170, 'brian': 576, 'de': 1131, 'portrayal': 3341, 'why': 4878, 'annoyed': 248, 'flow': 1762, 'empathy': 1462, 'whatsoever': 4861, 'displays': 1293, 'overacting': 3149, 'react': 3540, 'sitting': 4007, 'turning': 4608, 'escape': 1517, 'horrible': 2163, 'forth': 1804, 'told': 4513, '2005': 35, 'plays': 3301, 'prostitute': 3440, 'finale': 1723, 'maybe': 2776, 'horrid': 2165, 'blah': 496, 'looked': 2647, 'crappy': 1032, 'caused': 724, 'smile': 4036, 'bit': 488, 'thinking': 4453, 'red': 3576, 'craig': 1030, 'charles': 764, 'danny': 1112, 'john': 2409, 'aliens': 184, 'lucky': 2683, 'youve': 4995, 'forever': 1792, 'ruined': 3751, 'visuals': 4759, 'thought': 4462, 'finally': 1724, 'ended': 1470, 'pain': 3170, 'worth': 4953, 'hearing': 2063, 'title': 4504, 'theme': 4433, 'edward': 1426, 'music': 2946, 'believe': 454, 'anything': 260, 'warning': 4800, 'might': 2835, 'point': 3316, 'costume': 1005, 'design': 1202, 'lacking': 2504, 'many': 2732, 'tv': 4610, 'better': 472, 'showing': 3958, 'fashion': 1659, 'nothing': 3047, 'inferior': 2285, 'disappointed': 1273, 'pointless': 3318, 'words': 4938, 'well': 4843, 'quest': 3486, 'come': 886, 'apparently': 270, 'released': 3603, 'recently': 3567, 'transfer': 4559, 'sucks': 4271, 'due': 1382, 'poorly': 3329, 'done': 1322, 'obviously': 3072, 'filmed': 1717, 'abandoned': 62, 'school': 3813, 'doubt': 1332, 'wasted': 4809, 'cheap': 774, 'beer': 439, 'slaughter': 4021, 'high': 2100, 'pick': 3265, 'hour': 2176, 'picked': 3266, 'group': 1980, 'actually': 109, 'ultra': 4629, 'ugly': 4625, 'should': 3951, 'couple': 1016, 'dumb': 1385, 'losers': 2656, 'chicks': 787, 'mystery': 2956, 'picking': 3267, 'assume': 328, 'cool': 989, 'kids': 2467, 'casting': 711, 'choices': 798, 'horrendous': 2162, 'reviewers': 3678, 'pointed': 3317, 'actors': 104, 'bunch': 623, 'whose': 4877, 'accents': 79, 'numerous': 3062, 'throughout': 4478, 'crap': 1031, 'children': 792, 'students': 4239, 'reunion': 3669, 'shown': 3959, 'lame': 2510, 'gore': 1941, 'script': 3834, 'scooby': 3820, 'doo': 1325, 'lines': 2612, 'gives': 1914, 'someone': 4064, 'skip': 4016, 'unless': 4669, 'getting': 1901, 'wanna': 4786, 'laugh': 2529, 'slasher': 4020, 'bay': 416, '14': 6, 'earlier': 1399, 'heck': 2071, 'dawn': 1127, 'burning': 627, 'basic': 406, 'instinct': 2308, 'based': 404, 'preview': 3386, 'critics': 1064, 'pleasantly': 3303, 'surprised': 4313, 'liked': 2600, 'enjoy': 1484, 'keeps': 2451, 'wondering': 4930, 'superb': 4296, 'expecting': 1578, 'material': 2766, 'enjoyment': 1488, 'designed': 1203, 'stone': 4197, 'sexy': 3911, 'weekend': 4838, 'sorry': 4076, 'scary': 3807, 'modern': 2882, 'hold': 2129, 'opening': 3114, 'michael': 2829, 'sister': 4001, 'wearing': 4831, 'halloween': 2010, 'mask': 2752, 'whole': 4873, 'parents': 3188, 'rip': 3700, 'daughter': 1121, 'downhill': 1336, 'fifteen': 1706, 'late': 2523, 'audience': 352, 'barely': 399, 'development': 1225, 'exceptional': 1558, 'heroine': 2091, 'isnt': 2362, 'disagree': 1269, 'shining': 3933, 'baby': 376, 'best': 469, 'ranks': 3519, 'roger': 3724, 'gave': 1875, 'four': 1812, 'stars': 4155, 'deserve': 1199, 'rating': 3529, 'bought': 552, 'night': 3013, 'got': 1944, 'grow': 1982, 'kept': 2456, 'themes': 4434, 'heads': 2059, 'overall': 3150, 'animation': 242, 'considering': 952, 'followed': 1773, 'book': 535, 'fairly': 1631, 'loose': 2650, 'bothered': 549, '40': 48, 'king': 2479, 'parts': 3199, 'wouldve': 4959, 'ultimate': 4627, 'heard': 2062, 'sucked': 4270, 'wasnt': 4807, 'higher': 2101, 'vote': 4766, 'give': 1912, 'hope': 2155, 'peter': 3247, 'jackson': 2375, 'do': 1302, 'books': 536, 'justice': 2438, 'live': 2625, 'action': 100, 'small': 4033, 'jessica': 2398, 'simpson': 3987, 'decides': 1150, 'discovers': 1281, 'faithful': 1634, 'ends': 1474, 'comedic': 888, 'charming': 768, 'ensues': 1493, 'falls': 1640, 'hole': 2132, 'ground': 1979, 'thus': 4486, 'meets': 2795, 'charismatic': 763, 'ben': 463, 'luke': 2687, 'wilson': 4891, 'destiny': 1212, 'wont': 4932, 'easy': 1410, 'blonde': 511, 'evil': 1548, 'building': 615, 'shes': 3930, 'plan': 3287, 'hilarious': 2106, 'consequences': 947, 'follow': 1772, 'lying': 2690, 'enough': 1491, 'proved': 3446, 'jokes': 2415, 'developed': 1223, 'relationship': 3597, 'natural': 2973, 'puts': 3481, 'created': 1037, 'shame': 3918, 'multi': 2935, 'talented': 4355, 'once': 3106, 'surprises': 4314, 'strong': 4229, 'pull': 3461, 'perfectly': 3226, 'vulnerable': 4768, 'judge': 2424, 'covered': 1023, 'appealing': 272, 'light': 2595, 'touch': 4533, 'dog': 1310, 'laid': 2508, 'manner': 2729, 'difficult': 1249, 'resist': 3648, 'andy': 230, 'dick': 1239, 'born': 544, 'play': 3296, 'strength': 4219, 'performance': 3228, 'lies': 2591, 'remarkable': 3613, 'run': 3755, 'conclusion': 936, 'scott': 3824, 'crafted': 1029, 'intelligent': 2314, 'frequently': 1832, 'comedy': 890, 'become': 433, 'alongside': 196, 'masterpieces': 2760, 'cinema': 816, 'epic': 1506, 'kudos': 2497, 'involved': 2346, 'sincere': 3991, 'hearted': 2065, 'laughter': 2535, 'break': 569, 'youre': 4992, 'recommended': 3572, 'feet': 1688, 'romantic': 3733, 'thank': 4421, 'soundtrack': 4085, 'havent': 2053, 'gotten': 1947, 'elvira': 1450, 'pity': 3281, 'wonderful': 4928, 'success': 4265, 'funny': 1852, 'regret': 3591, 'besides': 468, 'amazing': 209, 'actress': 105, 'third': 4455, 'adventures': 131, 'favorite': 1671, 'actresses': 106, 'read': 3543, 'heart': 2064, 'classical': 836, 'episodes': 1508, 'personally': 3243, 'french': 1830, 'invasion': 2340, 'humor': 2192, 'highest': 2102, 'scottish': 3825, 'yes': 4982, 'majority': 2712, 'continue': 969, 'already': 197, 'wait': 4770, '3rd': 47, 'firstly': 1737, 'simply': 3986, 'slapstick': 4019, 'sexual': 3908, 'humour': 2194, 'cleverly': 842, 'stand': 4143, 'deeper': 1155, 'opposite': 3123, 'often': 3095, 'accepted': 82, 'matter': 2769, 'chris': 806, 'convincing': 985, 'barry': 401, 'singer': 3993, 'won': 4925, 'oscar': 3133, 'brilliantly': 584, 'handed': 2016, 'quickly': 3491, 'welcome': 4842, 'alone': 194, 'list': 2617, 'outer': 3143, 'space': 4090, 'earth': 1403, 'bore': 540, 'stay': 4166, 'awake': 365, 'alas': 172, 'gonna': 1936, 'avoid': 363, 'mike': 2838, 'nelson': 2997, 'robot': 3717, 'provide': 3448, 'talk': 4358, 'contains': 964, 'creatures': 1046, 'cross': 1066, 'turn': 4605, 'invisible': 2344, 'hurt': 2202, 'present': 3374, 'control': 977, 'humans': 2190, 'zombie': 4997, 'special': 4097, 'mediocre': 2791, 'shooting': 3943, 'blue': 518, 'stage': 4139, 'empty': 1465, 'monsters': 2893, 'burn': 625, 'rock': 3720, 'background': 380, 'points': 3319, 'wife': 4884, 'days': 1130, 'inept': 2281, 'government': 1948, 'involve': 2345, 'three': 4469, 'ashamed': 312, 'performances': 3229, 'job': 2405, 'lovers': 2673, 'awkward': 374, 'illogical': 2231, 'holes': 2133, 'contain': 962, 'begins': 444, 'text': 4419, 'voice': 4761, 'explaining': 1588, 'narration': 2965, 'dialog': 1232, 'clumsy': 866, 'heavy': 2070, 'uwe': 4703, 'boll': 529, 'use': 4692, 'center': 732, 'focus': 1766, 'money': 2888, 'bullet': 620, 'explain': 1586, 'painfully': 3172, 'viewers': 4739, 'theater': 4427, 'provided': 3449, 'advise': 134, 'paying': 3217, 'grab': 1949, 'split': 4120, 'rental': 3627, 'cost': 1003, 'tear': 4379, 'christian': 808, 'stephen': 4176, 'associated': 327, 'sit': 4003, 'notice': 3048, 'need': 2987, 'worked': 4941, 'flick': 1754, 'forget': 1793, 'human': 2188, 'beings': 449, 'although': 201, 'etc': 1527, 'portrayed': 3342, 'cartoons': 705, 'shadows': 3913, 'living': 2629, 'painting': 3175, 'ironically': 2356, 'nice': 3008, 'pacing': 3163, 'marvelous': 2750, 'dialogs': 1233, 'top': 4525, 'corruption': 1002, 'cold': 872, 'hero': 2088, 'without': 4913, 'giving': 1915, 'edge': 1418, 'seat': 3845, 'climax': 849, 'must': 2950, 'grown': 1984, 'ups': 4686, 'fx': 1858, 'saw': 3798, 'decided': 1149, 'upset': 4687, 'aired': 165, 'loved': 2670, 'remember': 3616, 'matters': 2770, 'step': 4175, 'okay': 3099, 'plain': 3286, '70s': 56, 'smart': 4035, 'season': 3843, 'eric': 1514, 'rate': 3526, 'offers': 3090, 'insight': 2298, 'understand': 4643, 'surfing': 4311, 'nor': 3032, 'lifetime': 2594, 'guys': 2001, 'buried': 624, 'taught': 4370, 'edited': 1420, 'interviews': 2330, 'outstanding': 3147, 'finish': 1732, 'summary': 4290, 'documentary': 1307, 'terms': 4406, 'ok': 3098, 'honestly': 2147, 'either': 1438, 'writer': 4968, 'producers': 3416, 'mine': 2853, 'industry': 2280, 'tears': 4380, 'harsh': 2040, 'clearly': 840, 'men': 2805, 'sue': 4274, 'destroy': 1213, 'bugs': 613, 'cinderella': 815, 'passed': 3202, 'died': 1244, 'women': 4923, 'attend': 344, 'royal': 3746, 'ball': 388, 'honor': 2150, 'find': 1726, 'course': 1019, 'fairy': 1632, 'appeared': 276, 'magic': 2703, 'beautiful': 428, 'midnight': 2834, 'changes': 751, 'loses': 2657, 'track': 4544, 'strikes': 4225, 'runs': 3757, 'glass': 1917, 'orders': 3127, 'duke': 1383, 'wore': 4939, 'hamilton': 2012, 'animated': 241, 'disney': 1289, 'magical': 2704, 'beginning': 443, 'nobody': 3022, 'song': 4071, 'child': 789, 'songs': 4072, 'sing': 3992, 'prince': 3396, 'singing': 3995, 'dancing': 1107, 'machine': 2693, 'capable': 672, 'energy': 1478, 'intriguing': 2335, 'premise': 3370, 'instead': 2307, 'damn': 1100, 'dealing': 1136, 'constant': 957, 'ie': 2221, 'doctor': 1304, 'jerry': 2396, 'together': 4511, 'secretary': 3850, 'wouldnt': 4958, 'hadnt': 2004, 'country': 1014, 'side': 3965, 'experiment': 1583, 'failed': 1626, 'throw': 4479, 'dry': 1377, 'british': 589, 'semi': 3874, 'hired': 2117, 'loving': 2675, 'half': 2007, 'attempts': 343, 'london': 2641, 'headed': 2058, 'breaking': 570, 'tried': 4584, 'effort': 1432, 'broke': 593, 'african': 142, 'cult': 1077, 'purchased': 3470, 'collection': 874, 'edition': 1422, 'ray': 3533, 'comedies': 889, 'anymore': 258, 'buffs': 612, 'site': 4005, 'iraq': 2351, 'helps': 2082, 'connected': 945, 'states': 4163, 'rules': 3754, 'word': 4937, 'check': 777, 'yourself': 4993, 'sudden': 4272, 'impact': 2244, 'opinion': 3118, 'previous': 3387, 'went': 4847, 'dirty': 1268, 'harry': 2039, 'police': 3322, 'approach': 282, 'less': 2575, 'clint': 850, 'eastwood': 1409, 'steals': 4172, 'pat': 3208, 'enjoyable': 1485, 'chief': 788, 'assigned': 325, 'boss': 546, 'name': 2960, 'decent': 1147, 'superior': 4300, 'major': 2711, 'howard': 2182, 'punk': 3468, 'against': 147, 'albert': 174, 'buddy': 609, 'famous': 1647, 'lesbian': 2573, 'jack': 2373, 'sandra': 3782, 'lover': 2672, 'horribly': 2164, 'miscast': 2862, 'jennifer': 2392, 'paul': 3214, 'buff': 611, 'dead': 1132, 'quick': 3490, 'clips': 852, 'dozens': 1339, 'games': 1865, 'hand': 2015, 'supposedly': 4307, 'holding': 2130, 'whatever': 4859, 'weapon': 4828, 'walking': 4779, 'college': 875, 'loaded': 2632, 'pay': 3216, 'ride': 3692, 'miss': 2866, 'boat': 523, 'island': 2361, 'increasingly': 2268, 'clear': 839, 'exercise': 1568, 'coming': 896, 'ways': 4822, 'situations': 4009, 'dressed': 1358, 'badly': 383, 'running': 3756, 'cute': 1090, 'occasion': 3073, 'delivers': 1172, 'actor': 103, 'known': 2492, 'rarely': 3524, 'effective': 1429, 'equally': 1510, 'flat': 1748, 'pretend': 3381, 'air': 164, 'sounded': 4082, 'eating': 1413, 'roll': 3728, 'mess': 2818, 'friday': 1834, '13th': 5, 'took': 4523, 'camp': 662, 'lake': 2509, 'lots': 2662, 'naked': 2959, 'nudity': 3059, 'impressive': 2253, 'grand': 1953, 'pulled': 3462, 'bar': 396, 'alcohol': 176, 'party': 3200, 'themselves': 4435, 'drinking': 1362, 'strip': 4228, 'gone': 1935, 'brilliant': 583, 'judging': 2425, 'shots': 3950, 'directly': 1263, 'matrix': 2767, 'thrown': 4481, 'pretentious': 3383, 'cheesy': 781, 'technique': 4383, 'dramatic': 1348, 'meaning': 2780, 'creation': 1040, 'slowly': 4032, 'faster': 1662, 'places': 3284, 'terrifying': 4410, 'caught': 722, 'heavily': 2069, 'armed': 293, 'strongly': 4231, 'everything': 1544, 'guns': 1998, 'fighting': 1709, 'amazingly': 210, 'gory': 1943, 'speed': 4103, 'clever': 841, 'completely': 922, 'gross': 1978, 'effect': 1428, 'fly': 1763, 'hell': 2077, 'compare': 911, 'resident': 3647, 'copies': 992, 'appreciate': 279, 'virus': 4752, 'turned': 4606, 'changing': 752, 'vampires': 4712, 'others': 3136, 'inspiration': 2300, 'except': 1556, 'moronic': 2907, 'putting': 3482, 'poster': 3353, 'unfortunately': 4654, 'holds': 2131, 'closing': 859, 'suggests': 4282, 'possibility': 3349, 'sequel': 3885, 'sign': 3970, 'omen': 3104, 'bergman': 466, 'parallel': 3185, 'distinct': 1296, 'husband': 2204, 'poor': 3328, 'jewish': 2401, 'called': 652, 'rescue': 3643, 'wandering': 4785, 'sometimes': 4067, 'unintentionally': 4659, 'sunday': 4293, 'priest': 3392, 'important': 2247, 'priceless': 3390, 'moore': 2901, 'desire': 1205, 'ex': 1549, 'saving': 3797, 'jane': 2380, 'eyre': 1614, 'versions': 4721, 'faults': 1669, 'mr': 2929, 'rochester': 3719, 'charlotte': 766, 'brings': 587, 'william': 4887, 'possible': 3350, 'fall': 1637, 'perhaps': 3235, 'fell': 1690, 'asleep': 320, 'timothy': 4499, 'dalton': 1098, 'handsome': 2021, 'version': 4720, 'true': 4596, 'various': 4715, 'double': 1331, 'ms': 2931, 'herself': 2092, 'offer': 3087, 'otherwise': 3137, 'typical': 4623, 'canadian': 667, 'generally': 1881, 'value': 4709, 'forgotten': 1797, 'definition': 1163, 'commercial': 902, 'sat': 3786, 'tries': 4585, 'named': 2961, 'loss': 2659, 'ahead': 159, 'viewing': 4740, 'buy': 640, 'concept': 930, 'parent': 3187, 'fellow': 1691, 'following': 1774, 'irritating': 2359, 'standard': 4144, 'handful': 2017, 'amusing': 221, 'tone': 4517, 'unpleasant': 4674, 'intense': 2316, 'types': 4622, 'connection': 946, 'brought': 600, 'dr': 1340, 'focuses': 1768, 'obsession': 3070, 'capturing': 679, 'allow': 189, 'local': 2634, 'loud': 2664, 'correct': 1000, 'pure': 3471, 'street': 4216, 'million': 2847, 'yeah': 4977, 'please': 3304, 'weak': 4824, 'lone': 2642, 'exception': 1557, 'cuts': 1091, 'favor': 1670, 'installment': 2303, 'twice': 4613, 'extremely': 1610, 'expect': 1575, 'surprisingly': 4316, 'company': 910, 'surprise': 4312, 'educational': 1425, '1940s': 13, '60s': 54, 'missed': 2867, 'female': 1693, 'relatively': 3600, 'bland': 500, 'theyd': 4443, 'mouse': 2919, 'gang': 1867, 'attack': 337, 'notion': 3050, 'general': 1880, 'details': 1219, 'included': 2262, 'figure': 1711, 'cartoon': 704, 'celebrity': 729, 'reasons': 3560, 'hal': 2006, 'wish': 4904, 'ask': 316, 'stays': 4169, 'wrap': 4963, 'normally': 3034, 'awesome': 371, 'cusack': 1088, 'stupidity': 4248, 'amounts': 220, 'albeit': 173, 'subtle': 4260, 'mature': 2773, 'proceeds': 3411, 'next': 3007, 'tedious': 4387, 'ill': 2228, 'characters': 760, 'emotional': 1459, 'jeremy': 2394, '15': 7, 'kate': 2446, 'throwing': 4480, 'wind': 4893, 'beyond': 476, 'belief': 451, 'intelligence': 2313, 'werent': 4849, 'protagonists': 3442, 'clue': 864, 'lives': 2628, 'feel': 1684, 'utterly': 4702, 'tiresome': 4502, 'likely': 2601, 'engage': 1479, 'complex': 923, 'heres': 2087, 'happily': 2030, 'misery': 2865, 'peoples': 3222, 'namely': 2962, 'relatives': 3601, 'genre': 1888, 'link': 2613, 'angels': 234, 'pilot': 3276, 'crew': 1053, 'germans': 1897, 'form': 1798, 'reed': 3580, 'baker': 385, 'synopsis': 4344, 'rebel': 3561, 'army': 295, 'stiff': 4187, 'sentence': 3881, 'minor': 2857, 'proves': 3447, 'under': 4639, 'fire': 1734, 'daring': 1114, 'leader': 2546, 'war': 4792, 'ii': 2226, 'spain': 4091, 'pg': 3250, 'fails': 1628, 'wars': 4804, 'oil': 3097, 'innocent': 2294, 'soldier': 4053, 'apart': 264, 'enemy': 1477, 'deadly': 1133, 'logic': 2638, 'solid': 4057, 'total': 4531, 'adam': 111, 'sandler': 3781, 'don': 1320, 'becoming': 435, 'respected': 3653, 'started': 4157, 'daddy': 1096, 'terrific': 4409, '50': 51, 'closest': 857, 'ran': 3513, 'ruin': 3750, '2007': 37, 'wondered': 4927, 'wood': 4933, 'science': 3816, 'rent': 3626, 'nostalgic': 3039, 'beat': 423, 'terrorist': 4413, 'threat': 4467, 'built': 618, 'usa': 4691, 'kill': 2468, 'training': 4558, 'politics': 3326, 'aside': 315, 'grasp': 1960, 'offered': 3088, 'mistake': 2871, 'ironic': 2355, 'attempting': 342, 'requires': 3642, 'truth': 4599, 'zero': 4996, 'finest': 1730, 'rated': 3527, 'critical': 1062, 'box': 555, 'fool': 1779, 'needs': 2990, 'porn': 3336, 'cheese': 780, '1980s': 21, 'pathetic': 3210, 'celluloid': 731, 'drivel': 1364, 'brosnan': 597, 'reminded': 3619, 'refreshing': 3586, 'youll': 4988, 'blown': 516, 'smiling': 4037, 'having': 2054, 'reel': 3581, 'audio': 354, 'ad': 110, 'drink': 1361, 'bottle': 550, 'twin': 4615, 'commentary': 899, 'above': 68, 'forward': 1808, 'location': 2635, 'vague': 4705, 'shadow': 3912, 'storyline': 4208, 'italy': 2368, 'european': 1530, 'happens': 2029, 'chance': 747, 'dimensional': 1253, 'daughters': 1122, 'boys': 559, 'scope': 3821, 'fathers': 1667, 'age': 148, 'recall': 3562, 'guts': 1999, 'bare': 398, 'minimum': 2856, 'credits': 1050, 'spent': 4108, 'pile': 3275, 'rubbish': 3748, 'birds': 485, 'view': 4736, 'bird': 484, 'spends': 4107, 'feminist': 1695, 'term': 4405, 'existed': 1570, 'era': 1513, 'locked': 2637, 'spots': 4132, 'society': 4050, 'witnesses': 4916, 'longer': 2645, 'results': 3662, 'pre': 3365, 'credit': 1049, 'sequence': 3887, 'sees': 3866, 'muslim': 2949, 'alive': 186, 'filled': 1715, 'waves': 4819, 'head': 2057, 'huh': 2187, 'join': 2412, 'rape': 3521, 'historical': 2119, 'drama': 1346, 'indeed': 2271, 'ingredients': 2289, 'trashy': 4566, 'exploitation': 1592, 'usually': 4700, 'winds': 4895, 'likes': 2602, 'spirited': 4114, 'easier': 1405, 'fear': 1676, 'dear': 1140, 'sends': 3876, 'treats': 4575, 'prepared': 3371, 'reputation': 3640, 'plus': 3311, 'featuring': 1681, 'works': 4945, 'german': 1896, 'copy': 994, 'picture': 3269, 'information': 2288, 'wise': 4903, 'male': 2719, 'holy': 2140, 'spirit': 4113, 'afraid': 140, 'regarding': 3589, 'christians': 809, 'arrive': 300, 'ha': 2002, 'lord': 2652, 'mere': 2814, 'occurred': 3077, 'today': 4508, 'remembered': 3617, 'cinematic': 818, 'psycho': 3457, 'thriller': 4472, 'intensity': 2317, 'root': 3737, 'la': 2500, 'lucas': 2680, 'flying': 1764, 'miracle': 2860, 'scale': 3802, 'assumed': 329, 'fred': 1825, 'sci': 3815, 'fi': 1701, 'strictly': 4223, 'folks': 1771, 'massive': 2756, 'machines': 2694, 'stereotypical': 4180, 'user': 4696, 'theyve': 4446, 'overdone': 3152, 'accurate': 90, 'ship': 3934, 'spend': 4105, 'trailer': 4554, 'blows': 517, 'trust': 4598, 'plague': 3285, 'unfolds': 4651, 'unfunny': 4655, 'plans': 3292, 'direct': 1258, 'dan': 1102, 'surprising': 4315, 'makeup': 2717, 'hundred': 2195, 'goldberg': 1933, 'testament': 4417, 'public': 3460, 'fiction': 1702, 'obscure': 3068, 'philosophical': 3253, 'fay': 1674, 'grim': 1974, 'henry': 2084, 'object': 3066, 'stolen': 4195, 'process': 3412, 'blockbuster': 509, 'tragedy': 4551, 'shock': 3938, 'cliché': 844, 'dull': 1384, 'office': 3091, 'devil': 1228, 'simon': 3982, 'understanding': 4645, 'tragic': 4552, 'detail': 1217, 'expressed': 1601, 'flashbacks': 1747, 'knowing': 2490, 'constructed': 959, 'broken': 594, 'villain': 4744, 'flaw': 1749, 'endearing': 1469, 'moved': 2922, 'taste': 4369, 'suppose': 4305, 'afford': 138, 'hire': 2116, 'twelve': 4611, 'extras': 1608, 'move': 2921, 'vietnam': 4735, 'civil': 826, 'rights': 3697, 'movement': 2923, 'hits': 2125, 'misses': 2868, 'jay': 2386, 'notes': 3046, 'believable': 453, 'raw': 3532, 'ape': 266, 'lovely': 2671, 'innocence': 2293, 'required': 3641, 'older': 3101, 'forgettable': 1794, 'mary': 2751, 'needed': 2988, 'twilight': 4614, 'zone': 4999, 'diana': 1237, 'chased': 770, 'bitter': 491, 'chose': 804, 'similar': 3978, 'carter': 703, 'deeply': 1156, 'idiotic': 2219, 'revenge': 3675, 'crime': 1055, 'front': 1841, 'unable': 4631, 'dress': 1357, 'destroyed': 1214, 'serious': 3891, 'seeks': 3860, 'ones': 3108, 'unexpected': 4650, 'write': 4967, 'unrealistic': 4677, 'seek': 3858, 'mental': 2808, 'problem': 3408, 'depicting': 1184, 'fourth': 1813, 'actual': 108, 'advanced': 128, 'boot': 538, 'method': 2824, 'force': 1786, 'belongs': 460, 'shelf': 3926, 'aforementioned': 139, 'titles': 4506, 'anti': 254, 'succeeded': 4263, 'official': 3094, 'description': 1197, 'husbands': 2205, 'national': 2970, 'security': 3854, 'structure': 4233, 'goofy': 1939, 'convoluted': 987, 'mood': 2898, 'hang': 2022, 'eg': 1434, 'eventually': 1537, 'questions': 3489, 'sharp': 3922, 'reached': 3537, 'parker': 3191, 'reduced': 3579, 'absurd': 73, 'asked': 317, 'international': 2326, 'player': 3298, 'psychological': 3458, 'terrorists': 4414, 'jeff': 2390, 'cia': 814, 'uncomfortable': 4637, 'agents': 151, 'hair': 2005, 'question': 3487, 'thomas': 4458, 'neither': 2996, 'key': 2458, 'served': 3894, 'teenager': 4390, 'quirky': 3493, 'lazy': 2543, 'overlooked': 3154, 'jonathan': 2417, 'james': 2378, 'mark': 2739, 'jeffrey': 2391, 'tom': 4514, 'mentioned': 2811, 'listed': 2618, 'discovered': 1280, 'accident': 84, 'cable': 644, 'suggest': 4280, 'musical': 2947, 'artist': 307, 'calling': 653, 'ticket': 4487, 'apartment': 265, 'telling': 4396, 'andrew': 228, 'lloyd': 2630, 'sound': 4081, 'six': 4010, 'comparing': 913, 'essentially': 1523, 'bound': 553, 'dance': 1103, 'numbers': 3061, 'moving': 2928, 'reminds': 3620, 'drug': 1373, '50s': 52, 'experienced': 1581, 'social': 4049, 'hanks': 2025, 'buddies': 608, 'montage': 2894, 'falling': 1639, 'lady': 2507, 'wonder': 4926, 'imagination': 2236, 'road': 3709, 'destruction': 1216, 'talks': 4361, 'starting': 4158, 'unique': 4662, 'scare': 3803, 'finding': 1727, 'alex': 179, 'truly': 4597, 'rick': 3689, 'stomach': 4196, 'redeeming': 3577, 'features': 1680, 'shower': 3957, 'internet': 2327, 'contemporary': 965, 'final': 1722, 'pleasure': 3306, 'adaptation': 113, 'received': 3564, 'reactions': 3542, 'pseudo': 3454, 'lacked': 2503, 'reaction': 3541, 'intellectual': 2312, 'exploration': 1593, 'surrounding': 4319, 'joan': 2404, 'language': 2516, 'wanting': 4790, 'allowed': 190, 'identify': 2216, 'jean': 2389, 'subsequent': 4257, 'eerie': 1427, 'presented': 3376, 'presence': 3373, 'reveals': 3673, 'both': 547, 'youth': 4994, 'humble': 2191, 'protect': 3443, 'village': 4743, 'criticism': 1063, 'ken': 2453, 'towards': 4540, 'content': 966, 'whos': 4876, 'soldiers': 4054, 'voices': 4763, 'common': 906, 'leads': 2548, 'wear': 4830, 'battle': 414, 'chase': 769, 'interested': 2324, 'court': 1020, 'widmark': 4882, 'earl': 1398, 'ensemble': 1492, 'portray': 3340, 'figures': 1713, 'treat': 4572, 'religion': 3607, 'childish': 791, 'toy': 4542, 'accompanied': 86, 'allows': 192, 'portrait': 3339, 'trial': 4580, 'guilty': 1995, 'richard': 3686, 'revelation': 3674, 'type': 4621, 'comic': 893, 'relief': 3605, 'imitation': 2241, 'lewis': 2586, 'white': 4870, 'cinematographer': 819, 'georges': 1894, 'colonel': 876, 'colour': 880, 'anywhere': 263, 'marks': 2742, 'conflict': 939, 'individuals': 2278, 'individual': 2277, 'acts': 107, 'per': 3223, 'treatment': 4574, 'unpredictable': 4675, 'answers': 252, 'commented': 900, 'non': 3027, 'bands': 392, '90s': 61, 'innovative': 2295, 'rose': 3739, 'fame': 1642, 'band': 391, 'remaining': 3610, 'cases': 708, 'album': 175, 'ideal': 2214, 'crash': 1033, 'provoking': 3452, 'uninteresting': 4660, 'act': 97, 'shallow': 3917, 'qualities': 3483, 'managed': 2723, 'spoiler': 4123, 'inspiring': 2302, 'thousand': 4465, 'appearances': 275, 'date': 1118, 'artistic': 308, 'shorts': 3948, 'remains': 3611, 'suffers': 4278, 'lately': 2524, 'cd': 728, 'impression': 2252, 'hide': 2097, 'sadly': 3769, 'weakest': 4825, 'concerned': 932, 'stands': 4147, 'scream': 3826, 'joy': 2422, 'factor': 1622, 'hardly': 2036, 'manage': 2722, 'brothers': 599, 'filmmakers': 1720, 'kid': 2464, 'stick': 4185, 'dub': 1378, 'avoided': 364, 'costs': 1004, 'translation': 4562, 'remake': 3612, 'stranger': 4213, 'calls': 654, 'sisters': 4002, 'christmas': 810, 'punch': 3466, 'sits': 4006, 'months': 2897, 'eager': 1396, 'introduced': 2337, 'alcoholic': 177, 'ian': 2209, 'mrs': 2930, 'meet': 2793, '2001': 31, 'missing': 2869, 'halfway': 2008, 'asking': 318, 'photo': 3257, 'plastic': 3294, 'worry': 4950, 'catch': 714, 'corpse': 999, 'placed': 3283, 'visible': 4753, 'golden': 1934, 'fortunately': 1805, 'fears': 1677, 'precious': 3366, 'pushed': 3478, 'trap': 4563, 'door': 1328, 'cats': 721, 'sticks': 4186, 'neck': 2985, 'hey': 2095, '75': 57, 'situation': 4008, 'tap': 4364, 'houses': 2180, 'station': 4164, 'pal': 3177, 'answer': 251, 'learn': 2550, 'suddenly': 4273, 'bob': 524, 'spoilers': 4124, 'lane': 2515, 'faces': 1618, 'realizes': 3554, 'hello': 2078, 'realize': 3552, 'walk': 4775, 'psychotic': 3459, 'former': 1800, 'doors': 1329, 'website': 4834, 'response': 3654, 'inane': 2258, 'beneath': 464, 'false': 1641, 'greatest': 1966, 'source': 4086, 'willing': 4889, 'weve': 4856, 'result': 3660, 'passes': 3203, 'vehicle': 4718, 'leaving': 2557, 'load': 2631, 'losing': 2658, 'operation': 3117, 'speaking': 4095, 'global': 1920, 'warming': 4795, 'tend': 4400, 'study': 4242, 'satire': 3788, 'settings': 3901, 'vast': 4716, 'scripts': 3836, 'happy': 2032, 'conventional': 979, 'successful': 4266, 'emotionally': 1460, 'businessman': 634, 'toys': 4543, 'entirely': 1503, 'degree': 1164, 'facts': 1624, 'aka': 168, 'madness': 2698, 'standards': 4145, 'finished': 1733, 'conceived': 929, 'powers': 3361, 'causes': 725, 'hoped': 2156, '3000': 43, 'animal': 239, 'rough': 3741, 'noticed': 3049, 'typically': 4624, 'disaster': 1276, 'category': 718, 'separate': 3883, 'mgm': 2828, 'theaters': 4428, 'occasionally': 3075, 'pops': 3332, 'decade': 1144, 'parody': 3192, 'videos': 4734, 'corporate': 998, 'frustrated': 1842, 'exotic': 1574, 'dancer': 1104, 'raped': 3522, 'queen': 3485, 'cut': 1089, 'highlight': 2103, 'iii': 2227, 'chases': 771, 'christopher': 811, 'lose': 2654, 'shoot': 3942, 'acted': 98, 'strangely': 4212, 'surreal': 4317, 'victim': 4729, 'resort': 3650, 'stereotypes': 4179, 'fault': 1668, 'huge': 2185, 'crude': 1069, 'witty': 4917, 'inspired': 2301, 'embarrassed': 1453, 'eye': 1611, 'laughed': 2532, 'compared': 912, 'number': 3060, 'regular': 3592, 'tracks': 4545, 'vacation': 4704, 'genius': 1887, 'arnold': 296, 'magazine': 2701, 'print': 3399, 'fast': 1661, 'gold': 1932, 'advertising': 132, 'teach': 4374, 'criminals': 1058, 'room': 3735, 'month': 2896, 'pushing': 3479, 'immediately': 2242, 'setting': 3900, 'narrator': 2967, 'cake': 648, 'routine': 3743, 'ned': 2986, 'bringing': 586, 'trio': 4587, 'chuck': 812, 'anna': 245, 'wicked': 4879, 'delight': 1167, 'deserves': 1201, 'shy': 3962, 'ready': 3546, 'aids': 161, 'secret': 3849, 'chemistry': 782, 'touching': 4536, 'pie': 3271, 'shop': 3945, 'potential': 3355, 'rushed': 3760, 'week': 4837, 'addition': 118, 'food': 1778, 'advance': 127, 'monkey': 2890, 'relation': 3595, 'develop': 1222, 'oliver': 3102, 'color': 877, 'implausible': 2245, 'remind': 3618, 'creator': 1043, 'plausible': 3295, 'lasted': 2522, 'merely': 2815, 'lived': 2626, 'gem': 1877, 'core': 995, 'haunted': 2050, 'ghosts': 1903, 'deaths': 1142, 'whoever': 4872, 'buildings': 616, 'rooms': 3736, 'excited': 1561, 'scared': 3805, 'predictable': 3367, 'comical': 894, 'riding': 3695, 'witness': 4914, 'bother': 548, 'watchable': 4812, 'section': 3853, 'says': 3801, 'whereas': 4865, 'italian': 2367, 'fascinating': 1658, 'standing': 4146, 'communist': 907, 'inside': 2297, 'political': 3324, 'leading': 2547, 'birth': 486, 'drags': 1345, 'argument': 291, 'succeeds': 4264, 'twenty': 4612, 'novel': 3052, 'among': 217, 'nevertheless': 3002, 'doll': 1313, 'manipulative': 2727, 'southern': 4088, 'chair': 742, 'robert': 3713, 'resulting': 3661, 'toward': 4539, 'subject': 4253, 'status': 4165, 'angry': 238, 'fits': 1741, 'greek': 1970, 'accent': 78, 'dies': 1245, 'pictures': 3270, 'gerard': 1895, 'sword': 4340, 'antics': 255, 'sweet': 4336, 'fabulous': 1615, 'bible': 477, 'related': 3594, 'jones': 2418, 'wannabe': 4787, 'kinda': 2477, '20': 29, 'kevin': 2457, 'paper': 3183, 'disappoint': 1272, 'descent': 1193, 'trapped': 4564, 'cave': 727, 'anyways': 262, 'dating': 1120, 'porno': 3337, 'womans': 4922, '17': 9, 'incredible': 2269, 'wished': 4905, 'kung': 2498, 'fu': 1844, 'channel': 753, 'spoken': 4126, 'china': 795, 'provides': 3450, 'popular': 3333, 'culture': 1079, 'festival': 1697, 'introduction': 2339, 'riveting': 3708, 'display': 1291, 'shocking': 3940, 'footage': 1782, 'united': 4664, 'humorous': 2193, 'depth': 1190, 'workers': 4943, 'context': 968, 'factory': 1623, 'filmmaker': 1719, 'importantly': 2248, 'guilt': 1994, 'raising': 3509, 'victor': 4731, 'terribly': 4408, 'reality': 3551, 'artificial': 306, 'lighting': 2596, 'authentic': 358, 'similarly': 3980, 'goal': 1925, 'hip': 2114, 'classes': 834, 'cruel': 1070, 'intentions': 2321, 'prequel': 3372, 'exact': 1550, 'kissing': 2484, 'impressed': 2251, 'amy': 222, 'leonard': 2572, 'dreary': 1356, 'measure': 2786, 'flawed': 1750, 'genuine': 1891, 'west': 4852, 'clean': 838, 'tongue': 4518, 'cheek': 779, 'keaton': 2448, 'bigger': 479, 'affair': 135, 'campy': 664, 'hollywoods': 2138, 'gotta': 1946, 'attitude': 346, 'represent': 3637, 'progresses': 3426, 'passing': 3204, 'lou': 2663, 'prom': 3429, 'lisa': 2616, 'cheating': 776, 'steve': 4181, 'bud': 607, 'cooper': 990, 'meanwhile': 2785, 'accept': 80, 'throws': 4482, 'lit': 2621, 'catches': 715, '30': 42, 'principal': 3398, 'justin': 2440, 'louis': 2665, 'carpenter': 694, 'wendy': 4846, 'planning': 3291, 'schools': 3814, 'basement': 405, 'large': 2517, 'opens': 3115, 'free': 1827, 'spare': 4093, 'sets': 3899, 'suicide': 4283, 'draws': 1352, 'competition': 918, 'shape': 3919, 'kelly': 2452, 'fix': 1744, 'wins': 4899, 'appearance': 274, '1980': 20, 'particularly': 3195, 'ron': 3734, 'supernatural': 4302, 'teen': 4388, 'possessed': 3347, 'picks': 3268, 'clichéd': 845, 'depicted': 1183, 'latter': 2528, 'creepy': 1052, 'water': 4816, 'drag': 1342, 'liners': 2611, 'adds': 119, 'someones': 4065, 'reasonable': 3558, 'values': 4710, 'ultimately': 4628, 'maintain': 2710, 'nearly': 2981, '100': 1, 'specifically': 4100, 'jazz': 2387, 'treasure': 4571, 'marie': 2737, 'sings': 3997, 'sounds': 4084, 'remarkably': 3614, 'fed': 1682, 'flesh': 1753, 'disgusting': 1286, 'neighbor': 2992, 'recorded': 3574, 'dubbed': 1379, 'unconvincing': 4638, 'note': 3044, 'pig': 3274, 'north': 3036, 'america': 212, 'em': 1452, 'throat': 4476, 'fulci': 1845, 'underground': 4640, 'stuck': 4237, '1st': 28, 'devoid': 1230, 'fine': 1729, 'torture': 4529, 'cause': 723, 'hidden': 2096, 'justify': 2439, 'wrapped': 4964, 'shouldnt': 3952, 'everybody': 1540, 'thrill': 4471, 'jason': 2383, 'freddy': 1826, 'mom': 2885, 'luck': 2681, 'couples': 1017, 'julia': 2427, 'harris': 2038, 'appears': 278, 'lawyer': 2541, 'attorney': 348, 'estate': 1525, 'beautifully': 429, 'renting': 3629, 'engaged': 1480, 'alexander': 180, 'secretly': 3851, 'lifestyle': 2593, 'pass': 3201, 'motion': 2913, 'quote': 3496, 'bear': 420, 'piano': 3264, 'silence': 3974, 'practice': 3363, 'pro': 3406, 'jealous': 2388, 'identity': 2217, 'lengthy': 2570, 'surrounded': 4318, 'hardcore': 2034, 'grade': 1951, 'warm': 4794, 'blues': 519, 'glad': 1916, 'wanted': 4789, 'shed': 3924, 'existent': 1572, 'instance': 2304, 'mid': 2832, 'grace': 1950, 'disc': 1278, 'careful': 688, 'necessarily': 2983, 'todays': 4509, 'counter': 1011, 'cultural': 1078, 'literature': 2623, 'class': 833, 'meaningless': 2782, 'confused': 941, 'explore': 1594, 'existence': 1571, 'share': 3920, 'garbo': 1871, 'exaggerated': 1552, 'douglas': 1334, 'normal': 3033, 'screams': 3828, 'disappeared': 1271, 'ruth': 3763, 'gordon': 1940, 'roles': 3727, '80s': 59, 'stunt': 4245, 'pretending': 3382, 'knew': 2486, 'silent': 3975, 'angles': 237, 'occasional': 3074, 'traditional': 4550, 'argue': 290, 'prime': 3395, 'unreal': 4676, 'colors': 879, 'primary': 3394, 'creating': 1039, 'japan': 2381, 'lights': 2597, 'appearing': 277, 'alternate': 200, 'represents': 3639, 'dream': 1354, 'ford': 1789, 'achievement': 94, 'samurai': 3779, 'comparison': 914, 'committed': 905, 'seven': 3903, 'trick': 4582, 'reveal': 3670, 'giallo': 1904, 'splatter': 4118, 'flicks': 1755, 'amongst': 218, 'sub': 4252, 'par': 3184, 'classics': 837, 'areas': 287, 'previously': 3388, 'unknown': 4668, 'apparent': 269, 'ghost': 1902, 'blatant': 502, 'sell': 3871, 'reminiscent': 3621, 'benefit': 465, 'score': 3822, 'fit': 1740, 'desperately': 1209, 'nightmare': 3014, 'talents': 4356, 'studio': 4240, 'batman': 413, 'blond': 510, 'gun': 1996, 'resemblance': 3645, 'guessed': 1990, 'constantly': 958, 'ignored': 2225, '35': 45, 'balls': 390, 'twists': 4619, 'dude': 1381, 'drawing': 1350, 'unwatchable': 4682, 'staring': 4152, 'polanski': 3321, 'onto': 3111, 'aware': 368, 'simple': 3983, 'jump': 2429, 'round': 3742, 'highlights': 2104, 'respect': 3652, 'greatly': 1967, 'dubbing': 1380, 'speaks': 4096, 'ears': 1402, 'speak': 4094, 'realise': 3548, 'regardless': 3590, 'aspects': 322, 'corner': 996, 'interpretation': 2328, 'nowhere': 3056, 'choose': 799, 'guarantee': 1987, 'unfortunate': 4653, 'deals': 1137, 'paranoia': 3186, 'product': 3418, 'dust': 1388, 'generation': 1883, 'attached': 336, 'affect': 136, 'kidding': 2465, 'thanks': 4423, 'disappointment': 1275, 'broadway': 592, 'silver': 3977, 'intimate': 2331, 'theatre': 4429, 'cube': 1076, 'icon': 2211, 'spooky': 4128, 'opened': 3113, 'sidney': 3968, 'lumet': 2688, 'sequences': 3888, 'plots': 3310, 'described': 1195, 'uk': 4626, '24': 39, 'similarities': 3979, 'silly': 3976, 'execution': 1566, 'expensive': 1579, 'gentle': 1890, 'spy': 4135, 'le': 2544, 'accused': 91, 'formula': 1802, 'handled': 2019, 'unintentional': 4658, 'flaws': 1752, 'sam': 3777, 'bumbling': 622, 'cat': 713, 'spike': 4111, 'peace': 3219, 'dvds': 1392, 'contained': 963, 'concerns': 934, 'mistaken': 2872, 'involving': 2349, 'dancers': 1105, 'ellen': 1446, 'legs': 2566, 'producer': 3415, 'rich': 3685, 'interview': 2329, 'confusing': 942, 'performed': 3230, 'hilariously': 2107, 'fashioned': 1660, 'primarily': 3393, 'lonely': 2643, 'souls': 4080, 'environment': 1505, 'streets': 4217, 'using': 4698, 'statement': 4162, 'timeless': 4496, 'solely': 4056, 'widely': 4881, 'debut': 1143, 'warriors': 4803, 'considered': 951, 'simplistic': 3985, 'delivery': 1173, 'service': 3896, 'anime': 243, 'revolutionary': 3681, 'controversial': 978, 'masterpiece': 2759, 'mainly': 2708, 'breathtaking': 574, 'ignore': 2224, 'roots': 3738, 'agreed': 156, 'shine': 3931, 'suitable': 4285, 'shut': 3961, 'suffice': 4279, 'nine': 3017, 'princess': 3397, 'subtitles': 4259, 'der': 1191, 'dawson': 1128, 'robin': 3715, 'hood': 2151, 'travesty': 4570, 'burns': 628, 'circle': 821, 'williams': 4888, 'radio': 3504, 'morning': 2906, 'football': 1783, 'kurt': 2499, 'russell': 3761, 'granted': 1957, 'team': 4378, 'express': 1600, 'library': 2589, 'receives': 3565, 'amateur': 206, 'dire': 1257, 'mail': 2706, 'foot': 1781, 'instantly': 2306, 'judy': 2426, 'arms': 294, 'originally': 3131, 'june': 2433, 'shoes': 3941, 'margaret': 2735, 'johnson': 2411, 'jimmy': 2403, 'stewart': 4184, 'achieve': 92, 'subplot': 4255, 'device': 1227, 'excuse': 1564, 'resolution': 3649, 'enjoys': 1489, 'reach': 3536, 'influenced': 2287, 'teens': 4392, 'kiss': 2483, 'angel': 231, 'concert': 935, 'laura': 2536, '16': 8, 'rocky': 3723, 'market': 2740, 'irrelevant': 2358, 'ted': 4386, 'dad': 1095, 'absence': 70, 'narrative': 2966, 'bodies': 526, 'outcome': 3142, 'blind': 506, 'forced': 1787, 'bin': 483, 'floor': 1759, 'trade': 4547, 'screenplay': 3831, 'simplicity': 3984, 'courage': 1018, 'possibly': 3351, 'cities': 823, 'heaven': 2068, 'fail': 1625, 'flop': 1760, 'barbara': 397, 'legend': 2564, 'haunting': 2051, 'hill': 2108, 'atmospheric': 334, 'chilling': 794, 'entry': 1504, 'manages': 2725, 'convey': 982, 'genuinely': 1892, 'author': 359, 'edgar': 1417, 'allen': 188, 'spirits': 4115, 'topless': 4527, 'mild': 2839, 'advantage': 129, 'sympathetic': 4342, 'perspective': 3245, 'career': 686, 'recognized': 3570, 'club': 863, 'st': 4137, 'morris': 2908, 'friendly': 1836, 'friendship': 1838, 'occur': 3076, 'map': 2733, 'hasnt': 2044, 'saved': 3795, 'discover': 1279, 'follows': 1775, 'sequels': 3886, 'disbelief': 1277, 'explained': 1587, 'charisma': 762, 'knowledge': 2491, 'superhero': 4299, 'suck': 4269, 'steel': 4173, 'joe': 2407, 'donna': 1323, 'norman': 3035, 'anthony': 253, 'bet': 470, 'filming': 1718, 'credibility': 1047, 'talked': 4359, 'cameo': 657, 'ramones': 3512, 'praise': 3364, 'screening': 3830, 'tonight': 4519, 'stopped': 4202, 'laughing': 2533, 'spectacular': 4101, 'personality': 3242, 'square': 4136, 'messages': 2820, 'listen': 2619, 'block': 508, 'depressed': 1187, 'homosexual': 2145, 'dare': 1113, '13': 4, 'dropped': 1370, 'crowd': 1067, 'media': 2789, 'exposure': 1599, 'deliver': 1169, 'checking': 778, 'alice': 182, 'kicked': 2461, 'subplots': 4256, 'flies': 1756, 'holmes': 2139, 'mix': 2876, 'props': 3439, 'summer': 4291, 'proud': 3444, 'showed': 3956, 'yellow': 4981, 'knock': 2488, '2004': 34, 'network': 3000, 'imaginative': 2237, 'engaging': 1481, 'originality': 3130, 'childrens': 793, 'initially': 2291, 'fascinated': 1657, 'families': 1644, 'britain': 588, 'victoria': 4732, 'bright': 581, 'essence': 1521, 'passionate': 3206, 'emily': 1456, 'blunt': 520, 'alert': 178, 'questionable': 3488, 'struck': 4232, 'sir': 4000, 'rival': 3706, 'below': 462, 'acceptable': 81, 'joey': 2408, 'bank': 394, 'gay': 1876, 'giant': 1905, 'funnier': 1850, 'slap': 4018, 'bobby': 525, 'mad': 2696, 'overcome': 3151, 'documentaries': 1306, 'sheer': 3925, 'subjects': 4254, 'afterwards': 145, 'nicely': 3009, 'cage': 645, 'endings': 1472, 'costumes': 1006, 'specific': 4099, 'chick': 786, 'aimed': 162, 'deliberately': 1166, 'moral': 2902, 'shirt': 3937, 'chooses': 800, 'relationships': 3598, 'animals': 240, 'drawn': 1351, 'ice': 2210, 'nuts': 3064, 'vaguely': 4706, 'mildly': 2840, 'toilet': 4512, 'wallace': 4782, 'mistakes': 2873, 'effectively': 1430, 'kicking': 2462, 'ruby': 3749, 'straight': 4210, 'hollow': 2135, 'paint': 3173, 'growing': 1983, 'largely': 2518, 'mainstream': 2709, 'stops': 4203, 'league': 2549, 'fantasy': 1652, 'replaced': 3634, 'scares': 3806, 'craft': 1028, 'viewed': 4737, 'tour': 4538, 'truck': 4595, 'format': 1799, 'prove': 3445, 'reviewer': 3677, 'millions': 2848, 'incomprehensible': 2267, '2003': 33, 'quotes': 3497, 'paris': 3189, 'wasting': 4810, 'hours': 2177, 'clichés': 846, 'spending': 4106, 'segments': 3868, 'wes': 4851, 'craven': 1034, 'nick': 3012, 'cowboy': 1025, 'vampire': 4711, 'slight': 4027, 'irony': 2357, 'aged': 149, 'underlying': 4641, 'uninspired': 4657, 'cameos': 658, 'supporting': 4304, 'tony': 4521, 'melodramatic': 2798, 'brutal': 603, 'notable': 3041, 'likable': 2598, 'current': 1084, 'carefully': 689, 'persona': 3239, 'ass': 323, 'thugs': 4484, 'practically': 3362, 'ambitious': 211, '1973': 19, 'coherent': 871, 'bang': 393, 'satan': 3787, 'tomatoes': 4515, 'gratuitous': 1961, 'partner': 3198, 'dying': 1393, 'hospital': 2172, 'grave': 1962, 'revealed': 3671, 'nightmares': 3015, 'paced': 3162, 'nail': 2957, 'gritty': 1977, 'captures': 678, 'newly': 3004, 'romance': 3732, 'spoil': 4121, 'logical': 2639, 'notch': 3043, 'darkness': 1117, 'miles': 2843, '11': 2, 'wayne': 4821, 'appeal': 271, 'glimpse': 1919, 'admit': 122, 'grows': 1985, 'adults': 126, 'include': 2261, 'charlie': 765, 'brown': 601, 'wake': 4774, 'gag': 1861, 'wonderfully': 4929, 'kenneth': 2455, 'branagh': 564, 'chosen': 805, 'hamlet': 2013, 'liking': 2604, 'repeatedly': 3632, 'compelling': 916, 'deep': 1154, 'repeat': 3630, 'cardboard': 682, 'obnoxious': 3067, '70': 55, 'eat': 1411, 'mouth': 2920, 'countless': 1012, 'suspenseful': 4331, 'nights': 3016, 'abc': 63, 'miller': 2846, 'contract': 973, 'jackie': 2374, 'ralph': 3510, 'ancient': 225, 'sum': 4289, 'co': 867, 'genres': 1889, 'juvenile': 2441, 'legal': 2563, 'system': 4345, 'ease': 1404, 'drugs': 1374, 'speech': 4102, 'worn': 4948, 'marriage': 2743, 'potentially': 3356, 'happiness': 2031, 'circumstances': 822, 'chances': 748, 'equivalent': 1512, 'snow': 4045, 'bomb': 531, 'stock': 4193, 'thin': 4449, 'jail': 2376, '1970s': 17, 'creature': 1045, 'channels': 754, 'dozen': 1338, 'field': 1704, 'monster': 2892, 'suit': 4284, 'captured': 677, 'tied': 4489, 'professor': 3422, 'von': 4765, 'bucks': 606, 'imagined': 2239, 'restored': 3659, 'memory': 2804, 'murder': 2939, 'imagery': 2234, 'progress': 3425, 'alien': 183, 'blob': 507, 'nasty': 2968, 'cameras': 660, 'button': 639, 'ed': 1415, 'contrived': 976, 'explains': 1589, 'dinosaur': 1255, 'evidence': 1546, 'experiences': 1582, 'strangers': 4214, 'bizarre': 492, 'ya': 4976, 'forms': 1801, 'model': 2880, 'dragged': 1343, 'fully': 1847, 'pair': 3176, 'lovable': 2668, 'beloved': 461, 'affected': 137, 'appropriate': 283, 'powerful': 3360, 'serves': 3895, 'threw': 4470, 'wing': 4896, 'via': 4726, 'western': 4853, 'hat': 2045, 'dangerous': 1110, 'student': 4238, 'corny': 997, 'itll': 2369, 'bring': 585, 'memories': 2803, 'murders': 2943, 'remain': 3609, 'murdered': 2940, 'julie': 2428, 'patient': 3211, 'offended': 3085, 'secrets': 3852, 'arrival': 299, 'mario': 2738, 'doomed': 1327, 'candy': 668, 'mentioning': 2812, 'research': 3644, 'suited': 4286, 'ninja': 3018, 'skill': 4013, 'killers': 2471, 'briefly': 580, 'franco': 1820, 'curiosity': 1082, 'cutting': 1092, 'buck': 605, 'del': 1165, '2nd': 41, 'brave': 567, 'tag': 4348, 'ripped': 3701, 'remotely': 3623, 'safe': 3771, 'gain': 1863, 'population': 3335, 'aid': 160, 'planet': 3289, 'forgot': 1796, 'menace': 2806, 'masses': 2755, 'physically': 3263, 'melodrama': 2797, 'nature': 2975, 'richardson': 3688, 'raymond': 3534, 'convincingly': 986, 'kingdom': 2480, 'presumably': 3380, 'england': 1482, 'religious': 3608, 'raise': 3507, 'concerning': 933, 'nuclear': 3057, 'independent': 2272, 'nation': 2969, 'vision': 4754, 'necessary': 2984, 'tends': 4402, 'eyed': 1612, 'explored': 1595, 'shall': 3916, 'mixture': 2878, 'undoubtedly': 4648, 'extraordinary': 1607, 'resources': 3651, 'technology': 4385, 'consistently': 954, 'powell': 3358, 'task': 4368, 'wells': 4845, 'witnessed': 4915, 'combined': 885, 'listening': 2620, 'buying': 641, 'household': 2179, 'denzel': 1181, 'washington': 4806, 'minded': 2850, 'bond': 532, 'kidnapped': 2466, 'notorious': 3051, 'gangsters': 1869, 'pursuit': 3476, 'walken': 4777, 'agent': 150, 'meeting': 2794, 'wound': 4960, 'seventies': 3904, 'fond': 1776, 'officer': 3092, 'pitt': 3280, 'lees': 2560, 'titled': 4505, 'builds': 617, 'creates': 1038, 'incredibly': 2270, 'favourite': 1673, 'museum': 2945, 'relies': 3606, 'joined': 2413, 'rogers': 3725, 'horrors': 2169, 'lesser': 2576, 'horrifying': 2167, 'achieved': 93, 'continues': 971, 'legendary': 2565, 'guessing': 1991, 'card': 681, 'chest': 784, 'superbly': 4297, 'latest': 2526, 'naturally': 2974, 'tales': 4357, 'sinister': 3998, 'dracula': 1341, 'worthy': 4956, '1950s': 14, 'hopefully': 2157, 'portraying': 3343, 'tribute': 4581, 'tiny': 4500, 'clothing': 861, 'boredom': 542, 'state': 4160, 'physical': 3262, 'blank': 501, 'expression': 1602, 'grey': 1973, 'mundane': 2938, 'row': 3744, 'freedom': 1828, 'unusual': 4681, 'bleak': 503, 'learning': 2552, 'steps': 4177, 'anger': 235, 'technically': 4382, 'challenging': 744, 'germany': 1898, 'uncle': 4636, 'train': 4556, 'travels': 4569, 'nazi': 2977, 'suffering': 4277, 'europe': 1529, 'issues': 2365, 'survivors': 4325, 'heroes': 2089, 'catching': 716, 'touched': 4534, 'surviving': 4323, 'weeks': 4839, 'behave': 445, 'equipment': 1511, 'race': 3499, 'survived': 4322, 'soul': 4079, 'abilities': 64, 'arrogant': 303, 'kirk': 2482, 'range': 3516, 'suits': 4287, 'south': 4087, 'racist': 3503, 'attitudes': 347, 'disease': 1285, 'views': 4742, 'conversations': 981, 'fare': 1655, 'timing': 4498, 'murderous': 2942, 'incident': 2260, 'draw': 1349, 'ordinary': 3128, 'larry': 2520, 'mixed': 2877, 'jon': 2416, 'linda': 2609, 'caine': 647, 'lesson': 2577, 'hitting': 2126, 'photography': 3260, 'dated': 1119, 'mickey': 2831, 'twisted': 4618, 'poignant': 3315, 'musicals': 2948, 'includes': 2263, 'starred': 4153, 'tommy': 4516, 'tune': 4602, 'ann': 244, 'choreographed': 801, 'kim': 2475, 'george': 1893, 'stole': 4194, 'delightful': 1168, 'deserved': 1200, 'importance': 2246, 'behavior': 446, 'sloppy': 4030, '45': 50, 'brief': 579, 'erotic': 1515, 'equal': 1509, 'tim': 4494, 'merit': 2816, 'nude': 3058, 'transition': 4561, 'spread': 4133, 'furthermore': 1854, 'unnecessary': 4672, 'added': 116, 'meat': 2787, 'thoughtful': 4463, 'fatal': 1664, 'damage': 1099, 'isolated': 2363, 'sexually': 3910, 'packed': 3166, 'stale': 4141, 'scientist': 3818, 'rural': 3758, 'lab': 2501, 'wooden': 4934, 'adding': 117, 'prefer': 3368, 'available': 361, 'commercials': 903, 'charge': 761, 'metal': 2823, 'jobs': 2406, 'combine': 884, 'disjointed': 1287, 'frustration': 1843, 'grandfather': 1954, 'aunt': 355, 'conflicts': 940, 'allowing': 191, 'river': 3707, 'fish': 1738, 'painful': 3171, 'position': 3345, 'disappear': 1270, 'korean': 2495, 'asian': 314, 'understood': 4647, 'initial': 2290, 'funeral': 1849, 'raised': 3508, 'odds': 3082, 'harder': 2035, 'dislike': 1288, 'youd': 4987, 'comment': 898, 'rise': 3702, 'greater': 1965, 'page': 3167, 'solution': 4059, 'breath': 573, 'grant': 1956, 'mitchell': 2875, 'gene': 1879, 'warner': 4799, 'virginia': 4750, 'satisfy': 3790, 'hyde': 2206, 'warren': 4801, 'exciting': 1563, 'humanity': 2189, 'bus': 631, 'essential': 1522, 'exist': 1569, 'claim': 828, 'expert': 1585, 'whale': 4857, 'mate': 2765, 'unbelievable': 4634, 'bits': 490, 'overwhelming': 3157, 'emphasis': 1463, 'community': 908, 'financial': 1725, 'hopes': 2159, 'greed': 1968, 'philosophy': 3254, 'composed': 926, 'floating': 1758, 'green': 1971, 'smoke': 4039, 'whilst': 4869, 'charm': 767, 'nonsense': 3030, 'hunters': 2200, 'waters': 4817, 'birthday': 487, 'loves': 2674, 'taylor': 4372, 'starring': 4154, 'da': 1094, 'serving': 3897, 'intrigued': 2334, 'pulls': 3464, 'directions': 1262, '1984': 23, 'rendition': 3625, 'breasts': 572, 'attractive': 351, 'rank': 3518, 'met': 2822, 'players': 3299, 'depicts': 1186, 'bag': 384, 'kicks': 2463, 'closer': 856, 'slightest': 4028, 'ourselves': 3140, 'neo': 2998, 'persons': 3244, 'dignity': 1252, 'carried': 698, 'daily': 1097, 'ego': 1435, 'centers': 734, 'everyday': 1541, 'smoking': 4040, 'staying': 4168, 'significant': 3972, 'twins': 4616, 'sick': 3963, 'maria': 2736, 'busy': 635, 'survival': 4320, 'projects': 3428, 'conversation': 980, 'remarks': 3615, 'heat': 2067, 'responsibility': 3655, 'lie': 2590, 'restaurant': 3658, 'hitler': 2124, 'wears': 4832, 'signed': 3971, 'central': 735, 'ruins': 3752, 'perfection': 3225, 'rolled': 3729, 'park': 3190, 'opinions': 3119, 'hart': 2041, 'australia': 356, 'blow': 514, 'modesty': 2883, 'cared': 685, 'novels': 3053, 'succeed': 4262, 'further': 1853, 'hence': 2083, 'fever': 1699, 'believing': 457, 'curse': 1086, 'drew': 1360, 'thoughts': 4464, 'caring': 691, 'downright': 1337, 'balance': 387, 'sports': 4130, 'gift': 1906, 'closet': 858, 'credible': 1048, 'alike': 185, 'somebody': 4062, 'press': 3379, 'pacino': 3164, 'canada': 666, 'molly': 2884, 'joseph': 2419, 'screenwriter': 3833, 'surface': 4310, 'recognition': 3568, 'revolves': 3682, 'successfully': 4267, 'dig': 1250, 'relate': 3593, 'fallen': 1638, 'pieces': 3273, 'wreck': 4965, 'cars': 702, 'robbery': 3711, 'warned': 4798, 'punishment': 3467, 'examples': 1554, 'burned': 626, 'letter': 2581, 'perform': 3227, 'heston': 2094, 'apes': 267, 'conspiracy': 956, 'demands': 1175, 'civilization': 827, '1972': 18, 'robinson': 3716, 'americas': 215, 'sport': 4129, 'christ': 807, 'disturbing': 1300, 'coach': 868, 'rain': 3506, 'receive': 3563, 'kick': 2460, 'bush': 632, 'convinced': 984, 'east': 1407, 'vs': 4767, 'fields': 1705, 'catherine': 719, 'nonetheless': 3029, 'naive': 2958, 'sides': 3967, 'mentally': 2809, 'retarded': 3663, 'nervous': 2999, 'troubles': 4594, 'contrary': 974, 'pages': 3168, 'adequate': 120, 'spite': 4117, 'maggie': 2702, 'abusive': 75, 'jerk': 2395, 'eve': 1532, 'wall': 4781, 'mall': 2720, 'spot': 4131, 'selfish': 3870, 'yelling': 4980, 'brains': 563, 'jumps': 2432, 'hop': 2154, 'wit': 4908, 'weapons': 4829, 'performs': 3234, 'string': 4227, 'detective': 1220, 'refuses': 3587, 'returning': 3667, 'victims': 4730, 'crimes': 1056, 'suspicious': 4332, 'rush': 3759, 'bathroom': 412, '1933': 12, 'overrated': 3156, 'thick': 4447, 'soft': 4051, 'sink': 3999, 'teeth': 4393, 'chasing': 772, 'intentionally': 2320, 'alan': 171, 'niro': 3019, 'appalling': 268, 'kubrick': 2496, 'ought': 3138, 'elsewhere': 1449, 'meaningful': 2781, 'church': 813, 'difference': 1246, 'pot': 3354, 'mighty': 2836, 'produce': 3413, 'flight': 1757, 'mission': 2870, 'pack': 3165, 'claire': 831, 'companion': 909, 'fest': 1696, 'bela': 450, 'lugosi': 2686, 'bette': 471, 'adult': 125, 'appreciation': 281, 'blame': 499, 'stones': 4198, 'grew': 1972, 'jim': 2402, 'wolf': 4920, 'believed': 455, 'ludicrous': 2685, 'swear': 4334, 'rob': 3710, 'diamond': 1236, 'theory': 4437, 'cabin': 643, 'connect': 944, 'analysis': 224, 'support': 4303, 'hammer': 2014, 'theyll': 4444, 'mountains': 2918, 'nicholas': 3010, 'dennis': 1179, 'hopper': 2161, 'flynn': 1765, 'cliche': 843, 'superficial': 4298, 'iron': 2354, 'cgi': 740, '60': 53, 'chapter': 757, 'topic': 4526, 'prize': 3405, 'acid': 95, 'absolute': 71, 'inventive': 2341, 'attacked': 338, 'demons': 1178, 'demon': 1177, 'covers': 1024, 'failing': 1627, 'hitchcock': 2123, 'chaplin': 756, 'driven': 1365, 'mafia': 2700, 'spielberg': 4110, 'welles': 4844, 'executed': 1565, 'private': 3404, 'needless': 2989, 'jaw': 2384, 'dropping': 1371, 'teachers': 4376, 'push': 3477, 'un': 4630, 'command': 897, 'confidence': 938, 'rage': 3505, 'lower': 2677, 'couldve': 1009, 'hates': 2048, 'unhappy': 4656, 'military': 2844, 'thrillers': 4473, 'pleasant': 3302, 'hooked': 2153, 'thrilling': 4474, 'spider': 4109, 'sun': 4292, 'aging': 153, 'incoherent': 2265, 'sean': 3840, 'matt': 2768, 'generic': 1885, 'causing': 726, 'cares': 690, 'thru': 4483, 'dynamic': 1394, 'aint': 163, 'offensive': 3086, 'stereotype': 4178, 'belong': 459, 'texas': 4418, 'tender': 4401, 'understated': 4646, 'jamie': 2379, 'curtis': 1087, 'oscars': 3134, 'slave': 4022, 'cameron': 661, 'occurs': 3078, 'artists': 309, 'land': 2511, 'sacrifice': 3766, 'dinner': 1254, 'homer': 2144, 'challenge': 743, 'soviet': 4089, 'rocket': 3721, 'university': 4667, '1960s': 15, 'tremendous': 4579, 'returns': 3668, 'presents': 3377, 'mars': 2746, 'excessive': 1560, 'attraction': 350, 'glory': 1922, 'pleased': 3305, 'con': 928, 'selling': 3873, 'heroic': 2090, 'hint': 2112, 'santa': 3783, 'president': 3378, 'mexico': 2827, 'americans': 214, 'settle': 3902, 'mexican': 2826, 'limits': 2607, 'tooth': 4524, 'california': 650, 'campbell': 663, 'property': 3438, 'holiday': 2134, 'pamela': 3179, 'emma': 1457, 'worried': 4949, 'introduces': 2338, 'purely': 3472, 'reasonably': 3559, 'everywhere': 1545, 'fights': 1710, 'li': 2587, 'arm': 292, 'complaint': 920, 'elaborate': 1439, 'base': 402, 'steal': 4170, 'nearby': 2980, 'infamous': 2284, 'repetitive': 3633, 'touches': 4535, 'pop': 3330, 'dutch': 1389, 'hall': 2009, 'murderer': 2941, 'suggested': 4281, 'established': 1524, 'nurse': 3063, 'saves': 3796, 'beaten': 424, 'fury': 1855, 'orange': 3125, 'doctors': 1305, 'bullets': 621, '80': 58, 'catchy': 717, 'clown': 862, 'kennedy': 2454, 'endure': 1475, 'crush': 1072, 'learned': 2551, 'devoted': 1231, 'efforts': 1433, 'superman': 4301, 'corrupt': 1001, 'borrowed': 545, 'influence': 2286, 'recognize': 3569, 'et': 1526, 'doc': 1303, 'worlds': 4947, 'winters': 4901, 'decisions': 1152, 'arrived': 301, 'drop': 1369, 'warn': 4797, 'scenery': 3810, 'pants': 3182, 'scarecrow': 3804, 'kong': 2494, 'lion': 2614, 'anybody': 257, 'phony': 3256, 'cry': 1073, 'extra': 1606, 'health': 2060, 'crisis': 1060, 'moon': 2900, 'painted': 3174, 'disappointing': 1274, 'swimming': 4338, 'trip': 4588, 'beach': 419, 'rising': 3703, 'stanwyck': 4149, 'price': 3389, 'explosions': 1597, 'relations': 3596, 'jake': 2377, 'virgin': 4749, 'sleeping': 4025, 'cure': 1081, 'myers': 2952, 'ham': 2011, 'eddie': 1416, 'murphy': 2944, 'tracy': 4546, 'morgan': 2905, 'discussion': 1284, 'letting': 2583, 'sitcom': 4004, 'seasons': 3844, 'closely': 855, 'movements': 2924, 'accomplished': 87, 'tad': 4347, 'freak': 1824, 'dreadful': 1353, 'surely': 4309, 'revolution': 3680, 'lessons': 2578, 'introduce': 2336, 'jr': 2423, 'native': 2972, 'useless': 4695, 'construction': 960, 'commit': 904, 'scores': 3823, 'danes': 1108, 'hong': 2149, 'carrying': 701, '18': 10, 'developing': 1224, 'hank': 2024, 'ties': 4490, 'ethan': 1528, 'investigate': 2342, 'illness': 2230, 'sarah': 3785, 'los': 2653, 'angeles': 233, 'cg': 739, 'indian': 2274, 'cook': 988, 'nominated': 3025, 'moody': 2899, 'shines': 3932, 'nancy': 2964, 'thankfully': 4422, 'lol': 2640, 'wild': 4885, 'dickens': 1240, 'news': 3005, 'plant': 3293, 'photos': 3261, 'embarrassment': 1455, 'mile': 2842, 'turner': 4607, 'helped': 2080, 'africa': 141, 'possibilities': 3348, 'chicago': 785, 'gangster': 1868, '2006': 36, 'dramas': 1347, 'opera': 3116, 'considerable': 950, 'gender': 1878, 'dolls': 1316, 'traveling': 4568, 'politically': 3325, 'cup': 1080, 'jesus': 2399, 'improved': 2255, 'extent': 1605, 'franchise': 1817, 'danger': 1109, 'excitement': 1562, 'enterprise': 1495, 'sea': 3838, 'pulp': 3465, 'perry': 3237, 'blake': 498, 'mans': 2730, 'brooks': 596, 'killings': 2473, 'vegas': 4717, 'personalities': 3241, 'complexity': 924, 'slick': 4026, 'oddly': 3081, 'saga': 3773, 'incompetent': 2266, 'dogs': 1311, 'reference': 3582, 'multiple': 2936, 'watches': 4814, 'distance': 1294, 'biggest': 480, 'survive': 4321, 'intention': 2319, 'taxi': 4371, 'dollar': 1314, 'bite': 489, 'spoof': 4127, 'careers': 687, 'flash': 1745, 'shell': 3927, 'discuss': 1283, 'hed': 2072, 'abysmal': 76, 'harvey': 2042, 'bonus': 534, 'search': 3841, 'dialogues': 1235, 'dean': 1139, 'quit': 3494, 'stinks': 4192, 'ah': 158, 'intrigue': 2333, 'jumping': 2431, 'shoots': 3944, 'foster': 1809, 'sadness': 3770, 'stanley': 4148, 'cash': 709, 'arthur': 305, 'rubber': 3747, 'entertained': 1498, 'spell': 4104, 'currently': 1085, 'countryside': 1015, 'lena': 2568, 'pink': 3277, 'evident': 1547, 'sixties': 4011, 'eighties': 1437, 'bettie': 473, 'sexuality': 3909, 'mirror': 2861, 'hbo': 2055, 'gifted': 1907, 'betty': 474, 'martin': 2748, 'lawrence': 2539, 'comedian': 887, 'severe': 3906, 'manager': 2724, 'protagonist': 3441, 'resembles': 3646, 'cruise': 1071, 'gods': 1928, 'ruthless': 3764, 'encounters': 1467, 'brooklyn': 595, 'worker': 4942, 'motivation': 2914, 'win': 4892, 'beatty': 427, 'stretch': 4221, 'image': 2233, 'butler': 637, 'lyrics': 2692, 'duty': 1390, 'executive': 1567, 'wealth': 4826, 'sally': 3776, 'blew': 505, 'rex': 3683, 'issue': 2364, 'bears': 421, 'mysteries': 2954, 'defend': 1158, 'helen': 2075, 'steven': 4182, 'expressions': 1603, 'creators': 1044, 'mindless': 2851, 'hanging': 2023, 'cried': 1054, 'hints': 2113, 'depiction': 1185, 'max': 2774, 'vivid': 4760, 'failure': 1629, 'fortune': 1806, 'wives': 4918, 'overly': 3155, 'dorothy': 1330, 'carol': 693, 'roman': 3731, 'instant': 2305, 'cheated': 775, 'gradually': 1952, 'sheriff': 3929, 'insulting': 2310, 'activities': 102, 'walter': 4784, 'burt': 629, 'everyones': 1543, 'claims': 830, 'wounded': 4961, 'backdrop': 379, 'confusion': 943, 'theatrical': 4430, 'shortly': 3947, 'wwii': 4975, 'leo': 2571, 'calm': 655, 'guest': 1992, 'criminal': 1057, 'element': 1442, 'frame': 1815, 'noir': 3023, 'broadcast': 591, 'partly': 3197, 'reaching': 3539, 'presentation': 3375, 'finger': 1731, 'errors': 1516, '1990s': 25, 'sappy': 3784, 'exists': 1573, 'discovery': 1282, 'driver': 1366, 'advice': 133, 'homeless': 2143, 'glover': 1923, 'involves': 2348, 'gabriel': 1859, 'enjoying': 1487, 'poverty': 3357, 'depressing': 1188, 'letters': 2582, 'eva': 1531, 'hardy': 2037, 'inspector': 2299, 'matches': 2764, 'access': 83, 'troubled': 4593, 'brilliance': 582, 'talking': 4360, 'bakshi': 386, 'rings': 3699, 'nicholson': 3011, 'urge': 4689, 'basketball': 409, 'karen': 2444, 'afternoon': 144, 'wave': 4818, 'polished': 3323, 'outrageous': 3145, 'stylish': 4251, 'definite': 1161, 'monk': 2889, 'alfred': 181, 'backgrounds': 381, 'pool': 3327, 'trademark': 4548, 'hiding': 2099, 'admire': 121, '2002': 32, 'thumbs': 4485, 'believes': 456, 'columbo': 881, 'enters': 1496, 'suspects': 4328, 'tall': 4362, 'frequent': 1831, 'lucy': 2684, 'neil': 2995, 'eccentric': 1414, 'insane': 2296, 'test': 4416, 'sunshine': 4294, 'montana': 2895, 'photographed': 3258, 'closed': 854, 'spanish': 4092, 'mill': 2845, 'utter': 4701, 'terror': 4412, 'wacky': 4769, 'uneven': 4649, 'winner': 4897, 'tarzan': 4367, 'noble': 3021, 'savage': 3793, 'realizing': 3555, 'department': 1182, 'code': 869, 'swim': 4337, 'jungle': 2434, 'veteran': 4724, 'crack': 1027, 'hideous': 2098, 'racial': 3501, '30s': 44, 'bo': 521, 'johnny': 2410, 'condition': 937, 'triumph': 4590, 'khan': 2459, 'marry': 2745, 'agrees': 157, 'cringe': 1059, 'stinker': 4191, 'turkey': 4604, 'carries': 699, 'indie': 2276, 'freeman': 1829, 'unbearable': 4633, 'poetic': 3313, 'citizen': 824, 'walls': 4783, 'soap': 4047, 'brad': 560, 'trees': 4577, 'hurts': 2203, 'rule': 3753, 'investigation': 2343, 'combination': 883, 'carl': 692, 'chorus': 803, 'donald': 1321, 'dedicated': 1153, 'countries': 1013, 'jumped': 2430, 'streep': 4215, 'complicated': 925, 'shakespeare': 3915, 'union': 4661, 'rotten': 3740, 'awards': 367, 'earned': 1401, 'producing': 3417, 'colorful': 878, 'compelled': 915, 'officers': 3093, 'basis': 408, 'fox': 1814, 'productions': 3420, 'childhood': 790, 'jet': 2400, 'unforgettable': 4652, 'deaf': 1134, 'cynical': 1093, 'studios': 4241, 'report': 3635, 'drops': 1372, 'sons': 4073, 'walked': 4776, 'captivating': 675, 'methods': 2825, 'loyal': 2679, 'complain': 919, 'tight': 4492, 'hatred': 2049, 'panic': 3181, 'cox': 1026, 'sophisticated': 4075, 'stayed': 4167, 'australian': 357, 'landing': 2512, 'titanic': 4503, 'formulaic': 1803, 'diane': 1238, 'abuse': 74, 'shark': 3921, 'guard': 1988, 'handle': 2018, 'butt': 638, 'opposed': 3122, 'broad': 590, 'abraham': 69, 'akshay': 169, 'capital': 673, 'hippie': 2115, 'sorts': 4078, 'tape': 4365, 'vice': 4727, 'scripted': 3835, 'models': 2881, 'till': 4493, 'grandmother': 1955, 'tiger': 4491, 'witches': 4910, 'carrie': 697, 'focused': 1767, 'stan': 4142, 'unseen': 4678, 'vicious': 4728, 'prevent': 3385, 'werewolf': 4850, 'elegant': 1441, 'adorable': 124, 'widow': 4883, 'bold': 528, 'explicit': 1591, 'folk': 1770, 'latin': 2527, 'mass': 2753, 'propaganda': 3435, 'doom': 1326, 'chan': 746, 'kane': 2442, 'orson': 3132, 'daniel': 1111, 'hoffman': 2128, 'capture': 676, 'subtlety': 4261, 'displayed': 1292, 'frankenstein': 1822, 'peters': 3248, 'offering': 3089, 'trained': 4557, 'brenda': 575, 'cliff': 847, 'temple': 4398, 'threatening': 4468, 'returned': 3666, 'tunes': 4603, 'pearl': 3220, 'reaches': 3538, 'battles': 415, 'noise': 3024, 'gorgeous': 1942, 'russian': 3762, 'trailers': 4555, 'ho': 2127, 'walker': 4778, 'smaller': 4034, 'hudson': 2184, 'redemption': 3578, 'farce': 1654, 'fisher': 1739, 'suffered': 4276, 'bollywood': 530, 'match': 2762, 'purchase': 3469, 'worthwhile': 4955, 'hype': 2207, 'lily': 2605, 'enormous': 1490, 'florida': 1761, 'involvement': 2347, 'mst3k': 2932, 'improvement': 2256, 'angela': 232, 'eight': 1436, 'digital': 1251, 'kings': 2481, 'plight': 3308, 'ward': 4793, 'reynolds': 3684, 'chain': 741, 'dressing': 1359, 'anderson': 227, 'stunts': 4246, 'despair': 1207, 'liberal': 2588, 'arrested': 298, 'neat': 2982, 'brand': 565, 'ability': 65, 'trite': 4589, 'appreciated': 280, 'sid': 3964, 'voiced': 4762, 'sentimental': 3882, 'proof': 3434, 'duo': 1386, 'struggles': 4235, 'favorites': 1672, 'masterful': 2758, 'familys': 1646, 'record': 3573, 'unlikely': 4671, 'waitress': 4773, 'louise': 2666, 'switch': 4339, 'universal': 4665, 'poetry': 3314, 'exposed': 1598, 'thrills': 4475, 'desert': 1198, 'storm': 4206, 'attracted': 349, 'lousy': 2667, 'pregnant': 3369, 'stiller': 4189, 'morality': 2903, 'pit': 3278, 'bone': 533, 'solo': 4058, '25': 40, 'davis': 1126, 'phantom': 3251, 'neighborhood': 2993, 'thief': 4448, 'elm': 1447, 'groups': 1981, 'hunting': 2201, 'hunter': 2199, 'torn': 4528, 'foul': 1810, 'shake': 3914, 'matched': 2763, 'valley': 4707, 'wholly': 4874, 'satisfying': 3791, 'brady': 561, 'susan': 4326, 'ring': 3698, 'rid': 3690, 'sensitive': 3879, 'racism': 3502, 'ridiculously': 3694, 'overlook': 3153, 'woody': 4936, 'writes': 4970, 'defense': 1159, 'nazis': 2978, 'trail': 4553, 'forty': 1807, 'generations': 1884, 'spring': 4134, 'winter': 4900, 'hugh': 2186, 'noted': 3045, 'chaos': 755, 'inner': 2292, 'skin': 4015, 'helping': 2081, 'wonders': 4931, 'portion': 3338, 'consistent': 953, 'amazed': 208, 'techniques': 4384, '3d': 46, 'faced': 1617, 'ocean': 3079, 'gary': 1873, 'prisoner': 3402, 'escaped': 1518, 'mechanical': 2788, 'distracting': 1297, 'facial': 1619, 'caliber': 649, 'blend': 504, 'beliefs': 452, 'understandable': 4644, 'online': 3109, 'reflect': 3584, 'forest': 1791, 'rangers': 3517, 'stretched': 4222, 'border': 539, 'prisoners': 3403, 'babe': 375, 'lincoln': 2608, 'cary': 706, 'inappropriate': 2259, 'facing': 1620, 'frightening': 1839, 'signs': 3973, 'disneys': 1290, 'safety': 3772, 'inevitable': 2282, 'target': 4366, 'suffer': 4275, 'popcorn': 3331, 'mummy': 2937, 'mothers': 2912, 'lay': 2542, 'defined': 1160, 'satisfied': 3789, 'angle': 236, 'awe': 370, 'helicopter': 2076, 'kay': 2447, 'beating': 425, 'flashback': 1746, 'underrated': 4642, 'beats': 426, 'laurel': 2537, 'gripping': 1976, 'scheme': 3812, 'pays': 3218, 'stated': 4161, 'michelle': 2830, 'loser': 2655, 'promises': 3432, 'newspaper': 3006, 'olivier': 3103, 'vincent': 4746, 'elizabeth': 1445, 'ships': 3935, 'empire': 1464, 'anne': 246, 'blade': 495, 'tortured': 4530, 'entertain': 1497, 'poem': 3312, 'represented': 3638, 'stooges': 4200, 'maker': 2714, 'pet': 3246, 'elephant': 1444, 'useful': 4694, 'tie': 4488, '1968': 16, 'nyc': 3065, 'detailed': 1218, 'divorce': 1301, 'nonsensical': 3031, 'creep': 1051, 'admittedly': 123, 'distant': 1295, 'merits': 2817, 'dinosaurs': 1256, 'unbelievably': 4635, 'goodness': 1938, 'assault': 324, 'landscape': 2513, 'doubts': 1333, 'nomination': 3026, 'photographer': 3259, 'robots': 3718, 'mountain': 2917, 'experiments': 1584, 'sutherland': 4333, 'brando': 566, 'ps': 3453, 'showcase': 3954, 'india': 2273, 'macy': 2695, 'altogether': 202, 'mann': 2728, 'patrick': 3213, 'holly': 2136, 'outfit': 3144, 'removed': 3624, 'soccer': 4048, 'depression': 1189, '1990': 24, 'catholic': 720, 'authority': 360, 'enemies': 1476, 'choreography': 802, 'stronger': 4230, 'blacks': 494, 'laughably': 2531, 'combat': 882, 'bourne': 554, 'vengeance': 4719, 'flawless': 1751, 'unoriginal': 4673, 'reflection': 3585, 'centered': 733, 'adapted': 114, 'saturday': 3792, 'massacre': 2754, 'glenn': 1918, 'marketing': 2741, 'serve': 3893, 'gags': 1862, 'domino': 1319, 'ginger': 1908, 'escapes': 1519, 'exceptionally': 1559, 'roberts': 3714, 'eastern': 1408, 'godfather': 1927, 'arguably': 289, 'junior': 2435, 'desperation': 1210, 'annie': 247, 'profound': 3423, 'magnificent': 2705, 'bridge': 578, 'berlin': 467, 'manhattan': 2726, 'laws': 2540, 'assistant': 326, 'evening': 1534, 'ear': 1397, 'wet': 4855, 'visits': 4756, 'relative': 3599, 'ritter': 3705, 'editor': 1423, 'treated': 4573, 'tense': 4403, 'stood': 4199, 'rap': 3520, 'stevens': 4183, 'francisco': 1819, 'wizard': 4919, 'oz': 3160, 'demand': 1174, 'scenario': 3808, 'bull': 619, 'improve': 2254, 'styles': 4250, 'creativity': 1042, 'darker': 1116, '1983': 22, 'planned': 3290, 'purple': 3473, 'interaction': 2322, 'attempted': 341, 'defeat': 1157, 'rambo': 3511, 'larger': 2519, 'risk': 3704, 'mentions': 2813, 'messed': 2821, 'wrestling': 4966, 'hysterical': 2208, 'matthau': 2771, 'irish': 2353, 'march': 2734, 'wishes': 4906, 'ratings': 3530, 'horrific': 2166, 'madonna': 2699, 'francis': 1818, 'sinatra': 3989, 'staff': 4138, 'account': 89, 'strike': 4224, 'recording': 3575, 'splendid': 4119, 'unsettling': 4679, 'smooth': 4041, 'tricks': 4583, 'impress': 2250, 'reads': 3545, 'comfortable': 892, 'damon': 1101, 'kitchen': 2485, 'crocodile': 1065, 'jaws': 2385, 'troops': 4591, 'proceedings': 3410, 'melting': 2799, 'cards': 683, 'rats': 3531, 'brutally': 604, 'glorious': 1921, 'rat': 3525, 'seed': 3856, 'forbidden': 1785, 'climactic': 848, 'petty': 3249, 'directs': 1267, 'size': 4012, 'fetched': 1698, 'jesse': 2397, 'andrews': 229, '2000': 30, 'providing': 3451, 'insult': 2309, 'jenny': 2393, 'richards': 3687, 'airplane': 166, 'loosely': 2651, 'keeping': 2450, 'forgive': 1795, 'stilted': 4190, 'fancy': 1649, 'medical': 2790, 'lips': 2615, 'grinch': 1975, 'carrey': 696, 'snl': 4044, 'cuba': 1075, 'indians': 2275, 'yesterday': 4983, 'edie': 1419, 'patients': 3212, 'wealthy': 4827, 'rachel': 3500, 'april': 284, 'cagney': 646, 'fooled': 1780, 'elderly': 1440, 'determined': 1221, 'inevitably': 2283, 'comics': 895, 'sold': 4052, 'hills': 2109, 'sleazy': 4023, 'motives': 2916, 'shelley': 3928, 'likewise': 2603, 'rabbit': 3498, 'symbolism': 4341, 'performing': 3233, 'notably': 3042, 'delivering': 1171, 'nowadays': 3055, 'sole': 4055, 'conservative': 948, 'directorial': 1265, 'shirley': 3936, 'hearts': 2066, 'felix': 1689, 'fbi': 1675, 'boxing': 556, 'robbins': 3712, 'cousin': 1021, 'sellers': 3872, 'suspend': 4329, 'focusing': 1769, 'todd': 4510, 'enthusiasm': 1501, 'table': 4346, 'snake': 4042, 'secondly': 3847, 'che': 773, 'tree': 4576, 'explosion': 1596, 'wed': 4835, 'performer': 3231, 'leslie': 2574, 'dave': 1123, 'urban': 4688, 'coffee': 870, 'warrior': 4802, 'feed': 1683, 'awfully': 373, 'species': 4098, 'september': 3884, 'parties': 3196, 'bath': 411, 'blowing': 515, 'unit': 4663, 'cannibal': 669, 'sin': 3988, 'fictional': 1703, 'gadget': 1860, 'contest': 967, 'ashley': 313, 'education': 1424, 'chess': 783, 'teaching': 4377, 'fonda': 1777, 'lynch': 2691, 'pride': 3391, 'wisdom': 4902, 'godzilla': 1929, 'distribution': 1298, '20th': 38, 'elvis': 1451, 'paulie': 3215, 'senseless': 3878, 'gruesome': 1986, 'sullivan': 4288, 'bargain': 400, 'ballet': 389, 'upper': 4685, 'dances': 1106, 'san': 3780, 'inducing': 2279, 'burton': 630, 'territory': 4411, 'kapoor': 2443, 'critic': 1061, 'opportunities': 3120, 'deceased': 1146, 'greedy': 1969, 'marty': 2749, 'tea': 4373, 'championship': 745, 'clark': 832, 'ridden': 3691, 'staged': 4140, 'integrity': 2311, 'derek': 1192, 'leg': 2562, 'davies': 1125, 'continued': 970, 'pan': 3180, 'matthew': 2772, 'domestic': 1318, 'stress': 4220, 'mtv': 2933, 'westerns': 4854, 'valuable': 4708, 'weight': 4840, 'mansion': 2731, 'screens': 3832, 'roy': 3745, 'garden': 1872, 'mob': 2879, 'psychic': 3456, 'bell': 458, 'iran': 2350, 'illegal': 2229, 'popularity': 3334, 'gandhi': 1866, 'womens': 4924, 'gothic': 1945, 'motivations': 2915, 'eaten': 1412, 'lively': 2627, 'streisand': 4218, 'lemmon': 2567, 'females': 1694, 'concern': 931, 'amitabh': 216, 'atlantis': 332, 'spiritual': 4116, 'variety': 4714, 'spoiled': 4122, 'dolph': 1317, 'loads': 2633, 'lust': 2689, 'claimed': 829, 'stellar': 4174, 'brazil': 568, 'destroying': 1215, 'waited': 4771, 'develops': 1226, 'cinemas': 817, 'singers': 3994, 'retired': 3664, 'gundam': 1997, 'purposes': 3475, 'transformation': 4560, 'clip': 851, 'sadistic': 3768, 'mistress': 2874, 'bbc': 417, 'nations': 2971, 'bacall': 377, 'landscapes': 2514, 'dentist': 1180, 'pokemon': 3320, 'crucial': 1068, 'unaware': 4632, 'carradine': 695, 'survivor': 4324, 'miike': 2837, 'ignorant': 2223, 'amanda': 205, 'warmth': 4796, 'nostalgia': 3038, 'philip': 3252, 'mayor': 2777, 'neighbors': 2994, 'heights': 2073, 'hopeless': 2158, 'karloff': 2445, 'boom': 537, 'ireland': 2352, 'falk': 1636, 'seagal': 3839, 'demented': 1176, 'simmons': 3981, 'tons': 4520, 'gray': 1963, 'scrooge': 3837, 'mildred': 2841, 'astaire': 330, 'voight': 4764}\n"
     ]
    }
   ],
   "source": [
    "print(str(vocabulary))"
   ]
  },
  {
   "cell_type": "markdown",
   "metadata": {},
   "source": [
    "Once you have added the endpoint name to the Lambda function, click on **Save**. Your Lambda function is now up and running. Next we need to create a way for our web app to execute the Lambda function."
   ]
  },
  {
   "cell_type": "markdown",
   "metadata": {},
   "source": [
    "### Setting up API Gateway\n",
    "\n",
    "Now that our Lambda function is set up, it is time to create a new API using API Gateway that will trigger the Lambda function we have just created.\n",
    "\n",
    "Using AWS Console, navigate to **Amazon API Gateway** and then click on **Get started**.\n",
    "\n",
    "On the next page, make sure that **New API** is selected and give the new api a name, for example, `sentiment_analysis_web_app`. Then, click on **Create API**.\n",
    "\n",
    "Now we have created an API, however it doesn't currently do anything. What we want it to do is to trigger the Lambda function that we created earlier.\n",
    "\n",
    "Select the **Actions** dropdown menu and click **Create Method**. A new blank method will be created, select its dropdown menu and select **POST**, then click on the check mark beside it.\n",
    "\n",
    "For the integration point, make sure that **Lambda Function** is selected and click on the **Use Lambda Proxy integration**. This option makes sure that the data that is sent to the API is then sent directly to the Lambda function with no processing. It also means that the return value must be a proper response object as it will also not be processed by API Gateway.\n",
    "\n",
    "Type the name of the Lambda function you created earlier into the **Lambda Function** text entry box and then click on **Save**. Click on **OK** in the pop-up box that then appears, giving permission to API Gateway to invoke the Lambda function you created.\n",
    "\n",
    "The last step in creating the API Gateway is to select the **Actions** dropdown and click on **Deploy API**. You will need to create a new Deployment stage and name it anything you like, for example `prod`.\n",
    "\n",
    "You have now successfully set up a public API to access your SageMaker model. Make sure to copy or write down the URL provided to invoke your newly created public API as this will be needed in the next step. This URL can be found at the top of the page, highlighted in blue next to the text **Invoke URL**."
   ]
  },
  {
   "cell_type": "markdown",
   "metadata": {},
   "source": [
    "## Step 7: Deploying our web app\n",
    "\n",
    "Now that we have a publicly available API, we can start using it in a web app. For our purposes, we have provided a simple static html file which can make use of the public api you created earlier.\n",
    "\n",
    "In the `website` folder there should be a file called `index.html`. Download the file to your computer and open that file up in a text editor of your choice. There should be a line which contains **\\*\\*REPLACE WITH PUBLIC API URL\\*\\***. Replace this string with the url that you wrote down in the last step and then save the file.\n",
    "\n",
    "Now, if you open `index.html` on your local computer, your browser will behave as a local web server and you can use the provided site to interact with your SageMaker model.\n",
    "\n",
    "If you'd like to go further, you can host this html file anywhere you'd like, for example using github or hosting a static site on Amazon's S3. Once you have done this you can share the link with anyone you'd like and have them play with it too!\n",
    "\n",
    "> **Important Note** In order for the web app to communicate with the SageMaker endpoint, the endpoint has to actually be deployed and running. This means that you are paying for it. Make sure that the endpoint is running when you want to use the web app but that you shut it down when you don't need it, otherwise you will end up with a surprisingly large AWS bill."
   ]
  },
  {
   "cell_type": "markdown",
   "metadata": {},
   "source": [
    "### Delete the endpoint\n",
    "\n",
    "Remember to always shut down your endpoint if you are no longer using it. You are charged for the length of time that the endpoint is running so if you forget and leave it on you could end up with an unexpectedly large bill."
   ]
  },
  {
   "cell_type": "code",
   "execution_count": 50,
   "metadata": {},
   "outputs": [],
   "source": [
    "xgb_predictor.delete_endpoint()"
   ]
  },
  {
   "cell_type": "markdown",
   "metadata": {},
   "source": [
    "## Optional: Clean up\n",
    "\n",
    "The default notebook instance on SageMaker doesn't have a lot of excess disk space available. As you continue to complete and execute notebooks you will eventually fill up this disk space, leading to errors which can be difficult to diagnose. Once you are completely finished using a notebook it is a good idea to remove the files that you created along the way. Of course, you can do this from the terminal or from the notebook hub if you would like. The cell below contains some commands to clean up the created files from within the notebook."
   ]
  },
  {
   "cell_type": "code",
   "execution_count": null,
   "metadata": {},
   "outputs": [],
   "source": [
    "# First we will remove all of the files contained in the data_dir directory\n",
    "!rm $data_dir/*\n",
    "\n",
    "# And then we delete the directory itself\n",
    "!rmdir $data_dir\n",
    "\n",
    "# Similarly we remove the files in the cache_dir directory and the directory itself\n",
    "!rm $cache_dir/*\n",
    "!rmdir $cache_dir"
   ]
  },
  {
   "cell_type": "code",
   "execution_count": null,
   "metadata": {},
   "outputs": [],
   "source": []
  }
 ],
 "metadata": {
  "kernelspec": {
   "display_name": "conda_python3",
   "language": "python",
   "name": "conda_python3"
  },
  "language_info": {
   "codemirror_mode": {
    "name": "ipython",
    "version": 3
   },
   "file_extension": ".py",
   "mimetype": "text/x-python",
   "name": "python",
   "nbconvert_exporter": "python",
   "pygments_lexer": "ipython3",
   "version": "3.6.10"
  }
 },
 "nbformat": 4,
 "nbformat_minor": 4
}
