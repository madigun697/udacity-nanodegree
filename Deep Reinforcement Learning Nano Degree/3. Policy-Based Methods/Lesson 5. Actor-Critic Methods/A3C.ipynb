{
 "cells": [
  {
   "cell_type": "markdown",
   "metadata": {},
   "source": [
    "![image](https://user-images.githubusercontent.com/8471958/101298709-27848700-37e4-11eb-9163-e47e79bd08c4.png)"
   ]
  },
  {
   "cell_type": "markdown",
   "metadata": {},
   "source": [
    "- https://github.com/MorvanZhou/pytorch-A3C"
   ]
  },
  {
   "cell_type": "code",
   "execution_count": 14,
   "metadata": {},
   "outputs": [],
   "source": [
    "import gym\n",
    "import math\n",
    "import numpy as np\n",
    "from collections import namedtuple, deque\n",
    "import matplotlib.pyplot as plt\n",
    "%matplotlib inline\n",
    "\n",
    "import torch\n",
    "import torch.nn as nn\n",
    "import torch.nn.functional as F\n",
    "import torch.multiprocessing as mp\n",
    "from torch.autograd import Variable\n",
    "from torch.distributions import Categorical"
   ]
  },
  {
   "cell_type": "code",
   "execution_count": 27,
   "metadata": {},
   "outputs": [],
   "source": [
    "class A3C_Net(nn.Module):\n",
    "    def __init__(self, hidden_n, hidden_dim, activation_function='relu'):\n",
    "        super(A3C_Net, self).__init__()\n",
    "        \n",
    "        self.env = gym.make('CartPole-v0')\n",
    "        self.state_space = self.env.observation_space.shape[0]\n",
    "        self.action_space = self.env.action_space.n\n",
    "        \n",
    "        self.hidden_n = hidden_n\n",
    "        self.hidden_dim = hidden_dim\n",
    "        \n",
    "        self.activation_function = activation_function\n",
    "        if activation_function == 'relu':\n",
    "            self.activation = F.relu\n",
    "        elif activation_function == 'tanh':\n",
    "            self.activation = torch.tanh\n",
    "            \n",
    "        self.input_layer = nn.Linear(self.state_space, hidden_dim[0])\n",
    "\n",
    "        if hidden_n > 1:\n",
    "            hidden_layers = []\n",
    "            for i in range(hidden_n-1):\n",
    "                hidden_layers.append(nn.Linear(hidden_dim[i], hidden_dim[i+1]))\n",
    "            self.hidden_layers = nn.Sequential(*hidden_layers)\n",
    "\n",
    "        self.actor_layer = nn.Linear(hidden_dim[-1], self.action_space)\n",
    "        self.critic_layer = nn.Linear(hidden_dim[-1], 1)\n",
    "        \n",
    "        self.SavedAction = namedtuple('SavedAction', ['log_prob', 'exp_q'])\n",
    "        self.saved_actions, self.rewards = [], []\n",
    "        \n",
    "    def forward(self, x):\n",
    "        x = self.activation(self.input_layer(x))\n",
    "        \n",
    "        if self.hidden_n > 1:\n",
    "            for i in range(self.hidden_n-1):\n",
    "                x = self.activation(self.hidden_layers[i](x))\n",
    "        \n",
    "        action_prob = F.softmax(self.actor_layer(x), dim=-1)\n",
    "        exp_q = self.critic_layer(x)\n",
    "        \n",
    "        return action_prob, exp_q\n",
    "\n",
    "    def choose_action(self, state):\n",
    "        self.eval()\n",
    "        action_prob, exp_q = self.forward(state)\n",
    "        m = Categorical(action_prob)\n",
    "        action = m.sample()\n",
    "        self.saved_actions.append(self.SavedAction(m.log_prob(action), exp_q))\n",
    "        return action.numpy()[0]\n",
    "    \n",
    "    def loss_func(self, optimizer, global_net, done, next_state, gamma=.99):\n",
    "        R = 0 if done else self.forward(self.v_wrap(next_state[None, :]))[-1].data.numpy()[0, 0]\n",
    "        \n",
    "        # N-step Bootstrapping\n",
    "        discounted_rewards = []\n",
    "        for r in self.rewards[::-1]:\n",
    "            R = r + gamma * R\n",
    "            discounted_rewards.insert(0, R)\n",
    "            \n",
    "        discounted_rewards = self.v_wrap(np.array(discounted_rewards)[:, None])\n",
    "\n",
    "        self.train()\n",
    "        log_prob = torch.stack([sa.log_prob for sa in self.saved_actions])\n",
    "        log_prob.view(log_prob.shape[0], -1)\n",
    "        exp_q = torch.stack([sa.exp_q[0] for sa in self.saved_actions])\n",
    "        exp_q.view(exp_q.shape[0], -1)\n",
    "        \n",
    "        advantage = discounted_rewards - exp_q\n",
    "        policy_losses = F.smooth_l1_loss(exp_q, discounted_rewards)\n",
    "        value_losses = -(log_prob * advantage.detach().squeeze())\n",
    "\n",
    "        loss = policy_losses.sum() + value_losses.sum()\n",
    "            \n",
    "        # calculate local gradients and push local parameters to global\n",
    "        optimizer.zero_grad()\n",
    "        loss.backward()\n",
    "        for lp, gp in zip(self.parameters(), global_net.parameters()):\n",
    "            gp._grad = lp.grad\n",
    "        optimizer.step()\n",
    "        \n",
    "        del self.rewards[:]\n",
    "        del self.saved_actions[:]\n",
    "        \n",
    "        return global_net.state_dict()\n",
    "    \n",
    "    def v_wrap(self, np_array, dtype=np.float32):\n",
    "        if np_array.dtype != dtype:\n",
    "            np_array = np_array.astype(dtype)\n",
    "        return torch.from_numpy(np_array)    "
   ]
  },
  {
   "cell_type": "code",
   "execution_count": 33,
   "metadata": {},
   "outputs": [],
   "source": [
    "class A3C_Worker(mp.Process):\n",
    "    def __init__(self, global_net, optimizer, g_ep, g_ep_r, res_queue, worker_num, update_iter=5, MAX_EP=3000):\n",
    "        super(A3C_Worker, self).__init__()\n",
    "        \n",
    "        self.MAP_EP = MAX_EP\n",
    "        self.update_iter = update_iter\n",
    "        self.worker_name = 'Worker-%d' % worker_num\n",
    "        \n",
    "        self.global_net = global_net\n",
    "        self.optimizer = optimizer\n",
    "        \n",
    "        self.g_ep, self.g_ep_r, self.res_queue = g_ep, g_ep_r, res_queue\n",
    "        \n",
    "        self.local_net = A3C_Net(self.global_net.hidden_n, self.global_net.hidden_dim, self.global_net.activation_function)\n",
    "        self.env = gym.make('CartPole-v0')\n",
    "\n",
    "    def run(self):\n",
    "        total_step = 1\n",
    "        while self.g_ep.value < self.MAP_EP:\n",
    "            state = self.env.reset()\n",
    "            ep_r = 0.\n",
    "            while True:\n",
    "                action = self.local_net.choose_action(self.local_net.v_wrap(state[None, :]))\n",
    "                next_state, reward, done, _ = self.env.step(action)\n",
    "                if done: reward = -1\n",
    "                ep_r += reward\n",
    "                self.local_net.rewards.append(reward)\n",
    "\n",
    "                if total_step % self.update_iter == 0 or done:  # update global and assign to local net\n",
    "                    # sync\n",
    "                    self.update_global_net(done, next_state)\n",
    "\n",
    "                    if done:  # done and print information\n",
    "                        self.record(ep_r)\n",
    "                        break\n",
    "                state = next_state\n",
    "                total_step += 1\n",
    "        self.res_queue.put(None)\n",
    "\n",
    "    def update_global_net(self, done, next_state):\n",
    "        # pull global parameters\n",
    "        self.local_net.load_state_dict(self.local_net.loss_func(self.optimizer, self.global_net, done, next_state))\n",
    "\n",
    "    def record(self, ep_r):\n",
    "        with self.g_ep.get_lock():\n",
    "            self.g_ep.value += 1\n",
    "        with self.g_ep_r.get_lock():\n",
    "            if self.g_ep_r.value == 0.:\n",
    "                self.g_ep_r.value = ep_r\n",
    "            else:\n",
    "                self.g_ep_r.value = self.g_ep_r.value * 0.99 + ep_r * 0.01\n",
    "        self.res_queue.put(self.g_ep_r.value)\n",
    "        if self.g_ep.value % 100 == 0:\n",
    "            print('[%s] EP %d : %.4f' % (self.worker_name, self.g_ep.value, self.g_ep_r.value))"
   ]
  },
  {
   "cell_type": "code",
   "execution_count": 39,
   "metadata": {},
   "outputs": [],
   "source": [
    "a3c_model = A3C_Net(3, [256, 128, 64], 'tanh')\n",
    "a3c_model.share_memory()\n",
    "optimizer = torch.optim.Adam(a3c_model.parameters(), lr=1e-4, betas=(.92, .999))\n",
    "global_ep, global_ep_r, res_queue = mp.Value('i', 0), mp.Value('d', 0.), mp.Queue()"
   ]
  },
  {
   "cell_type": "code",
   "execution_count": 40,
   "metadata": {},
   "outputs": [],
   "source": [
    "# Parallel Training\n",
    "workers = [A3C_Worker(a3c_model, optimizer, global_ep, global_ep_r, res_queue, i) for i in range(mp.cpu_count())]"
   ]
  },
  {
   "cell_type": "code",
   "execution_count": 41,
   "metadata": {},
   "outputs": [
    {
     "name": "stdout",
     "output_type": "stream",
     "text": [
      "[Worker-2] EP 100 : 25.9414\n",
      "[Worker-15] EP 200 : 17.9925\n",
      "[Worker-6] EP 300 : 13.9053\n",
      "[Worker-0] EP 400 : 18.6735\n",
      "[Worker-3] EP 500 : 18.9714\n",
      "[Worker-12] EP 600 : 20.8845\n",
      "[Worker-10] EP 700 : 70.9856\n",
      "[Worker-8] EP 800 : 96.2875\n",
      "[Worker-13] EP 900 : 140.0413\n",
      "[Worker-14] EP 1000 : 168.4846\n",
      "[Worker-11] EP 1100 : 136.6451\n",
      "[Worker-3] EP 1200 : 172.6208\n",
      "[Worker-6] EP 1300 : 161.3065\n",
      "[Worker-4] EP 1400 : 132.8819\n",
      "[Worker-15] EP 1500 : 162.1434\n",
      "[Worker-15] EP 1600 : 182.4030\n",
      "[Worker-15] EP 1700 : 186.2743\n",
      "[Worker-12] EP 1800 : 156.1120\n",
      "[Worker-6] EP 1900 : 129.2857\n",
      "[Worker-4] EP 2000 : 142.3036\n",
      "[Worker-9] EP 2100 : 147.6030\n",
      "[Worker-12] EP 2200 : 169.0405\n",
      "[Worker-14] EP 2300 : 171.0870\n",
      "[Worker-9] EP 2400 : 167.0912\n",
      "[Worker-10] EP 2500 : 186.6864\n",
      "[Worker-10] EP 2600 : 193.1297\n",
      "[Worker-3] EP 2700 : 195.2348\n",
      "[Worker-1] EP 2800 : 188.5511\n",
      "[Worker-2] EP 2900 : 194.5414\n",
      "[Worker-6] EP 3000 : 196.7340\n"
     ]
    },
    {
     "data": {
      "text/plain": [
       "[None,\n",
       " None,\n",
       " None,\n",
       " None,\n",
       " None,\n",
       " None,\n",
       " None,\n",
       " None,\n",
       " None,\n",
       " None,\n",
       " None,\n",
       " None,\n",
       " None,\n",
       " None,\n",
       " None,\n",
       " None]"
      ]
     },
     "execution_count": 41,
     "metadata": {},
     "output_type": "execute_result"
    }
   ],
   "source": [
    "[w.start() for w in workers]\n",
    "res = []\n",
    "while True:\n",
    "    r = res_queue.get()\n",
    "    if r is not None:\n",
    "        res.append(r)\n",
    "    else:\n",
    "        break\n",
    "[w.join() for w in workers]"
   ]
  },
  {
   "cell_type": "code",
   "execution_count": 42,
   "metadata": {},
   "outputs": [
    {
     "data": {
      "image/png": "[encoded data removed]",
      "text/plain": [
       "<Figure size 432x288 with 1 Axes>"
      ]
     },
     "metadata": {
      "needs_background": "light"
     },
     "output_type": "display_data"
    }
   ],
   "source": [
    "import matplotlib.pyplot as plt\n",
    "plt.plot(res)\n",
    "plt.ylabel('Moving average ep reward')\n",
    "plt.xlabel('Step')\n",
    "plt.show()"
   ]
  },
  {
   "cell_type": "code",
   "execution_count": null,
   "metadata": {},
   "outputs": [],
   "source": []
  }
 ],
 "metadata": {
  "kernelspec": {
   "display_name": "Deep Reinforcement Learning",
   "language": "python",
   "name": "rl_nano"
  },
  "language_info": {
   "codemirror_mode": {
    "name": "ipython",
    "version": 3
   },
   "file_extension": ".py",
   "mimetype": "text/x-python",
   "name": "python",
   "nbconvert_exporter": "python",
   "pygments_lexer": "ipython3",
   "version": "3.6.8"
  }
 },
 "nbformat": 4,
 "nbformat_minor": 4
}
