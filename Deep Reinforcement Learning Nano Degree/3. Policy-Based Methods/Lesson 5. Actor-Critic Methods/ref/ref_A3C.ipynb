{
 "cells": [
  {
   "cell_type": "code",
   "execution_count": 8,
   "metadata": {},
   "outputs": [],
   "source": [
    "import torch\n",
    "import torch.nn as nn\n",
    "from utils import v_wrap, set_init, push_and_pull, record\n",
    "import torch.nn.functional as F\n",
    "import torch.multiprocessing as mp\n",
    "from shared_adam import SharedAdam\n",
    "import gym\n",
    "import os\n",
    "from acnet import Net, Worker"
   ]
  },
  {
   "cell_type": "code",
   "execution_count": 9,
   "metadata": {},
   "outputs": [],
   "source": [
    "os.environ[\"OMP_NUM_THREADS\"] = \"1\"\n",
    "\n",
    "UPDATE_GLOBAL_ITER = 5\n",
    "GAMMA = 0.9\n",
    "MAX_EP = 500\n",
    "\n",
    "env = gym.make('CartPole-v0')\n",
    "N_S = env.observation_space.shape[0]\n",
    "N_A = env.action_space.n"
   ]
  },
  {
   "cell_type": "code",
   "execution_count": 10,
   "metadata": {},
   "outputs": [
    {
     "name": "stdout",
     "output_type": "stream",
     "text": [
      "w10 Ep: 100 | Ep_r: 14\n",
      "w11 Ep: 200 | Ep_r: 16\n",
      "w02 Ep: 300 | Ep_r: 19\n",
      "w01 Ep: 400 | Ep_r: 19\n",
      "w02 Ep: 500 | Ep_r: 19\n",
      "w03 Ep: 600 | Ep_r: 23\n",
      "w07 Ep: 700 | Ep_r: 24\n",
      "w08 Ep: 800 | Ep_r: 25\n",
      "w15 Ep: 900 | Ep_r: 21\n",
      "w09 Ep: 1000 | Ep_r: 22\n",
      "w04 Ep: 1100 | Ep_r: 22\n",
      "w08 Ep: 1200 | Ep_r: 25\n",
      "w09 Ep: 1300 | Ep_r: 25\n",
      "w10 Ep: 1400 | Ep_r: 27\n",
      "w14 Ep: 1500 | Ep_r: 27\n",
      "w11 Ep: 1600 | Ep_r: 30\n",
      "w15 Ep: 1700 | Ep_r: 35\n",
      "w06 Ep: 1800 | Ep_r: 42\n",
      "w05 Ep: 1900 | Ep_r: 48\n",
      "w09 Ep: 2000 | Ep_r: 52\n",
      "w07 Ep: 2100 | Ep_r: 74\n",
      "w10 Ep: 2200 | Ep_r: 78\n",
      "w09 Ep: 2300 | Ep_r: 127\n",
      "w14 Ep: 2400 | Ep_r: 148\n",
      "w12 Ep: 2500 | Ep_r: 183\n",
      "w04 Ep: 2600 | Ep_r: 186\n",
      "w06 Ep: 2700 | Ep_r: 226\n",
      "w01 Ep: 2800 | Ep_r: 229\n",
      "w07 Ep: 2900 | Ep_r: 215\n",
      "w02 Ep: 3000 | Ep_r: 221\n"
     ]
    },
    {
     "data": {
      "image/png": "[encoded data removed]",
      "text/plain": [
       "<Figure size 432x288 with 1 Axes>"
      ]
     },
     "metadata": {
      "needs_background": "light"
     },
     "output_type": "display_data"
    }
   ],
   "source": [
    "gnet = Net(N_S, N_A)        # global network\n",
    "gnet.share_memory()         # share the global parameters in multiprocessing\n",
    "opt = SharedAdam(gnet.parameters(), lr=1e-4, betas=(0.92, 0.999))      # global optimizer\n",
    "global_ep, global_ep_r, res_queue = mp.Value('i', 0), mp.Value('d', 0.), mp.Queue()\n",
    "\n",
    "# parallel training\n",
    "workers = [Worker(gnet, opt, global_ep, global_ep_r, res_queue, i) for i in range(mp.cpu_count())]\n",
    "[w.start() for w in workers]\n",
    "res = []                    # record episode reward to plot\n",
    "while True:\n",
    "    r = res_queue.get()\n",
    "    if r is not None:\n",
    "        res.append(r)\n",
    "    else:\n",
    "        break\n",
    "[w.join() for w in workers]\n",
    "\n",
    "import matplotlib.pyplot as plt\n",
    "plt.plot(res)\n",
    "plt.ylabel('Moving average ep reward')\n",
    "plt.xlabel('Step')\n",
    "plt.show()"
   ]
  },
  {
   "cell_type": "code",
   "execution_count": 14,
   "metadata": {},
   "outputs": [
    {
     "data": {
      "text/plain": [
       "3000"
      ]
     },
     "execution_count": 14,
     "metadata": {},
     "output_type": "execute_result"
    }
   ],
   "source": [
    "len(res)"
   ]
  },
  {
   "cell_type": "code",
   "execution_count": null,
   "metadata": {},
   "outputs": [],
   "source": []
  }
 ],
 "metadata": {
  "kernelspec": {
   "display_name": "Deep Reinforcement Learning",
   "language": "python",
   "name": "rl_nano"
  },
  "language_info": {
   "codemirror_mode": {
    "name": "ipython",
    "version": 3
   },
   "file_extension": ".py",
   "mimetype": "text/x-python",
   "name": "python",
   "nbconvert_exporter": "python",
   "pygments_lexer": "ipython3",
   "version": "3.6.8"
  }
 },
 "nbformat": 4,
 "nbformat_minor": 4
}
