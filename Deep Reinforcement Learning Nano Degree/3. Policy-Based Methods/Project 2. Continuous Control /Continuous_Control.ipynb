{
 "cells": [
  {
   "cell_type": "code",
   "execution_count": 1,
   "metadata": {},
   "outputs": [],
   "source": [
    "%load_ext autoreload\n",
    "%autoreload 2"
   ]
  },
  {
   "cell_type": "markdown",
   "metadata": {},
   "source": [
    "# Continuous Control\n",
    "\n",
    "---\n",
    "\n",
    "In this notebook, you will learn how to use the Unity ML-Agents environment for the second project of the [Deep Reinforcement Learning Nanodegree](https://www.udacity.com/course/deep-reinforcement-learning-nanodegree--nd893) program.\n",
    "\n",
    "### 1. Start the Environment\n",
    "\n",
    "We begin by importing the necessary packages.  If the code cell below returns an error, please revisit the project instructions to double-check that you have installed [Unity ML-Agents](https://github.com/Unity-Technologies/ml-agents/blob/master/docs/Installation.md) and [NumPy](http://www.numpy.org/)."
   ]
  },
  {
   "cell_type": "code",
   "execution_count": 2,
   "metadata": {},
   "outputs": [],
   "source": [
    "from unityagents import UnityEnvironment\n",
    "import numpy as np"
   ]
  },
  {
   "cell_type": "markdown",
   "metadata": {},
   "source": [
    "Next, we will start the environment!  **_Before running the code cell below_**, change the `file_name` parameter to match the location of the Unity environment that you downloaded.\n",
    "\n",
    "- **Mac**: `\"path/to/Reacher.app\"`\n",
    "- **Windows** (x86): `\"path/to/Reacher_Windows_x86/Reacher.exe\"`\n",
    "- **Windows** (x86_64): `\"path/to/Reacher_Windows_x86_64/Reacher.exe\"`\n",
    "- **Linux** (x86): `\"path/to/Reacher_Linux/Reacher.x86\"`\n",
    "- **Linux** (x86_64): `\"path/to/Reacher_Linux/Reacher.x86_64\"`\n",
    "- **Linux** (x86, headless): `\"path/to/Reacher_Linux_NoVis/Reacher.x86\"`\n",
    "- **Linux** (x86_64, headless): `\"path/to/Reacher_Linux_NoVis/Reacher.x86_64\"`\n",
    "\n",
    "For instance, if you are using a Mac, then you downloaded `Reacher.app`.  If this file is in the same folder as the notebook, then the line below should appear as follows:\n",
    "```\n",
    "env = UnityEnvironment(file_name=\"Reacher.app\")\n",
    "```"
   ]
  },
  {
   "cell_type": "code",
   "execution_count": 3,
   "metadata": {},
   "outputs": [
    {
     "name": "stderr",
     "output_type": "stream",
     "text": [
      "INFO:unityagents:\n",
      "'Academy' started successfully!\n",
      "Unity Academy name: Academy\n",
      "        Number of Brains: 1\n",
      "        Number of External Brains : 1\n",
      "        Lesson number : 0\n",
      "        Reset Parameters :\n",
      "\t\tgoal_speed -> 1.0\n",
      "\t\tgoal_size -> 5.0\n",
      "Unity brain name: ReacherBrain\n",
      "        Number of Visual Observations (per agent): 0\n",
      "        Vector Observation space type: continuous\n",
      "        Vector Observation space size (per agent): 33\n",
      "        Number of stacked Vector Observation: 1\n",
      "        Vector Action space type: continuous\n",
      "        Vector Action space size (per agent): 4\n",
      "        Vector Action descriptions: , , , \n"
     ]
    }
   ],
   "source": [
    "# env = UnityEnvironment(file_name='./Reacher_Linux/Reacher.x86_64')\n",
    "env = UnityEnvironment(file_name='./Reacher_Linux_Multi/Reacher.x86_64')"
   ]
  },
  {
   "cell_type": "markdown",
   "metadata": {},
   "source": [
    "Environments contain **_brains_** which are responsible for deciding the actions of their associated agents. Here we check for the first brain available, and set it as the default brain we will be controlling from Python."
   ]
  },
  {
   "cell_type": "code",
   "execution_count": 4,
   "metadata": {},
   "outputs": [],
   "source": [
    "# get the default brain\n",
    "brain_name = env.brain_names[0]\n",
    "brain = env.brains[brain_name]"
   ]
  },
  {
   "cell_type": "markdown",
   "metadata": {},
   "source": [
    "### 2. Examine the State and Action Spaces\n",
    "\n",
    "In this environment, a double-jointed arm can move to target locations. A reward of `+0.1` is provided for each step that the agent's hand is in the goal location. Thus, the goal of your agent is to maintain its position at the target location for as many time steps as possible.\n",
    "\n",
    "The observation space consists of `33` variables corresponding to position, rotation, velocity, and angular velocities of the arm.  Each action is a vector with four numbers, corresponding to torque applicable to two joints.  Every entry in the action vector must be a number between `-1` and `1`.\n",
    "\n",
    "Run the code cell below to print some information about the environment."
   ]
  },
  {
   "cell_type": "code",
   "execution_count": 5,
   "metadata": {},
   "outputs": [
    {
     "name": "stdout",
     "output_type": "stream",
     "text": [
      "Number of agents: 20\n",
      "Size of each action: 4\n",
      "There are 20 agents. Each observes a state with length: 33\n",
      "The state for the first agent looks like: [ 0.00000000e+00 -4.00000000e+00  0.00000000e+00  1.00000000e+00\n",
      " -0.00000000e+00 -0.00000000e+00 -4.37113883e-08  0.00000000e+00\n",
      "  0.00000000e+00  0.00000000e+00  0.00000000e+00  0.00000000e+00\n",
      "  0.00000000e+00  0.00000000e+00 -1.00000000e+01  0.00000000e+00\n",
      "  1.00000000e+00 -0.00000000e+00 -0.00000000e+00 -4.37113883e-08\n",
      "  0.00000000e+00  0.00000000e+00  0.00000000e+00  0.00000000e+00\n",
      "  0.00000000e+00  0.00000000e+00  5.75471878e+00 -1.00000000e+00\n",
      "  5.55726624e+00  0.00000000e+00  1.00000000e+00  0.00000000e+00\n",
      " -1.68164849e-01]\n"
     ]
    }
   ],
   "source": [
    "# reset the environment\n",
    "env_info = env.reset(train_mode=True)[brain_name]\n",
    "\n",
    "# number of agents\n",
    "num_agents = len(env_info.agents)\n",
    "print('Number of agents:', num_agents)\n",
    "\n",
    "# size of each action\n",
    "action_size = brain.vector_action_space_size\n",
    "print('Size of each action:', action_size)\n",
    "\n",
    "# examine the state space \n",
    "states = env_info.vector_observations\n",
    "state_size = states.shape[1]\n",
    "print('There are {} agents. Each observes a state with length: {}'.format(states.shape[0], state_size))\n",
    "print('The state for the first agent looks like:', states[0])"
   ]
  },
  {
   "cell_type": "markdown",
   "metadata": {},
   "source": [
    "### 3. Take Random Actions in the Environment\n",
    "\n",
    "In the next code cell, you will learn how to use the Python API to control the agent and receive feedback from the environment.\n",
    "\n",
    "Once this cell is executed, you will watch the agent's performance, if it selects an action at random with each time step.  A window should pop up that allows you to observe the agent, as it moves through the environment.  \n",
    "\n",
    "Of course, as part of the project, you'll have to change the code so that the agent is able to use its experience to gradually choose better actions when interacting with the environment!"
   ]
  },
  {
   "cell_type": "code",
   "execution_count": 6,
   "metadata": {},
   "outputs": [
    {
     "name": "stdout",
     "output_type": "stream",
     "text": [
      "Total score (averaged over agents) this episode: 0.12049999730661512\n"
     ]
    }
   ],
   "source": [
    "env_info = env.reset(train_mode=False)[brain_name]     # reset the environment    \n",
    "states = env_info.vector_observations                  # get the current state (for each agent)\n",
    "scores = np.zeros(num_agents)                          # initialize the score (for each agent)\n",
    "while True:\n",
    "    actions = np.random.randn(num_agents, action_size) # select an action (for each agent)\n",
    "    actions = np.clip(actions, -1, 1)                  # all actions between -1 and 1\n",
    "    env_info = env.step(actions)[brain_name]           # send all actions to tne environment\n",
    "    next_states = env_info.vector_observations         # get next state (for each agent)\n",
    "    rewards = env_info.rewards                         # get reward (for each agent)\n",
    "    dones = env_info.local_done                        # see if episode finished\n",
    "    scores += env_info.rewards                         # update the score (for each agent)\n",
    "    states = next_states                               # roll over states to next time step\n",
    "    if np.any(dones):                                  # exit loop if episode finished\n",
    "        break\n",
    "print('Total score (averaged over agents) this episode: {}'.format(np.mean(scores)))"
   ]
  },
  {
   "cell_type": "markdown",
   "metadata": {},
   "source": [
    "When finished, you can close the environment."
   ]
  },
  {
   "cell_type": "code",
   "execution_count": null,
   "metadata": {},
   "outputs": [],
   "source": [
    "env.close()"
   ]
  },
  {
   "cell_type": "markdown",
   "metadata": {},
   "source": [
    "### 4. It's Your Turn!\n",
    "\n",
    "Now it's your turn to train your own agent to solve the environment!  When training the environment, set `train_mode=True`, so that the line for resetting the environment looks like the following:\n",
    "```python\n",
    "env_info = env.reset(train_mode=True)[brain_name]\n",
    "```"
   ]
  },
  {
   "cell_type": "code",
   "execution_count": 6,
   "metadata": {},
   "outputs": [],
   "source": [
    "from DDPG import Agent\n",
    "from collections import deque\n",
    "import time, torch"
   ]
  },
  {
   "cell_type": "code",
   "execution_count": 7,
   "metadata": {},
   "outputs": [],
   "source": [
    "agent = Agent(state_size, action_size, [400, 300], 1)"
   ]
  },
  {
   "cell_type": "code",
   "execution_count": 8,
   "metadata": {},
   "outputs": [
    {
     "name": "stdout",
     "output_type": "stream",
     "text": [
      "Episode 1 (91 sec)  -- \tMin: 0.0\tMax: 1.9\tMean: 0.7\tMov. Avg: 0.7\n",
      "Episode 2 (94 sec)  -- \tMin: 0.0\tMax: 3.9\tMean: 1.7\tMov. Avg: 1.2\n",
      "Episode 3 (95 sec)  -- \tMin: 1.9\tMax: 6.1\tMean: 3.7\tMov. Avg: 2.0\n",
      "Episode 4 (96 sec)  -- \tMin: 2.7\tMax: 6.8\tMean: 5.2\tMov. Avg: 2.8\n",
      "Episode 5 (96 sec)  -- \tMin: 2.2\tMax: 9.5\tMean: 4.6\tMov. Avg: 3.2\n",
      "Episode 6 (97 sec)  -- \tMin: 3.2\tMax: 7.1\tMean: 5.1\tMov. Avg: 3.5\n",
      "Episode 7 (97 sec)  -- \tMin: 3.2\tMax: 9.9\tMean: 6.3\tMov. Avg: 3.9\n",
      "Episode 8 (97 sec)  -- \tMin: 4.1\tMax: 9.2\tMean: 6.7\tMov. Avg: 4.3\n",
      "Episode 9 (98 sec)  -- \tMin: 3.8\tMax: 11.0\tMean: 7.4\tMov. Avg: 4.6\n",
      "Episode 10 (98 sec)  -- \tMin: 3.2\tMax: 12.0\tMean: 7.8\tMov. Avg: 4.9\n",
      "Episode 11 (99 sec)  -- \tMin: 3.8\tMax: 15.0\tMean: 7.7\tMov. Avg: 5.2\n",
      "Episode 12 (99 sec)  -- \tMin: 5.6\tMax: 16.6\tMean: 9.8\tMov. Avg: 5.6\n",
      "Episode 13 (101 sec)  -- \tMin: 6.4\tMax: 20.6\tMean: 12.1\tMov. Avg: 6.1\n",
      "Episode 14 (101 sec)  -- \tMin: 8.9\tMax: 17.6\tMean: 12.7\tMov. Avg: 6.5\n",
      "Episode 15 (102 sec)  -- \tMin: 6.4\tMax: 21.7\tMean: 12.7\tMov. Avg: 7.0\n",
      "Episode 16 (103 sec)  -- \tMin: 3.1\tMax: 25.1\tMean: 15.4\tMov. Avg: 7.5\n",
      "Episode 17 (103 sec)  -- \tMin: 7.4\tMax: 19.1\tMean: 13.8\tMov. Avg: 7.8\n",
      "Episode 18 (104 sec)  -- \tMin: 5.7\tMax: 22.5\tMean: 14.7\tMov. Avg: 8.2\n",
      "Episode 19 (105 sec)  -- \tMin: 9.0\tMax: 24.0\tMean: 18.5\tMov. Avg: 8.8\n",
      "Episode 20 (106 sec)  -- \tMin: 12.1\tMax: 25.4\tMean: 19.3\tMov. Avg: 9.3\n",
      "Episode 21 (108 sec)  -- \tMin: 15.7\tMax: 25.7\tMean: 20.0\tMov. Avg: 9.8\n",
      "Episode 22 (107 sec)  -- \tMin: 13.8\tMax: 26.5\tMean: 22.2\tMov. Avg: 10.4\n",
      "Episode 23 (108 sec)  -- \tMin: 17.3\tMax: 34.0\tMean: 24.3\tMov. Avg: 11.0\n",
      "Episode 24 (109 sec)  -- \tMin: 15.4\tMax: 31.1\tMean: 25.6\tMov. Avg: 11.6\n",
      "Episode 25 (110 sec)  -- \tMin: 18.1\tMax: 33.4\tMean: 26.8\tMov. Avg: 12.2\n",
      "Episode 26 (112 sec)  -- \tMin: 17.5\tMax: 38.5\tMean: 30.3\tMov. Avg: 12.9\n",
      "Episode 27 (111 sec)  -- \tMin: 20.2\tMax: 35.8\tMean: 31.0\tMov. Avg: 13.6\n",
      "Episode 28 (113 sec)  -- \tMin: 22.7\tMax: 36.7\tMean: 28.2\tMov. Avg: 14.1\n",
      "Episode 29 (114 sec)  -- \tMin: 23.9\tMax: 36.8\tMean: 32.3\tMov. Avg: 14.7\n",
      "Episode 30 (116 sec)  -- \tMin: 23.0\tMax: 37.9\tMean: 31.2\tMov. Avg: 15.3\n",
      "Episode 31 (117 sec)  -- \tMin: 23.1\tMax: 37.3\tMean: 31.6\tMov. Avg: 15.8\n",
      "Episode 32 (118 sec)  -- \tMin: 16.8\tMax: 39.3\tMean: 31.8\tMov. Avg: 16.3\n",
      "Episode 33 (119 sec)  -- \tMin: 23.0\tMax: 39.5\tMean: 31.4\tMov. Avg: 16.8\n",
      "Episode 34 (119 sec)  -- \tMin: 20.3\tMax: 38.4\tMean: 32.2\tMov. Avg: 17.2\n",
      "Episode 35 (120 sec)  -- \tMin: 20.7\tMax: 39.6\tMean: 33.1\tMov. Avg: 17.7\n",
      "Episode 36 (122 sec)  -- \tMin: 21.7\tMax: 39.4\tMean: 33.1\tMov. Avg: 18.1\n",
      "Episode 37 (123 sec)  -- \tMin: 26.4\tMax: 39.6\tMean: 35.7\tMov. Avg: 18.6\n",
      "Episode 38 (124 sec)  -- \tMin: 29.6\tMax: 39.6\tMean: 35.9\tMov. Avg: 19.0\n",
      "Episode 39 (126 sec)  -- \tMin: 22.4\tMax: 37.9\tMean: 34.0\tMov. Avg: 19.4\n",
      "Episode 40 (126 sec)  -- \tMin: 18.9\tMax: 39.4\tMean: 33.1\tMov. Avg: 19.7\n",
      "Episode 41 (129 sec)  -- \tMin: 24.1\tMax: 39.3\tMean: 33.3\tMov. Avg: 20.1\n",
      "Episode 42 (129 sec)  -- \tMin: 26.9\tMax: 39.4\tMean: 36.3\tMov. Avg: 20.5\n",
      "Episode 43 (132 sec)  -- \tMin: 26.7\tMax: 39.5\tMean: 36.4\tMov. Avg: 20.8\n",
      "Episode 44 (132 sec)  -- \tMin: 24.7\tMax: 38.0\tMean: 34.2\tMov. Avg: 21.1\n",
      "Episode 45 (133 sec)  -- \tMin: 27.9\tMax: 39.5\tMean: 34.9\tMov. Avg: 21.4\n",
      "Episode 46 (135 sec)  -- \tMin: 30.4\tMax: 38.0\tMean: 35.7\tMov. Avg: 21.8\n",
      "Episode 47 (136 sec)  -- \tMin: 29.9\tMax: 39.3\tMean: 35.1\tMov. Avg: 22.0\n",
      "Episode 48 (139 sec)  -- \tMin: 26.9\tMax: 38.4\tMean: 33.9\tMov. Avg: 22.3\n",
      "Episode 49 (140 sec)  -- \tMin: 27.2\tMax: 39.5\tMean: 34.8\tMov. Avg: 22.5\n",
      "Episode 50 (140 sec)  -- \tMin: 27.7\tMax: 38.2\tMean: 36.1\tMov. Avg: 22.8\n",
      "Episode 51 (142 sec)  -- \tMin: 31.7\tMax: 39.2\tMean: 36.1\tMov. Avg: 23.1\n",
      "Episode 52 (142 sec)  -- \tMin: 32.4\tMax: 38.6\tMean: 36.0\tMov. Avg: 23.3\n",
      "Episode 53 (142 sec)  -- \tMin: 33.4\tMax: 39.6\tMean: 36.9\tMov. Avg: 23.6\n",
      "Episode 54 (141 sec)  -- \tMin: 32.4\tMax: 39.6\tMean: 37.0\tMov. Avg: 23.8\n",
      "Episode 55 (143 sec)  -- \tMin: 32.8\tMax: 39.6\tMean: 36.8\tMov. Avg: 24.1\n",
      "Episode 56 (141 sec)  -- \tMin: 30.5\tMax: 39.6\tMean: 36.1\tMov. Avg: 24.3\n",
      "Episode 57 (140 sec)  -- \tMin: 33.8\tMax: 39.2\tMean: 37.5\tMov. Avg: 24.5\n",
      "Episode 58 (142 sec)  -- \tMin: 31.8\tMax: 39.0\tMean: 36.5\tMov. Avg: 24.7\n",
      "Episode 59 (141 sec)  -- \tMin: 35.9\tMax: 39.5\tMean: 37.7\tMov. Avg: 24.9\n",
      "Episode 60 (144 sec)  -- \tMin: 36.3\tMax: 39.4\tMean: 37.8\tMov. Avg: 25.1\n",
      "Episode 61 (143 sec)  -- \tMin: 21.9\tMax: 39.5\tMean: 36.6\tMov. Avg: 25.3\n",
      "Episode 62 (142 sec)  -- \tMin: 34.8\tMax: 39.5\tMean: 37.8\tMov. Avg: 25.5\n",
      "Episode 63 (142 sec)  -- \tMin: 22.0\tMax: 39.5\tMean: 36.8\tMov. Avg: 25.7\n",
      "Episode 64 (141 sec)  -- \tMin: 36.5\tMax: 39.6\tMean: 38.4\tMov. Avg: 25.9\n",
      "Episode 65 (140 sec)  -- \tMin: 27.4\tMax: 39.5\tMean: 36.8\tMov. Avg: 26.1\n",
      "Episode 66 (141 sec)  -- \tMin: 34.2\tMax: 39.6\tMean: 37.2\tMov. Avg: 26.2\n",
      "Episode 67 (143 sec)  -- \tMin: 34.9\tMax: 39.4\tMean: 37.8\tMov. Avg: 26.4\n",
      "Episode 68 (142 sec)  -- \tMin: 28.4\tMax: 39.4\tMean: 36.1\tMov. Avg: 26.6\n",
      "Episode 69 (142 sec)  -- \tMin: 28.6\tMax: 39.5\tMean: 36.9\tMov. Avg: 26.7\n",
      "Episode 70 (141 sec)  -- \tMin: 31.9\tMax: 39.5\tMean: 36.8\tMov. Avg: 26.9\n",
      "Episode 71 (141 sec)  -- \tMin: 30.2\tMax: 39.7\tMean: 36.9\tMov. Avg: 27.0\n",
      "Episode 72 (142 sec)  -- \tMin: 31.9\tMax: 39.2\tMean: 36.7\tMov. Avg: 27.1\n",
      "Episode 73 (140 sec)  -- \tMin: 35.4\tMax: 39.4\tMean: 37.6\tMov. Avg: 27.3\n",
      "Episode 74 (140 sec)  -- \tMin: 30.7\tMax: 39.6\tMean: 36.8\tMov. Avg: 27.4\n",
      "Episode 75 (140 sec)  -- \tMin: 33.6\tMax: 38.9\tMean: 37.4\tMov. Avg: 27.5\n",
      "Episode 76 (139 sec)  -- \tMin: 28.6\tMax: 37.9\tMean: 35.1\tMov. Avg: 27.6\n",
      "Episode 77 (142 sec)  -- \tMin: 29.9\tMax: 39.4\tMean: 34.7\tMov. Avg: 27.7\n",
      "Episode 78 (143 sec)  -- \tMin: 30.1\tMax: 39.3\tMean: 36.0\tMov. Avg: 27.8\n",
      "Episode 79 (141 sec)  -- \tMin: 28.8\tMax: 39.6\tMean: 36.7\tMov. Avg: 27.9\n",
      "Episode 80 (140 sec)  -- \tMin: 33.3\tMax: 39.0\tMean: 36.8\tMov. Avg: 28.1\n",
      "Episode 81 (142 sec)  -- \tMin: 22.3\tMax: 38.6\tMean: 33.6\tMov. Avg: 28.1\n",
      "Episode 82 (141 sec)  -- \tMin: 30.4\tMax: 37.5\tMean: 34.8\tMov. Avg: 28.2\n",
      "Episode 83 (142 sec)  -- \tMin: 34.7\tMax: 38.3\tMean: 36.4\tMov. Avg: 28.3\n",
      "Episode 84 (144 sec)  -- \tMin: 29.0\tMax: 38.0\tMean: 33.5\tMov. Avg: 28.4\n",
      "Episode 85 (143 sec)  -- \tMin: 25.5\tMax: 38.8\tMean: 33.5\tMov. Avg: 28.4\n",
      "Episode 86 (142 sec)  -- \tMin: 25.0\tMax: 37.0\tMean: 33.7\tMov. Avg: 28.5\n",
      "Episode 87 (142 sec)  -- \tMin: 23.1\tMax: 35.7\tMean: 32.1\tMov. Avg: 28.5\n",
      "Episode 88 (141 sec)  -- \tMin: 26.2\tMax: 38.6\tMean: 33.2\tMov. Avg: 28.6\n",
      "Episode 89 (143 sec)  -- \tMin: 28.4\tMax: 37.4\tMean: 33.0\tMov. Avg: 28.6\n",
      "Episode 90 (143 sec)  -- \tMin: 28.7\tMax: 37.9\tMean: 33.8\tMov. Avg: 28.7\n",
      "Episode 91 (143 sec)  -- \tMin: 28.3\tMax: 38.0\tMean: 34.2\tMov. Avg: 28.8\n",
      "Episode 92 (143 sec)  -- \tMin: 21.6\tMax: 36.4\tMean: 29.6\tMov. Avg: 28.8\n",
      "Episode 93 (143 sec)  -- \tMin: 28.1\tMax: 39.5\tMean: 33.1\tMov. Avg: 28.8\n",
      "Episode 94 (143 sec)  -- \tMin: 29.6\tMax: 38.6\tMean: 34.0\tMov. Avg: 28.9\n",
      "Episode 95 (142 sec)  -- \tMin: 29.9\tMax: 37.6\tMean: 34.4\tMov. Avg: 28.9\n",
      "Episode 96 (143 sec)  -- \tMin: 32.1\tMax: 37.9\tMean: 35.0\tMov. Avg: 29.0\n",
      "Episode 97 (143 sec)  -- \tMin: 31.8\tMax: 37.6\tMean: 35.3\tMov. Avg: 29.1\n",
      "Episode 98 (144 sec)  -- \tMin: 31.5\tMax: 38.4\tMean: 35.5\tMov. Avg: 29.1\n",
      "Episode 99 (143 sec)  -- \tMin: 31.2\tMax: 38.4\tMean: 35.7\tMov. Avg: 29.2\n",
      "Episode 100 (142 sec)  -- \tMin: 33.7\tMax: 38.1\tMean: 36.1\tMov. Avg: 29.3\n",
      "Episode 101 (143 sec)  -- \tMin: 30.8\tMax: 38.4\tMean: 34.8\tMov. Avg: 29.6\n",
      "Episode 102 (144 sec)  -- \tMin: 29.0\tMax: 39.6\tMean: 34.6\tMov. Avg: 29.9\n",
      "Episode 103 (143 sec)  -- \tMin: 30.4\tMax: 38.7\tMean: 35.9\tMov. Avg: 30.2\n",
      "Episode 104 (143 sec)  -- \tMin: 33.0\tMax: 38.3\tMean: 35.3\tMov. Avg: 30.5\n",
      "Episode 105 (144 sec)  -- \tMin: 29.7\tMax: 38.6\tMean: 35.3\tMov. Avg: 30.9\n",
      "Episode 106 (143 sec)  -- \tMin: 30.1\tMax: 38.8\tMean: 36.0\tMov. Avg: 31.2\n",
      "Episode 107 (144 sec)  -- \tMin: 30.5\tMax: 38.3\tMean: 36.3\tMov. Avg: 31.5\n",
      "Episode 108 (143 sec)  -- \tMin: 29.3\tMax: 36.5\tMean: 33.6\tMov. Avg: 31.7\n",
      "Episode 109 (142 sec)  -- \tMin: 28.6\tMax: 37.8\tMean: 35.1\tMov. Avg: 32.0\n",
      "Episode 110 (143 sec)  -- \tMin: 30.9\tMax: 38.9\tMean: 35.6\tMov. Avg: 32.3\n",
      "Episode 111 (142 sec)  -- \tMin: 31.2\tMax: 36.8\tMean: 34.5\tMov. Avg: 32.6\n",
      "Episode 112 (143 sec)  -- \tMin: 29.5\tMax: 37.7\tMean: 34.9\tMov. Avg: 32.8\n",
      "Episode 113 (143 sec)  -- \tMin: 32.9\tMax: 39.0\tMean: 37.2\tMov. Avg: 33.1\n",
      "Episode 114 (142 sec)  -- \tMin: 33.1\tMax: 36.9\tMean: 35.0\tMov. Avg: 33.3\n",
      "Episode 115 (142 sec)  -- \tMin: 31.0\tMax: 38.4\tMean: 34.6\tMov. Avg: 33.5\n",
      "Episode 116 (143 sec)  -- \tMin: 27.5\tMax: 37.9\tMean: 34.3\tMov. Avg: 33.7\n",
      "Episode 117 (142 sec)  -- \tMin: 29.8\tMax: 36.8\tMean: 33.1\tMov. Avg: 33.9\n",
      "Episode 118 (144 sec)  -- \tMin: 25.5\tMax: 37.5\tMean: 33.3\tMov. Avg: 34.1\n",
      "Episode 119 (144 sec)  -- \tMin: 22.1\tMax: 38.7\tMean: 32.3\tMov. Avg: 34.2\n",
      "Episode 120 (144 sec)  -- \tMin: 29.3\tMax: 38.0\tMean: 33.6\tMov. Avg: 34.3\n",
      "Episode 121 (145 sec)  -- \tMin: 24.0\tMax: 37.9\tMean: 32.7\tMov. Avg: 34.5\n",
      "Episode 122 (144 sec)  -- \tMin: 33.4\tMax: 38.9\tMean: 36.4\tMov. Avg: 34.6\n",
      "Episode 123 (144 sec)  -- \tMin: 34.6\tMax: 37.8\tMean: 36.5\tMov. Avg: 34.7\n",
      "Episode 124 (143 sec)  -- \tMin: 26.3\tMax: 38.7\tMean: 35.4\tMov. Avg: 34.8\n",
      "Episode 125 (143 sec)  -- \tMin: 33.7\tMax: 38.7\tMean: 36.6\tMov. Avg: 34.9\n",
      "Episode 126 (143 sec)  -- \tMin: 29.0\tMax: 38.9\tMean: 33.3\tMov. Avg: 35.0\n",
      "Episode 127 (143 sec)  -- \tMin: 30.6\tMax: 38.9\tMean: 34.5\tMov. Avg: 35.0\n",
      "Episode 128 (143 sec)  -- \tMin: 31.4\tMax: 39.0\tMean: 35.4\tMov. Avg: 35.1\n",
      "Episode 129 (143 sec)  -- \tMin: 32.1\tMax: 38.6\tMean: 35.8\tMov. Avg: 35.1\n",
      "Episode 130 (144 sec)  -- \tMin: 28.2\tMax: 38.5\tMean: 35.0\tMov. Avg: 35.1\n",
      "Episode 131 (145 sec)  -- \tMin: 32.4\tMax: 38.8\tMean: 35.8\tMov. Avg: 35.2\n",
      "Episode 132 (144 sec)  -- \tMin: 32.7\tMax: 39.5\tMean: 36.2\tMov. Avg: 35.2\n",
      "Episode 133 (144 sec)  -- \tMin: 31.7\tMax: 38.9\tMean: 36.0\tMov. Avg: 35.3\n",
      "Episode 134 (144 sec)  -- \tMin: 25.9\tMax: 38.5\tMean: 35.5\tMov. Avg: 35.3\n",
      "Episode 135 (144 sec)  -- \tMin: 31.8\tMax: 38.1\tMean: 35.0\tMov. Avg: 35.3\n",
      "Episode 136 (144 sec)  -- \tMin: 27.7\tMax: 39.0\tMean: 33.5\tMov. Avg: 35.3\n",
      "Episode 137 (144 sec)  -- \tMin: 26.7\tMax: 37.7\tMean: 34.3\tMov. Avg: 35.3\n",
      "Episode 138 (143 sec)  -- \tMin: 30.6\tMax: 38.6\tMean: 34.7\tMov. Avg: 35.3\n",
      "Episode 139 (144 sec)  -- \tMin: 27.3\tMax: 39.2\tMean: 34.1\tMov. Avg: 35.3\n",
      "Episode 140 (144 sec)  -- \tMin: 26.0\tMax: 38.2\tMean: 34.3\tMov. Avg: 35.3\n",
      "Episode 141 (144 sec)  -- \tMin: 27.2\tMax: 35.6\tMean: 32.8\tMov. Avg: 35.3\n",
      "Episode 142 (141 sec)  -- \tMin: 32.5\tMax: 38.4\tMean: 35.8\tMov. Avg: 35.3\n",
      "Episode 143 (145 sec)  -- \tMin: 31.3\tMax: 38.5\tMean: 35.7\tMov. Avg: 35.3\n",
      "Episode 144 (143 sec)  -- \tMin: 32.9\tMax: 38.2\tMean: 35.9\tMov. Avg: 35.3\n",
      "Episode 145 (144 sec)  -- \tMin: 29.6\tMax: 38.6\tMean: 34.2\tMov. Avg: 35.3\n",
      "Episode 146 (145 sec)  -- \tMin: 23.8\tMax: 38.8\tMean: 34.5\tMov. Avg: 35.3\n",
      "Episode 147 (145 sec)  -- \tMin: 23.0\tMax: 36.7\tMean: 32.4\tMov. Avg: 35.3\n",
      "Episode 148 (144 sec)  -- \tMin: 24.8\tMax: 37.6\tMean: 32.1\tMov. Avg: 35.3\n",
      "Episode 149 (145 sec)  -- \tMin: 27.9\tMax: 38.3\tMean: 34.5\tMov. Avg: 35.2\n",
      "Episode 150 (144 sec)  -- \tMin: 25.8\tMax: 37.9\tMean: 35.1\tMov. Avg: 35.2\n",
      "Episode 151 (144 sec)  -- \tMin: 27.8\tMax: 38.9\tMean: 33.7\tMov. Avg: 35.2\n",
      "Episode 152 (146 sec)  -- \tMin: 22.0\tMax: 32.6\tMean: 27.5\tMov. Avg: 35.1\n",
      "Episode 153 (145 sec)  -- \tMin: 20.2\tMax: 34.3\tMean: 25.5\tMov. Avg: 35.0\n",
      "Episode 154 (144 sec)  -- \tMin: 25.0\tMax: 35.6\tMean: 32.1\tMov. Avg: 35.0\n",
      "Episode 155 (145 sec)  -- \tMin: 27.7\tMax: 37.9\tMean: 34.4\tMov. Avg: 34.9\n",
      "Episode 156 (141 sec)  -- \tMin: 31.4\tMax: 38.4\tMean: 35.0\tMov. Avg: 34.9\n",
      "Episode 157 (144 sec)  -- \tMin: 32.5\tMax: 37.4\tMean: 35.5\tMov. Avg: 34.9\n",
      "Episode 158 (144 sec)  -- \tMin: 31.8\tMax: 38.9\tMean: 36.5\tMov. Avg: 34.9\n",
      "Episode 159 (143 sec)  -- \tMin: 30.1\tMax: 38.2\tMean: 35.4\tMov. Avg: 34.9\n",
      "Episode 160 (144 sec)  -- \tMin: 33.8\tMax: 38.3\tMean: 36.1\tMov. Avg: 34.9\n",
      "Episode 161 (142 sec)  -- \tMin: 32.5\tMax: 38.6\tMean: 36.4\tMov. Avg: 34.9\n",
      "Episode 162 (143 sec)  -- \tMin: 31.4\tMax: 38.6\tMean: 36.7\tMov. Avg: 34.9\n",
      "Episode 163 (145 sec)  -- \tMin: 31.0\tMax: 39.0\tMean: 35.9\tMov. Avg: 34.9\n",
      "Episode 164 (144 sec)  -- \tMin: 25.7\tMax: 39.4\tMean: 34.0\tMov. Avg: 34.8\n",
      "Episode 165 (143 sec)  -- \tMin: 33.2\tMax: 39.2\tMean: 36.5\tMov. Avg: 34.8\n",
      "Episode 166 (142 sec)  -- \tMin: 29.0\tMax: 37.9\tMean: 35.0\tMov. Avg: 34.8\n",
      "Episode 167 (146 sec)  -- \tMin: 31.6\tMax: 38.4\tMean: 35.6\tMov. Avg: 34.8\n",
      "Episode 168 (143 sec)  -- \tMin: 33.7\tMax: 39.1\tMean: 37.1\tMov. Avg: 34.8\n",
      "Episode 169 (142 sec)  -- \tMin: 30.4\tMax: 39.1\tMean: 35.4\tMov. Avg: 34.8\n",
      "Episode 170 (142 sec)  -- \tMin: 31.1\tMax: 39.3\tMean: 36.9\tMov. Avg: 34.8\n",
      "Episode 171 (142 sec)  -- \tMin: 24.0\tMax: 36.9\tMean: 31.6\tMov. Avg: 34.7\n",
      "Episode 172 (142 sec)  -- \tMin: 15.0\tMax: 37.3\tMean: 28.7\tMov. Avg: 34.6\n",
      "Episode 173 (143 sec)  -- \tMin: 17.4\tMax: 34.2\tMean: 26.8\tMov. Avg: 34.5\n",
      "Episode 174 (143 sec)  -- \tMin: 22.2\tMax: 36.2\tMean: 31.6\tMov. Avg: 34.5\n",
      "Episode 175 (141 sec)  -- \tMin: 21.5\tMax: 37.9\tMean: 33.3\tMov. Avg: 34.4\n",
      "Episode 176 (141 sec)  -- \tMin: 27.1\tMax: 37.3\tMean: 33.3\tMov. Avg: 34.4\n",
      "Episode 177 (142 sec)  -- \tMin: 28.8\tMax: 38.3\tMean: 34.3\tMov. Avg: 34.4\n",
      "Episode 178 (144 sec)  -- \tMin: 27.0\tMax: 38.7\tMean: 36.1\tMov. Avg: 34.4\n",
      "Episode 179 (142 sec)  -- \tMin: 31.6\tMax: 39.4\tMean: 35.7\tMov. Avg: 34.4\n",
      "Episode 180 (142 sec)  -- \tMin: 24.9\tMax: 37.4\tMean: 33.2\tMov. Avg: 34.4\n",
      "Episode 181 (142 sec)  -- \tMin: 26.3\tMax: 39.1\tMean: 31.8\tMov. Avg: 34.3\n",
      "Episode 182 (145 sec)  -- \tMin: 30.6\tMax: 38.4\tMean: 35.0\tMov. Avg: 34.3\n",
      "Episode 183 (140 sec)  -- \tMin: 27.4\tMax: 39.4\tMean: 34.5\tMov. Avg: 34.3\n",
      "Episode 184 (142 sec)  -- \tMin: 28.8\tMax: 39.5\tMean: 35.9\tMov. Avg: 34.3\n",
      "Episode 185 (141 sec)  -- \tMin: 33.3\tMax: 37.7\tMean: 36.1\tMov. Avg: 34.4\n",
      "Episode 186 (141 sec)  -- \tMin: 28.6\tMax: 39.4\tMean: 36.0\tMov. Avg: 34.4\n",
      "Episode 187 (143 sec)  -- \tMin: 24.4\tMax: 39.4\tMean: 35.1\tMov. Avg: 34.4\n",
      "Episode 188 (145 sec)  -- \tMin: 24.8\tMax: 38.4\tMean: 35.4\tMov. Avg: 34.4\n",
      "Episode 189 (146 sec)  -- \tMin: 30.2\tMax: 38.3\tMean: 34.7\tMov. Avg: 34.5\n",
      "Episode 190 (144 sec)  -- \tMin: 32.9\tMax: 39.1\tMean: 35.8\tMov. Avg: 34.5\n",
      "Episode 191 (146 sec)  -- \tMin: 31.5\tMax: 38.8\tMean: 35.6\tMov. Avg: 34.5\n",
      "Episode 192 (144 sec)  -- \tMin: 31.1\tMax: 38.8\tMean: 35.8\tMov. Avg: 34.6\n",
      "Episode 193 (142 sec)  -- \tMin: 23.2\tMax: 38.0\tMean: 33.4\tMov. Avg: 34.6\n",
      "Episode 194 (143 sec)  -- \tMin: 10.0\tMax: 35.1\tMean: 24.1\tMov. Avg: 34.5\n",
      "Episode 195 (144 sec)  -- \tMin: 0.3\tMax: 30.1\tMean: 15.3\tMov. Avg: 34.3\n",
      "Episode 196 (143 sec)  -- \tMin: 9.2\tMax: 33.2\tMean: 20.6\tMov. Avg: 34.1\n",
      "Episode 197 (146 sec)  -- \tMin: 6.6\tMax: 34.0\tMean: 24.5\tMov. Avg: 34.0\n",
      "Episode 198 (143 sec)  -- \tMin: 11.5\tMax: 32.3\tMean: 26.1\tMov. Avg: 33.9\n",
      "Episode 199 (144 sec)  -- \tMin: 10.9\tMax: 30.7\tMean: 23.1\tMov. Avg: 33.8\n",
      "Episode 200 (142 sec)  -- \tMin: 17.8\tMax: 31.4\tMean: 25.5\tMov. Avg: 33.7\n"
     ]
    }
   ],
   "source": [
    "mean_scores = []                               # list of mean scores from each episode\n",
    "min_scores = []                                # list of lowest scores from each episode\n",
    "max_scores = []                                # list of highest scores from each episode\n",
    "scores_window = deque(maxlen=100)              # mean scores from most recent episodes\n",
    "moving_avgs = []                               # list of moving averages\n",
    "for i_episode in range(1, 201):\n",
    "    env_info = env.reset(train_mode=True)[brain_name]\n",
    "    states = env_info.vector_observations\n",
    "    score = np.zeros(num_agents)\n",
    "    agent.reset()\n",
    "    start_time = time.time()\n",
    "    for t in range(1000):\n",
    "        actions = agent.act(states)\n",
    "       \n",
    "        env_info = env.step(actions)[brain_name]\n",
    "        next_states = env_info.vector_observations\n",
    "        rewards = env_info.rewards\n",
    "        dones = env_info.local_done\n",
    "        \n",
    "        for state, action, reward, next_state, done in zip(states, actions, rewards, next_states, dones):\n",
    "            agent.step(state, action, reward, next_state, done, t)\n",
    "            \n",
    "        states = next_states\n",
    "        score += rewards\n",
    "        if np.any(dones):\n",
    "            break\n",
    "        \n",
    "    agent.save_model_params()\n",
    "        \n",
    "    duration = time.time() - start_time\n",
    "    min_scores.append(np.min(score))              # save lowest score for a single agent\n",
    "    max_scores.append(np.max(score))              # save highest score for a single agent        \n",
    "    mean_scores.append(np.mean(score))            # save mean score for the episode\n",
    "    scores_window.append(mean_scores[-1])         # save mean score to window\n",
    "    moving_avgs.append(np.mean(scores_window))    # save moving average\n",
    "    \n",
    "    print('\\rEpisode {} ({} sec)  -- \\tMin: {:.1f}\\tMax: {:.1f}\\tMean: {:.1f}\\tMov. Avg: {:.1f}'.format(\\\n",
    "          i_episode, round(duration), min_scores[-1], max_scores[-1], mean_scores[-1], moving_avgs[-1]))"
   ]
  },
  {
   "cell_type": "code",
   "execution_count": 9,
   "metadata": {},
   "outputs": [],
   "source": [
    "import matplotlib.pyplot as plt\n",
    "%matplotlib inline"
   ]
  },
  {
   "cell_type": "code",
   "execution_count": 15,
   "metadata": {},
   "outputs": [
    {
     "data": {
      "text/plain": [
       "Text(0.5, 0, 'Episode #')"
      ]
     },
     "execution_count": 15,
     "metadata": {},
     "output_type": "execute_result"
    },
    {
     "data": {
      "image/png": "[encoded data removed]",
      "text/plain": [
       "<Figure size 1800x720 with 1 Axes>"
      ]
     },
     "metadata": {
      "needs_background": "light"
     },
     "output_type": "display_data"
    }
   ],
   "source": [
    "fig, ax = plt.subplots(nrows=1, ncols=1, figsize=(25, 10))\n",
    "ax.plot(np.arange(1, len(mean_scores)+1), mean_scores)\n",
    "ax.set_ylabel('Score')\n",
    "ax.set_xlabel('Episode #')"
   ]
  },
  {
   "cell_type": "code",
   "execution_count": null,
   "metadata": {},
   "outputs": [],
   "source": []
  }
 ],
 "metadata": {
  "kernelspec": {
   "display_name": "Deep Reinforcement Learning",
   "language": "python",
   "name": "rl_nano"
  },
  "language_info": {
   "codemirror_mode": {
    "name": "ipython",
    "version": 3
   },
   "file_extension": ".py",
   "mimetype": "text/x-python",
   "name": "python",
   "nbconvert_exporter": "python",
   "pygments_lexer": "ipython3",
   "version": "3.6.8"
  }
 },
 "nbformat": 4,
 "nbformat_minor": 4
}
